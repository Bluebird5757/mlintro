{
 "cells": [
  {
   "cell_type": "code",
   "execution_count": 7,
   "id": "39181991",
   "metadata": {},
   "outputs": [
    {
     "name": "stdout",
     "output_type": "stream",
     "text": [
      "hello world,hey nikhil how are you doing\n"
     ]
    }
   ],
   "source": [
    " print(\"hello world\",end=\",\")\n",
    "print(\"hey nikhil how are you doing\")"
   ]
  },
  {
   "cell_type": "code",
   "execution_count": 4,
   "id": "f0189d46",
   "metadata": {},
   "outputs": [
    {
     "name": "stdout",
     "output_type": "stream",
     "text": [
      "hey nikhil how are you doing\n"
     ]
    }
   ],
   "source": [
    "print(\"hey nikhil how are you doing\")"
   ]
  },
  {
   "cell_type": "code",
   "execution_count": 10,
   "id": "322707c1",
   "metadata": {},
   "outputs": [
    {
     "data": {
      "text/plain": [
       "10"
      ]
     },
     "execution_count": 10,
     "metadata": {},
     "output_type": "execute_result"
    }
   ],
   "source": [
    "a=10\n",
    "a"
   ]
  },
  {
   "cell_type": "code",
   "execution_count": 11,
   "id": "04a202fa",
   "metadata": {},
   "outputs": [
    {
     "name": "stdout",
     "output_type": "stream",
     "text": [
      "<class 'int'>\n"
     ]
    }
   ],
   "source": [
    "print(type(a))"
   ]
  },
  {
   "cell_type": "code",
   "execution_count": 1,
   "id": "56339e92",
   "metadata": {},
   "outputs": [
    {
     "name": "stdout",
     "output_type": "stream",
     "text": [
      "hello\n"
     ]
    }
   ],
   "source": [
    "#strings\n",
    "a=\"hello\"\n",
    "a='hello'\n",
    "#here we can apply both single or double qoutes\n",
    "print(a)"
   ]
  },
  {
   "cell_type": "code",
   "execution_count": 4,
   "id": "100590b0",
   "metadata": {},
   "outputs": [
    {
     "data": {
      "text/plain": [
       "'e'"
      ]
     },
     "execution_count": 4,
     "metadata": {},
     "output_type": "execute_result"
    }
   ],
   "source": [
    "#string slicing and indexing\n",
    "a=\"machinelearningisawesome\"\n",
    "a[3]\n",
    "a[3:8]\n",
    "a[-1]"
   ]
  },
  {
   "cell_type": "code",
   "execution_count": 5,
   "id": "60dd7872",
   "metadata": {},
   "outputs": [
    {
     "data": {
      "text/plain": [
       "complex"
      ]
     },
     "execution_count": 5,
     "metadata": {},
     "output_type": "execute_result"
    }
   ],
   "source": [
    "#number data types\n",
    "a=1\n",
    "b=-4.7\n",
    "c=1+4j\n",
    "type(c)"
   ]
  },
  {
   "cell_type": "code",
   "execution_count": 10,
   "id": "9c46546f",
   "metadata": {},
   "outputs": [
    {
     "data": {
      "text/plain": [
       "False"
      ]
     },
     "execution_count": 10,
     "metadata": {},
     "output_type": "execute_result"
    }
   ],
   "source": [
    "a=\"my name is nikhil\"\n",
    "a.isalpha()"
   ]
  },
  {
   "cell_type": "code",
   "execution_count": 11,
   "id": "5c65b667",
   "metadata": {},
   "outputs": [
    {
     "data": {
      "text/plain": [
       "'MY NAME IS NIKHIL'"
      ]
     },
     "execution_count": 11,
     "metadata": {},
     "output_type": "execute_result"
    }
   ],
   "source": [
    "a.upper()"
   ]
  },
  {
   "cell_type": "code",
   "execution_count": 12,
   "id": "8883426f",
   "metadata": {},
   "outputs": [
    {
     "data": {
      "text/plain": [
       "'my name is nikhil'"
      ]
     },
     "execution_count": 12,
     "metadata": {},
     "output_type": "execute_result"
    }
   ],
   "source": [
    "a.lower()"
   ]
  },
  {
   "cell_type": "code",
   "execution_count": 13,
   "id": "0400cd66",
   "metadata": {},
   "outputs": [
    {
     "data": {
      "text/plain": [
       "'nikhil'"
      ]
     },
     "execution_count": 13,
     "metadata": {},
     "output_type": "execute_result"
    }
   ],
   "source": [
    "a=\" nikhil\"\n",
    "a.strip()"
   ]
  },
  {
   "cell_type": "code",
   "execution_count": 14,
   "id": "5a3f999b",
   "metadata": {},
   "outputs": [
    {
     "name": "stdout",
     "output_type": "stream",
     "text": [
      "enter a number10\n",
      "10\n"
     ]
    }
   ],
   "source": [
    "#user input\n",
    "x=input(\"enter a number\")\n",
    "print(x)"
   ]
  },
  {
   "cell_type": "code",
   "execution_count": 15,
   "id": "f9a21bb1",
   "metadata": {},
   "outputs": [
    {
     "data": {
      "text/plain": [
       "str"
      ]
     },
     "execution_count": 15,
     "metadata": {},
     "output_type": "execute_result"
    }
   ],
   "source": [
    "type(x)"
   ]
  },
  {
   "cell_type": "code",
   "execution_count": 16,
   "id": "011d956b",
   "metadata": {},
   "outputs": [
    {
     "name": "stdout",
     "output_type": "stream",
     "text": [
      "enter a number20\n"
     ]
    },
    {
     "data": {
      "text/plain": [
       "int"
      ]
     },
     "execution_count": 16,
     "metadata": {},
     "output_type": "execute_result"
    }
   ],
   "source": [
    "x=int(input(\"enter a number\"))\n",
    "type(x)"
   ]
  },
  {
   "cell_type": "code",
   "execution_count": 20,
   "id": "3676dd21",
   "metadata": {},
   "outputs": [
    {
     "name": "stdout",
     "output_type": "stream",
     "text": [
      "virat and rohit are cricketers\n"
     ]
    }
   ],
   "source": [
    "#concat\n",
    "a=\"virat\"\n",
    "b=\"rohit\"\n",
    "print(a+\" and \"+b+ \" are cricketers\")\n",
    "#we can do the same thing as above by implying commas instead of + but comma automatically creates a space"
   ]
  },
  {
   "cell_type": "code",
   "execution_count": 21,
   "id": "5d623cf6",
   "metadata": {},
   "outputs": [
    {
     "name": "stdout",
     "output_type": "stream",
     "text": [
      "virat and rohit are cricketers\n"
     ]
    }
   ],
   "source": [
    "#another way of concat\n",
    "print(\"{} and {} are cricketers\".format(a,b))"
   ]
  },
  {
   "cell_type": "code",
   "execution_count": 23,
   "id": "1752f9eb",
   "metadata": {},
   "outputs": [
    {
     "name": "stdout",
     "output_type": "stream",
     "text": [
      "virat and rohit are cricketers\n"
     ]
    }
   ],
   "source": [
    "print(\"%s and %s are cricketers\"%(a,b))"
   ]
  },
  {
   "cell_type": "code",
   "execution_count": 24,
   "id": "a3b779c7",
   "metadata": {},
   "outputs": [
    {
     "name": "stdout",
     "output_type": "stream",
     "text": [
      "9\n"
     ]
    }
   ],
   "source": [
    "#arithmetic operaters\n",
    "x=4\n",
    "y=5\n",
    "print(x+y)"
   ]
  },
  {
   "cell_type": "code",
   "execution_count": 8,
   "id": "9fad2c4c",
   "metadata": {},
   "outputs": [
    {
     "name": "stdout",
     "output_type": "stream",
     "text": [
      "greater than 5 less than 15\n",
      "hi\n"
     ]
    }
   ],
   "source": [
    "#conditional statements-identation shoul be proper\n",
    "a=10\n",
    "if a>15:\n",
    "    print(\"graeter than 15\")\n",
    "elif a>5 and a<15:\n",
    "    print(\"greater than 5 less than 15\")\n",
    "    print(\"hi\")\n",
    "else:\n",
    "    print(\"less than 5\")"
   ]
  },
  {
   "cell_type": "code",
   "execution_count": 9,
   "id": "2781eeb3",
   "metadata": {},
   "outputs": [
    {
     "data": {
      "text/plain": [
       "tuple"
      ]
     },
     "execution_count": 9,
     "metadata": {},
     "output_type": "execute_result"
    }
   ],
   "source": [
    "#Tuples-basically a data structure in which we can store multiple data memebers together\n",
    "a=(10,20,30)\n",
    "b=(1,2,\"python\")\n",
    "type(a)"
   ]
  },
  {
   "cell_type": "code",
   "execution_count": 10,
   "id": "3626882c",
   "metadata": {},
   "outputs": [
    {
     "data": {
      "text/plain": [
       "20"
      ]
     },
     "execution_count": 10,
     "metadata": {},
     "output_type": "execute_result"
    }
   ],
   "source": [
    "a[1]"
   ]
  },
  {
   "cell_type": "code",
   "execution_count": 11,
   "id": "9f7eeb38",
   "metadata": {},
   "outputs": [
    {
     "data": {
      "text/plain": [
       "'python'"
      ]
     },
     "execution_count": 11,
     "metadata": {},
     "output_type": "execute_result"
    }
   ],
   "source": [
    "b[2]"
   ]
  },
  {
   "cell_type": "code",
   "execution_count": 12,
   "id": "643e07d8",
   "metadata": {},
   "outputs": [
    {
     "data": {
      "text/plain": [
       "(10, 20)"
      ]
     },
     "execution_count": 12,
     "metadata": {},
     "output_type": "execute_result"
    }
   ],
   "source": [
    "a[0:2]"
   ]
  },
  {
   "cell_type": "code",
   "execution_count": 13,
   "id": "bd177b37",
   "metadata": {},
   "outputs": [
    {
     "data": {
      "text/plain": [
       "(10, 20, 5, 6)"
      ]
     },
     "execution_count": 13,
     "metadata": {},
     "output_type": "execute_result"
    }
   ],
   "source": [
    "a=(10,20)\n",
    "b=(5,6)\n",
    "a+b"
   ]
  },
  {
   "cell_type": "code",
   "execution_count": 14,
   "id": "3eaf1246",
   "metadata": {},
   "outputs": [
    {
     "ename": "TypeError",
     "evalue": "can't multiply sequence by non-int of type 'tuple'",
     "output_type": "error",
     "traceback": [
      "\u001b[1;31m---------------------------------------------------------------------------\u001b[0m",
      "\u001b[1;31mTypeError\u001b[0m                                 Traceback (most recent call last)",
      "Cell \u001b[1;32mIn[14], line 1\u001b[0m\n\u001b[1;32m----> 1\u001b[0m \u001b[43ma\u001b[49m\u001b[38;5;241;43m*\u001b[39;49m\u001b[43mb\u001b[49m\n",
      "\u001b[1;31mTypeError\u001b[0m: can't multiply sequence by non-int of type 'tuple'"
     ]
    }
   ],
   "source": [
    "#a*b-cannot mul. tuples"
   ]
  },
  {
   "cell_type": "code",
   "execution_count": 15,
   "id": "b18d5709",
   "metadata": {},
   "outputs": [
    {
     "data": {
      "text/plain": [
       "(10, 20, 10, 20, 10, 20, 10, 20)"
      ]
     },
     "execution_count": 15,
     "metadata": {},
     "output_type": "execute_result"
    }
   ],
   "source": [
    "a*4"
   ]
  },
  {
   "cell_type": "code",
   "execution_count": 17,
   "id": "7ea5b3d9",
   "metadata": {},
   "outputs": [
    {
     "data": {
      "text/plain": [
       "False"
      ]
     },
     "execution_count": 17,
     "metadata": {},
     "output_type": "execute_result"
    }
   ],
   "source": [
    "20 not in a#searching in a"
   ]
  },
  {
   "cell_type": "code",
   "execution_count": 18,
   "id": "f42f6f38",
   "metadata": {},
   "outputs": [
    {
     "data": {
      "text/plain": [
       "1"
      ]
     },
     "execution_count": 18,
     "metadata": {},
     "output_type": "execute_result"
    }
   ],
   "source": [
    "b.index(6)#finding index"
   ]
  },
  {
   "cell_type": "code",
   "execution_count": 20,
   "id": "625a9cef",
   "metadata": {},
   "outputs": [
    {
     "data": {
      "text/plain": [
       "3"
      ]
     },
     "execution_count": 20,
     "metadata": {},
     "output_type": "execute_result"
    }
   ],
   "source": [
    "b=(5,6,6,6)\n",
    "b.count(6)"
   ]
  },
  {
   "cell_type": "code",
   "execution_count": 21,
   "id": "bd8b6215",
   "metadata": {},
   "outputs": [
    {
     "ename": "TypeError",
     "evalue": "'str' object does not support item assignment",
     "output_type": "error",
     "traceback": [
      "\u001b[1;31m---------------------------------------------------------------------------\u001b[0m",
      "\u001b[1;31mTypeError\u001b[0m                                 Traceback (most recent call last)",
      "Cell \u001b[1;32mIn[21], line 2\u001b[0m\n\u001b[0;32m      1\u001b[0m a\u001b[38;5;241m=\u001b[39m\u001b[38;5;124m'\u001b[39m\u001b[38;5;124mpython\u001b[39m\u001b[38;5;124m'\u001b[39m\n\u001b[1;32m----> 2\u001b[0m a[\u001b[38;5;241m1\u001b[39m]\u001b[38;5;241m=\u001b[39m\u001b[38;5;124m'\u001b[39m\u001b[38;5;124mm\u001b[39m\u001b[38;5;124m'\u001b[39m\n",
      "\u001b[1;31mTypeError\u001b[0m: 'str' object does not support item assignment"
     ]
    }
   ],
   "source": [
    "a='python'\n",
    "a[1]='m'\n",
    "#strings are immutable"
   ]
  },
  {
   "cell_type": "code",
   "execution_count": 22,
   "id": "aae293ba",
   "metadata": {},
   "outputs": [
    {
     "ename": "TypeError",
     "evalue": "'tuple' object does not support item assignment",
     "output_type": "error",
     "traceback": [
      "\u001b[1;31m---------------------------------------------------------------------------\u001b[0m",
      "\u001b[1;31mTypeError\u001b[0m                                 Traceback (most recent call last)",
      "Cell \u001b[1;32mIn[22], line 2\u001b[0m\n\u001b[0;32m      1\u001b[0m a\u001b[38;5;241m=\u001b[39m(\u001b[38;5;241m10\u001b[39m,\u001b[38;5;241m20\u001b[39m)\n\u001b[1;32m----> 2\u001b[0m a[\u001b[38;5;241m0\u001b[39m]\u001b[38;5;241m=\u001b[39m\u001b[38;5;241m5\u001b[39m\n",
      "\u001b[1;31mTypeError\u001b[0m: 'tuple' object does not support item assignment"
     ]
    }
   ],
   "source": [
    "a=(10,20)\n",
    "a[0]=5\n",
    "#same as strings tuples are immutable"
   ]
  },
  {
   "cell_type": "code",
   "execution_count": 27,
   "id": "8ebf721d",
   "metadata": {},
   "outputs": [
    {
     "name": "stdout",
     "output_type": "stream",
     "text": [
      "enter a number15\n",
      "1 2 3 4 5 6 7 8 9 10 11 12 13 14 "
     ]
    }
   ],
   "source": [
    "#loops\n",
    "i=1\n",
    "n=int(input(\"enter a number\"))\n",
    "while i<n:\n",
    "    print(i,end=\" \")\n",
    "    i=i+1"
   ]
  },
  {
   "cell_type": "code",
   "execution_count": 29,
   "id": "b5edab1b",
   "metadata": {},
   "outputs": [
    {
     "name": "stdout",
     "output_type": "stream",
     "text": [
      "1 2 3 4 5 6 7 8 9 10 "
     ]
    }
   ],
   "source": [
    "for i in range(1,11,1):\n",
    "    print(i,end=\" \")"
   ]
  },
  {
   "cell_type": "code",
   "execution_count": 30,
   "id": "4789c630",
   "metadata": {},
   "outputs": [
    {
     "name": "stdout",
     "output_type": "stream",
     "text": [
      "l o o p "
     ]
    }
   ],
   "source": [
    "s='loop'\n",
    "for i in range(0,len(s)):\n",
    "    print(s[i],end=\" \")"
   ]
  },
  {
   "cell_type": "code",
   "execution_count": 31,
   "id": "7b94bb93",
   "metadata": {},
   "outputs": [
    {
     "name": "stdout",
     "output_type": "stream",
     "text": [
      "l o o p "
     ]
    }
   ],
   "source": [
    "s='loop'\n",
    "for i in s:\n",
    "    print(i,end=\" \")"
   ]
  },
  {
   "cell_type": "code",
   "execution_count": 32,
   "id": "20d11b7a",
   "metadata": {},
   "outputs": [
    {
     "ename": "SyntaxError",
     "evalue": "invalid syntax (62411553.py, line 1)",
     "output_type": "error",
     "traceback": [
      "\u001b[1;36m  Cell \u001b[1;32mIn[32], line 1\u001b[1;36m\u001b[0m\n\u001b[1;33m    a=\u001b[0m\n\u001b[1;37m      ^\u001b[0m\n\u001b[1;31mSyntaxError\u001b[0m\u001b[1;31m:\u001b[0m invalid syntax\n"
     ]
    }
   ],
   "source": [
    "a="
   ]
  },
  {
   "cell_type": "code",
   "execution_count": 33,
   "id": "4093a639",
   "metadata": {},
   "outputs": [
    {
     "ename": "SyntaxError",
     "evalue": "invalid syntax (62411553.py, line 1)",
     "output_type": "error",
     "traceback": [
      "\u001b[1;36m  Cell \u001b[1;32mIn[33], line 1\u001b[1;36m\u001b[0m\n\u001b[1;33m    a=\u001b[0m\n\u001b[1;37m      ^\u001b[0m\n\u001b[1;31mSyntaxError\u001b[0m\u001b[1;31m:\u001b[0m invalid syntax\n"
     ]
    }
   ],
   "source": [
    "a="
   ]
  },
  {
   "cell_type": "code",
   "execution_count": 37,
   "id": "f4f57557",
   "metadata": {},
   "outputs": [
    {
     "name": "stdout",
     "output_type": "stream",
     "text": [
      "10\n",
      "20\n",
      "30\n"
     ]
    }
   ],
   "source": [
    "a=(10,20,30)\n",
    "for i in a:\n",
    "    print(i)"
   ]
  },
  {
   "cell_type": "code",
   "execution_count": 38,
   "id": "9c12be1f",
   "metadata": {},
   "outputs": [
    {
     "ename": "SyntaxError",
     "evalue": "invalid syntax (62411553.py, line 1)",
     "output_type": "error",
     "traceback": [
      "\u001b[1;36m  Cell \u001b[1;32mIn[38], line 1\u001b[1;36m\u001b[0m\n\u001b[1;33m    a=\u001b[0m\n\u001b[1;37m      ^\u001b[0m\n\u001b[1;31mSyntaxError\u001b[0m\u001b[1;31m:\u001b[0m invalid syntax\n"
     ]
    }
   ],
   "source": [
    "a="
   ]
  },
  {
   "cell_type": "code",
   "execution_count": 41,
   "id": "f9a0dd91",
   "metadata": {},
   "outputs": [
    {
     "name": "stdout",
     "output_type": "stream",
     "text": [
      "10\n",
      "20\n",
      "30\n"
     ]
    }
   ],
   "source": [
    "a=(10,20,30)\n",
    "for i in range (0,len(a)):\n",
    "    print(a[i])"
   ]
  },
  {
   "cell_type": "code",
   "execution_count": 42,
   "id": "e376a893",
   "metadata": {},
   "outputs": [],
   "source": [
    "#functions\n",
    "def multiply(a,b):\n",
    "    return a*b"
   ]
  },
  {
   "cell_type": "code",
   "execution_count": 43,
   "id": "6c3bb2e5",
   "metadata": {},
   "outputs": [
    {
     "data": {
      "text/plain": [
       "20"
      ]
     },
     "execution_count": 43,
     "metadata": {},
     "output_type": "execute_result"
    }
   ],
   "source": [
    "multiply(4,5)"
   ]
  },
  {
   "cell_type": "code",
   "execution_count": 45,
   "id": "e8d4c0f2",
   "metadata": {},
   "outputs": [],
   "source": [
    "#default parameters\n",
    "def multiply(a=3,b=5):\n",
    "    return a*b"
   ]
  },
  {
   "cell_type": "code",
   "execution_count": 46,
   "id": "16b83efd",
   "metadata": {},
   "outputs": [
    {
     "data": {
      "text/plain": [
       "20"
      ]
     },
     "execution_count": 46,
     "metadata": {},
     "output_type": "execute_result"
    }
   ],
   "source": [
    "multiply(4,5)"
   ]
  },
  {
   "cell_type": "code",
   "execution_count": 47,
   "id": "c7f707b6",
   "metadata": {},
   "outputs": [
    {
     "data": {
      "text/plain": [
       "15"
      ]
     },
     "execution_count": 47,
     "metadata": {},
     "output_type": "execute_result"
    }
   ],
   "source": [
    "multiply()"
   ]
  },
  {
   "cell_type": "code",
   "execution_count": 48,
   "id": "da5e4a32",
   "metadata": {},
   "outputs": [
    {
     "data": {
      "text/plain": [
       "50"
      ]
     },
     "execution_count": 48,
     "metadata": {},
     "output_type": "execute_result"
    }
   ],
   "source": [
    "multiply(10)"
   ]
  },
  {
   "cell_type": "code",
   "execution_count": 49,
   "id": "cb217670",
   "metadata": {},
   "outputs": [
    {
     "data": {
      "text/plain": [
       "30"
      ]
     },
     "execution_count": 49,
     "metadata": {},
     "output_type": "execute_result"
    }
   ],
   "source": [
    "multiply(b=10)"
   ]
  },
  {
   "cell_type": "code",
   "execution_count": 4,
   "id": "054001d8",
   "metadata": {},
   "outputs": [],
   "source": [
    "def multiplyAnddivide(a,b):\n",
    "    return a*b,a/b"
   ]
  },
  {
   "cell_type": "code",
   "execution_count": 8,
   "id": "3201dbe6",
   "metadata": {},
   "outputs": [],
   "source": [
    "x,y=multiplyAnddivide(10,5)"
   ]
  },
  {
   "cell_type": "code",
   "execution_count": 11,
   "id": "807d21bf",
   "metadata": {},
   "outputs": [],
   "source": [
    "both=multiplyAnddivide(10,5)"
   ]
  },
  {
   "cell_type": "code",
   "execution_count": 12,
   "id": "f2145cca",
   "metadata": {},
   "outputs": [
    {
     "data": {
      "text/plain": [
       "tuple"
      ]
     },
     "execution_count": 12,
     "metadata": {},
     "output_type": "execute_result"
    }
   ],
   "source": [
    "type(both)"
   ]
  },
  {
   "cell_type": "code",
   "execution_count": 13,
   "id": "58688667",
   "metadata": {},
   "outputs": [
    {
     "data": {
      "text/plain": [
       "50"
      ]
     },
     "execution_count": 13,
     "metadata": {},
     "output_type": "execute_result"
    }
   ],
   "source": [
    "both[0]"
   ]
  },
  {
   "cell_type": "code",
   "execution_count": 14,
   "id": "dcb2f02e",
   "metadata": {},
   "outputs": [
    {
     "data": {
      "text/plain": [
       "2.0"
      ]
     },
     "execution_count": 14,
     "metadata": {},
     "output_type": "execute_result"
    }
   ],
   "source": [
    "both[1]"
   ]
  },
  {
   "cell_type": "code",
   "execution_count": 16,
   "id": "78cbd506",
   "metadata": {},
   "outputs": [],
   "source": [
    "#lamda functions\n",
    "add=lambda a,b:a+b"
   ]
  },
  {
   "cell_type": "code",
   "execution_count": 17,
   "id": "f02e62e3",
   "metadata": {},
   "outputs": [
    {
     "data": {
      "text/plain": [
       "11"
      ]
     },
     "execution_count": 17,
     "metadata": {},
     "output_type": "execute_result"
    }
   ],
   "source": [
    "add(5,6)"
   ]
  },
  {
   "cell_type": "code",
   "execution_count": 18,
   "id": "09a314f3",
   "metadata": {},
   "outputs": [],
   "source": [
    "square=lambda a:a**2"
   ]
  },
  {
   "cell_type": "code",
   "execution_count": 19,
   "id": "f063efed",
   "metadata": {},
   "outputs": [
    {
     "data": {
      "text/plain": [
       "25"
      ]
     },
     "execution_count": 19,
     "metadata": {},
     "output_type": "execute_result"
    }
   ],
   "source": [
    "square(5)"
   ]
  },
  {
   "cell_type": "code",
   "execution_count": 20,
   "id": "ebd55388",
   "metadata": {},
   "outputs": [],
   "source": [
    "abcd=lambda:2"
   ]
  },
  {
   "cell_type": "code",
   "execution_count": 22,
   "id": "8fa23ce2",
   "metadata": {},
   "outputs": [
    {
     "data": {
      "text/plain": [
       "2"
      ]
     },
     "execution_count": 22,
     "metadata": {},
     "output_type": "execute_result"
    }
   ],
   "source": [
    "abcd()"
   ]
  },
  {
   "cell_type": "code",
   "execution_count": 35,
   "id": "ce8a81bc",
   "metadata": {},
   "outputs": [
    {
     "name": "stdout",
     "output_type": "stream",
     "text": [
      "hello how are you\n",
      "olleh woh era uoy"
     ]
    }
   ],
   "source": [
    "#reverse every word of a string\n",
    "a=input()\n",
    "lastspaceat=-1\n",
    "for i in range(len(a)):\n",
    "    if a[i]==\" \":\n",
    "        j=i-1\n",
    "        while(j>lastspaceat):\n",
    "            print(a[j],end=\"\")\n",
    "            j=j-1\n",
    "        lastspaceat=i\n",
    "        print(\" \",end=\"\")\n",
    "k=len(a)-1\n",
    "while k>lastspaceat:\n",
    "    print(a[k],end=\"\")\n",
    "    k=k-1"
   ]
  },
  {
   "cell_type": "code",
   "execution_count": null,
   "id": "d4ce2b40",
   "metadata": {},
   "outputs": [],
   "source": [
    "#prime numbers till N\n",
    "N=int(input(print(\"enter a number\")))\n",
    "for i in range(2,N+1):\n",
    "    isprime=True\n",
    "    for j in range(2,i):\n",
    "        if(i%j==0):\n",
    "            isprime=False\n",
    "            break\n",
    "    if isprime:\n",
    "        print(i)"
   ]
  },
  {
   "cell_type": "code",
   "execution_count": 21,
   "id": "1ee91f33",
   "metadata": {},
   "outputs": [
    {
     "data": {
      "text/plain": [
       "list"
      ]
     },
     "execution_count": 21,
     "metadata": {},
     "output_type": "execute_result"
    }
   ],
   "source": [
    "#lists\n",
    "list=[1,3.8,'python']\n",
    "type(list)"
   ]
  },
  {
   "cell_type": "code",
   "execution_count": 25,
   "id": "1cbe8183",
   "metadata": {},
   "outputs": [
    {
     "data": {
      "text/plain": [
       "[10, 10, 10, 10, 10, 10, 10, 10, 10, 10]"
      ]
     },
     "execution_count": 25,
     "metadata": {},
     "output_type": "execute_result"
    }
   ],
   "source": [
    "list1=[10 for i in range(0,10)]#how to read it-for i in range 0,10 put 10/i in it\n",
    "list1"
   ]
  },
  {
   "cell_type": "code",
   "execution_count": 27,
   "id": "db8c5d25",
   "metadata": {},
   "outputs": [
    {
     "data": {
      "text/plain": [
       "[32.0, 50.0, 68.0, 86.0, 104.0]"
      ]
     },
     "execution_count": 27,
     "metadata": {},
     "output_type": "execute_result"
    }
   ],
   "source": [
    "celcius=[0,10,20,30,40]\n",
    "fahrenheit=[(9/5)*temp+32 for temp in celcius]\n",
    "fahrenheit"
   ]
  },
  {
   "cell_type": "code",
   "execution_count": 28,
   "id": "0772918a",
   "metadata": {},
   "outputs": [
    {
     "data": {
      "text/plain": [
       "[10, 20, 30, 40]"
      ]
     },
     "execution_count": 28,
     "metadata": {},
     "output_type": "execute_result"
    }
   ],
   "source": [
    "#adding/deleting elements in a list\n",
    "list=[10,20,30]\n",
    "list.append(40)\n",
    "list"
   ]
  },
  {
   "cell_type": "code",
   "execution_count": 29,
   "id": "1d2edf01",
   "metadata": {},
   "outputs": [
    {
     "data": {
      "text/plain": [
       "[10, 50, 20, 30, 40]"
      ]
     },
     "execution_count": 29,
     "metadata": {},
     "output_type": "execute_result"
    }
   ],
   "source": [
    "list.insert(1,50)\n",
    "list"
   ]
  },
  {
   "cell_type": "code",
   "execution_count": 30,
   "id": "121123e8",
   "metadata": {},
   "outputs": [
    {
     "data": {
      "text/plain": [
       "[10, 50, 20, 30]"
      ]
     },
     "execution_count": 30,
     "metadata": {},
     "output_type": "execute_result"
    }
   ],
   "source": [
    "list.pop()\n",
    "list"
   ]
  },
  {
   "cell_type": "code",
   "execution_count": 31,
   "id": "aecbc7bc",
   "metadata": {},
   "outputs": [
    {
     "data": {
      "text/plain": [
       "[10, 50, 30]"
      ]
     },
     "execution_count": 31,
     "metadata": {},
     "output_type": "execute_result"
    }
   ],
   "source": [
    "list.pop(2)\n",
    "list"
   ]
  },
  {
   "cell_type": "code",
   "execution_count": 32,
   "id": "f88b06b7",
   "metadata": {},
   "outputs": [
    {
     "data": {
      "text/plain": [
       "[50, 30]"
      ]
     },
     "execution_count": 32,
     "metadata": {},
     "output_type": "execute_result"
    }
   ],
   "source": [
    "list.remove(10)\n",
    "list"
   ]
  },
  {
   "cell_type": "code",
   "execution_count": 34,
   "id": "7274af1a",
   "metadata": {},
   "outputs": [
    {
     "data": {
      "text/plain": [
       "[50, 30, 20, 20]"
      ]
     },
     "execution_count": 34,
     "metadata": {},
     "output_type": "execute_result"
    }
   ],
   "source": [
    "list.append(20)\n",
    "list.append(20)\n",
    "list"
   ]
  },
  {
   "cell_type": "code",
   "execution_count": 35,
   "id": "d77a9dff",
   "metadata": {},
   "outputs": [
    {
     "data": {
      "text/plain": [
       "[50, 30, 20]"
      ]
     },
     "execution_count": 35,
     "metadata": {},
     "output_type": "execute_result"
    }
   ],
   "source": [
    "list.remove(20)#first instance of 20 gets removed if we have to remove 20 again then we have to use again remove\n",
    "list"
   ]
  },
  {
   "cell_type": "code",
   "execution_count": 36,
   "id": "f84248ea",
   "metadata": {},
   "outputs": [
    {
     "data": {
      "text/plain": [
       "3"
      ]
     },
     "execution_count": 36,
     "metadata": {},
     "output_type": "execute_result"
    }
   ],
   "source": [
    "list=[30,10,20]\n",
    "len(list)"
   ]
  },
  {
   "cell_type": "code",
   "execution_count": 37,
   "id": "642f3e9d",
   "metadata": {},
   "outputs": [
    {
     "data": {
      "text/plain": [
       "60"
      ]
     },
     "execution_count": 37,
     "metadata": {},
     "output_type": "execute_result"
    }
   ],
   "source": [
    "sum(list)"
   ]
  },
  {
   "cell_type": "code",
   "execution_count": 38,
   "id": "38df7306",
   "metadata": {},
   "outputs": [
    {
     "data": {
      "text/plain": [
       "True"
      ]
     },
     "execution_count": 38,
     "metadata": {},
     "output_type": "execute_result"
    }
   ],
   "source": [
    "20 in list"
   ]
  },
  {
   "cell_type": "code",
   "execution_count": 39,
   "id": "dd561fff",
   "metadata": {},
   "outputs": [
    {
     "data": {
      "text/plain": [
       "[30, 10]"
      ]
     },
     "execution_count": 39,
     "metadata": {},
     "output_type": "execute_result"
    }
   ],
   "source": [
    "list[0:2]"
   ]
  },
  {
   "cell_type": "code",
   "execution_count": 40,
   "id": "346195a5",
   "metadata": {},
   "outputs": [
    {
     "data": {
      "text/plain": [
       "[10, 20, 30]"
      ]
     },
     "execution_count": 40,
     "metadata": {},
     "output_type": "execute_result"
    }
   ],
   "source": [
    "list.sort()\n",
    "list"
   ]
  },
  {
   "cell_type": "code",
   "execution_count": 42,
   "id": "0fedc9ad",
   "metadata": {},
   "outputs": [
    {
     "data": {
      "text/plain": [
       "[10, 20, 30, 100, 200]"
      ]
     },
     "execution_count": 42,
     "metadata": {},
     "output_type": "execute_result"
    }
   ],
   "source": [
    "list+[100,200]"
   ]
  },
  {
   "cell_type": "code",
   "execution_count": 43,
   "id": "20ca0fe0",
   "metadata": {},
   "outputs": [
    {
     "data": {
      "text/plain": [
       "[10, 20, 30, 10, 20, 30]"
      ]
     },
     "execution_count": 43,
     "metadata": {},
     "output_type": "execute_result"
    }
   ],
   "source": [
    "list*2"
   ]
  },
  {
   "cell_type": "code",
   "execution_count": 50,
   "id": "63d25ca1",
   "metadata": {},
   "outputs": [],
   "source": [
    "list.reverse()"
   ]
  },
  {
   "cell_type": "code",
   "execution_count": 51,
   "id": "9d546eb1",
   "metadata": {},
   "outputs": [
    {
     "data": {
      "text/plain": [
       "[30, 20, 10]"
      ]
     },
     "execution_count": 51,
     "metadata": {},
     "output_type": "execute_result"
    }
   ],
   "source": [
    "list"
   ]
  },
  {
   "cell_type": "code",
   "execution_count": 52,
   "id": "c9f43b4c",
   "metadata": {},
   "outputs": [
    {
     "name": "stdout",
     "output_type": "stream",
     "text": [
      "enter number of elements4\n",
      "1\n",
      "2\n",
      "3\n",
      "4\n",
      "[1, 2, 3, 4]\n"
     ]
    }
   ],
   "source": [
    "#take input into list\n",
    "lst=[]\n",
    "n=int(input(\"enter number of elements\"))\n",
    "for i in range(n):\n",
    "    currentElement=int(input())\n",
    "    lst.append(currentElement)\n",
    "print(lst)"
   ]
  },
  {
   "cell_type": "code",
   "execution_count": 53,
   "id": "2619cf54",
   "metadata": {},
   "outputs": [
    {
     "data": {
      "text/plain": [
       "3"
      ]
     },
     "execution_count": 53,
     "metadata": {},
     "output_type": "execute_result"
    }
   ],
   "source": [
    "#2D lists\n",
    "lst=[[1,2],[3,4]]\n",
    "lst[1][0]"
   ]
  },
  {
   "cell_type": "code",
   "execution_count": 57,
   "id": "306d7beb",
   "metadata": {},
   "outputs": [
    {
     "data": {
      "text/plain": [
       "[[1, 2, 3], [1, 2, 3], [1, 2, 3], [1, 2, 3], [1, 2, 3]]"
      ]
     },
     "execution_count": 57,
     "metadata": {},
     "output_type": "execute_result"
    }
   ],
   "source": [
    "lst=[[j for j in range(1,4)] for i in range(0,5)]\n",
    "lst"
   ]
  },
  {
   "cell_type": "code",
   "execution_count": 58,
   "id": "5a4d6e7e",
   "metadata": {},
   "outputs": [
    {
     "data": {
      "text/plain": [
       "[[1, 2, 3], [3, 4, 5], [5, 6, 7], [7, 8, 9], [9, 10, 11]]"
      ]
     },
     "execution_count": 58,
     "metadata": {},
     "output_type": "execute_result"
    }
   ],
   "source": [
    "lst=[[i*2+j for j in range(1,4)] for i in range(0,5)]\n",
    "lst"
   ]
  },
  {
   "cell_type": "code",
   "execution_count": 61,
   "id": "40057247",
   "metadata": {},
   "outputs": [
    {
     "name": "stdout",
     "output_type": "stream",
     "text": [
      "enter number of rows3\n",
      "enter number of cols3\n",
      "1\n",
      "2\n",
      "3\n",
      "4\n",
      "5\n",
      "6\n",
      "7\n",
      "8\n",
      "9\n",
      "[[1, 2, 3], [4, 5, 6], [7, 8, 9]]\n"
     ]
    }
   ],
   "source": [
    "#input into 2D list\n",
    "lst=[]\n",
    "rows=int(input(\"enter number of rows\"))\n",
    "cols=int(input(\"enter number of cols\"))\n",
    "for i in range(rows):\n",
    "    lst.append([])\n",
    "    for j in range(0,cols):\n",
    "        currentelement=int(input())\n",
    "        lst[i].append(currentelement)\n",
    "print(lst)"
   ]
  },
  {
   "cell_type": "code",
   "execution_count": 64,
   "id": "de0fd5ee",
   "metadata": {},
   "outputs": [
    {
     "data": {
      "text/plain": [
       "{'name': 'kunal', 'phone': 8888888888, 'roll': 42, (2, 4): 'hey', 4: 85}"
      ]
     },
     "execution_count": 64,
     "metadata": {},
     "output_type": "execute_result"
    }
   ],
   "source": [
    "#dictionaries\n",
    "myDict={}\n",
    "myDict['name']='kunal'\n",
    "myDict['phone']= 8888888888\n",
    "myDict['roll']=42\n",
    "myDict[(2,4)]='hey'\n",
    "myDict[4]=85\n",
    "#name,phone,roll,tuple,4 are my keys and kunal,8888888,42 are values\n",
    "myDict"
   ]
  },
  {
   "cell_type": "code",
   "execution_count": 65,
   "id": "ce8068d9",
   "metadata": {},
   "outputs": [
    {
     "name": "stdout",
     "output_type": "stream",
     "text": [
      "True\n"
     ]
    }
   ],
   "source": [
    "print('phone' in myDict)#can only be done in the case of keys"
   ]
  },
  {
   "cell_type": "code",
   "execution_count": 67,
   "id": "977100ca",
   "metadata": {},
   "outputs": [
    {
     "name": "stdout",
     "output_type": "stream",
     "text": [
      "name\n",
      "phone\n",
      "roll\n",
      "(2, 4)\n",
      "4\n"
     ]
    }
   ],
   "source": [
    "for i in myDict:\n",
    "    print(i)"
   ]
  },
  {
   "cell_type": "code",
   "execution_count": 69,
   "id": "7156adcb",
   "metadata": {},
   "outputs": [
    {
     "name": "stdout",
     "output_type": "stream",
     "text": [
      "kunal\n",
      "8888888888\n",
      "42\n",
      "hey\n",
      "85\n"
     ]
    }
   ],
   "source": [
    "for i in myDict:\n",
    "    print(myDict[i])"
   ]
  },
  {
   "cell_type": "code",
   "execution_count": 70,
   "id": "e312036a",
   "metadata": {},
   "outputs": [
    {
     "name": "stdout",
     "output_type": "stream",
     "text": [
      "name:kunal\n",
      "phone:8888888888\n",
      "roll:42\n",
      "(2, 4):hey\n",
      "4:85\n"
     ]
    }
   ],
   "source": [
    "for i in myDict:\n",
    "    print(i,end=\":\")\n",
    "    print(myDict[i])"
   ]
  },
  {
   "cell_type": "code",
   "execution_count": 71,
   "id": "15217ff5",
   "metadata": {},
   "outputs": [
    {
     "data": {
      "text/plain": [
       "dict_keys(['name', 'phone', 'roll', (2, 4), 4])"
      ]
     },
     "execution_count": 71,
     "metadata": {},
     "output_type": "execute_result"
    }
   ],
   "source": [
    "myDict.keys()"
   ]
  },
  {
   "cell_type": "code",
   "execution_count": 73,
   "id": "bbb288b0",
   "metadata": {},
   "outputs": [
    {
     "data": {
      "text/plain": [
       "dict_values(['kunal', 8888888888, 42, 'hey', 85])"
      ]
     },
     "execution_count": 73,
     "metadata": {},
     "output_type": "execute_result"
    }
   ],
   "source": [
    "myDict.values()"
   ]
  },
  {
   "cell_type": "code",
   "execution_count": 74,
   "id": "4ac5781c",
   "metadata": {},
   "outputs": [
    {
     "data": {
      "text/plain": [
       "dict_items([('name', 'kunal'), ('phone', 8888888888), ('roll', 42), ((2, 4), 'hey'), (4, 85)])"
      ]
     },
     "execution_count": 74,
     "metadata": {},
     "output_type": "execute_result"
    }
   ],
   "source": [
    "myDict.items()"
   ]
  },
  {
   "cell_type": "code",
   "execution_count": 75,
   "id": "5ed1d86a",
   "metadata": {},
   "outputs": [
    {
     "data": {
      "text/plain": [
       "'d'"
      ]
     },
     "execution_count": 75,
     "metadata": {},
     "output_type": "execute_result"
    }
   ],
   "source": [
    "#nested Dictionaries\n",
    "d={'a':{'b':{'c':'d'}}}\n",
    "d['a']['b']['c']"
   ]
  },
  {
   "cell_type": "code",
   "execution_count": 7,
   "id": "12138c0a",
   "metadata": {},
   "outputs": [],
   "source": [
    "#numpy arrays\n",
    "import numpy as np"
   ]
  },
  {
   "cell_type": "code",
   "execution_count": 3,
   "id": "3c705051",
   "metadata": {},
   "outputs": [
    {
     "data": {
      "text/plain": [
       "array([10, 20, 30])"
      ]
     },
     "execution_count": 3,
     "metadata": {},
     "output_type": "execute_result"
    }
   ],
   "source": [
    "arr1=numpy.array([10,20,30])\n",
    "arr1"
   ]
  },
  {
   "cell_type": "code",
   "execution_count": 5,
   "id": "1d84cd39",
   "metadata": {},
   "outputs": [
    {
     "data": {
      "text/plain": [
       "numpy.ndarray"
      ]
     },
     "execution_count": 5,
     "metadata": {},
     "output_type": "execute_result"
    }
   ],
   "source": [
    "type(arr1)"
   ]
  },
  {
   "cell_type": "code",
   "execution_count": 10,
   "id": "3d5aca87",
   "metadata": {},
   "outputs": [
    {
     "data": {
      "text/plain": [
       "array([0., 0., 0.])"
      ]
     },
     "execution_count": 10,
     "metadata": {},
     "output_type": "execute_result"
    }
   ],
   "source": [
    "arr2=np.zeros(3)\n",
    "arr2"
   ]
  },
  {
   "cell_type": "code",
   "execution_count": 11,
   "id": "69f2b9dd",
   "metadata": {},
   "outputs": [
    {
     "data": {
      "text/plain": [
       "array(['10', '20', 'abc'], dtype='<U11')"
      ]
     },
     "execution_count": 11,
     "metadata": {},
     "output_type": "execute_result"
    }
   ],
   "source": [
    "np.array([10,20,'abc'])#here the integer gets converted into string"
   ]
  },
  {
   "cell_type": "code",
   "execution_count": null,
   "id": "08dd6955",
   "metadata": {},
   "outputs": [],
   "source": [
    "arr1=np.array([10,20,30])"
   ]
  },
  {
   "cell_type": "code",
   "execution_count": 12,
   "id": "9c42101c",
   "metadata": {},
   "outputs": [
    {
     "data": {
      "text/plain": [
       "array([10, 50, 30])"
      ]
     },
     "execution_count": 12,
     "metadata": {},
     "output_type": "execute_result"
    }
   ],
   "source": [
    "arr1[1]='50'\n",
    "arr1#here the 50 will get converted into integer"
   ]
  },
  {
   "cell_type": "code",
   "execution_count": 13,
   "id": "33f63ec3",
   "metadata": {},
   "outputs": [
    {
     "ename": "NameError",
     "evalue": "name 'arr' is not defined",
     "output_type": "error",
     "traceback": [
      "\u001b[1;31m---------------------------------------------------------------------------\u001b[0m",
      "\u001b[1;31mNameError\u001b[0m                                 Traceback (most recent call last)",
      "Cell \u001b[1;32mIn[13], line 1\u001b[0m\n\u001b[1;32m----> 1\u001b[0m \u001b[43marr\u001b[49m[\u001b[38;5;241m1\u001b[39m]\u001b[38;5;241m=\u001b[39m\u001b[38;5;124m'\u001b[39m\u001b[38;5;124mabc\u001b[39m\u001b[38;5;124m'\u001b[39m\n",
      "\u001b[1;31mNameError\u001b[0m: name 'arr' is not defined"
     ]
    }
   ],
   "source": [
    "arr[1]='abc'#here the abc will not get into integer as the data type of the array is already set"
   ]
  },
  {
   "cell_type": "code",
   "execution_count": 14,
   "id": "1ed53bd4",
   "metadata": {},
   "outputs": [],
   "source": [
    "#2D arrays\n",
    "arr1=np.array([[1,2,3],[4,5,6],[7,8,9]])"
   ]
  },
  {
   "cell_type": "code",
   "execution_count": 15,
   "id": "404d7f2a",
   "metadata": {},
   "outputs": [
    {
     "data": {
      "text/plain": [
       "(3, 3)"
      ]
     },
     "execution_count": 15,
     "metadata": {},
     "output_type": "execute_result"
    }
   ],
   "source": [
    "arr1.shape"
   ]
  },
  {
   "cell_type": "code",
   "execution_count": 16,
   "id": "d61c05e6",
   "metadata": {},
   "outputs": [
    {
     "data": {
      "text/plain": [
       "array([[2, 3],\n",
       "       [5, 6]])"
      ]
     },
     "execution_count": 16,
     "metadata": {},
     "output_type": "execute_result"
    }
   ],
   "source": [
    "arr1[0:2,1:3]"
   ]
  },
  {
   "cell_type": "code",
   "execution_count": 17,
   "id": "7cc55e11",
   "metadata": {},
   "outputs": [
    {
     "data": {
      "text/plain": [
       "array([[2, 3],\n",
       "       [5, 6],\n",
       "       [8, 9]])"
      ]
     },
     "execution_count": 17,
     "metadata": {},
     "output_type": "execute_result"
    }
   ],
   "source": [
    "arr1[:,1:3]"
   ]
  },
  {
   "cell_type": "code",
   "execution_count": 18,
   "id": "923cfb9f",
   "metadata": {},
   "outputs": [
    {
     "data": {
      "text/plain": [
       "array([[1, 2, 3],\n",
       "       [4, 5, 6]])"
      ]
     },
     "execution_count": 18,
     "metadata": {},
     "output_type": "execute_result"
    }
   ],
   "source": [
    "arr1[0:2,:]"
   ]
  },
  {
   "cell_type": "code",
   "execution_count": 19,
   "id": "cf50165d",
   "metadata": {},
   "outputs": [
    {
     "data": {
      "text/plain": [
       "array([2, 5])"
      ]
     },
     "execution_count": 19,
     "metadata": {},
     "output_type": "execute_result"
    }
   ],
   "source": [
    "arr1[0:2,1]"
   ]
  },
  {
   "cell_type": "code",
   "execution_count": 20,
   "id": "aeef69e6",
   "metadata": {},
   "outputs": [
    {
     "data": {
      "text/plain": [
       "array([11, 22, 33])"
      ]
     },
     "execution_count": 20,
     "metadata": {},
     "output_type": "execute_result"
    }
   ],
   "source": [
    "np.array([10,20,30])+np.array([1,2,3])"
   ]
  },
  {
   "cell_type": "code",
   "execution_count": 21,
   "id": "868ed1bc",
   "metadata": {},
   "outputs": [
    {
     "data": {
      "text/plain": [
       "array([13, 23, 33])"
      ]
     },
     "execution_count": 21,
     "metadata": {},
     "output_type": "execute_result"
    }
   ],
   "source": [
    "np.array([10,20,30])+3"
   ]
  },
  {
   "cell_type": "code",
   "execution_count": 22,
   "id": "4c17bea6",
   "metadata": {},
   "outputs": [],
   "source": [
    "arr1=np.array([10,20,30])"
   ]
  },
  {
   "cell_type": "code",
   "execution_count": 23,
   "id": "ab08d16a",
   "metadata": {},
   "outputs": [
    {
     "data": {
      "text/plain": [
       "20.0"
      ]
     },
     "execution_count": 23,
     "metadata": {},
     "output_type": "execute_result"
    }
   ],
   "source": [
    "arr1.mean()"
   ]
  },
  {
   "cell_type": "code",
   "execution_count": 24,
   "id": "a21688d8",
   "metadata": {},
   "outputs": [
    {
     "data": {
      "text/plain": [
       "60"
      ]
     },
     "execution_count": 24,
     "metadata": {},
     "output_type": "execute_result"
    }
   ],
   "source": [
    "arr1.sum()"
   ]
  },
  {
   "cell_type": "code",
   "execution_count": 25,
   "id": "0c9e22d5",
   "metadata": {},
   "outputs": [
    {
     "data": {
      "text/plain": [
       "30"
      ]
     },
     "execution_count": 25,
     "metadata": {},
     "output_type": "execute_result"
    }
   ],
   "source": [
    "np.max(arr1)"
   ]
  },
  {
   "cell_type": "code",
   "execution_count": 26,
   "id": "e5746bea",
   "metadata": {},
   "outputs": [
    {
     "data": {
      "text/plain": [
       "array([[19, 22],\n",
       "       [43, 50]])"
      ]
     },
     "execution_count": 26,
     "metadata": {},
     "output_type": "execute_result"
    }
   ],
   "source": [
    "a1=np.array([[1,2],[3,4]])\n",
    "a2=np.array([[5,6],[7,8]])\n",
    "a1.dot(a2)"
   ]
  },
  {
   "cell_type": "code",
   "execution_count": 27,
   "id": "36a79561",
   "metadata": {},
   "outputs": [],
   "source": [
    "#filtering\n",
    "arr1=np.array([8,5,7,3,6,9])"
   ]
  },
  {
   "cell_type": "code",
   "execution_count": 28,
   "id": "f2054770",
   "metadata": {},
   "outputs": [
    {
     "data": {
      "text/plain": [
       "(array([0, 2, 4, 5], dtype=int64),)"
      ]
     },
     "execution_count": 28,
     "metadata": {},
     "output_type": "execute_result"
    }
   ],
   "source": [
    "indexes=np.where(arr1>5)\n",
    "indexes"
   ]
  },
  {
   "cell_type": "code",
   "execution_count": 30,
   "id": "28c42936",
   "metadata": {},
   "outputs": [
    {
     "data": {
      "text/plain": [
       "array([8, 7, 6, 9])"
      ]
     },
     "execution_count": 30,
     "metadata": {},
     "output_type": "execute_result"
    }
   ],
   "source": [
    "arr1[indexes]"
   ]
  },
  {
   "cell_type": "code",
   "execution_count": 31,
   "id": "15b71be9",
   "metadata": {},
   "outputs": [],
   "source": [
    "import matplotlib.pyplot as plt"
   ]
  },
  {
   "cell_type": "code",
   "execution_count": 32,
   "id": "995d945c",
   "metadata": {},
   "outputs": [
    {
     "data": {
      "image/png": "[encoded data removed]",
      "text/plain": [
       "<Figure size 640x480 with 1 Axes>"
      ]
     },
     "metadata": {},
     "output_type": "display_data"
    }
   ],
   "source": [
    "x=[1,2,3,4]\n",
    "y=[2,4,1,3]\n",
    "plt.scatter(x,y)\n",
    "plt.show()"
   ]
  },
  {
   "cell_type": "code",
   "execution_count": 39,
   "id": "c6bd73ab",
   "metadata": {},
   "outputs": [
    {
     "data": {
      "image/png": "[encoded data removed]",
      "text/plain": [
       "<Figure size 640x480 with 1 Axes>"
      ]
     },
     "metadata": {},
     "output_type": "display_data"
    }
   ],
   "source": [
    "plt.plot(x,y,'r--')#we can also use r for red color and g for green and -- for dotted lines\n",
    "plt.show()"
   ]
  },
  {
   "cell_type": "code",
   "execution_count": 41,
   "id": "8b008e96",
   "metadata": {},
   "outputs": [
    {
     "data": {
      "image/png": "[encoded data removed]",
      "text/plain": [
       "<Figure size 640x480 with 1 Axes>"
      ]
     },
     "metadata": {},
     "output_type": "display_data"
    }
   ],
   "source": [
    "#x=np.array([1,2,3,4])\n",
    "x=np.arange(0,5,0.2)\n",
    "y=x**3\n",
    "plt.plot(x,y)\n",
    "plt.show()"
   ]
  },
  {
   "cell_type": "code",
   "execution_count": 49,
   "id": "2b4914e8",
   "metadata": {},
   "outputs": [
    {
     "data": {
      "image/png": "[encoded data removed]",
      "text/plain": [
       "<Figure size 640x480 with 1 Axes>"
      ]
     },
     "metadata": {},
     "output_type": "display_data"
    }
   ],
   "source": [
    "#properties of graph\n",
    "x=np.arange(0,5,0.2)\n",
    "plt.plot(x,x**3,color='green',marker='^',label='first plot')\n",
    "plt.plot(x,x*10,color='orange',marker='o',label='second plot')\n",
    "plt.legend()#for label\n",
    "plt.axis([0,7,0,150])#axis customisable\n",
    "plt.ylabel(\"cost\")\n",
    "plt.xlabel(\"area\")\n",
    "plt.text(1,120,'my graph',fontsize=20,color='blue')\n",
    "plt.grid(True)\n",
    "plt.show()"
   ]
  },
  {
   "cell_type": "code",
   "execution_count": 57,
   "id": "8b032dde",
   "metadata": {},
   "outputs": [
    {
     "data": {
      "image/png": "[encoded data removed]",
      "text/plain": [
       "<Figure size 640x480 with 1 Axes>"
      ]
     },
     "metadata": {},
     "output_type": "display_data"
    }
   ],
   "source": [
    "N=50\n",
    "x=np.random.rand(N)\n",
    "y=np.random.rand(N)\n",
    "colors=np.random.rand(N)\n",
    "area=np.pi*(10*np.random.rand(N))**2\n",
    "plt.scatter(x,y,s=area,c=colors,alpha=0.2)\n",
    "plt.savefig('bubbles.png')\n",
    "plt.show()#every time random points"
   ]
  },
  {
   "cell_type": "code",
   "execution_count": 33,
   "id": "ab612bca",
   "metadata": {},
   "outputs": [],
   "source": [
    "#pandas library\n",
    "import pandas as pd\n",
    "seeds=pd.read_csv(\"seeds_datasheet.csv\",header=None)"
   ]
  },
  {
   "cell_type": "code",
   "execution_count": 34,
   "id": "f732732d",
   "metadata": {},
   "outputs": [
    {
     "data": {
      "text/html": [
       "<div>\n",
       "<style scoped>\n",
       "    .dataframe tbody tr th:only-of-type {\n",
       "        vertical-align: middle;\n",
       "    }\n",
       "\n",
       "    .dataframe tbody tr th {\n",
       "        vertical-align: top;\n",
       "    }\n",
       "\n",
       "    .dataframe thead th {\n",
       "        text-align: right;\n",
       "    }\n",
       "</style>\n",
       "<table border=\"1\" class=\"dataframe\">\n",
       "  <thead>\n",
       "    <tr style=\"text-align: right;\">\n",
       "      <th></th>\n",
       "      <th>0</th>\n",
       "      <th>1</th>\n",
       "      <th>2</th>\n",
       "      <th>3</th>\n",
       "      <th>4</th>\n",
       "    </tr>\n",
       "  </thead>\n",
       "  <tbody>\n",
       "    <tr>\n",
       "      <th>0</th>\n",
       "      <td>15.26</td>\n",
       "      <td>12.11</td>\n",
       "      <td>20.11</td>\n",
       "      <td>22.03</td>\n",
       "      <td>1</td>\n",
       "    </tr>\n",
       "    <tr>\n",
       "      <th>1</th>\n",
       "      <td>15.34</td>\n",
       "      <td>12.14</td>\n",
       "      <td>20.34</td>\n",
       "      <td>22.07</td>\n",
       "      <td>1</td>\n",
       "    </tr>\n",
       "    <tr>\n",
       "      <th>2</th>\n",
       "      <td>15.42</td>\n",
       "      <td>12.17</td>\n",
       "      <td>20.57</td>\n",
       "      <td>22.11</td>\n",
       "      <td>1</td>\n",
       "    </tr>\n",
       "    <tr>\n",
       "      <th>3</th>\n",
       "      <td>15.50</td>\n",
       "      <td>12.20</td>\n",
       "      <td>20.80</td>\n",
       "      <td>22.15</td>\n",
       "      <td>1</td>\n",
       "    </tr>\n",
       "    <tr>\n",
       "      <th>4</th>\n",
       "      <td>15.58</td>\n",
       "      <td>12.23</td>\n",
       "      <td>21.03</td>\n",
       "      <td>22.19</td>\n",
       "      <td>1</td>\n",
       "    </tr>\n",
       "    <tr>\n",
       "      <th>...</th>\n",
       "      <td>...</td>\n",
       "      <td>...</td>\n",
       "      <td>...</td>\n",
       "      <td>...</td>\n",
       "      <td>...</td>\n",
       "    </tr>\n",
       "    <tr>\n",
       "      <th>205</th>\n",
       "      <td>31.66</td>\n",
       "      <td>18.26</td>\n",
       "      <td>67.26</td>\n",
       "      <td>30.23</td>\n",
       "      <td>3</td>\n",
       "    </tr>\n",
       "    <tr>\n",
       "      <th>206</th>\n",
       "      <td>31.74</td>\n",
       "      <td>18.29</td>\n",
       "      <td>67.49</td>\n",
       "      <td>30.27</td>\n",
       "      <td>3</td>\n",
       "    </tr>\n",
       "    <tr>\n",
       "      <th>207</th>\n",
       "      <td>31.82</td>\n",
       "      <td>18.32</td>\n",
       "      <td>67.72</td>\n",
       "      <td>30.31</td>\n",
       "      <td>3</td>\n",
       "    </tr>\n",
       "    <tr>\n",
       "      <th>208</th>\n",
       "      <td>31.90</td>\n",
       "      <td>18.35</td>\n",
       "      <td>67.95</td>\n",
       "      <td>30.35</td>\n",
       "      <td>3</td>\n",
       "    </tr>\n",
       "    <tr>\n",
       "      <th>209</th>\n",
       "      <td>31.98</td>\n",
       "      <td>18.38</td>\n",
       "      <td>68.18</td>\n",
       "      <td>30.39</td>\n",
       "      <td>3</td>\n",
       "    </tr>\n",
       "  </tbody>\n",
       "</table>\n",
       "<p>210 rows × 5 columns</p>\n",
       "</div>"
      ],
      "text/plain": [
       "         0      1      2      3  4\n",
       "0    15.26  12.11  20.11  22.03  1\n",
       "1    15.34  12.14  20.34  22.07  1\n",
       "2    15.42  12.17  20.57  22.11  1\n",
       "3    15.50  12.20  20.80  22.15  1\n",
       "4    15.58  12.23  21.03  22.19  1\n",
       "..     ...    ...    ...    ... ..\n",
       "205  31.66  18.26  67.26  30.23  3\n",
       "206  31.74  18.29  67.49  30.27  3\n",
       "207  31.82  18.32  67.72  30.31  3\n",
       "208  31.90  18.35  67.95  30.35  3\n",
       "209  31.98  18.38  68.18  30.39  3\n",
       "\n",
       "[210 rows x 5 columns]"
      ]
     },
     "execution_count": 34,
     "metadata": {},
     "output_type": "execute_result"
    }
   ],
   "source": [
    "seeds"
   ]
  },
  {
   "cell_type": "code",
   "execution_count": 35,
   "id": "41af2e49",
   "metadata": {},
   "outputs": [
    {
     "data": {
      "text/plain": [
       "pandas.core.frame.DataFrame"
      ]
     },
     "execution_count": 35,
     "metadata": {},
     "output_type": "execute_result"
    }
   ],
   "source": [
    "type(seeds)"
   ]
  },
  {
   "cell_type": "code",
   "execution_count": 36,
   "id": "e9e8e3fa",
   "metadata": {},
   "outputs": [],
   "source": [
    "df=pd.read_csv(\"seeds_datasheet.csv\",header=None)"
   ]
  },
  {
   "cell_type": "code",
   "execution_count": 37,
   "id": "3e190f7c",
   "metadata": {},
   "outputs": [
    {
     "data": {
      "text/html": [
       "<div>\n",
       "<style scoped>\n",
       "    .dataframe tbody tr th:only-of-type {\n",
       "        vertical-align: middle;\n",
       "    }\n",
       "\n",
       "    .dataframe tbody tr th {\n",
       "        vertical-align: top;\n",
       "    }\n",
       "\n",
       "    .dataframe thead th {\n",
       "        text-align: right;\n",
       "    }\n",
       "</style>\n",
       "<table border=\"1\" class=\"dataframe\">\n",
       "  <thead>\n",
       "    <tr style=\"text-align: right;\">\n",
       "      <th></th>\n",
       "      <th>0</th>\n",
       "      <th>1</th>\n",
       "      <th>2</th>\n",
       "      <th>3</th>\n",
       "      <th>4</th>\n",
       "    </tr>\n",
       "  </thead>\n",
       "  <tbody>\n",
       "    <tr>\n",
       "      <th>0</th>\n",
       "      <td>15.26</td>\n",
       "      <td>12.11</td>\n",
       "      <td>20.11</td>\n",
       "      <td>22.03</td>\n",
       "      <td>1</td>\n",
       "    </tr>\n",
       "    <tr>\n",
       "      <th>1</th>\n",
       "      <td>15.34</td>\n",
       "      <td>12.14</td>\n",
       "      <td>20.34</td>\n",
       "      <td>22.07</td>\n",
       "      <td>1</td>\n",
       "    </tr>\n",
       "    <tr>\n",
       "      <th>2</th>\n",
       "      <td>15.42</td>\n",
       "      <td>12.17</td>\n",
       "      <td>20.57</td>\n",
       "      <td>22.11</td>\n",
       "      <td>1</td>\n",
       "    </tr>\n",
       "    <tr>\n",
       "      <th>3</th>\n",
       "      <td>15.50</td>\n",
       "      <td>12.20</td>\n",
       "      <td>20.80</td>\n",
       "      <td>22.15</td>\n",
       "      <td>1</td>\n",
       "    </tr>\n",
       "    <tr>\n",
       "      <th>4</th>\n",
       "      <td>15.58</td>\n",
       "      <td>12.23</td>\n",
       "      <td>21.03</td>\n",
       "      <td>22.19</td>\n",
       "      <td>1</td>\n",
       "    </tr>\n",
       "    <tr>\n",
       "      <th>...</th>\n",
       "      <td>...</td>\n",
       "      <td>...</td>\n",
       "      <td>...</td>\n",
       "      <td>...</td>\n",
       "      <td>...</td>\n",
       "    </tr>\n",
       "    <tr>\n",
       "      <th>205</th>\n",
       "      <td>31.66</td>\n",
       "      <td>18.26</td>\n",
       "      <td>67.26</td>\n",
       "      <td>30.23</td>\n",
       "      <td>3</td>\n",
       "    </tr>\n",
       "    <tr>\n",
       "      <th>206</th>\n",
       "      <td>31.74</td>\n",
       "      <td>18.29</td>\n",
       "      <td>67.49</td>\n",
       "      <td>30.27</td>\n",
       "      <td>3</td>\n",
       "    </tr>\n",
       "    <tr>\n",
       "      <th>207</th>\n",
       "      <td>31.82</td>\n",
       "      <td>18.32</td>\n",
       "      <td>67.72</td>\n",
       "      <td>30.31</td>\n",
       "      <td>3</td>\n",
       "    </tr>\n",
       "    <tr>\n",
       "      <th>208</th>\n",
       "      <td>31.90</td>\n",
       "      <td>18.35</td>\n",
       "      <td>67.95</td>\n",
       "      <td>30.35</td>\n",
       "      <td>3</td>\n",
       "    </tr>\n",
       "    <tr>\n",
       "      <th>209</th>\n",
       "      <td>31.98</td>\n",
       "      <td>18.38</td>\n",
       "      <td>68.18</td>\n",
       "      <td>30.39</td>\n",
       "      <td>3</td>\n",
       "    </tr>\n",
       "  </tbody>\n",
       "</table>\n",
       "<p>210 rows × 5 columns</p>\n",
       "</div>"
      ],
      "text/plain": [
       "         0      1      2      3  4\n",
       "0    15.26  12.11  20.11  22.03  1\n",
       "1    15.34  12.14  20.34  22.07  1\n",
       "2    15.42  12.17  20.57  22.11  1\n",
       "3    15.50  12.20  20.80  22.15  1\n",
       "4    15.58  12.23  21.03  22.19  1\n",
       "..     ...    ...    ...    ... ..\n",
       "205  31.66  18.26  67.26  30.23  3\n",
       "206  31.74  18.29  67.49  30.27  3\n",
       "207  31.82  18.32  67.72  30.31  3\n",
       "208  31.90  18.35  67.95  30.35  3\n",
       "209  31.98  18.38  68.18  30.39  3\n",
       "\n",
       "[210 rows x 5 columns]"
      ]
     },
     "execution_count": 37,
     "metadata": {},
     "output_type": "execute_result"
    }
   ],
   "source": [
    "df"
   ]
  },
  {
   "cell_type": "code",
   "execution_count": 38,
   "id": "5562ec4a",
   "metadata": {},
   "outputs": [],
   "source": [
    "df.columns=['feature1','feature2','feature3','feature4','seeds_type']"
   ]
  },
  {
   "cell_type": "code",
   "execution_count": 39,
   "id": "cec2127d",
   "metadata": {},
   "outputs": [
    {
     "data": {
      "text/html": [
       "<div>\n",
       "<style scoped>\n",
       "    .dataframe tbody tr th:only-of-type {\n",
       "        vertical-align: middle;\n",
       "    }\n",
       "\n",
       "    .dataframe tbody tr th {\n",
       "        vertical-align: top;\n",
       "    }\n",
       "\n",
       "    .dataframe thead th {\n",
       "        text-align: right;\n",
       "    }\n",
       "</style>\n",
       "<table border=\"1\" class=\"dataframe\">\n",
       "  <thead>\n",
       "    <tr style=\"text-align: right;\">\n",
       "      <th></th>\n",
       "      <th>feature1</th>\n",
       "      <th>feature2</th>\n",
       "      <th>feature3</th>\n",
       "      <th>feature4</th>\n",
       "      <th>seeds_type</th>\n",
       "    </tr>\n",
       "  </thead>\n",
       "  <tbody>\n",
       "    <tr>\n",
       "      <th>0</th>\n",
       "      <td>15.26</td>\n",
       "      <td>12.11</td>\n",
       "      <td>20.11</td>\n",
       "      <td>22.03</td>\n",
       "      <td>1</td>\n",
       "    </tr>\n",
       "    <tr>\n",
       "      <th>1</th>\n",
       "      <td>15.34</td>\n",
       "      <td>12.14</td>\n",
       "      <td>20.34</td>\n",
       "      <td>22.07</td>\n",
       "      <td>1</td>\n",
       "    </tr>\n",
       "    <tr>\n",
       "      <th>2</th>\n",
       "      <td>15.42</td>\n",
       "      <td>12.17</td>\n",
       "      <td>20.57</td>\n",
       "      <td>22.11</td>\n",
       "      <td>1</td>\n",
       "    </tr>\n",
       "    <tr>\n",
       "      <th>3</th>\n",
       "      <td>15.50</td>\n",
       "      <td>12.20</td>\n",
       "      <td>20.80</td>\n",
       "      <td>22.15</td>\n",
       "      <td>1</td>\n",
       "    </tr>\n",
       "    <tr>\n",
       "      <th>4</th>\n",
       "      <td>15.58</td>\n",
       "      <td>12.23</td>\n",
       "      <td>21.03</td>\n",
       "      <td>22.19</td>\n",
       "      <td>1</td>\n",
       "    </tr>\n",
       "    <tr>\n",
       "      <th>...</th>\n",
       "      <td>...</td>\n",
       "      <td>...</td>\n",
       "      <td>...</td>\n",
       "      <td>...</td>\n",
       "      <td>...</td>\n",
       "    </tr>\n",
       "    <tr>\n",
       "      <th>205</th>\n",
       "      <td>31.66</td>\n",
       "      <td>18.26</td>\n",
       "      <td>67.26</td>\n",
       "      <td>30.23</td>\n",
       "      <td>3</td>\n",
       "    </tr>\n",
       "    <tr>\n",
       "      <th>206</th>\n",
       "      <td>31.74</td>\n",
       "      <td>18.29</td>\n",
       "      <td>67.49</td>\n",
       "      <td>30.27</td>\n",
       "      <td>3</td>\n",
       "    </tr>\n",
       "    <tr>\n",
       "      <th>207</th>\n",
       "      <td>31.82</td>\n",
       "      <td>18.32</td>\n",
       "      <td>67.72</td>\n",
       "      <td>30.31</td>\n",
       "      <td>3</td>\n",
       "    </tr>\n",
       "    <tr>\n",
       "      <th>208</th>\n",
       "      <td>31.90</td>\n",
       "      <td>18.35</td>\n",
       "      <td>67.95</td>\n",
       "      <td>30.35</td>\n",
       "      <td>3</td>\n",
       "    </tr>\n",
       "    <tr>\n",
       "      <th>209</th>\n",
       "      <td>31.98</td>\n",
       "      <td>18.38</td>\n",
       "      <td>68.18</td>\n",
       "      <td>30.39</td>\n",
       "      <td>3</td>\n",
       "    </tr>\n",
       "  </tbody>\n",
       "</table>\n",
       "<p>210 rows × 5 columns</p>\n",
       "</div>"
      ],
      "text/plain": [
       "     feature1  feature2  feature3  feature4  seeds_type\n",
       "0       15.26     12.11     20.11     22.03           1\n",
       "1       15.34     12.14     20.34     22.07           1\n",
       "2       15.42     12.17     20.57     22.11           1\n",
       "3       15.50     12.20     20.80     22.15           1\n",
       "4       15.58     12.23     21.03     22.19           1\n",
       "..        ...       ...       ...       ...         ...\n",
       "205     31.66     18.26     67.26     30.23           3\n",
       "206     31.74     18.29     67.49     30.27           3\n",
       "207     31.82     18.32     67.72     30.31           3\n",
       "208     31.90     18.35     67.95     30.35           3\n",
       "209     31.98     18.38     68.18     30.39           3\n",
       "\n",
       "[210 rows x 5 columns]"
      ]
     },
     "execution_count": 39,
     "metadata": {},
     "output_type": "execute_result"
    }
   ],
   "source": [
    "df"
   ]
  },
  {
   "cell_type": "code",
   "execution_count": 40,
   "id": "3d0f8d60",
   "metadata": {},
   "outputs": [
    {
     "data": {
      "text/plain": [
       "RangeIndex(start=0, stop=210, step=1)"
      ]
     },
     "execution_count": 40,
     "metadata": {},
     "output_type": "execute_result"
    }
   ],
   "source": [
    "(df.index)"
   ]
  },
  {
   "cell_type": "code",
   "execution_count": 41,
   "id": "56b20d5b",
   "metadata": {},
   "outputs": [
    {
     "data": {
      "text/html": [
       "<div>\n",
       "<style scoped>\n",
       "    .dataframe tbody tr th:only-of-type {\n",
       "        vertical-align: middle;\n",
       "    }\n",
       "\n",
       "    .dataframe tbody tr th {\n",
       "        vertical-align: top;\n",
       "    }\n",
       "\n",
       "    .dataframe thead th {\n",
       "        text-align: right;\n",
       "    }\n",
       "</style>\n",
       "<table border=\"1\" class=\"dataframe\">\n",
       "  <thead>\n",
       "    <tr style=\"text-align: right;\">\n",
       "      <th></th>\n",
       "      <th>feature1</th>\n",
       "      <th>feature2</th>\n",
       "      <th>feature3</th>\n",
       "      <th>feature4</th>\n",
       "      <th>seeds_type</th>\n",
       "    </tr>\n",
       "  </thead>\n",
       "  <tbody>\n",
       "    <tr>\n",
       "      <th>0</th>\n",
       "      <td>15.26</td>\n",
       "      <td>12.11</td>\n",
       "      <td>20.11</td>\n",
       "      <td>22.03</td>\n",
       "      <td>1</td>\n",
       "    </tr>\n",
       "    <tr>\n",
       "      <th>1</th>\n",
       "      <td>15.34</td>\n",
       "      <td>12.14</td>\n",
       "      <td>20.34</td>\n",
       "      <td>22.07</td>\n",
       "      <td>1</td>\n",
       "    </tr>\n",
       "    <tr>\n",
       "      <th>2</th>\n",
       "      <td>15.42</td>\n",
       "      <td>12.17</td>\n",
       "      <td>20.57</td>\n",
       "      <td>22.11</td>\n",
       "      <td>1</td>\n",
       "    </tr>\n",
       "    <tr>\n",
       "      <th>3</th>\n",
       "      <td>15.50</td>\n",
       "      <td>12.20</td>\n",
       "      <td>20.80</td>\n",
       "      <td>22.15</td>\n",
       "      <td>1</td>\n",
       "    </tr>\n",
       "    <tr>\n",
       "      <th>4</th>\n",
       "      <td>15.58</td>\n",
       "      <td>12.23</td>\n",
       "      <td>21.03</td>\n",
       "      <td>22.19</td>\n",
       "      <td>1</td>\n",
       "    </tr>\n",
       "  </tbody>\n",
       "</table>\n",
       "</div>"
      ],
      "text/plain": [
       "   feature1  feature2  feature3  feature4  seeds_type\n",
       "0     15.26     12.11     20.11     22.03           1\n",
       "1     15.34     12.14     20.34     22.07           1\n",
       "2     15.42     12.17     20.57     22.11           1\n",
       "3     15.50     12.20     20.80     22.15           1\n",
       "4     15.58     12.23     21.03     22.19           1"
      ]
     },
     "execution_count": 41,
     "metadata": {},
     "output_type": "execute_result"
    }
   ],
   "source": [
    "df.head()#to see first five columns"
   ]
  },
  {
   "cell_type": "code",
   "execution_count": 42,
   "id": "15347c8d",
   "metadata": {},
   "outputs": [
    {
     "data": {
      "text/html": [
       "<div>\n",
       "<style scoped>\n",
       "    .dataframe tbody tr th:only-of-type {\n",
       "        vertical-align: middle;\n",
       "    }\n",
       "\n",
       "    .dataframe tbody tr th {\n",
       "        vertical-align: top;\n",
       "    }\n",
       "\n",
       "    .dataframe thead th {\n",
       "        text-align: right;\n",
       "    }\n",
       "</style>\n",
       "<table border=\"1\" class=\"dataframe\">\n",
       "  <thead>\n",
       "    <tr style=\"text-align: right;\">\n",
       "      <th></th>\n",
       "      <th>feature1</th>\n",
       "      <th>feature2</th>\n",
       "      <th>feature3</th>\n",
       "      <th>feature4</th>\n",
       "      <th>seeds_type</th>\n",
       "    </tr>\n",
       "  </thead>\n",
       "  <tbody>\n",
       "    <tr>\n",
       "      <th>205</th>\n",
       "      <td>31.66</td>\n",
       "      <td>18.26</td>\n",
       "      <td>67.26</td>\n",
       "      <td>30.23</td>\n",
       "      <td>3</td>\n",
       "    </tr>\n",
       "    <tr>\n",
       "      <th>206</th>\n",
       "      <td>31.74</td>\n",
       "      <td>18.29</td>\n",
       "      <td>67.49</td>\n",
       "      <td>30.27</td>\n",
       "      <td>3</td>\n",
       "    </tr>\n",
       "    <tr>\n",
       "      <th>207</th>\n",
       "      <td>31.82</td>\n",
       "      <td>18.32</td>\n",
       "      <td>67.72</td>\n",
       "      <td>30.31</td>\n",
       "      <td>3</td>\n",
       "    </tr>\n",
       "    <tr>\n",
       "      <th>208</th>\n",
       "      <td>31.90</td>\n",
       "      <td>18.35</td>\n",
       "      <td>67.95</td>\n",
       "      <td>30.35</td>\n",
       "      <td>3</td>\n",
       "    </tr>\n",
       "    <tr>\n",
       "      <th>209</th>\n",
       "      <td>31.98</td>\n",
       "      <td>18.38</td>\n",
       "      <td>68.18</td>\n",
       "      <td>30.39</td>\n",
       "      <td>3</td>\n",
       "    </tr>\n",
       "  </tbody>\n",
       "</table>\n",
       "</div>"
      ],
      "text/plain": [
       "     feature1  feature2  feature3  feature4  seeds_type\n",
       "205     31.66     18.26     67.26     30.23           3\n",
       "206     31.74     18.29     67.49     30.27           3\n",
       "207     31.82     18.32     67.72     30.31           3\n",
       "208     31.90     18.35     67.95     30.35           3\n",
       "209     31.98     18.38     68.18     30.39           3"
      ]
     },
     "execution_count": 42,
     "metadata": {},
     "output_type": "execute_result"
    }
   ],
   "source": [
    "df.tail()#to see last five columns"
   ]
  },
  {
   "cell_type": "code",
   "execution_count": 43,
   "id": "0c28b022",
   "metadata": {},
   "outputs": [
    {
     "data": {
      "text/plain": [
       "(210, 5)"
      ]
     },
     "execution_count": 43,
     "metadata": {},
     "output_type": "execute_result"
    }
   ],
   "source": [
    "df.shape"
   ]
  },
  {
   "cell_type": "code",
   "execution_count": 44,
   "id": "0df6e161",
   "metadata": {},
   "outputs": [
    {
     "data": {
      "text/html": [
       "<div>\n",
       "<style scoped>\n",
       "    .dataframe tbody tr th:only-of-type {\n",
       "        vertical-align: middle;\n",
       "    }\n",
       "\n",
       "    .dataframe tbody tr th {\n",
       "        vertical-align: top;\n",
       "    }\n",
       "\n",
       "    .dataframe thead th {\n",
       "        text-align: right;\n",
       "    }\n",
       "</style>\n",
       "<table border=\"1\" class=\"dataframe\">\n",
       "  <thead>\n",
       "    <tr style=\"text-align: right;\">\n",
       "      <th></th>\n",
       "      <th>feature1</th>\n",
       "      <th>feature2</th>\n",
       "      <th>feature3</th>\n",
       "      <th>feature4</th>\n",
       "      <th>seeds_type</th>\n",
       "    </tr>\n",
       "  </thead>\n",
       "  <tbody>\n",
       "    <tr>\n",
       "      <th>count</th>\n",
       "      <td>210.000000</td>\n",
       "      <td>210.000000</td>\n",
       "      <td>210.000000</td>\n",
       "      <td>210.000000</td>\n",
       "      <td>210.000000</td>\n",
       "    </tr>\n",
       "    <tr>\n",
       "      <th>mean</th>\n",
       "      <td>23.620000</td>\n",
       "      <td>15.245000</td>\n",
       "      <td>44.145000</td>\n",
       "      <td>26.210000</td>\n",
       "      <td>2.000000</td>\n",
       "    </tr>\n",
       "    <tr>\n",
       "      <th>std</th>\n",
       "      <td>4.861276</td>\n",
       "      <td>1.822978</td>\n",
       "      <td>13.976167</td>\n",
       "      <td>2.430638</td>\n",
       "      <td>0.818448</td>\n",
       "    </tr>\n",
       "    <tr>\n",
       "      <th>min</th>\n",
       "      <td>15.260000</td>\n",
       "      <td>12.110000</td>\n",
       "      <td>20.110000</td>\n",
       "      <td>22.030000</td>\n",
       "      <td>1.000000</td>\n",
       "    </tr>\n",
       "    <tr>\n",
       "      <th>25%</th>\n",
       "      <td>19.440000</td>\n",
       "      <td>13.677500</td>\n",
       "      <td>32.127500</td>\n",
       "      <td>24.120000</td>\n",
       "      <td>1.000000</td>\n",
       "    </tr>\n",
       "    <tr>\n",
       "      <th>50%</th>\n",
       "      <td>23.620000</td>\n",
       "      <td>15.245000</td>\n",
       "      <td>44.145000</td>\n",
       "      <td>26.210000</td>\n",
       "      <td>2.000000</td>\n",
       "    </tr>\n",
       "    <tr>\n",
       "      <th>75%</th>\n",
       "      <td>27.800000</td>\n",
       "      <td>16.812500</td>\n",
       "      <td>56.162500</td>\n",
       "      <td>28.300000</td>\n",
       "      <td>3.000000</td>\n",
       "    </tr>\n",
       "    <tr>\n",
       "      <th>max</th>\n",
       "      <td>31.980000</td>\n",
       "      <td>18.380000</td>\n",
       "      <td>68.180000</td>\n",
       "      <td>30.390000</td>\n",
       "      <td>3.000000</td>\n",
       "    </tr>\n",
       "  </tbody>\n",
       "</table>\n",
       "</div>"
      ],
      "text/plain": [
       "         feature1    feature2    feature3    feature4  seeds_type\n",
       "count  210.000000  210.000000  210.000000  210.000000  210.000000\n",
       "mean    23.620000   15.245000   44.145000   26.210000    2.000000\n",
       "std      4.861276    1.822978   13.976167    2.430638    0.818448\n",
       "min     15.260000   12.110000   20.110000   22.030000    1.000000\n",
       "25%     19.440000   13.677500   32.127500   24.120000    1.000000\n",
       "50%     23.620000   15.245000   44.145000   26.210000    2.000000\n",
       "75%     27.800000   16.812500   56.162500   28.300000    3.000000\n",
       "max     31.980000   18.380000   68.180000   30.390000    3.000000"
      ]
     },
     "execution_count": 44,
     "metadata": {},
     "output_type": "execute_result"
    }
   ],
   "source": [
    "df.describe()"
   ]
  },
  {
   "cell_type": "code",
   "execution_count": 45,
   "id": "4e44f3d3",
   "metadata": {},
   "outputs": [
    {
     "data": {
      "text/plain": [
       "0      15.26\n",
       "1      15.34\n",
       "2      15.42\n",
       "3      15.50\n",
       "4      15.58\n",
       "       ...  \n",
       "205    31.66\n",
       "206    31.74\n",
       "207    31.82\n",
       "208    31.90\n",
       "209    31.98\n",
       "Name: feature1, Length: 210, dtype: float64"
      ]
     },
     "execution_count": 45,
     "metadata": {},
     "output_type": "execute_result"
    }
   ],
   "source": [
    "df.feature1"
   ]
  },
  {
   "cell_type": "code",
   "execution_count": 46,
   "id": "e986cfcc",
   "metadata": {},
   "outputs": [
    {
     "data": {
      "text/html": [
       "<div>\n",
       "<style scoped>\n",
       "    .dataframe tbody tr th:only-of-type {\n",
       "        vertical-align: middle;\n",
       "    }\n",
       "\n",
       "    .dataframe tbody tr th {\n",
       "        vertical-align: top;\n",
       "    }\n",
       "\n",
       "    .dataframe thead th {\n",
       "        text-align: right;\n",
       "    }\n",
       "</style>\n",
       "<table border=\"1\" class=\"dataframe\">\n",
       "  <thead>\n",
       "    <tr style=\"text-align: right;\">\n",
       "      <th></th>\n",
       "      <th>feature1</th>\n",
       "      <th>feature2</th>\n",
       "      <th>feature3</th>\n",
       "      <th>feature4</th>\n",
       "      <th>seeds_type</th>\n",
       "    </tr>\n",
       "  </thead>\n",
       "  <tbody>\n",
       "    <tr>\n",
       "      <th>0</th>\n",
       "      <td>False</td>\n",
       "      <td>False</td>\n",
       "      <td>False</td>\n",
       "      <td>False</td>\n",
       "      <td>False</td>\n",
       "    </tr>\n",
       "    <tr>\n",
       "      <th>1</th>\n",
       "      <td>False</td>\n",
       "      <td>False</td>\n",
       "      <td>False</td>\n",
       "      <td>False</td>\n",
       "      <td>False</td>\n",
       "    </tr>\n",
       "    <tr>\n",
       "      <th>2</th>\n",
       "      <td>False</td>\n",
       "      <td>False</td>\n",
       "      <td>False</td>\n",
       "      <td>False</td>\n",
       "      <td>False</td>\n",
       "    </tr>\n",
       "    <tr>\n",
       "      <th>3</th>\n",
       "      <td>False</td>\n",
       "      <td>False</td>\n",
       "      <td>False</td>\n",
       "      <td>False</td>\n",
       "      <td>False</td>\n",
       "    </tr>\n",
       "    <tr>\n",
       "      <th>4</th>\n",
       "      <td>False</td>\n",
       "      <td>False</td>\n",
       "      <td>False</td>\n",
       "      <td>False</td>\n",
       "      <td>False</td>\n",
       "    </tr>\n",
       "    <tr>\n",
       "      <th>...</th>\n",
       "      <td>...</td>\n",
       "      <td>...</td>\n",
       "      <td>...</td>\n",
       "      <td>...</td>\n",
       "      <td>...</td>\n",
       "    </tr>\n",
       "    <tr>\n",
       "      <th>205</th>\n",
       "      <td>False</td>\n",
       "      <td>False</td>\n",
       "      <td>False</td>\n",
       "      <td>False</td>\n",
       "      <td>False</td>\n",
       "    </tr>\n",
       "    <tr>\n",
       "      <th>206</th>\n",
       "      <td>False</td>\n",
       "      <td>False</td>\n",
       "      <td>False</td>\n",
       "      <td>False</td>\n",
       "      <td>False</td>\n",
       "    </tr>\n",
       "    <tr>\n",
       "      <th>207</th>\n",
       "      <td>False</td>\n",
       "      <td>False</td>\n",
       "      <td>False</td>\n",
       "      <td>False</td>\n",
       "      <td>False</td>\n",
       "    </tr>\n",
       "    <tr>\n",
       "      <th>208</th>\n",
       "      <td>False</td>\n",
       "      <td>False</td>\n",
       "      <td>False</td>\n",
       "      <td>False</td>\n",
       "      <td>False</td>\n",
       "    </tr>\n",
       "    <tr>\n",
       "      <th>209</th>\n",
       "      <td>False</td>\n",
       "      <td>False</td>\n",
       "      <td>False</td>\n",
       "      <td>False</td>\n",
       "      <td>False</td>\n",
       "    </tr>\n",
       "  </tbody>\n",
       "</table>\n",
       "<p>210 rows × 5 columns</p>\n",
       "</div>"
      ],
      "text/plain": [
       "     feature1  feature2  feature3  feature4  seeds_type\n",
       "0       False     False     False     False       False\n",
       "1       False     False     False     False       False\n",
       "2       False     False     False     False       False\n",
       "3       False     False     False     False       False\n",
       "4       False     False     False     False       False\n",
       "..        ...       ...       ...       ...         ...\n",
       "205     False     False     False     False       False\n",
       "206     False     False     False     False       False\n",
       "207     False     False     False     False       False\n",
       "208     False     False     False     False       False\n",
       "209     False     False     False     False       False\n",
       "\n",
       "[210 rows x 5 columns]"
      ]
     },
     "execution_count": 46,
     "metadata": {},
     "output_type": "execute_result"
    }
   ],
   "source": [
    "df.isnull()"
   ]
  },
  {
   "cell_type": "code",
   "execution_count": 47,
   "id": "cc51f7a6",
   "metadata": {},
   "outputs": [
    {
     "data": {
      "text/plain": [
       "feature1      0\n",
       "feature2      0\n",
       "feature3      0\n",
       "feature4      0\n",
       "seeds_type    0\n",
       "dtype: int64"
      ]
     },
     "execution_count": 47,
     "metadata": {},
     "output_type": "execute_result"
    }
   ],
   "source": [
    "df.isnull().sum()"
   ]
  },
  {
   "cell_type": "code",
   "execution_count": 48,
   "id": "0bcd1e69",
   "metadata": {},
   "outputs": [
    {
     "data": {
      "text/html": [
       "<div>\n",
       "<style scoped>\n",
       "    .dataframe tbody tr th:only-of-type {\n",
       "        vertical-align: middle;\n",
       "    }\n",
       "\n",
       "    .dataframe tbody tr th {\n",
       "        vertical-align: top;\n",
       "    }\n",
       "\n",
       "    .dataframe thead th {\n",
       "        text-align: right;\n",
       "    }\n",
       "</style>\n",
       "<table border=\"1\" class=\"dataframe\">\n",
       "  <thead>\n",
       "    <tr style=\"text-align: right;\">\n",
       "      <th></th>\n",
       "      <th>feature1</th>\n",
       "      <th>feature2</th>\n",
       "      <th>feature3</th>\n",
       "      <th>feature4</th>\n",
       "      <th>seeds_type</th>\n",
       "    </tr>\n",
       "  </thead>\n",
       "  <tbody>\n",
       "    <tr>\n",
       "      <th>1</th>\n",
       "      <td>15.34</td>\n",
       "      <td>12.14</td>\n",
       "      <td>20.34</td>\n",
       "      <td>22.07</td>\n",
       "      <td>1</td>\n",
       "    </tr>\n",
       "    <tr>\n",
       "      <th>2</th>\n",
       "      <td>15.42</td>\n",
       "      <td>12.17</td>\n",
       "      <td>20.57</td>\n",
       "      <td>22.11</td>\n",
       "      <td>1</td>\n",
       "    </tr>\n",
       "    <tr>\n",
       "      <th>3</th>\n",
       "      <td>15.50</td>\n",
       "      <td>12.20</td>\n",
       "      <td>20.80</td>\n",
       "      <td>22.15</td>\n",
       "      <td>1</td>\n",
       "    </tr>\n",
       "  </tbody>\n",
       "</table>\n",
       "</div>"
      ],
      "text/plain": [
       "   feature1  feature2  feature3  feature4  seeds_type\n",
       "1     15.34     12.14     20.34     22.07           1\n",
       "2     15.42     12.17     20.57     22.11           1\n",
       "3     15.50     12.20     20.80     22.15           1"
      ]
     },
     "execution_count": 48,
     "metadata": {},
     "output_type": "execute_result"
    }
   ],
   "source": [
    "df.iloc[1:4,:]"
   ]
  },
  {
   "cell_type": "code",
   "execution_count": 49,
   "id": "b5826790",
   "metadata": {},
   "outputs": [
    {
     "data": {
      "text/plain": [
       "feature1      15.42\n",
       "feature2      12.17\n",
       "feature3      20.57\n",
       "feature4      22.11\n",
       "seeds_type     1.00\n",
       "Name: 2, dtype: float64"
      ]
     },
     "execution_count": 49,
     "metadata": {},
     "output_type": "execute_result"
    }
   ],
   "source": [
    "df.loc[2]"
   ]
  },
  {
   "cell_type": "code",
   "execution_count": 50,
   "id": "2078764d",
   "metadata": {},
   "outputs": [
    {
     "data": {
      "text/html": [
       "<div>\n",
       "<style scoped>\n",
       "    .dataframe tbody tr th:only-of-type {\n",
       "        vertical-align: middle;\n",
       "    }\n",
       "\n",
       "    .dataframe tbody tr th {\n",
       "        vertical-align: top;\n",
       "    }\n",
       "\n",
       "    .dataframe thead th {\n",
       "        text-align: right;\n",
       "    }\n",
       "</style>\n",
       "<table border=\"1\" class=\"dataframe\">\n",
       "  <thead>\n",
       "    <tr style=\"text-align: right;\">\n",
       "      <th></th>\n",
       "      <th>feature1</th>\n",
       "      <th>feature2</th>\n",
       "      <th>feature3</th>\n",
       "      <th>feature4</th>\n",
       "      <th>seeds_type</th>\n",
       "    </tr>\n",
       "  </thead>\n",
       "  <tbody>\n",
       "    <tr>\n",
       "      <th>1</th>\n",
       "      <td>15.34</td>\n",
       "      <td>12.14</td>\n",
       "      <td>20.34</td>\n",
       "      <td>22.07</td>\n",
       "      <td>1</td>\n",
       "    </tr>\n",
       "    <tr>\n",
       "      <th>2</th>\n",
       "      <td>15.42</td>\n",
       "      <td>12.17</td>\n",
       "      <td>20.57</td>\n",
       "      <td>22.11</td>\n",
       "      <td>1</td>\n",
       "    </tr>\n",
       "    <tr>\n",
       "      <th>3</th>\n",
       "      <td>15.50</td>\n",
       "      <td>12.20</td>\n",
       "      <td>20.80</td>\n",
       "      <td>22.15</td>\n",
       "      <td>1</td>\n",
       "    </tr>\n",
       "    <tr>\n",
       "      <th>4</th>\n",
       "      <td>15.58</td>\n",
       "      <td>12.23</td>\n",
       "      <td>21.03</td>\n",
       "      <td>22.19</td>\n",
       "      <td>1</td>\n",
       "    </tr>\n",
       "    <tr>\n",
       "      <th>5</th>\n",
       "      <td>15.66</td>\n",
       "      <td>12.26</td>\n",
       "      <td>21.26</td>\n",
       "      <td>22.23</td>\n",
       "      <td>1</td>\n",
       "    </tr>\n",
       "    <tr>\n",
       "      <th>...</th>\n",
       "      <td>...</td>\n",
       "      <td>...</td>\n",
       "      <td>...</td>\n",
       "      <td>...</td>\n",
       "      <td>...</td>\n",
       "    </tr>\n",
       "    <tr>\n",
       "      <th>205</th>\n",
       "      <td>31.66</td>\n",
       "      <td>18.26</td>\n",
       "      <td>67.26</td>\n",
       "      <td>30.23</td>\n",
       "      <td>3</td>\n",
       "    </tr>\n",
       "    <tr>\n",
       "      <th>206</th>\n",
       "      <td>31.74</td>\n",
       "      <td>18.29</td>\n",
       "      <td>67.49</td>\n",
       "      <td>30.27</td>\n",
       "      <td>3</td>\n",
       "    </tr>\n",
       "    <tr>\n",
       "      <th>207</th>\n",
       "      <td>31.82</td>\n",
       "      <td>18.32</td>\n",
       "      <td>67.72</td>\n",
       "      <td>30.31</td>\n",
       "      <td>3</td>\n",
       "    </tr>\n",
       "    <tr>\n",
       "      <th>208</th>\n",
       "      <td>31.90</td>\n",
       "      <td>18.35</td>\n",
       "      <td>67.95</td>\n",
       "      <td>30.35</td>\n",
       "      <td>3</td>\n",
       "    </tr>\n",
       "    <tr>\n",
       "      <th>209</th>\n",
       "      <td>31.98</td>\n",
       "      <td>18.38</td>\n",
       "      <td>68.18</td>\n",
       "      <td>30.39</td>\n",
       "      <td>3</td>\n",
       "    </tr>\n",
       "  </tbody>\n",
       "</table>\n",
       "<p>209 rows × 5 columns</p>\n",
       "</div>"
      ],
      "text/plain": [
       "     feature1  feature2  feature3  feature4  seeds_type\n",
       "1       15.34     12.14     20.34     22.07           1\n",
       "2       15.42     12.17     20.57     22.11           1\n",
       "3       15.50     12.20     20.80     22.15           1\n",
       "4       15.58     12.23     21.03     22.19           1\n",
       "5       15.66     12.26     21.26     22.23           1\n",
       "..        ...       ...       ...       ...         ...\n",
       "205     31.66     18.26     67.26     30.23           3\n",
       "206     31.74     18.29     67.49     30.27           3\n",
       "207     31.82     18.32     67.72     30.31           3\n",
       "208     31.90     18.35     67.95     30.35           3\n",
       "209     31.98     18.38     68.18     30.39           3\n",
       "\n",
       "[209 rows x 5 columns]"
      ]
     },
     "execution_count": 50,
     "metadata": {},
     "output_type": "execute_result"
    }
   ],
   "source": [
    "#delete\n",
    "df.drop(0,inplace=True)\n",
    "df"
   ]
  },
  {
   "cell_type": "code",
   "execution_count": 51,
   "id": "c9a21111",
   "metadata": {},
   "outputs": [
    {
     "data": {
      "text/html": [
       "<div>\n",
       "<style scoped>\n",
       "    .dataframe tbody tr th:only-of-type {\n",
       "        vertical-align: middle;\n",
       "    }\n",
       "\n",
       "    .dataframe tbody tr th {\n",
       "        vertical-align: top;\n",
       "    }\n",
       "\n",
       "    .dataframe thead th {\n",
       "        text-align: right;\n",
       "    }\n",
       "</style>\n",
       "<table border=\"1\" class=\"dataframe\">\n",
       "  <thead>\n",
       "    <tr style=\"text-align: right;\">\n",
       "      <th></th>\n",
       "      <th>feature1</th>\n",
       "      <th>feature2</th>\n",
       "      <th>feature3</th>\n",
       "      <th>feature4</th>\n",
       "      <th>seeds_type</th>\n",
       "    </tr>\n",
       "  </thead>\n",
       "  <tbody>\n",
       "    <tr>\n",
       "      <th>1</th>\n",
       "      <td>15.34</td>\n",
       "      <td>12.14</td>\n",
       "      <td>20.34</td>\n",
       "      <td>22.07</td>\n",
       "      <td>1</td>\n",
       "    </tr>\n",
       "    <tr>\n",
       "      <th>5</th>\n",
       "      <td>15.66</td>\n",
       "      <td>12.26</td>\n",
       "      <td>21.26</td>\n",
       "      <td>22.23</td>\n",
       "      <td>1</td>\n",
       "    </tr>\n",
       "    <tr>\n",
       "      <th>6</th>\n",
       "      <td>15.74</td>\n",
       "      <td>12.29</td>\n",
       "      <td>21.49</td>\n",
       "      <td>22.27</td>\n",
       "      <td>1</td>\n",
       "    </tr>\n",
       "    <tr>\n",
       "      <th>7</th>\n",
       "      <td>15.82</td>\n",
       "      <td>12.32</td>\n",
       "      <td>21.72</td>\n",
       "      <td>22.31</td>\n",
       "      <td>1</td>\n",
       "    </tr>\n",
       "    <tr>\n",
       "      <th>8</th>\n",
       "      <td>15.90</td>\n",
       "      <td>12.35</td>\n",
       "      <td>21.95</td>\n",
       "      <td>22.35</td>\n",
       "      <td>1</td>\n",
       "    </tr>\n",
       "    <tr>\n",
       "      <th>...</th>\n",
       "      <td>...</td>\n",
       "      <td>...</td>\n",
       "      <td>...</td>\n",
       "      <td>...</td>\n",
       "      <td>...</td>\n",
       "    </tr>\n",
       "    <tr>\n",
       "      <th>205</th>\n",
       "      <td>31.66</td>\n",
       "      <td>18.26</td>\n",
       "      <td>67.26</td>\n",
       "      <td>30.23</td>\n",
       "      <td>3</td>\n",
       "    </tr>\n",
       "    <tr>\n",
       "      <th>206</th>\n",
       "      <td>31.74</td>\n",
       "      <td>18.29</td>\n",
       "      <td>67.49</td>\n",
       "      <td>30.27</td>\n",
       "      <td>3</td>\n",
       "    </tr>\n",
       "    <tr>\n",
       "      <th>207</th>\n",
       "      <td>31.82</td>\n",
       "      <td>18.32</td>\n",
       "      <td>67.72</td>\n",
       "      <td>30.31</td>\n",
       "      <td>3</td>\n",
       "    </tr>\n",
       "    <tr>\n",
       "      <th>208</th>\n",
       "      <td>31.90</td>\n",
       "      <td>18.35</td>\n",
       "      <td>67.95</td>\n",
       "      <td>30.35</td>\n",
       "      <td>3</td>\n",
       "    </tr>\n",
       "    <tr>\n",
       "      <th>209</th>\n",
       "      <td>31.98</td>\n",
       "      <td>18.38</td>\n",
       "      <td>68.18</td>\n",
       "      <td>30.39</td>\n",
       "      <td>3</td>\n",
       "    </tr>\n",
       "  </tbody>\n",
       "</table>\n",
       "<p>206 rows × 5 columns</p>\n",
       "</div>"
      ],
      "text/plain": [
       "     feature1  feature2  feature3  feature4  seeds_type\n",
       "1       15.34     12.14     20.34     22.07           1\n",
       "5       15.66     12.26     21.26     22.23           1\n",
       "6       15.74     12.29     21.49     22.27           1\n",
       "7       15.82     12.32     21.72     22.31           1\n",
       "8       15.90     12.35     21.95     22.35           1\n",
       "..        ...       ...       ...       ...         ...\n",
       "205     31.66     18.26     67.26     30.23           3\n",
       "206     31.74     18.29     67.49     30.27           3\n",
       "207     31.82     18.32     67.72     30.31           3\n",
       "208     31.90     18.35     67.95     30.35           3\n",
       "209     31.98     18.38     68.18     30.39           3\n",
       "\n",
       "[206 rows x 5 columns]"
      ]
     },
     "execution_count": 51,
     "metadata": {},
     "output_type": "execute_result"
    }
   ],
   "source": [
    "df.drop([2,3,4],inplace=True)\n",
    "df"
   ]
  },
  {
   "cell_type": "code",
   "execution_count": 52,
   "id": "a42cf9f9",
   "metadata": {},
   "outputs": [
    {
     "ename": "KeyError",
     "evalue": "'[2] not found in axis'",
     "output_type": "error",
     "traceback": [
      "\u001b[1;31m---------------------------------------------------------------------------\u001b[0m",
      "\u001b[1;31mKeyError\u001b[0m                                  Traceback (most recent call last)",
      "Cell \u001b[1;32mIn[52], line 1\u001b[0m\n\u001b[1;32m----> 1\u001b[0m \u001b[43mdf\u001b[49m\u001b[38;5;241;43m.\u001b[39;49m\u001b[43mdrop\u001b[49m\u001b[43m(\u001b[49m\u001b[38;5;241;43m2\u001b[39;49m\u001b[43m,\u001b[49m\u001b[43minplace\u001b[49m\u001b[38;5;241;43m=\u001b[39;49m\u001b[38;5;28;43;01mTrue\u001b[39;49;00m\u001b[43m)\u001b[49m\n\u001b[0;32m      2\u001b[0m df\n",
      "File \u001b[1;32mD:\\Users\\nikhi\\anaconda3\\lib\\site-packages\\pandas\\util\\_decorators.py:331\u001b[0m, in \u001b[0;36mdeprecate_nonkeyword_arguments.<locals>.decorate.<locals>.wrapper\u001b[1;34m(*args, **kwargs)\u001b[0m\n\u001b[0;32m    325\u001b[0m \u001b[38;5;28;01mif\u001b[39;00m \u001b[38;5;28mlen\u001b[39m(args) \u001b[38;5;241m>\u001b[39m num_allow_args:\n\u001b[0;32m    326\u001b[0m     warnings\u001b[38;5;241m.\u001b[39mwarn(\n\u001b[0;32m    327\u001b[0m         msg\u001b[38;5;241m.\u001b[39mformat(arguments\u001b[38;5;241m=\u001b[39m_format_argument_list(allow_args)),\n\u001b[0;32m    328\u001b[0m         \u001b[38;5;167;01mFutureWarning\u001b[39;00m,\n\u001b[0;32m    329\u001b[0m         stacklevel\u001b[38;5;241m=\u001b[39mfind_stack_level(),\n\u001b[0;32m    330\u001b[0m     )\n\u001b[1;32m--> 331\u001b[0m \u001b[38;5;28;01mreturn\u001b[39;00m func(\u001b[38;5;241m*\u001b[39margs, \u001b[38;5;241m*\u001b[39m\u001b[38;5;241m*\u001b[39mkwargs)\n",
      "File \u001b[1;32mD:\\Users\\nikhi\\anaconda3\\lib\\site-packages\\pandas\\core\\frame.py:5399\u001b[0m, in \u001b[0;36mDataFrame.drop\u001b[1;34m(self, labels, axis, index, columns, level, inplace, errors)\u001b[0m\n\u001b[0;32m   5251\u001b[0m \u001b[38;5;129m@deprecate_nonkeyword_arguments\u001b[39m(version\u001b[38;5;241m=\u001b[39m\u001b[38;5;28;01mNone\u001b[39;00m, allowed_args\u001b[38;5;241m=\u001b[39m[\u001b[38;5;124m\"\u001b[39m\u001b[38;5;124mself\u001b[39m\u001b[38;5;124m\"\u001b[39m, \u001b[38;5;124m\"\u001b[39m\u001b[38;5;124mlabels\u001b[39m\u001b[38;5;124m\"\u001b[39m])\n\u001b[0;32m   5252\u001b[0m \u001b[38;5;28;01mdef\u001b[39;00m \u001b[38;5;21mdrop\u001b[39m(  \u001b[38;5;66;03m# type: ignore[override]\u001b[39;00m\n\u001b[0;32m   5253\u001b[0m     \u001b[38;5;28mself\u001b[39m,\n\u001b[1;32m   (...)\u001b[0m\n\u001b[0;32m   5260\u001b[0m     errors: IgnoreRaise \u001b[38;5;241m=\u001b[39m \u001b[38;5;124m\"\u001b[39m\u001b[38;5;124mraise\u001b[39m\u001b[38;5;124m\"\u001b[39m,\n\u001b[0;32m   5261\u001b[0m ) \u001b[38;5;241m-\u001b[39m\u001b[38;5;241m>\u001b[39m DataFrame \u001b[38;5;241m|\u001b[39m \u001b[38;5;28;01mNone\u001b[39;00m:\n\u001b[0;32m   5262\u001b[0m     \u001b[38;5;124;03m\"\"\"\u001b[39;00m\n\u001b[0;32m   5263\u001b[0m \u001b[38;5;124;03m    Drop specified labels from rows or columns.\u001b[39;00m\n\u001b[0;32m   5264\u001b[0m \n\u001b[1;32m   (...)\u001b[0m\n\u001b[0;32m   5397\u001b[0m \u001b[38;5;124;03m            weight  1.0     0.8\u001b[39;00m\n\u001b[0;32m   5398\u001b[0m \u001b[38;5;124;03m    \"\"\"\u001b[39;00m\n\u001b[1;32m-> 5399\u001b[0m     \u001b[38;5;28;01mreturn\u001b[39;00m \u001b[38;5;28;43msuper\u001b[39;49m\u001b[43m(\u001b[49m\u001b[43m)\u001b[49m\u001b[38;5;241;43m.\u001b[39;49m\u001b[43mdrop\u001b[49m\u001b[43m(\u001b[49m\n\u001b[0;32m   5400\u001b[0m \u001b[43m        \u001b[49m\u001b[43mlabels\u001b[49m\u001b[38;5;241;43m=\u001b[39;49m\u001b[43mlabels\u001b[49m\u001b[43m,\u001b[49m\n\u001b[0;32m   5401\u001b[0m \u001b[43m        \u001b[49m\u001b[43maxis\u001b[49m\u001b[38;5;241;43m=\u001b[39;49m\u001b[43maxis\u001b[49m\u001b[43m,\u001b[49m\n\u001b[0;32m   5402\u001b[0m \u001b[43m        \u001b[49m\u001b[43mindex\u001b[49m\u001b[38;5;241;43m=\u001b[39;49m\u001b[43mindex\u001b[49m\u001b[43m,\u001b[49m\n\u001b[0;32m   5403\u001b[0m \u001b[43m        \u001b[49m\u001b[43mcolumns\u001b[49m\u001b[38;5;241;43m=\u001b[39;49m\u001b[43mcolumns\u001b[49m\u001b[43m,\u001b[49m\n\u001b[0;32m   5404\u001b[0m \u001b[43m        \u001b[49m\u001b[43mlevel\u001b[49m\u001b[38;5;241;43m=\u001b[39;49m\u001b[43mlevel\u001b[49m\u001b[43m,\u001b[49m\n\u001b[0;32m   5405\u001b[0m \u001b[43m        \u001b[49m\u001b[43minplace\u001b[49m\u001b[38;5;241;43m=\u001b[39;49m\u001b[43minplace\u001b[49m\u001b[43m,\u001b[49m\n\u001b[0;32m   5406\u001b[0m \u001b[43m        \u001b[49m\u001b[43merrors\u001b[49m\u001b[38;5;241;43m=\u001b[39;49m\u001b[43merrors\u001b[49m\u001b[43m,\u001b[49m\n\u001b[0;32m   5407\u001b[0m \u001b[43m    \u001b[49m\u001b[43m)\u001b[49m\n",
      "File \u001b[1;32mD:\\Users\\nikhi\\anaconda3\\lib\\site-packages\\pandas\\util\\_decorators.py:331\u001b[0m, in \u001b[0;36mdeprecate_nonkeyword_arguments.<locals>.decorate.<locals>.wrapper\u001b[1;34m(*args, **kwargs)\u001b[0m\n\u001b[0;32m    325\u001b[0m \u001b[38;5;28;01mif\u001b[39;00m \u001b[38;5;28mlen\u001b[39m(args) \u001b[38;5;241m>\u001b[39m num_allow_args:\n\u001b[0;32m    326\u001b[0m     warnings\u001b[38;5;241m.\u001b[39mwarn(\n\u001b[0;32m    327\u001b[0m         msg\u001b[38;5;241m.\u001b[39mformat(arguments\u001b[38;5;241m=\u001b[39m_format_argument_list(allow_args)),\n\u001b[0;32m    328\u001b[0m         \u001b[38;5;167;01mFutureWarning\u001b[39;00m,\n\u001b[0;32m    329\u001b[0m         stacklevel\u001b[38;5;241m=\u001b[39mfind_stack_level(),\n\u001b[0;32m    330\u001b[0m     )\n\u001b[1;32m--> 331\u001b[0m \u001b[38;5;28;01mreturn\u001b[39;00m func(\u001b[38;5;241m*\u001b[39margs, \u001b[38;5;241m*\u001b[39m\u001b[38;5;241m*\u001b[39mkwargs)\n",
      "File \u001b[1;32mD:\\Users\\nikhi\\anaconda3\\lib\\site-packages\\pandas\\core\\generic.py:4505\u001b[0m, in \u001b[0;36mNDFrame.drop\u001b[1;34m(self, labels, axis, index, columns, level, inplace, errors)\u001b[0m\n\u001b[0;32m   4503\u001b[0m \u001b[38;5;28;01mfor\u001b[39;00m axis, labels \u001b[38;5;129;01min\u001b[39;00m axes\u001b[38;5;241m.\u001b[39mitems():\n\u001b[0;32m   4504\u001b[0m     \u001b[38;5;28;01mif\u001b[39;00m labels \u001b[38;5;129;01mis\u001b[39;00m \u001b[38;5;129;01mnot\u001b[39;00m \u001b[38;5;28;01mNone\u001b[39;00m:\n\u001b[1;32m-> 4505\u001b[0m         obj \u001b[38;5;241m=\u001b[39m \u001b[43mobj\u001b[49m\u001b[38;5;241;43m.\u001b[39;49m\u001b[43m_drop_axis\u001b[49m\u001b[43m(\u001b[49m\u001b[43mlabels\u001b[49m\u001b[43m,\u001b[49m\u001b[43m \u001b[49m\u001b[43maxis\u001b[49m\u001b[43m,\u001b[49m\u001b[43m \u001b[49m\u001b[43mlevel\u001b[49m\u001b[38;5;241;43m=\u001b[39;49m\u001b[43mlevel\u001b[49m\u001b[43m,\u001b[49m\u001b[43m \u001b[49m\u001b[43merrors\u001b[49m\u001b[38;5;241;43m=\u001b[39;49m\u001b[43merrors\u001b[49m\u001b[43m)\u001b[49m\n\u001b[0;32m   4507\u001b[0m \u001b[38;5;28;01mif\u001b[39;00m inplace:\n\u001b[0;32m   4508\u001b[0m     \u001b[38;5;28mself\u001b[39m\u001b[38;5;241m.\u001b[39m_update_inplace(obj)\n",
      "File \u001b[1;32mD:\\Users\\nikhi\\anaconda3\\lib\\site-packages\\pandas\\core\\generic.py:4546\u001b[0m, in \u001b[0;36mNDFrame._drop_axis\u001b[1;34m(self, labels, axis, level, errors, only_slice)\u001b[0m\n\u001b[0;32m   4544\u001b[0m         new_axis \u001b[38;5;241m=\u001b[39m axis\u001b[38;5;241m.\u001b[39mdrop(labels, level\u001b[38;5;241m=\u001b[39mlevel, errors\u001b[38;5;241m=\u001b[39merrors)\n\u001b[0;32m   4545\u001b[0m     \u001b[38;5;28;01melse\u001b[39;00m:\n\u001b[1;32m-> 4546\u001b[0m         new_axis \u001b[38;5;241m=\u001b[39m \u001b[43maxis\u001b[49m\u001b[38;5;241;43m.\u001b[39;49m\u001b[43mdrop\u001b[49m\u001b[43m(\u001b[49m\u001b[43mlabels\u001b[49m\u001b[43m,\u001b[49m\u001b[43m \u001b[49m\u001b[43merrors\u001b[49m\u001b[38;5;241;43m=\u001b[39;49m\u001b[43merrors\u001b[49m\u001b[43m)\u001b[49m\n\u001b[0;32m   4547\u001b[0m     indexer \u001b[38;5;241m=\u001b[39m axis\u001b[38;5;241m.\u001b[39mget_indexer(new_axis)\n\u001b[0;32m   4549\u001b[0m \u001b[38;5;66;03m# Case for non-unique axis\u001b[39;00m\n\u001b[0;32m   4550\u001b[0m \u001b[38;5;28;01melse\u001b[39;00m:\n",
      "File \u001b[1;32mD:\\Users\\nikhi\\anaconda3\\lib\\site-packages\\pandas\\core\\indexes\\base.py:6934\u001b[0m, in \u001b[0;36mIndex.drop\u001b[1;34m(self, labels, errors)\u001b[0m\n\u001b[0;32m   6932\u001b[0m \u001b[38;5;28;01mif\u001b[39;00m mask\u001b[38;5;241m.\u001b[39many():\n\u001b[0;32m   6933\u001b[0m     \u001b[38;5;28;01mif\u001b[39;00m errors \u001b[38;5;241m!=\u001b[39m \u001b[38;5;124m\"\u001b[39m\u001b[38;5;124mignore\u001b[39m\u001b[38;5;124m\"\u001b[39m:\n\u001b[1;32m-> 6934\u001b[0m         \u001b[38;5;28;01mraise\u001b[39;00m \u001b[38;5;167;01mKeyError\u001b[39;00m(\u001b[38;5;124mf\u001b[39m\u001b[38;5;124m\"\u001b[39m\u001b[38;5;132;01m{\u001b[39;00m\u001b[38;5;28mlist\u001b[39m(labels[mask])\u001b[38;5;132;01m}\u001b[39;00m\u001b[38;5;124m not found in axis\u001b[39m\u001b[38;5;124m\"\u001b[39m)\n\u001b[0;32m   6935\u001b[0m     indexer \u001b[38;5;241m=\u001b[39m indexer[\u001b[38;5;241m~\u001b[39mmask]\n\u001b[0;32m   6936\u001b[0m \u001b[38;5;28;01mreturn\u001b[39;00m \u001b[38;5;28mself\u001b[39m\u001b[38;5;241m.\u001b[39mdelete(indexer)\n",
      "\u001b[1;31mKeyError\u001b[0m: '[2] not found in axis'"
     ]
    }
   ],
   "source": [
    "df.drop(2,inplace=True)\n",
    "df"
   ]
  },
  {
   "cell_type": "code",
   "execution_count": 53,
   "id": "52217731",
   "metadata": {},
   "outputs": [
    {
     "data": {
      "text/html": [
       "<div>\n",
       "<style scoped>\n",
       "    .dataframe tbody tr th:only-of-type {\n",
       "        vertical-align: middle;\n",
       "    }\n",
       "\n",
       "    .dataframe tbody tr th {\n",
       "        vertical-align: top;\n",
       "    }\n",
       "\n",
       "    .dataframe thead th {\n",
       "        text-align: right;\n",
       "    }\n",
       "</style>\n",
       "<table border=\"1\" class=\"dataframe\">\n",
       "  <thead>\n",
       "    <tr style=\"text-align: right;\">\n",
       "      <th></th>\n",
       "      <th>feature1</th>\n",
       "      <th>feature2</th>\n",
       "      <th>feature3</th>\n",
       "      <th>feature4</th>\n",
       "      <th>seeds_type</th>\n",
       "    </tr>\n",
       "  </thead>\n",
       "  <tbody>\n",
       "    <tr>\n",
       "      <th>1</th>\n",
       "      <td>15.34</td>\n",
       "      <td>12.14</td>\n",
       "      <td>20.34</td>\n",
       "      <td>22.07</td>\n",
       "      <td>1</td>\n",
       "    </tr>\n",
       "    <tr>\n",
       "      <th>5</th>\n",
       "      <td>15.66</td>\n",
       "      <td>12.26</td>\n",
       "      <td>21.26</td>\n",
       "      <td>22.23</td>\n",
       "      <td>1</td>\n",
       "    </tr>\n",
       "    <tr>\n",
       "      <th>7</th>\n",
       "      <td>15.82</td>\n",
       "      <td>12.32</td>\n",
       "      <td>21.72</td>\n",
       "      <td>22.31</td>\n",
       "      <td>1</td>\n",
       "    </tr>\n",
       "    <tr>\n",
       "      <th>8</th>\n",
       "      <td>15.90</td>\n",
       "      <td>12.35</td>\n",
       "      <td>21.95</td>\n",
       "      <td>22.35</td>\n",
       "      <td>1</td>\n",
       "    </tr>\n",
       "    <tr>\n",
       "      <th>9</th>\n",
       "      <td>15.98</td>\n",
       "      <td>12.38</td>\n",
       "      <td>22.18</td>\n",
       "      <td>22.39</td>\n",
       "      <td>1</td>\n",
       "    </tr>\n",
       "    <tr>\n",
       "      <th>...</th>\n",
       "      <td>...</td>\n",
       "      <td>...</td>\n",
       "      <td>...</td>\n",
       "      <td>...</td>\n",
       "      <td>...</td>\n",
       "    </tr>\n",
       "    <tr>\n",
       "      <th>205</th>\n",
       "      <td>31.66</td>\n",
       "      <td>18.26</td>\n",
       "      <td>67.26</td>\n",
       "      <td>30.23</td>\n",
       "      <td>3</td>\n",
       "    </tr>\n",
       "    <tr>\n",
       "      <th>206</th>\n",
       "      <td>31.74</td>\n",
       "      <td>18.29</td>\n",
       "      <td>67.49</td>\n",
       "      <td>30.27</td>\n",
       "      <td>3</td>\n",
       "    </tr>\n",
       "    <tr>\n",
       "      <th>207</th>\n",
       "      <td>31.82</td>\n",
       "      <td>18.32</td>\n",
       "      <td>67.72</td>\n",
       "      <td>30.31</td>\n",
       "      <td>3</td>\n",
       "    </tr>\n",
       "    <tr>\n",
       "      <th>208</th>\n",
       "      <td>31.90</td>\n",
       "      <td>18.35</td>\n",
       "      <td>67.95</td>\n",
       "      <td>30.35</td>\n",
       "      <td>3</td>\n",
       "    </tr>\n",
       "    <tr>\n",
       "      <th>209</th>\n",
       "      <td>31.98</td>\n",
       "      <td>18.38</td>\n",
       "      <td>68.18</td>\n",
       "      <td>30.39</td>\n",
       "      <td>3</td>\n",
       "    </tr>\n",
       "  </tbody>\n",
       "</table>\n",
       "<p>205 rows × 5 columns</p>\n",
       "</div>"
      ],
      "text/plain": [
       "     feature1  feature2  feature3  feature4  seeds_type\n",
       "1       15.34     12.14     20.34     22.07           1\n",
       "5       15.66     12.26     21.26     22.23           1\n",
       "7       15.82     12.32     21.72     22.31           1\n",
       "8       15.90     12.35     21.95     22.35           1\n",
       "9       15.98     12.38     22.18     22.39           1\n",
       "..        ...       ...       ...       ...         ...\n",
       "205     31.66     18.26     67.26     30.23           3\n",
       "206     31.74     18.29     67.49     30.27           3\n",
       "207     31.82     18.32     67.72     30.31           3\n",
       "208     31.90     18.35     67.95     30.35           3\n",
       "209     31.98     18.38     68.18     30.39           3\n",
       "\n",
       "[205 rows x 5 columns]"
      ]
     },
     "execution_count": 53,
     "metadata": {},
     "output_type": "execute_result"
    }
   ],
   "source": [
    "df.drop(df.index[2],inplace=True)\n",
    "df"
   ]
  },
  {
   "cell_type": "code",
   "execution_count": 54,
   "id": "74ffdf54",
   "metadata": {},
   "outputs": [
    {
     "data": {
      "text/html": [
       "<div>\n",
       "<style scoped>\n",
       "    .dataframe tbody tr th:only-of-type {\n",
       "        vertical-align: middle;\n",
       "    }\n",
       "\n",
       "    .dataframe tbody tr th {\n",
       "        vertical-align: top;\n",
       "    }\n",
       "\n",
       "    .dataframe thead th {\n",
       "        text-align: right;\n",
       "    }\n",
       "</style>\n",
       "<table border=\"1\" class=\"dataframe\">\n",
       "  <thead>\n",
       "    <tr style=\"text-align: right;\">\n",
       "      <th></th>\n",
       "      <th>feature1</th>\n",
       "      <th>feature2</th>\n",
       "      <th>feature3</th>\n",
       "      <th>feature4</th>\n",
       "      <th>seeds_type</th>\n",
       "    </tr>\n",
       "  </thead>\n",
       "  <tbody>\n",
       "    <tr>\n",
       "      <th>1</th>\n",
       "      <td>15.34</td>\n",
       "      <td>12.14</td>\n",
       "      <td>20.34</td>\n",
       "      <td>22.07</td>\n",
       "      <td>1.0</td>\n",
       "    </tr>\n",
       "    <tr>\n",
       "      <th>5</th>\n",
       "      <td>15.66</td>\n",
       "      <td>12.26</td>\n",
       "      <td>21.26</td>\n",
       "      <td>22.23</td>\n",
       "      <td>1.0</td>\n",
       "    </tr>\n",
       "    <tr>\n",
       "      <th>7</th>\n",
       "      <td>15.82</td>\n",
       "      <td>12.32</td>\n",
       "      <td>21.72</td>\n",
       "      <td>22.31</td>\n",
       "      <td>1.0</td>\n",
       "    </tr>\n",
       "    <tr>\n",
       "      <th>8</th>\n",
       "      <td>15.90</td>\n",
       "      <td>12.35</td>\n",
       "      <td>21.95</td>\n",
       "      <td>22.35</td>\n",
       "      <td>1.0</td>\n",
       "    </tr>\n",
       "    <tr>\n",
       "      <th>9</th>\n",
       "      <td>15.98</td>\n",
       "      <td>12.38</td>\n",
       "      <td>22.18</td>\n",
       "      <td>22.39</td>\n",
       "      <td>1.0</td>\n",
       "    </tr>\n",
       "    <tr>\n",
       "      <th>...</th>\n",
       "      <td>...</td>\n",
       "      <td>...</td>\n",
       "      <td>...</td>\n",
       "      <td>...</td>\n",
       "      <td>...</td>\n",
       "    </tr>\n",
       "    <tr>\n",
       "      <th>206</th>\n",
       "      <td>31.74</td>\n",
       "      <td>18.29</td>\n",
       "      <td>67.49</td>\n",
       "      <td>30.27</td>\n",
       "      <td>3.0</td>\n",
       "    </tr>\n",
       "    <tr>\n",
       "      <th>207</th>\n",
       "      <td>31.82</td>\n",
       "      <td>18.32</td>\n",
       "      <td>67.72</td>\n",
       "      <td>30.31</td>\n",
       "      <td>3.0</td>\n",
       "    </tr>\n",
       "    <tr>\n",
       "      <th>208</th>\n",
       "      <td>31.90</td>\n",
       "      <td>18.35</td>\n",
       "      <td>67.95</td>\n",
       "      <td>30.35</td>\n",
       "      <td>3.0</td>\n",
       "    </tr>\n",
       "    <tr>\n",
       "      <th>209</th>\n",
       "      <td>31.98</td>\n",
       "      <td>18.38</td>\n",
       "      <td>68.18</td>\n",
       "      <td>30.39</td>\n",
       "      <td>3.0</td>\n",
       "    </tr>\n",
       "    <tr>\n",
       "      <th>210</th>\n",
       "      <td>8.50</td>\n",
       "      <td>7.40</td>\n",
       "      <td>0.86</td>\n",
       "      <td>7.00</td>\n",
       "      <td>3.0</td>\n",
       "    </tr>\n",
       "  </tbody>\n",
       "</table>\n",
       "<p>206 rows × 5 columns</p>\n",
       "</div>"
      ],
      "text/plain": [
       "     feature1  feature2  feature3  feature4  seeds_type\n",
       "1       15.34     12.14     20.34     22.07         1.0\n",
       "5       15.66     12.26     21.26     22.23         1.0\n",
       "7       15.82     12.32     21.72     22.31         1.0\n",
       "8       15.90     12.35     21.95     22.35         1.0\n",
       "9       15.98     12.38     22.18     22.39         1.0\n",
       "..        ...       ...       ...       ...         ...\n",
       "206     31.74     18.29     67.49     30.27         3.0\n",
       "207     31.82     18.32     67.72     30.31         3.0\n",
       "208     31.90     18.35     67.95     30.35         3.0\n",
       "209     31.98     18.38     68.18     30.39         3.0\n",
       "210      8.50      7.40      0.86      7.00         3.0\n",
       "\n",
       "[206 rows x 5 columns]"
      ]
     },
     "execution_count": 54,
     "metadata": {},
     "output_type": "execute_result"
    }
   ],
   "source": [
    "#adding row\n",
    "df.loc[210]=[8.5,7.4,0.86,7,3]\n",
    "df"
   ]
  },
  {
   "cell_type": "code",
   "execution_count": 55,
   "id": "a7cf40c0",
   "metadata": {},
   "outputs": [
    {
     "data": {
      "text/html": [
       "<div>\n",
       "<style scoped>\n",
       "    .dataframe tbody tr th:only-of-type {\n",
       "        vertical-align: middle;\n",
       "    }\n",
       "\n",
       "    .dataframe tbody tr th {\n",
       "        vertical-align: top;\n",
       "    }\n",
       "\n",
       "    .dataframe thead th {\n",
       "        text-align: right;\n",
       "    }\n",
       "</style>\n",
       "<table border=\"1\" class=\"dataframe\">\n",
       "  <thead>\n",
       "    <tr style=\"text-align: right;\">\n",
       "      <th></th>\n",
       "      <th>feature1</th>\n",
       "      <th>feature2</th>\n",
       "      <th>feature3</th>\n",
       "      <th>feature4</th>\n",
       "      <th>seeds_type</th>\n",
       "    </tr>\n",
       "  </thead>\n",
       "  <tbody>\n",
       "    <tr>\n",
       "      <th>0</th>\n",
       "      <td>15.34</td>\n",
       "      <td>12.14</td>\n",
       "      <td>20.34</td>\n",
       "      <td>22.07</td>\n",
       "      <td>1.0</td>\n",
       "    </tr>\n",
       "    <tr>\n",
       "      <th>1</th>\n",
       "      <td>15.66</td>\n",
       "      <td>12.26</td>\n",
       "      <td>21.26</td>\n",
       "      <td>22.23</td>\n",
       "      <td>1.0</td>\n",
       "    </tr>\n",
       "    <tr>\n",
       "      <th>2</th>\n",
       "      <td>15.82</td>\n",
       "      <td>12.32</td>\n",
       "      <td>21.72</td>\n",
       "      <td>22.31</td>\n",
       "      <td>1.0</td>\n",
       "    </tr>\n",
       "    <tr>\n",
       "      <th>3</th>\n",
       "      <td>15.90</td>\n",
       "      <td>12.35</td>\n",
       "      <td>21.95</td>\n",
       "      <td>22.35</td>\n",
       "      <td>1.0</td>\n",
       "    </tr>\n",
       "    <tr>\n",
       "      <th>4</th>\n",
       "      <td>15.98</td>\n",
       "      <td>12.38</td>\n",
       "      <td>22.18</td>\n",
       "      <td>22.39</td>\n",
       "      <td>1.0</td>\n",
       "    </tr>\n",
       "    <tr>\n",
       "      <th>...</th>\n",
       "      <td>...</td>\n",
       "      <td>...</td>\n",
       "      <td>...</td>\n",
       "      <td>...</td>\n",
       "      <td>...</td>\n",
       "    </tr>\n",
       "    <tr>\n",
       "      <th>201</th>\n",
       "      <td>31.74</td>\n",
       "      <td>18.29</td>\n",
       "      <td>67.49</td>\n",
       "      <td>30.27</td>\n",
       "      <td>3.0</td>\n",
       "    </tr>\n",
       "    <tr>\n",
       "      <th>202</th>\n",
       "      <td>31.82</td>\n",
       "      <td>18.32</td>\n",
       "      <td>67.72</td>\n",
       "      <td>30.31</td>\n",
       "      <td>3.0</td>\n",
       "    </tr>\n",
       "    <tr>\n",
       "      <th>203</th>\n",
       "      <td>31.90</td>\n",
       "      <td>18.35</td>\n",
       "      <td>67.95</td>\n",
       "      <td>30.35</td>\n",
       "      <td>3.0</td>\n",
       "    </tr>\n",
       "    <tr>\n",
       "      <th>204</th>\n",
       "      <td>31.98</td>\n",
       "      <td>18.38</td>\n",
       "      <td>68.18</td>\n",
       "      <td>30.39</td>\n",
       "      <td>3.0</td>\n",
       "    </tr>\n",
       "    <tr>\n",
       "      <th>205</th>\n",
       "      <td>8.50</td>\n",
       "      <td>7.40</td>\n",
       "      <td>0.86</td>\n",
       "      <td>7.00</td>\n",
       "      <td>3.0</td>\n",
       "    </tr>\n",
       "  </tbody>\n",
       "</table>\n",
       "<p>206 rows × 5 columns</p>\n",
       "</div>"
      ],
      "text/plain": [
       "     feature1  feature2  feature3  feature4  seeds_type\n",
       "0       15.34     12.14     20.34     22.07         1.0\n",
       "1       15.66     12.26     21.26     22.23         1.0\n",
       "2       15.82     12.32     21.72     22.31         1.0\n",
       "3       15.90     12.35     21.95     22.35         1.0\n",
       "4       15.98     12.38     22.18     22.39         1.0\n",
       "..        ...       ...       ...       ...         ...\n",
       "201     31.74     18.29     67.49     30.27         3.0\n",
       "202     31.82     18.32     67.72     30.31         3.0\n",
       "203     31.90     18.35     67.95     30.35         3.0\n",
       "204     31.98     18.38     68.18     30.39         3.0\n",
       "205      8.50      7.40      0.86      7.00         3.0\n",
       "\n",
       "[206 rows x 5 columns]"
      ]
     },
     "execution_count": 55,
     "metadata": {},
     "output_type": "execute_result"
    }
   ],
   "source": [
    "df.reset_index(inplace=True,drop=True)#we have used the drop=True to delet the index column which has been placed for our referencing\n",
    "df"
   ]
  },
  {
   "cell_type": "code",
   "execution_count": 83,
   "id": "9b6dd168",
   "metadata": {},
   "outputs": [
    {
     "data": {
      "text/html": [
       "<div>\n",
       "<style scoped>\n",
       "    .dataframe tbody tr th:only-of-type {\n",
       "        vertical-align: middle;\n",
       "    }\n",
       "\n",
       "    .dataframe tbody tr th {\n",
       "        vertical-align: top;\n",
       "    }\n",
       "\n",
       "    .dataframe thead th {\n",
       "        text-align: right;\n",
       "    }\n",
       "</style>\n",
       "<table border=\"1\" class=\"dataframe\">\n",
       "  <thead>\n",
       "    <tr style=\"text-align: right;\">\n",
       "      <th></th>\n",
       "      <th>feature1</th>\n",
       "      <th>feature2</th>\n",
       "      <th>feature3</th>\n",
       "      <th>feature4</th>\n",
       "      <th>seeds_type</th>\n",
       "      <th>sum_f1_f2</th>\n",
       "      <th>all_hundreds</th>\n",
       "    </tr>\n",
       "  </thead>\n",
       "  <tbody>\n",
       "    <tr>\n",
       "      <th>0</th>\n",
       "      <td>15.34</td>\n",
       "      <td>12.14</td>\n",
       "      <td>20.34</td>\n",
       "      <td>22.07</td>\n",
       "      <td>1.0</td>\n",
       "      <td>27.48</td>\n",
       "      <td>100</td>\n",
       "    </tr>\n",
       "    <tr>\n",
       "      <th>1</th>\n",
       "      <td>15.66</td>\n",
       "      <td>12.26</td>\n",
       "      <td>21.26</td>\n",
       "      <td>22.23</td>\n",
       "      <td>1.0</td>\n",
       "      <td>27.92</td>\n",
       "      <td>100</td>\n",
       "    </tr>\n",
       "    <tr>\n",
       "      <th>2</th>\n",
       "      <td>16.30</td>\n",
       "      <td>NaN</td>\n",
       "      <td>NaN</td>\n",
       "      <td>22.55</td>\n",
       "      <td>1.0</td>\n",
       "      <td>28.80</td>\n",
       "      <td>100</td>\n",
       "    </tr>\n",
       "    <tr>\n",
       "      <th>3</th>\n",
       "      <td>16.38</td>\n",
       "      <td>NaN</td>\n",
       "      <td>NaN</td>\n",
       "      <td>22.59</td>\n",
       "      <td>1.0</td>\n",
       "      <td>28.91</td>\n",
       "      <td>100</td>\n",
       "    </tr>\n",
       "    <tr>\n",
       "      <th>4</th>\n",
       "      <td>16.46</td>\n",
       "      <td>12.56</td>\n",
       "      <td>23.56</td>\n",
       "      <td>22.63</td>\n",
       "      <td>1.0</td>\n",
       "      <td>29.02</td>\n",
       "      <td>100</td>\n",
       "    </tr>\n",
       "  </tbody>\n",
       "</table>\n",
       "</div>"
      ],
      "text/plain": [
       "   feature1  feature2  feature3  feature4  seeds_type  sum_f1_f2  all_hundreds\n",
       "0     15.34     12.14     20.34     22.07         1.0      27.48           100\n",
       "1     15.66     12.26     21.26     22.23         1.0      27.92           100\n",
       "2     16.30       NaN       NaN     22.55         1.0      28.80           100\n",
       "3     16.38       NaN       NaN     22.59         1.0      28.91           100\n",
       "4     16.46     12.56     23.56     22.63         1.0      29.02           100"
      ]
     },
     "execution_count": 83,
     "metadata": {},
     "output_type": "execute_result"
    }
   ],
   "source": [
    "#adding column\n",
    "df['all_hundreds']=100\n",
    "df.head()"
   ]
  },
  {
   "cell_type": "code",
   "execution_count": 84,
   "id": "51cc93db",
   "metadata": {},
   "outputs": [
    {
     "data": {
      "text/html": [
       "<div>\n",
       "<style scoped>\n",
       "    .dataframe tbody tr th:only-of-type {\n",
       "        vertical-align: middle;\n",
       "    }\n",
       "\n",
       "    .dataframe tbody tr th {\n",
       "        vertical-align: top;\n",
       "    }\n",
       "\n",
       "    .dataframe thead th {\n",
       "        text-align: right;\n",
       "    }\n",
       "</style>\n",
       "<table border=\"1\" class=\"dataframe\">\n",
       "  <thead>\n",
       "    <tr style=\"text-align: right;\">\n",
       "      <th></th>\n",
       "      <th>feature1</th>\n",
       "      <th>feature2</th>\n",
       "      <th>feature3</th>\n",
       "      <th>feature4</th>\n",
       "      <th>seeds_type</th>\n",
       "      <th>sum_f1_f2</th>\n",
       "      <th>all_hundreds</th>\n",
       "    </tr>\n",
       "  </thead>\n",
       "  <tbody>\n",
       "    <tr>\n",
       "      <th>0</th>\n",
       "      <td>15.34</td>\n",
       "      <td>12.14</td>\n",
       "      <td>20.34</td>\n",
       "      <td>22.07</td>\n",
       "      <td>1.0</td>\n",
       "      <td>27.48</td>\n",
       "      <td>100</td>\n",
       "    </tr>\n",
       "    <tr>\n",
       "      <th>1</th>\n",
       "      <td>15.66</td>\n",
       "      <td>12.26</td>\n",
       "      <td>21.26</td>\n",
       "      <td>22.23</td>\n",
       "      <td>1.0</td>\n",
       "      <td>27.92</td>\n",
       "      <td>100</td>\n",
       "    </tr>\n",
       "    <tr>\n",
       "      <th>2</th>\n",
       "      <td>16.30</td>\n",
       "      <td>NaN</td>\n",
       "      <td>NaN</td>\n",
       "      <td>22.55</td>\n",
       "      <td>1.0</td>\n",
       "      <td>NaN</td>\n",
       "      <td>100</td>\n",
       "    </tr>\n",
       "    <tr>\n",
       "      <th>3</th>\n",
       "      <td>16.38</td>\n",
       "      <td>NaN</td>\n",
       "      <td>NaN</td>\n",
       "      <td>22.59</td>\n",
       "      <td>1.0</td>\n",
       "      <td>NaN</td>\n",
       "      <td>100</td>\n",
       "    </tr>\n",
       "    <tr>\n",
       "      <th>4</th>\n",
       "      <td>16.46</td>\n",
       "      <td>12.56</td>\n",
       "      <td>23.56</td>\n",
       "      <td>22.63</td>\n",
       "      <td>1.0</td>\n",
       "      <td>29.02</td>\n",
       "      <td>100</td>\n",
       "    </tr>\n",
       "  </tbody>\n",
       "</table>\n",
       "</div>"
      ],
      "text/plain": [
       "   feature1  feature2  feature3  feature4  seeds_type  sum_f1_f2  all_hundreds\n",
       "0     15.34     12.14     20.34     22.07         1.0      27.48           100\n",
       "1     15.66     12.26     21.26     22.23         1.0      27.92           100\n",
       "2     16.30       NaN       NaN     22.55         1.0        NaN           100\n",
       "3     16.38       NaN       NaN     22.59         1.0        NaN           100\n",
       "4     16.46     12.56     23.56     22.63         1.0      29.02           100"
      ]
     },
     "execution_count": 84,
     "metadata": {},
     "output_type": "execute_result"
    }
   ],
   "source": [
    "df['sum_f1_f2']=df['feature1']+df['feature2']\n",
    "df.head()"
   ]
  },
  {
   "cell_type": "code",
   "execution_count": 85,
   "id": "b1a80085",
   "metadata": {},
   "outputs": [
    {
     "data": {
      "text/html": [
       "<div>\n",
       "<style scoped>\n",
       "    .dataframe tbody tr th:only-of-type {\n",
       "        vertical-align: middle;\n",
       "    }\n",
       "\n",
       "    .dataframe tbody tr th {\n",
       "        vertical-align: top;\n",
       "    }\n",
       "\n",
       "    .dataframe thead th {\n",
       "        text-align: right;\n",
       "    }\n",
       "</style>\n",
       "<table border=\"1\" class=\"dataframe\">\n",
       "  <thead>\n",
       "    <tr style=\"text-align: right;\">\n",
       "      <th></th>\n",
       "      <th>feature1</th>\n",
       "      <th>feature2</th>\n",
       "      <th>feature3</th>\n",
       "      <th>feature4</th>\n",
       "      <th>seeds_type</th>\n",
       "      <th>sum_f1_f2</th>\n",
       "      <th>all_hundreds</th>\n",
       "    </tr>\n",
       "  </thead>\n",
       "  <tbody>\n",
       "    <tr>\n",
       "      <th>0</th>\n",
       "      <td>15.34</td>\n",
       "      <td>12.14</td>\n",
       "      <td>20.34</td>\n",
       "      <td>22.07</td>\n",
       "      <td>1.0</td>\n",
       "      <td>27.48</td>\n",
       "      <td>100</td>\n",
       "    </tr>\n",
       "    <tr>\n",
       "      <th>1</th>\n",
       "      <td>15.66</td>\n",
       "      <td>12.26</td>\n",
       "      <td>21.26</td>\n",
       "      <td>22.23</td>\n",
       "      <td>1.0</td>\n",
       "      <td>27.92</td>\n",
       "      <td>100</td>\n",
       "    </tr>\n",
       "    <tr>\n",
       "      <th>2</th>\n",
       "      <td>16.30</td>\n",
       "      <td>NaN</td>\n",
       "      <td>NaN</td>\n",
       "      <td>22.55</td>\n",
       "      <td>1.0</td>\n",
       "      <td>NaN</td>\n",
       "      <td>100</td>\n",
       "    </tr>\n",
       "    <tr>\n",
       "      <th>3</th>\n",
       "      <td>16.38</td>\n",
       "      <td>NaN</td>\n",
       "      <td>NaN</td>\n",
       "      <td>22.59</td>\n",
       "      <td>1.0</td>\n",
       "      <td>NaN</td>\n",
       "      <td>100</td>\n",
       "    </tr>\n",
       "    <tr>\n",
       "      <th>4</th>\n",
       "      <td>16.46</td>\n",
       "      <td>NaN</td>\n",
       "      <td>NaN</td>\n",
       "      <td>22.63</td>\n",
       "      <td>1.0</td>\n",
       "      <td>29.02</td>\n",
       "      <td>100</td>\n",
       "    </tr>\n",
       "  </tbody>\n",
       "</table>\n",
       "</div>"
      ],
      "text/plain": [
       "   feature1  feature2  feature3  feature4  seeds_type  sum_f1_f2  all_hundreds\n",
       "0     15.34     12.14     20.34     22.07         1.0      27.48           100\n",
       "1     15.66     12.26     21.26     22.23         1.0      27.92           100\n",
       "2     16.30       NaN       NaN     22.55         1.0        NaN           100\n",
       "3     16.38       NaN       NaN     22.59         1.0        NaN           100\n",
       "4     16.46       NaN       NaN     22.63         1.0      29.02           100"
      ]
     },
     "execution_count": 85,
     "metadata": {},
     "output_type": "execute_result"
    }
   ],
   "source": [
    "\n",
    "df.iloc[2:5,1:3]=np.nan\n",
    "df.head()"
   ]
  },
  {
   "cell_type": "code",
   "execution_count": 86,
   "id": "4e04b25e",
   "metadata": {},
   "outputs": [
    {
     "data": {
      "text/html": [
       "<div>\n",
       "<style scoped>\n",
       "    .dataframe tbody tr th:only-of-type {\n",
       "        vertical-align: middle;\n",
       "    }\n",
       "\n",
       "    .dataframe tbody tr th {\n",
       "        vertical-align: top;\n",
       "    }\n",
       "\n",
       "    .dataframe thead th {\n",
       "        text-align: right;\n",
       "    }\n",
       "</style>\n",
       "<table border=\"1\" class=\"dataframe\">\n",
       "  <thead>\n",
       "    <tr style=\"text-align: right;\">\n",
       "      <th></th>\n",
       "      <th>feature1</th>\n",
       "      <th>feature2</th>\n",
       "      <th>feature3</th>\n",
       "      <th>feature4</th>\n",
       "      <th>seeds_type</th>\n",
       "      <th>sum_f1_f2</th>\n",
       "      <th>all_hundreds</th>\n",
       "    </tr>\n",
       "  </thead>\n",
       "  <tbody>\n",
       "    <tr>\n",
       "      <th>0</th>\n",
       "      <td>15.34</td>\n",
       "      <td>12.14</td>\n",
       "      <td>20.34</td>\n",
       "      <td>22.07</td>\n",
       "      <td>1.0</td>\n",
       "      <td>27.48</td>\n",
       "      <td>100</td>\n",
       "    </tr>\n",
       "    <tr>\n",
       "      <th>1</th>\n",
       "      <td>15.66</td>\n",
       "      <td>12.26</td>\n",
       "      <td>21.26</td>\n",
       "      <td>22.23</td>\n",
       "      <td>1.0</td>\n",
       "      <td>27.92</td>\n",
       "      <td>100</td>\n",
       "    </tr>\n",
       "    <tr>\n",
       "      <th>5</th>\n",
       "      <td>16.54</td>\n",
       "      <td>12.59</td>\n",
       "      <td>23.79</td>\n",
       "      <td>22.67</td>\n",
       "      <td>1.0</td>\n",
       "      <td>29.13</td>\n",
       "      <td>100</td>\n",
       "    </tr>\n",
       "    <tr>\n",
       "      <th>6</th>\n",
       "      <td>16.62</td>\n",
       "      <td>12.62</td>\n",
       "      <td>24.02</td>\n",
       "      <td>22.71</td>\n",
       "      <td>1.0</td>\n",
       "      <td>29.24</td>\n",
       "      <td>100</td>\n",
       "    </tr>\n",
       "    <tr>\n",
       "      <th>7</th>\n",
       "      <td>16.70</td>\n",
       "      <td>12.65</td>\n",
       "      <td>24.25</td>\n",
       "      <td>22.75</td>\n",
       "      <td>1.0</td>\n",
       "      <td>29.35</td>\n",
       "      <td>100</td>\n",
       "    </tr>\n",
       "  </tbody>\n",
       "</table>\n",
       "</div>"
      ],
      "text/plain": [
       "   feature1  feature2  feature3  feature4  seeds_type  sum_f1_f2  all_hundreds\n",
       "0     15.34     12.14     20.34     22.07         1.0      27.48           100\n",
       "1     15.66     12.26     21.26     22.23         1.0      27.92           100\n",
       "5     16.54     12.59     23.79     22.67         1.0      29.13           100\n",
       "6     16.62     12.62     24.02     22.71         1.0      29.24           100\n",
       "7     16.70     12.65     24.25     22.75         1.0      29.35           100"
      ]
     },
     "execution_count": 86,
     "metadata": {},
     "output_type": "execute_result"
    }
   ],
   "source": [
    "df.dropna(inplace=True)\n",
    "df.head()"
   ]
  },
  {
   "cell_type": "code",
   "execution_count": 87,
   "id": "54e943cc",
   "metadata": {},
   "outputs": [
    {
     "data": {
      "text/html": [
       "<div>\n",
       "<style scoped>\n",
       "    .dataframe tbody tr th:only-of-type {\n",
       "        vertical-align: middle;\n",
       "    }\n",
       "\n",
       "    .dataframe tbody tr th {\n",
       "        vertical-align: top;\n",
       "    }\n",
       "\n",
       "    .dataframe thead th {\n",
       "        text-align: right;\n",
       "    }\n",
       "</style>\n",
       "<table border=\"1\" class=\"dataframe\">\n",
       "  <thead>\n",
       "    <tr style=\"text-align: right;\">\n",
       "      <th></th>\n",
       "      <th>feature1</th>\n",
       "      <th>feature2</th>\n",
       "      <th>feature3</th>\n",
       "      <th>feature4</th>\n",
       "      <th>seeds_type</th>\n",
       "      <th>sum_f1_f2</th>\n",
       "      <th>all_hundreds</th>\n",
       "    </tr>\n",
       "  </thead>\n",
       "  <tbody>\n",
       "    <tr>\n",
       "      <th>0</th>\n",
       "      <td>15.34</td>\n",
       "      <td>12.14</td>\n",
       "      <td>20.34</td>\n",
       "      <td>22.07</td>\n",
       "      <td>1.0</td>\n",
       "      <td>27.48</td>\n",
       "      <td>100</td>\n",
       "    </tr>\n",
       "    <tr>\n",
       "      <th>1</th>\n",
       "      <td>15.66</td>\n",
       "      <td>12.26</td>\n",
       "      <td>21.26</td>\n",
       "      <td>22.23</td>\n",
       "      <td>1.0</td>\n",
       "      <td>27.92</td>\n",
       "      <td>100</td>\n",
       "    </tr>\n",
       "    <tr>\n",
       "      <th>2</th>\n",
       "      <td>16.54</td>\n",
       "      <td>12.59</td>\n",
       "      <td>23.79</td>\n",
       "      <td>22.67</td>\n",
       "      <td>1.0</td>\n",
       "      <td>29.13</td>\n",
       "      <td>100</td>\n",
       "    </tr>\n",
       "    <tr>\n",
       "      <th>3</th>\n",
       "      <td>16.62</td>\n",
       "      <td>12.62</td>\n",
       "      <td>24.02</td>\n",
       "      <td>22.71</td>\n",
       "      <td>1.0</td>\n",
       "      <td>29.24</td>\n",
       "      <td>100</td>\n",
       "    </tr>\n",
       "    <tr>\n",
       "      <th>4</th>\n",
       "      <td>16.70</td>\n",
       "      <td>12.65</td>\n",
       "      <td>24.25</td>\n",
       "      <td>22.75</td>\n",
       "      <td>1.0</td>\n",
       "      <td>29.35</td>\n",
       "      <td>100</td>\n",
       "    </tr>\n",
       "  </tbody>\n",
       "</table>\n",
       "</div>"
      ],
      "text/plain": [
       "   feature1  feature2  feature3  feature4  seeds_type  sum_f1_f2  all_hundreds\n",
       "0     15.34     12.14     20.34     22.07         1.0      27.48           100\n",
       "1     15.66     12.26     21.26     22.23         1.0      27.92           100\n",
       "2     16.54     12.59     23.79     22.67         1.0      29.13           100\n",
       "3     16.62     12.62     24.02     22.71         1.0      29.24           100\n",
       "4     16.70     12.65     24.25     22.75         1.0      29.35           100"
      ]
     },
     "execution_count": 87,
     "metadata": {},
     "output_type": "execute_result"
    }
   ],
   "source": [
    "df.reset_index(drop=True,inplace=True)\n",
    "df.head()"
   ]
  },
  {
   "cell_type": "code",
   "execution_count": 88,
   "id": "bfaa2cf8",
   "metadata": {},
   "outputs": [],
   "source": [
    "df.iloc[2:4,1:3]=np.nan"
   ]
  },
  {
   "cell_type": "code",
   "execution_count": 89,
   "id": "2f6e0d7e",
   "metadata": {},
   "outputs": [
    {
     "data": {
      "text/html": [
       "<div>\n",
       "<style scoped>\n",
       "    .dataframe tbody tr th:only-of-type {\n",
       "        vertical-align: middle;\n",
       "    }\n",
       "\n",
       "    .dataframe tbody tr th {\n",
       "        vertical-align: top;\n",
       "    }\n",
       "\n",
       "    .dataframe thead th {\n",
       "        text-align: right;\n",
       "    }\n",
       "</style>\n",
       "<table border=\"1\" class=\"dataframe\">\n",
       "  <thead>\n",
       "    <tr style=\"text-align: right;\">\n",
       "      <th></th>\n",
       "      <th>feature1</th>\n",
       "      <th>feature2</th>\n",
       "      <th>feature3</th>\n",
       "      <th>feature4</th>\n",
       "      <th>seeds_type</th>\n",
       "      <th>sum_f1_f2</th>\n",
       "      <th>all_hundreds</th>\n",
       "    </tr>\n",
       "  </thead>\n",
       "  <tbody>\n",
       "    <tr>\n",
       "      <th>0</th>\n",
       "      <td>15.34</td>\n",
       "      <td>12.14</td>\n",
       "      <td>20.34</td>\n",
       "      <td>22.07</td>\n",
       "      <td>1.0</td>\n",
       "      <td>27.48</td>\n",
       "      <td>100</td>\n",
       "    </tr>\n",
       "    <tr>\n",
       "      <th>1</th>\n",
       "      <td>15.66</td>\n",
       "      <td>12.26</td>\n",
       "      <td>21.26</td>\n",
       "      <td>22.23</td>\n",
       "      <td>1.0</td>\n",
       "      <td>27.92</td>\n",
       "      <td>100</td>\n",
       "    </tr>\n",
       "    <tr>\n",
       "      <th>2</th>\n",
       "      <td>16.54</td>\n",
       "      <td>NaN</td>\n",
       "      <td>NaN</td>\n",
       "      <td>22.67</td>\n",
       "      <td>1.0</td>\n",
       "      <td>29.13</td>\n",
       "      <td>100</td>\n",
       "    </tr>\n",
       "    <tr>\n",
       "      <th>3</th>\n",
       "      <td>16.62</td>\n",
       "      <td>NaN</td>\n",
       "      <td>NaN</td>\n",
       "      <td>22.71</td>\n",
       "      <td>1.0</td>\n",
       "      <td>29.24</td>\n",
       "      <td>100</td>\n",
       "    </tr>\n",
       "    <tr>\n",
       "      <th>4</th>\n",
       "      <td>16.70</td>\n",
       "      <td>12.65</td>\n",
       "      <td>24.25</td>\n",
       "      <td>22.75</td>\n",
       "      <td>1.0</td>\n",
       "      <td>29.35</td>\n",
       "      <td>100</td>\n",
       "    </tr>\n",
       "  </tbody>\n",
       "</table>\n",
       "</div>"
      ],
      "text/plain": [
       "   feature1  feature2  feature3  feature4  seeds_type  sum_f1_f2  all_hundreds\n",
       "0     15.34     12.14     20.34     22.07         1.0      27.48           100\n",
       "1     15.66     12.26     21.26     22.23         1.0      27.92           100\n",
       "2     16.54       NaN       NaN     22.67         1.0      29.13           100\n",
       "3     16.62       NaN       NaN     22.71         1.0      29.24           100\n",
       "4     16.70     12.65     24.25     22.75         1.0      29.35           100"
      ]
     },
     "execution_count": 89,
     "metadata": {},
     "output_type": "execute_result"
    }
   ],
   "source": [
    "df.head()"
   ]
  },
  {
   "cell_type": "code",
   "execution_count": 90,
   "id": "14d09c05",
   "metadata": {},
   "outputs": [
    {
     "data": {
      "text/plain": [
       "0      100\n",
       "1      100\n",
       "2      100\n",
       "3      100\n",
       "4      100\n",
       "      ... \n",
       "192    100\n",
       "193    100\n",
       "194    100\n",
       "195    100\n",
       "196    100\n",
       "Name: all_hundreds, Length: 197, dtype: int64"
      ]
     },
     "execution_count": 90,
     "metadata": {},
     "output_type": "execute_result"
    }
   ],
   "source": [
    "df.all_hundreds"
   ]
  },
  {
   "cell_type": "code",
   "execution_count": 93,
   "id": "78948b28",
   "metadata": {},
   "outputs": [],
   "source": [
    "del df['all_hundreds']"
   ]
  },
  {
   "cell_type": "code",
   "execution_count": 94,
   "id": "f53bcc0e",
   "metadata": {},
   "outputs": [
    {
     "data": {
      "text/html": [
       "<div>\n",
       "<style scoped>\n",
       "    .dataframe tbody tr th:only-of-type {\n",
       "        vertical-align: middle;\n",
       "    }\n",
       "\n",
       "    .dataframe tbody tr th {\n",
       "        vertical-align: top;\n",
       "    }\n",
       "\n",
       "    .dataframe thead th {\n",
       "        text-align: right;\n",
       "    }\n",
       "</style>\n",
       "<table border=\"1\" class=\"dataframe\">\n",
       "  <thead>\n",
       "    <tr style=\"text-align: right;\">\n",
       "      <th></th>\n",
       "      <th>feature1</th>\n",
       "      <th>feature2</th>\n",
       "      <th>feature3</th>\n",
       "      <th>feature4</th>\n",
       "      <th>seeds_type</th>\n",
       "      <th>sum_f1_f2</th>\n",
       "    </tr>\n",
       "  </thead>\n",
       "  <tbody>\n",
       "    <tr>\n",
       "      <th>0</th>\n",
       "      <td>15.34</td>\n",
       "      <td>12.14</td>\n",
       "      <td>20.34</td>\n",
       "      <td>22.07</td>\n",
       "      <td>1.0</td>\n",
       "      <td>27.48</td>\n",
       "    </tr>\n",
       "    <tr>\n",
       "      <th>1</th>\n",
       "      <td>15.66</td>\n",
       "      <td>12.26</td>\n",
       "      <td>21.26</td>\n",
       "      <td>22.23</td>\n",
       "      <td>1.0</td>\n",
       "      <td>27.92</td>\n",
       "    </tr>\n",
       "    <tr>\n",
       "      <th>2</th>\n",
       "      <td>16.54</td>\n",
       "      <td>NaN</td>\n",
       "      <td>NaN</td>\n",
       "      <td>22.67</td>\n",
       "      <td>1.0</td>\n",
       "      <td>29.13</td>\n",
       "    </tr>\n",
       "    <tr>\n",
       "      <th>3</th>\n",
       "      <td>16.62</td>\n",
       "      <td>NaN</td>\n",
       "      <td>NaN</td>\n",
       "      <td>22.71</td>\n",
       "      <td>1.0</td>\n",
       "      <td>29.24</td>\n",
       "    </tr>\n",
       "    <tr>\n",
       "      <th>4</th>\n",
       "      <td>16.70</td>\n",
       "      <td>12.65</td>\n",
       "      <td>24.25</td>\n",
       "      <td>22.75</td>\n",
       "      <td>1.0</td>\n",
       "      <td>29.35</td>\n",
       "    </tr>\n",
       "    <tr>\n",
       "      <th>...</th>\n",
       "      <td>...</td>\n",
       "      <td>...</td>\n",
       "      <td>...</td>\n",
       "      <td>...</td>\n",
       "      <td>...</td>\n",
       "      <td>...</td>\n",
       "    </tr>\n",
       "    <tr>\n",
       "      <th>192</th>\n",
       "      <td>31.74</td>\n",
       "      <td>18.29</td>\n",
       "      <td>67.49</td>\n",
       "      <td>30.27</td>\n",
       "      <td>3.0</td>\n",
       "      <td>50.03</td>\n",
       "    </tr>\n",
       "    <tr>\n",
       "      <th>193</th>\n",
       "      <td>31.82</td>\n",
       "      <td>18.32</td>\n",
       "      <td>67.72</td>\n",
       "      <td>30.31</td>\n",
       "      <td>3.0</td>\n",
       "      <td>50.14</td>\n",
       "    </tr>\n",
       "    <tr>\n",
       "      <th>194</th>\n",
       "      <td>31.90</td>\n",
       "      <td>18.35</td>\n",
       "      <td>67.95</td>\n",
       "      <td>30.35</td>\n",
       "      <td>3.0</td>\n",
       "      <td>50.25</td>\n",
       "    </tr>\n",
       "    <tr>\n",
       "      <th>195</th>\n",
       "      <td>31.98</td>\n",
       "      <td>18.38</td>\n",
       "      <td>68.18</td>\n",
       "      <td>30.39</td>\n",
       "      <td>3.0</td>\n",
       "      <td>50.36</td>\n",
       "    </tr>\n",
       "    <tr>\n",
       "      <th>196</th>\n",
       "      <td>8.50</td>\n",
       "      <td>7.40</td>\n",
       "      <td>0.86</td>\n",
       "      <td>7.00</td>\n",
       "      <td>3.0</td>\n",
       "      <td>15.90</td>\n",
       "    </tr>\n",
       "  </tbody>\n",
       "</table>\n",
       "<p>197 rows × 6 columns</p>\n",
       "</div>"
      ],
      "text/plain": [
       "     feature1  feature2  feature3  feature4  seeds_type  sum_f1_f2\n",
       "0       15.34     12.14     20.34     22.07         1.0      27.48\n",
       "1       15.66     12.26     21.26     22.23         1.0      27.92\n",
       "2       16.54       NaN       NaN     22.67         1.0      29.13\n",
       "3       16.62       NaN       NaN     22.71         1.0      29.24\n",
       "4       16.70     12.65     24.25     22.75         1.0      29.35\n",
       "..        ...       ...       ...       ...         ...        ...\n",
       "192     31.74     18.29     67.49     30.27         3.0      50.03\n",
       "193     31.82     18.32     67.72     30.31         3.0      50.14\n",
       "194     31.90     18.35     67.95     30.35         3.0      50.25\n",
       "195     31.98     18.38     68.18     30.39         3.0      50.36\n",
       "196      8.50      7.40      0.86      7.00         3.0      15.90\n",
       "\n",
       "[197 rows x 6 columns]"
      ]
     },
     "execution_count": 94,
     "metadata": {},
     "output_type": "execute_result"
    }
   ],
   "source": [
    "df"
   ]
  },
  {
   "cell_type": "code",
   "execution_count": 95,
   "id": "eeaed2ac",
   "metadata": {},
   "outputs": [
    {
     "data": {
      "text/html": [
       "<div>\n",
       "<style scoped>\n",
       "    .dataframe tbody tr th:only-of-type {\n",
       "        vertical-align: middle;\n",
       "    }\n",
       "\n",
       "    .dataframe tbody tr th {\n",
       "        vertical-align: top;\n",
       "    }\n",
       "\n",
       "    .dataframe thead th {\n",
       "        text-align: right;\n",
       "    }\n",
       "</style>\n",
       "<table border=\"1\" class=\"dataframe\">\n",
       "  <thead>\n",
       "    <tr style=\"text-align: right;\">\n",
       "      <th></th>\n",
       "      <th>feature1</th>\n",
       "      <th>feature2</th>\n",
       "      <th>feature3</th>\n",
       "      <th>feature4</th>\n",
       "      <th>seeds_type</th>\n",
       "    </tr>\n",
       "  </thead>\n",
       "  <tbody>\n",
       "    <tr>\n",
       "      <th>0</th>\n",
       "      <td>15.34</td>\n",
       "      <td>12.14</td>\n",
       "      <td>20.34</td>\n",
       "      <td>22.07</td>\n",
       "      <td>1.0</td>\n",
       "    </tr>\n",
       "    <tr>\n",
       "      <th>1</th>\n",
       "      <td>15.66</td>\n",
       "      <td>12.26</td>\n",
       "      <td>21.26</td>\n",
       "      <td>22.23</td>\n",
       "      <td>1.0</td>\n",
       "    </tr>\n",
       "    <tr>\n",
       "      <th>2</th>\n",
       "      <td>16.54</td>\n",
       "      <td>NaN</td>\n",
       "      <td>NaN</td>\n",
       "      <td>22.67</td>\n",
       "      <td>1.0</td>\n",
       "    </tr>\n",
       "    <tr>\n",
       "      <th>3</th>\n",
       "      <td>16.62</td>\n",
       "      <td>NaN</td>\n",
       "      <td>NaN</td>\n",
       "      <td>22.71</td>\n",
       "      <td>1.0</td>\n",
       "    </tr>\n",
       "    <tr>\n",
       "      <th>4</th>\n",
       "      <td>16.70</td>\n",
       "      <td>12.65</td>\n",
       "      <td>24.25</td>\n",
       "      <td>22.75</td>\n",
       "      <td>1.0</td>\n",
       "    </tr>\n",
       "    <tr>\n",
       "      <th>...</th>\n",
       "      <td>...</td>\n",
       "      <td>...</td>\n",
       "      <td>...</td>\n",
       "      <td>...</td>\n",
       "      <td>...</td>\n",
       "    </tr>\n",
       "    <tr>\n",
       "      <th>192</th>\n",
       "      <td>31.74</td>\n",
       "      <td>18.29</td>\n",
       "      <td>67.49</td>\n",
       "      <td>30.27</td>\n",
       "      <td>3.0</td>\n",
       "    </tr>\n",
       "    <tr>\n",
       "      <th>193</th>\n",
       "      <td>31.82</td>\n",
       "      <td>18.32</td>\n",
       "      <td>67.72</td>\n",
       "      <td>30.31</td>\n",
       "      <td>3.0</td>\n",
       "    </tr>\n",
       "    <tr>\n",
       "      <th>194</th>\n",
       "      <td>31.90</td>\n",
       "      <td>18.35</td>\n",
       "      <td>67.95</td>\n",
       "      <td>30.35</td>\n",
       "      <td>3.0</td>\n",
       "    </tr>\n",
       "    <tr>\n",
       "      <th>195</th>\n",
       "      <td>31.98</td>\n",
       "      <td>18.38</td>\n",
       "      <td>68.18</td>\n",
       "      <td>30.39</td>\n",
       "      <td>3.0</td>\n",
       "    </tr>\n",
       "    <tr>\n",
       "      <th>196</th>\n",
       "      <td>8.50</td>\n",
       "      <td>7.40</td>\n",
       "      <td>0.86</td>\n",
       "      <td>7.00</td>\n",
       "      <td>3.0</td>\n",
       "    </tr>\n",
       "  </tbody>\n",
       "</table>\n",
       "<p>197 rows × 5 columns</p>\n",
       "</div>"
      ],
      "text/plain": [
       "     feature1  feature2  feature3  feature4  seeds_type\n",
       "0       15.34     12.14     20.34     22.07         1.0\n",
       "1       15.66     12.26     21.26     22.23         1.0\n",
       "2       16.54       NaN       NaN     22.67         1.0\n",
       "3       16.62       NaN       NaN     22.71         1.0\n",
       "4       16.70     12.65     24.25     22.75         1.0\n",
       "..        ...       ...       ...       ...         ...\n",
       "192     31.74     18.29     67.49     30.27         3.0\n",
       "193     31.82     18.32     67.72     30.31         3.0\n",
       "194     31.90     18.35     67.95     30.35         3.0\n",
       "195     31.98     18.38     68.18     30.39         3.0\n",
       "196      8.50      7.40      0.86      7.00         3.0\n",
       "\n",
       "[197 rows x 5 columns]"
      ]
     },
     "execution_count": 95,
     "metadata": {},
     "output_type": "execute_result"
    }
   ],
   "source": [
    "del df['sum_f1_f2']\n",
    "df"
   ]
  },
  {
   "cell_type": "code",
   "execution_count": 97,
   "id": "da48202a",
   "metadata": {},
   "outputs": [
    {
     "data": {
      "text/html": [
       "<div>\n",
       "<style scoped>\n",
       "    .dataframe tbody tr th:only-of-type {\n",
       "        vertical-align: middle;\n",
       "    }\n",
       "\n",
       "    .dataframe tbody tr th {\n",
       "        vertical-align: top;\n",
       "    }\n",
       "\n",
       "    .dataframe thead th {\n",
       "        text-align: right;\n",
       "    }\n",
       "</style>\n",
       "<table border=\"1\" class=\"dataframe\">\n",
       "  <thead>\n",
       "    <tr style=\"text-align: right;\">\n",
       "      <th></th>\n",
       "      <th>feature1</th>\n",
       "      <th>feature2</th>\n",
       "      <th>feature3</th>\n",
       "      <th>feature4</th>\n",
       "      <th>seeds_type</th>\n",
       "    </tr>\n",
       "  </thead>\n",
       "  <tbody>\n",
       "    <tr>\n",
       "      <th>0</th>\n",
       "      <td>15.34</td>\n",
       "      <td>12.14</td>\n",
       "      <td>20.34</td>\n",
       "      <td>22.07</td>\n",
       "      <td>1.0</td>\n",
       "    </tr>\n",
       "    <tr>\n",
       "      <th>1</th>\n",
       "      <td>15.66</td>\n",
       "      <td>12.26</td>\n",
       "      <td>21.26</td>\n",
       "      <td>22.23</td>\n",
       "      <td>1.0</td>\n",
       "    </tr>\n",
       "    <tr>\n",
       "      <th>2</th>\n",
       "      <td>16.54</td>\n",
       "      <td>NaN</td>\n",
       "      <td>NaN</td>\n",
       "      <td>22.67</td>\n",
       "      <td>1.0</td>\n",
       "    </tr>\n",
       "    <tr>\n",
       "      <th>3</th>\n",
       "      <td>16.62</td>\n",
       "      <td>NaN</td>\n",
       "      <td>NaN</td>\n",
       "      <td>22.71</td>\n",
       "      <td>1.0</td>\n",
       "    </tr>\n",
       "    <tr>\n",
       "      <th>4</th>\n",
       "      <td>16.70</td>\n",
       "      <td>12.65</td>\n",
       "      <td>24.25</td>\n",
       "      <td>22.75</td>\n",
       "      <td>1.0</td>\n",
       "    </tr>\n",
       "    <tr>\n",
       "      <th>5</th>\n",
       "      <td>16.78</td>\n",
       "      <td>12.68</td>\n",
       "      <td>24.48</td>\n",
       "      <td>22.79</td>\n",
       "      <td>1.0</td>\n",
       "    </tr>\n",
       "    <tr>\n",
       "      <th>6</th>\n",
       "      <td>16.86</td>\n",
       "      <td>12.71</td>\n",
       "      <td>24.71</td>\n",
       "      <td>22.83</td>\n",
       "      <td>1.0</td>\n",
       "    </tr>\n",
       "    <tr>\n",
       "      <th>7</th>\n",
       "      <td>16.94</td>\n",
       "      <td>12.74</td>\n",
       "      <td>24.94</td>\n",
       "      <td>22.87</td>\n",
       "      <td>1.0</td>\n",
       "    </tr>\n",
       "    <tr>\n",
       "      <th>8</th>\n",
       "      <td>17.02</td>\n",
       "      <td>12.77</td>\n",
       "      <td>25.17</td>\n",
       "      <td>22.91</td>\n",
       "      <td>1.0</td>\n",
       "    </tr>\n",
       "    <tr>\n",
       "      <th>9</th>\n",
       "      <td>17.10</td>\n",
       "      <td>12.80</td>\n",
       "      <td>25.40</td>\n",
       "      <td>22.95</td>\n",
       "      <td>1.0</td>\n",
       "    </tr>\n",
       "    <tr>\n",
       "      <th>10</th>\n",
       "      <td>17.18</td>\n",
       "      <td>12.83</td>\n",
       "      <td>25.63</td>\n",
       "      <td>22.99</td>\n",
       "      <td>1.0</td>\n",
       "    </tr>\n",
       "    <tr>\n",
       "      <th>11</th>\n",
       "      <td>17.26</td>\n",
       "      <td>12.86</td>\n",
       "      <td>25.86</td>\n",
       "      <td>23.03</td>\n",
       "      <td>1.0</td>\n",
       "    </tr>\n",
       "    <tr>\n",
       "      <th>12</th>\n",
       "      <td>17.34</td>\n",
       "      <td>12.89</td>\n",
       "      <td>26.09</td>\n",
       "      <td>23.07</td>\n",
       "      <td>1.0</td>\n",
       "    </tr>\n",
       "    <tr>\n",
       "      <th>13</th>\n",
       "      <td>17.42</td>\n",
       "      <td>12.92</td>\n",
       "      <td>26.32</td>\n",
       "      <td>23.11</td>\n",
       "      <td>1.0</td>\n",
       "    </tr>\n",
       "    <tr>\n",
       "      <th>14</th>\n",
       "      <td>17.50</td>\n",
       "      <td>12.95</td>\n",
       "      <td>26.55</td>\n",
       "      <td>23.15</td>\n",
       "      <td>1.0</td>\n",
       "    </tr>\n",
       "    <tr>\n",
       "      <th>15</th>\n",
       "      <td>17.58</td>\n",
       "      <td>12.98</td>\n",
       "      <td>26.78</td>\n",
       "      <td>23.19</td>\n",
       "      <td>1.0</td>\n",
       "    </tr>\n",
       "    <tr>\n",
       "      <th>16</th>\n",
       "      <td>17.66</td>\n",
       "      <td>13.01</td>\n",
       "      <td>27.01</td>\n",
       "      <td>23.23</td>\n",
       "      <td>1.0</td>\n",
       "    </tr>\n",
       "    <tr>\n",
       "      <th>17</th>\n",
       "      <td>17.74</td>\n",
       "      <td>13.04</td>\n",
       "      <td>27.24</td>\n",
       "      <td>23.27</td>\n",
       "      <td>1.0</td>\n",
       "    </tr>\n",
       "    <tr>\n",
       "      <th>18</th>\n",
       "      <td>17.82</td>\n",
       "      <td>13.07</td>\n",
       "      <td>27.47</td>\n",
       "      <td>23.31</td>\n",
       "      <td>1.0</td>\n",
       "    </tr>\n",
       "    <tr>\n",
       "      <th>19</th>\n",
       "      <td>17.90</td>\n",
       "      <td>13.10</td>\n",
       "      <td>27.70</td>\n",
       "      <td>23.35</td>\n",
       "      <td>1.0</td>\n",
       "    </tr>\n",
       "    <tr>\n",
       "      <th>20</th>\n",
       "      <td>17.98</td>\n",
       "      <td>13.13</td>\n",
       "      <td>27.93</td>\n",
       "      <td>23.39</td>\n",
       "      <td>1.0</td>\n",
       "    </tr>\n",
       "    <tr>\n",
       "      <th>21</th>\n",
       "      <td>18.06</td>\n",
       "      <td>13.16</td>\n",
       "      <td>28.16</td>\n",
       "      <td>23.43</td>\n",
       "      <td>1.0</td>\n",
       "    </tr>\n",
       "    <tr>\n",
       "      <th>22</th>\n",
       "      <td>18.14</td>\n",
       "      <td>13.19</td>\n",
       "      <td>28.39</td>\n",
       "      <td>23.47</td>\n",
       "      <td>1.0</td>\n",
       "    </tr>\n",
       "    <tr>\n",
       "      <th>23</th>\n",
       "      <td>18.22</td>\n",
       "      <td>13.22</td>\n",
       "      <td>28.62</td>\n",
       "      <td>23.51</td>\n",
       "      <td>1.0</td>\n",
       "    </tr>\n",
       "    <tr>\n",
       "      <th>24</th>\n",
       "      <td>18.30</td>\n",
       "      <td>13.25</td>\n",
       "      <td>28.85</td>\n",
       "      <td>23.55</td>\n",
       "      <td>1.0</td>\n",
       "    </tr>\n",
       "    <tr>\n",
       "      <th>25</th>\n",
       "      <td>18.38</td>\n",
       "      <td>13.28</td>\n",
       "      <td>29.08</td>\n",
       "      <td>23.59</td>\n",
       "      <td>1.0</td>\n",
       "    </tr>\n",
       "    <tr>\n",
       "      <th>26</th>\n",
       "      <td>18.46</td>\n",
       "      <td>13.31</td>\n",
       "      <td>29.31</td>\n",
       "      <td>23.63</td>\n",
       "      <td>1.0</td>\n",
       "    </tr>\n",
       "    <tr>\n",
       "      <th>27</th>\n",
       "      <td>18.54</td>\n",
       "      <td>13.34</td>\n",
       "      <td>29.54</td>\n",
       "      <td>23.67</td>\n",
       "      <td>1.0</td>\n",
       "    </tr>\n",
       "    <tr>\n",
       "      <th>28</th>\n",
       "      <td>18.62</td>\n",
       "      <td>13.37</td>\n",
       "      <td>29.77</td>\n",
       "      <td>23.71</td>\n",
       "      <td>1.0</td>\n",
       "    </tr>\n",
       "    <tr>\n",
       "      <th>29</th>\n",
       "      <td>18.70</td>\n",
       "      <td>13.40</td>\n",
       "      <td>30.00</td>\n",
       "      <td>23.75</td>\n",
       "      <td>1.0</td>\n",
       "    </tr>\n",
       "    <tr>\n",
       "      <th>30</th>\n",
       "      <td>18.78</td>\n",
       "      <td>13.43</td>\n",
       "      <td>30.23</td>\n",
       "      <td>23.79</td>\n",
       "      <td>1.0</td>\n",
       "    </tr>\n",
       "    <tr>\n",
       "      <th>31</th>\n",
       "      <td>18.86</td>\n",
       "      <td>13.46</td>\n",
       "      <td>30.46</td>\n",
       "      <td>23.83</td>\n",
       "      <td>1.0</td>\n",
       "    </tr>\n",
       "    <tr>\n",
       "      <th>32</th>\n",
       "      <td>18.94</td>\n",
       "      <td>13.49</td>\n",
       "      <td>30.69</td>\n",
       "      <td>23.87</td>\n",
       "      <td>1.0</td>\n",
       "    </tr>\n",
       "    <tr>\n",
       "      <th>33</th>\n",
       "      <td>19.02</td>\n",
       "      <td>13.52</td>\n",
       "      <td>30.92</td>\n",
       "      <td>23.91</td>\n",
       "      <td>1.0</td>\n",
       "    </tr>\n",
       "    <tr>\n",
       "      <th>34</th>\n",
       "      <td>19.10</td>\n",
       "      <td>13.55</td>\n",
       "      <td>31.15</td>\n",
       "      <td>23.95</td>\n",
       "      <td>1.0</td>\n",
       "    </tr>\n",
       "    <tr>\n",
       "      <th>35</th>\n",
       "      <td>19.18</td>\n",
       "      <td>13.58</td>\n",
       "      <td>31.38</td>\n",
       "      <td>23.99</td>\n",
       "      <td>1.0</td>\n",
       "    </tr>\n",
       "    <tr>\n",
       "      <th>36</th>\n",
       "      <td>19.26</td>\n",
       "      <td>13.61</td>\n",
       "      <td>31.61</td>\n",
       "      <td>24.03</td>\n",
       "      <td>1.0</td>\n",
       "    </tr>\n",
       "    <tr>\n",
       "      <th>37</th>\n",
       "      <td>19.34</td>\n",
       "      <td>13.64</td>\n",
       "      <td>31.84</td>\n",
       "      <td>24.07</td>\n",
       "      <td>1.0</td>\n",
       "    </tr>\n",
       "    <tr>\n",
       "      <th>38</th>\n",
       "      <td>19.42</td>\n",
       "      <td>13.67</td>\n",
       "      <td>32.07</td>\n",
       "      <td>24.11</td>\n",
       "      <td>1.0</td>\n",
       "    </tr>\n",
       "    <tr>\n",
       "      <th>39</th>\n",
       "      <td>19.50</td>\n",
       "      <td>13.70</td>\n",
       "      <td>32.30</td>\n",
       "      <td>24.15</td>\n",
       "      <td>1.0</td>\n",
       "    </tr>\n",
       "    <tr>\n",
       "      <th>40</th>\n",
       "      <td>19.58</td>\n",
       "      <td>13.73</td>\n",
       "      <td>32.53</td>\n",
       "      <td>24.19</td>\n",
       "      <td>1.0</td>\n",
       "    </tr>\n",
       "    <tr>\n",
       "      <th>41</th>\n",
       "      <td>19.66</td>\n",
       "      <td>13.76</td>\n",
       "      <td>32.76</td>\n",
       "      <td>24.23</td>\n",
       "      <td>1.0</td>\n",
       "    </tr>\n",
       "    <tr>\n",
       "      <th>42</th>\n",
       "      <td>19.74</td>\n",
       "      <td>13.79</td>\n",
       "      <td>32.99</td>\n",
       "      <td>24.27</td>\n",
       "      <td>1.0</td>\n",
       "    </tr>\n",
       "    <tr>\n",
       "      <th>43</th>\n",
       "      <td>19.82</td>\n",
       "      <td>13.82</td>\n",
       "      <td>33.22</td>\n",
       "      <td>24.31</td>\n",
       "      <td>1.0</td>\n",
       "    </tr>\n",
       "    <tr>\n",
       "      <th>44</th>\n",
       "      <td>19.90</td>\n",
       "      <td>13.85</td>\n",
       "      <td>33.45</td>\n",
       "      <td>24.35</td>\n",
       "      <td>1.0</td>\n",
       "    </tr>\n",
       "    <tr>\n",
       "      <th>45</th>\n",
       "      <td>19.98</td>\n",
       "      <td>13.88</td>\n",
       "      <td>33.68</td>\n",
       "      <td>24.39</td>\n",
       "      <td>1.0</td>\n",
       "    </tr>\n",
       "    <tr>\n",
       "      <th>46</th>\n",
       "      <td>20.06</td>\n",
       "      <td>13.91</td>\n",
       "      <td>33.91</td>\n",
       "      <td>24.43</td>\n",
       "      <td>1.0</td>\n",
       "    </tr>\n",
       "    <tr>\n",
       "      <th>47</th>\n",
       "      <td>20.14</td>\n",
       "      <td>13.94</td>\n",
       "      <td>34.14</td>\n",
       "      <td>24.47</td>\n",
       "      <td>1.0</td>\n",
       "    </tr>\n",
       "    <tr>\n",
       "      <th>48</th>\n",
       "      <td>20.22</td>\n",
       "      <td>13.97</td>\n",
       "      <td>34.37</td>\n",
       "      <td>24.51</td>\n",
       "      <td>1.0</td>\n",
       "    </tr>\n",
       "    <tr>\n",
       "      <th>49</th>\n",
       "      <td>20.30</td>\n",
       "      <td>14.00</td>\n",
       "      <td>34.60</td>\n",
       "      <td>24.55</td>\n",
       "      <td>1.0</td>\n",
       "    </tr>\n",
       "    <tr>\n",
       "      <th>50</th>\n",
       "      <td>20.38</td>\n",
       "      <td>14.03</td>\n",
       "      <td>34.83</td>\n",
       "      <td>24.59</td>\n",
       "      <td>1.0</td>\n",
       "    </tr>\n",
       "    <tr>\n",
       "      <th>51</th>\n",
       "      <td>20.46</td>\n",
       "      <td>14.06</td>\n",
       "      <td>35.06</td>\n",
       "      <td>24.63</td>\n",
       "      <td>1.0</td>\n",
       "    </tr>\n",
       "    <tr>\n",
       "      <th>52</th>\n",
       "      <td>20.54</td>\n",
       "      <td>14.09</td>\n",
       "      <td>35.29</td>\n",
       "      <td>24.67</td>\n",
       "      <td>1.0</td>\n",
       "    </tr>\n",
       "    <tr>\n",
       "      <th>53</th>\n",
       "      <td>20.62</td>\n",
       "      <td>14.12</td>\n",
       "      <td>35.52</td>\n",
       "      <td>24.71</td>\n",
       "      <td>1.0</td>\n",
       "    </tr>\n",
       "    <tr>\n",
       "      <th>54</th>\n",
       "      <td>20.70</td>\n",
       "      <td>14.15</td>\n",
       "      <td>35.75</td>\n",
       "      <td>24.75</td>\n",
       "      <td>1.0</td>\n",
       "    </tr>\n",
       "    <tr>\n",
       "      <th>55</th>\n",
       "      <td>20.78</td>\n",
       "      <td>14.18</td>\n",
       "      <td>35.98</td>\n",
       "      <td>24.79</td>\n",
       "      <td>1.0</td>\n",
       "    </tr>\n",
       "  </tbody>\n",
       "</table>\n",
       "</div>"
      ],
      "text/plain": [
       "    feature1  feature2  feature3  feature4  seeds_type\n",
       "0      15.34     12.14     20.34     22.07         1.0\n",
       "1      15.66     12.26     21.26     22.23         1.0\n",
       "2      16.54       NaN       NaN     22.67         1.0\n",
       "3      16.62       NaN       NaN     22.71         1.0\n",
       "4      16.70     12.65     24.25     22.75         1.0\n",
       "5      16.78     12.68     24.48     22.79         1.0\n",
       "6      16.86     12.71     24.71     22.83         1.0\n",
       "7      16.94     12.74     24.94     22.87         1.0\n",
       "8      17.02     12.77     25.17     22.91         1.0\n",
       "9      17.10     12.80     25.40     22.95         1.0\n",
       "10     17.18     12.83     25.63     22.99         1.0\n",
       "11     17.26     12.86     25.86     23.03         1.0\n",
       "12     17.34     12.89     26.09     23.07         1.0\n",
       "13     17.42     12.92     26.32     23.11         1.0\n",
       "14     17.50     12.95     26.55     23.15         1.0\n",
       "15     17.58     12.98     26.78     23.19         1.0\n",
       "16     17.66     13.01     27.01     23.23         1.0\n",
       "17     17.74     13.04     27.24     23.27         1.0\n",
       "18     17.82     13.07     27.47     23.31         1.0\n",
       "19     17.90     13.10     27.70     23.35         1.0\n",
       "20     17.98     13.13     27.93     23.39         1.0\n",
       "21     18.06     13.16     28.16     23.43         1.0\n",
       "22     18.14     13.19     28.39     23.47         1.0\n",
       "23     18.22     13.22     28.62     23.51         1.0\n",
       "24     18.30     13.25     28.85     23.55         1.0\n",
       "25     18.38     13.28     29.08     23.59         1.0\n",
       "26     18.46     13.31     29.31     23.63         1.0\n",
       "27     18.54     13.34     29.54     23.67         1.0\n",
       "28     18.62     13.37     29.77     23.71         1.0\n",
       "29     18.70     13.40     30.00     23.75         1.0\n",
       "30     18.78     13.43     30.23     23.79         1.0\n",
       "31     18.86     13.46     30.46     23.83         1.0\n",
       "32     18.94     13.49     30.69     23.87         1.0\n",
       "33     19.02     13.52     30.92     23.91         1.0\n",
       "34     19.10     13.55     31.15     23.95         1.0\n",
       "35     19.18     13.58     31.38     23.99         1.0\n",
       "36     19.26     13.61     31.61     24.03         1.0\n",
       "37     19.34     13.64     31.84     24.07         1.0\n",
       "38     19.42     13.67     32.07     24.11         1.0\n",
       "39     19.50     13.70     32.30     24.15         1.0\n",
       "40     19.58     13.73     32.53     24.19         1.0\n",
       "41     19.66     13.76     32.76     24.23         1.0\n",
       "42     19.74     13.79     32.99     24.27         1.0\n",
       "43     19.82     13.82     33.22     24.31         1.0\n",
       "44     19.90     13.85     33.45     24.35         1.0\n",
       "45     19.98     13.88     33.68     24.39         1.0\n",
       "46     20.06     13.91     33.91     24.43         1.0\n",
       "47     20.14     13.94     34.14     24.47         1.0\n",
       "48     20.22     13.97     34.37     24.51         1.0\n",
       "49     20.30     14.00     34.60     24.55         1.0\n",
       "50     20.38     14.03     34.83     24.59         1.0\n",
       "51     20.46     14.06     35.06     24.63         1.0\n",
       "52     20.54     14.09     35.29     24.67         1.0\n",
       "53     20.62     14.12     35.52     24.71         1.0\n",
       "54     20.70     14.15     35.75     24.75         1.0\n",
       "55     20.78     14.18     35.98     24.79         1.0"
      ]
     },
     "execution_count": 97,
     "metadata": {},
     "output_type": "execute_result"
    }
   ],
   "source": [
    "a=df[df.seeds_type==1]\n",
    "a"
   ]
  },
  {
   "cell_type": "code",
   "execution_count": 98,
   "id": "b20afcf7",
   "metadata": {},
   "outputs": [
    {
     "data": {
      "text/html": [
       "<div>\n",
       "<style scoped>\n",
       "    .dataframe tbody tr th:only-of-type {\n",
       "        vertical-align: middle;\n",
       "    }\n",
       "\n",
       "    .dataframe tbody tr th {\n",
       "        vertical-align: top;\n",
       "    }\n",
       "\n",
       "    .dataframe thead th {\n",
       "        text-align: right;\n",
       "    }\n",
       "</style>\n",
       "<table border=\"1\" class=\"dataframe\">\n",
       "  <thead>\n",
       "    <tr style=\"text-align: right;\">\n",
       "      <th></th>\n",
       "      <th>feature1</th>\n",
       "      <th>feature2</th>\n",
       "      <th>feature3</th>\n",
       "      <th>feature4</th>\n",
       "      <th>seeds_type</th>\n",
       "    </tr>\n",
       "  </thead>\n",
       "  <tbody>\n",
       "    <tr>\n",
       "      <th>0</th>\n",
       "      <td>15.34</td>\n",
       "      <td>12.14</td>\n",
       "      <td>20.34</td>\n",
       "      <td>22.07</td>\n",
       "      <td>1.0</td>\n",
       "    </tr>\n",
       "    <tr>\n",
       "      <th>1</th>\n",
       "      <td>15.66</td>\n",
       "      <td>12.26</td>\n",
       "      <td>21.26</td>\n",
       "      <td>22.23</td>\n",
       "      <td>1.0</td>\n",
       "    </tr>\n",
       "    <tr>\n",
       "      <th>2</th>\n",
       "      <td>16.54</td>\n",
       "      <td>13.37</td>\n",
       "      <td>NaN</td>\n",
       "      <td>22.67</td>\n",
       "      <td>1.0</td>\n",
       "    </tr>\n",
       "    <tr>\n",
       "      <th>3</th>\n",
       "      <td>16.62</td>\n",
       "      <td>13.37</td>\n",
       "      <td>NaN</td>\n",
       "      <td>22.71</td>\n",
       "      <td>1.0</td>\n",
       "    </tr>\n",
       "    <tr>\n",
       "      <th>4</th>\n",
       "      <td>16.70</td>\n",
       "      <td>12.65</td>\n",
       "      <td>24.25</td>\n",
       "      <td>22.75</td>\n",
       "      <td>1.0</td>\n",
       "    </tr>\n",
       "  </tbody>\n",
       "</table>\n",
       "</div>"
      ],
      "text/plain": [
       "   feature1  feature2  feature3  feature4  seeds_type\n",
       "0     15.34     12.14     20.34     22.07         1.0\n",
       "1     15.66     12.26     21.26     22.23         1.0\n",
       "2     16.54     13.37       NaN     22.67         1.0\n",
       "3     16.62     13.37       NaN     22.71         1.0\n",
       "4     16.70     12.65     24.25     22.75         1.0"
      ]
     },
     "execution_count": 98,
     "metadata": {},
     "output_type": "execute_result"
    }
   ],
   "source": [
    "df.feature2.fillna(a.feature2.mean(),inplace=True)\n",
    "df.head()"
   ]
  },
  {
   "cell_type": "code",
   "execution_count": 99,
   "id": "974110a8",
   "metadata": {},
   "outputs": [
    {
     "data": {
      "text/html": [
       "<div>\n",
       "<style scoped>\n",
       "    .dataframe tbody tr th:only-of-type {\n",
       "        vertical-align: middle;\n",
       "    }\n",
       "\n",
       "    .dataframe tbody tr th {\n",
       "        vertical-align: top;\n",
       "    }\n",
       "\n",
       "    .dataframe thead th {\n",
       "        text-align: right;\n",
       "    }\n",
       "</style>\n",
       "<table border=\"1\" class=\"dataframe\">\n",
       "  <thead>\n",
       "    <tr style=\"text-align: right;\">\n",
       "      <th></th>\n",
       "      <th>feature1</th>\n",
       "      <th>feature2</th>\n",
       "      <th>feature3</th>\n",
       "      <th>feature4</th>\n",
       "      <th>seeds_type</th>\n",
       "    </tr>\n",
       "  </thead>\n",
       "  <tbody>\n",
       "    <tr>\n",
       "      <th>0</th>\n",
       "      <td>15.34</td>\n",
       "      <td>12.14</td>\n",
       "      <td>20.34</td>\n",
       "      <td>22.07</td>\n",
       "      <td>1.0</td>\n",
       "    </tr>\n",
       "    <tr>\n",
       "      <th>1</th>\n",
       "      <td>15.66</td>\n",
       "      <td>12.26</td>\n",
       "      <td>21.26</td>\n",
       "      <td>22.23</td>\n",
       "      <td>1.0</td>\n",
       "    </tr>\n",
       "    <tr>\n",
       "      <th>2</th>\n",
       "      <td>16.54</td>\n",
       "      <td>13.37</td>\n",
       "      <td>29.77</td>\n",
       "      <td>22.67</td>\n",
       "      <td>1.0</td>\n",
       "    </tr>\n",
       "    <tr>\n",
       "      <th>3</th>\n",
       "      <td>16.62</td>\n",
       "      <td>13.37</td>\n",
       "      <td>29.77</td>\n",
       "      <td>22.71</td>\n",
       "      <td>1.0</td>\n",
       "    </tr>\n",
       "    <tr>\n",
       "      <th>4</th>\n",
       "      <td>16.70</td>\n",
       "      <td>12.65</td>\n",
       "      <td>24.25</td>\n",
       "      <td>22.75</td>\n",
       "      <td>1.0</td>\n",
       "    </tr>\n",
       "  </tbody>\n",
       "</table>\n",
       "</div>"
      ],
      "text/plain": [
       "   feature1  feature2  feature3  feature4  seeds_type\n",
       "0     15.34     12.14     20.34     22.07         1.0\n",
       "1     15.66     12.26     21.26     22.23         1.0\n",
       "2     16.54     13.37     29.77     22.67         1.0\n",
       "3     16.62     13.37     29.77     22.71         1.0\n",
       "4     16.70     12.65     24.25     22.75         1.0"
      ]
     },
     "execution_count": 99,
     "metadata": {},
     "output_type": "execute_result"
    }
   ],
   "source": [
    "df.feature3.fillna(a.feature3.mean(),inplace=True)\n",
    "df.head()"
   ]
  },
  {
   "cell_type": "code",
   "execution_count": 100,
   "id": "393a27e1",
   "metadata": {},
   "outputs": [
    {
     "data": {
      "text/html": [
       "<div>\n",
       "<style scoped>\n",
       "    .dataframe tbody tr th:only-of-type {\n",
       "        vertical-align: middle;\n",
       "    }\n",
       "\n",
       "    .dataframe tbody tr th {\n",
       "        vertical-align: top;\n",
       "    }\n",
       "\n",
       "    .dataframe thead th {\n",
       "        text-align: right;\n",
       "    }\n",
       "</style>\n",
       "<table border=\"1\" class=\"dataframe\">\n",
       "  <thead>\n",
       "    <tr style=\"text-align: right;\">\n",
       "      <th></th>\n",
       "      <th>feature1</th>\n",
       "      <th>feature2</th>\n",
       "      <th>feature3</th>\n",
       "      <th>feature4</th>\n",
       "      <th>seeds_type</th>\n",
       "      <th>color</th>\n",
       "    </tr>\n",
       "  </thead>\n",
       "  <tbody>\n",
       "    <tr>\n",
       "      <th>0</th>\n",
       "      <td>15.34</td>\n",
       "      <td>12.14</td>\n",
       "      <td>20.34</td>\n",
       "      <td>22.07</td>\n",
       "      <td>1.0</td>\n",
       "      <td>Blue</td>\n",
       "    </tr>\n",
       "    <tr>\n",
       "      <th>1</th>\n",
       "      <td>15.66</td>\n",
       "      <td>12.26</td>\n",
       "      <td>21.26</td>\n",
       "      <td>22.23</td>\n",
       "      <td>1.0</td>\n",
       "      <td>Blue</td>\n",
       "    </tr>\n",
       "    <tr>\n",
       "      <th>2</th>\n",
       "      <td>16.54</td>\n",
       "      <td>13.37</td>\n",
       "      <td>29.77</td>\n",
       "      <td>22.67</td>\n",
       "      <td>1.0</td>\n",
       "      <td>Blue</td>\n",
       "    </tr>\n",
       "    <tr>\n",
       "      <th>3</th>\n",
       "      <td>16.62</td>\n",
       "      <td>13.37</td>\n",
       "      <td>29.77</td>\n",
       "      <td>22.71</td>\n",
       "      <td>1.0</td>\n",
       "      <td>Blue</td>\n",
       "    </tr>\n",
       "    <tr>\n",
       "      <th>4</th>\n",
       "      <td>16.70</td>\n",
       "      <td>12.65</td>\n",
       "      <td>24.25</td>\n",
       "      <td>22.75</td>\n",
       "      <td>1.0</td>\n",
       "      <td>Blue</td>\n",
       "    </tr>\n",
       "  </tbody>\n",
       "</table>\n",
       "</div>"
      ],
      "text/plain": [
       "   feature1  feature2  feature3  feature4  seeds_type color\n",
       "0     15.34     12.14     20.34     22.07         1.0  Blue\n",
       "1     15.66     12.26     21.26     22.23         1.0  Blue\n",
       "2     16.54     13.37     29.77     22.67         1.0  Blue\n",
       "3     16.62     13.37     29.77     22.71         1.0  Blue\n",
       "4     16.70     12.65     24.25     22.75         1.0  Blue"
      ]
     },
     "execution_count": 100,
     "metadata": {},
     "output_type": "execute_result"
    }
   ],
   "source": [
    "df['color']='Blue'\n",
    "df.head()"
   ]
  },
  {
   "cell_type": "code",
   "execution_count": 101,
   "id": "cabdfc5d",
   "metadata": {},
   "outputs": [],
   "source": [
    "df.iloc[0:4,5]='Green'"
   ]
  },
  {
   "cell_type": "code",
   "execution_count": 102,
   "id": "4ad73b33",
   "metadata": {},
   "outputs": [
    {
     "data": {
      "text/html": [
       "<div>\n",
       "<style scoped>\n",
       "    .dataframe tbody tr th:only-of-type {\n",
       "        vertical-align: middle;\n",
       "    }\n",
       "\n",
       "    .dataframe tbody tr th {\n",
       "        vertical-align: top;\n",
       "    }\n",
       "\n",
       "    .dataframe thead th {\n",
       "        text-align: right;\n",
       "    }\n",
       "</style>\n",
       "<table border=\"1\" class=\"dataframe\">\n",
       "  <thead>\n",
       "    <tr style=\"text-align: right;\">\n",
       "      <th></th>\n",
       "      <th>feature1</th>\n",
       "      <th>feature2</th>\n",
       "      <th>feature3</th>\n",
       "      <th>feature4</th>\n",
       "      <th>seeds_type</th>\n",
       "      <th>color</th>\n",
       "    </tr>\n",
       "  </thead>\n",
       "  <tbody>\n",
       "    <tr>\n",
       "      <th>0</th>\n",
       "      <td>15.34</td>\n",
       "      <td>12.14</td>\n",
       "      <td>20.34</td>\n",
       "      <td>22.07</td>\n",
       "      <td>1.0</td>\n",
       "      <td>Green</td>\n",
       "    </tr>\n",
       "    <tr>\n",
       "      <th>1</th>\n",
       "      <td>15.66</td>\n",
       "      <td>12.26</td>\n",
       "      <td>21.26</td>\n",
       "      <td>22.23</td>\n",
       "      <td>1.0</td>\n",
       "      <td>Green</td>\n",
       "    </tr>\n",
       "    <tr>\n",
       "      <th>2</th>\n",
       "      <td>16.54</td>\n",
       "      <td>13.37</td>\n",
       "      <td>29.77</td>\n",
       "      <td>22.67</td>\n",
       "      <td>1.0</td>\n",
       "      <td>Green</td>\n",
       "    </tr>\n",
       "    <tr>\n",
       "      <th>3</th>\n",
       "      <td>16.62</td>\n",
       "      <td>13.37</td>\n",
       "      <td>29.77</td>\n",
       "      <td>22.71</td>\n",
       "      <td>1.0</td>\n",
       "      <td>Green</td>\n",
       "    </tr>\n",
       "    <tr>\n",
       "      <th>4</th>\n",
       "      <td>16.70</td>\n",
       "      <td>12.65</td>\n",
       "      <td>24.25</td>\n",
       "      <td>22.75</td>\n",
       "      <td>1.0</td>\n",
       "      <td>Blue</td>\n",
       "    </tr>\n",
       "  </tbody>\n",
       "</table>\n",
       "</div>"
      ],
      "text/plain": [
       "   feature1  feature2  feature3  feature4  seeds_type  color\n",
       "0     15.34     12.14     20.34     22.07         1.0  Green\n",
       "1     15.66     12.26     21.26     22.23         1.0  Green\n",
       "2     16.54     13.37     29.77     22.67         1.0  Green\n",
       "3     16.62     13.37     29.77     22.71         1.0  Green\n",
       "4     16.70     12.65     24.25     22.75         1.0   Blue"
      ]
     },
     "execution_count": 102,
     "metadata": {},
     "output_type": "execute_result"
    }
   ],
   "source": [
    "df.head()"
   ]
  },
  {
   "cell_type": "code",
   "execution_count": 103,
   "id": "fb1bd301",
   "metadata": {},
   "outputs": [],
   "source": [
    "def colortocolorId(input):\n",
    "    if input=='Green':\n",
    "        return 0\n",
    "    else:\n",
    "        return 1"
   ]
  },
  {
   "cell_type": "code",
   "execution_count": 104,
   "id": "8cc9b28b",
   "metadata": {},
   "outputs": [
    {
     "data": {
      "text/html": [
       "<div>\n",
       "<style scoped>\n",
       "    .dataframe tbody tr th:only-of-type {\n",
       "        vertical-align: middle;\n",
       "    }\n",
       "\n",
       "    .dataframe tbody tr th {\n",
       "        vertical-align: top;\n",
       "    }\n",
       "\n",
       "    .dataframe thead th {\n",
       "        text-align: right;\n",
       "    }\n",
       "</style>\n",
       "<table border=\"1\" class=\"dataframe\">\n",
       "  <thead>\n",
       "    <tr style=\"text-align: right;\">\n",
       "      <th></th>\n",
       "      <th>feature1</th>\n",
       "      <th>feature2</th>\n",
       "      <th>feature3</th>\n",
       "      <th>feature4</th>\n",
       "      <th>seeds_type</th>\n",
       "      <th>color</th>\n",
       "    </tr>\n",
       "  </thead>\n",
       "  <tbody>\n",
       "    <tr>\n",
       "      <th>0</th>\n",
       "      <td>15.34</td>\n",
       "      <td>12.14</td>\n",
       "      <td>20.34</td>\n",
       "      <td>22.07</td>\n",
       "      <td>1.0</td>\n",
       "      <td>0</td>\n",
       "    </tr>\n",
       "    <tr>\n",
       "      <th>1</th>\n",
       "      <td>15.66</td>\n",
       "      <td>12.26</td>\n",
       "      <td>21.26</td>\n",
       "      <td>22.23</td>\n",
       "      <td>1.0</td>\n",
       "      <td>0</td>\n",
       "    </tr>\n",
       "    <tr>\n",
       "      <th>2</th>\n",
       "      <td>16.54</td>\n",
       "      <td>13.37</td>\n",
       "      <td>29.77</td>\n",
       "      <td>22.67</td>\n",
       "      <td>1.0</td>\n",
       "      <td>0</td>\n",
       "    </tr>\n",
       "    <tr>\n",
       "      <th>3</th>\n",
       "      <td>16.62</td>\n",
       "      <td>13.37</td>\n",
       "      <td>29.77</td>\n",
       "      <td>22.71</td>\n",
       "      <td>1.0</td>\n",
       "      <td>0</td>\n",
       "    </tr>\n",
       "    <tr>\n",
       "      <th>4</th>\n",
       "      <td>16.70</td>\n",
       "      <td>12.65</td>\n",
       "      <td>24.25</td>\n",
       "      <td>22.75</td>\n",
       "      <td>1.0</td>\n",
       "      <td>1</td>\n",
       "    </tr>\n",
       "    <tr>\n",
       "      <th>...</th>\n",
       "      <td>...</td>\n",
       "      <td>...</td>\n",
       "      <td>...</td>\n",
       "      <td>...</td>\n",
       "      <td>...</td>\n",
       "      <td>...</td>\n",
       "    </tr>\n",
       "    <tr>\n",
       "      <th>192</th>\n",
       "      <td>31.74</td>\n",
       "      <td>18.29</td>\n",
       "      <td>67.49</td>\n",
       "      <td>30.27</td>\n",
       "      <td>3.0</td>\n",
       "      <td>1</td>\n",
       "    </tr>\n",
       "    <tr>\n",
       "      <th>193</th>\n",
       "      <td>31.82</td>\n",
       "      <td>18.32</td>\n",
       "      <td>67.72</td>\n",
       "      <td>30.31</td>\n",
       "      <td>3.0</td>\n",
       "      <td>1</td>\n",
       "    </tr>\n",
       "    <tr>\n",
       "      <th>194</th>\n",
       "      <td>31.90</td>\n",
       "      <td>18.35</td>\n",
       "      <td>67.95</td>\n",
       "      <td>30.35</td>\n",
       "      <td>3.0</td>\n",
       "      <td>1</td>\n",
       "    </tr>\n",
       "    <tr>\n",
       "      <th>195</th>\n",
       "      <td>31.98</td>\n",
       "      <td>18.38</td>\n",
       "      <td>68.18</td>\n",
       "      <td>30.39</td>\n",
       "      <td>3.0</td>\n",
       "      <td>1</td>\n",
       "    </tr>\n",
       "    <tr>\n",
       "      <th>196</th>\n",
       "      <td>8.50</td>\n",
       "      <td>7.40</td>\n",
       "      <td>0.86</td>\n",
       "      <td>7.00</td>\n",
       "      <td>3.0</td>\n",
       "      <td>1</td>\n",
       "    </tr>\n",
       "  </tbody>\n",
       "</table>\n",
       "<p>197 rows × 6 columns</p>\n",
       "</div>"
      ],
      "text/plain": [
       "     feature1  feature2  feature3  feature4  seeds_type  color\n",
       "0       15.34     12.14     20.34     22.07         1.0      0\n",
       "1       15.66     12.26     21.26     22.23         1.0      0\n",
       "2       16.54     13.37     29.77     22.67         1.0      0\n",
       "3       16.62     13.37     29.77     22.71         1.0      0\n",
       "4       16.70     12.65     24.25     22.75         1.0      1\n",
       "..        ...       ...       ...       ...         ...    ...\n",
       "192     31.74     18.29     67.49     30.27         3.0      1\n",
       "193     31.82     18.32     67.72     30.31         3.0      1\n",
       "194     31.90     18.35     67.95     30.35         3.0      1\n",
       "195     31.98     18.38     68.18     30.39         3.0      1\n",
       "196      8.50      7.40      0.86      7.00         3.0      1\n",
       "\n",
       "[197 rows x 6 columns]"
      ]
     },
     "execution_count": 104,
     "metadata": {},
     "output_type": "execute_result"
    }
   ],
   "source": [
    "df['color']=df['color'].apply(colortocolorId)\n",
    "df"
   ]
  },
  {
   "cell_type": "code",
   "execution_count": 3,
   "id": "90934bc6",
   "metadata": {},
   "outputs": [
    {
     "data": {
      "text/plain": [
       "array([[ 77.        ,  79.77515201],\n",
       "       [ 21.        ,  23.17727887],\n",
       "       [ 22.        ,  25.60926156],\n",
       "       [ 20.        ,  17.85738813],\n",
       "       [ 36.        ,  41.84986439],\n",
       "       [ 15.        ,   9.80523488],\n",
       "       [ 62.        ,  58.87465933],\n",
       "       [ 95.        ,  97.61793701],\n",
       "       [ 20.        ,  18.39512747],\n",
       "       [  5.        ,   8.74674765],\n",
       "       [  4.        ,   2.81141583],\n",
       "       [ 19.        ,  17.09537241],\n",
       "       [ 96.        ,  95.14907176],\n",
       "       [ 62.        ,  61.38800663],\n",
       "       [ 36.        ,  40.24701716],\n",
       "       [ 15.        ,  14.82248589],\n",
       "       [ 65.        ,  66.95806869],\n",
       "       [ 14.        ,  16.63507984],\n",
       "       [ 87.        ,  90.65513736],\n",
       "       [ 69.        ,  77.22982636],\n",
       "       [ 89.        ,  92.11906278],\n",
       "       [ 51.        ,  46.91387709],\n",
       "       [ 89.        ,  89.82634442],\n",
       "       [ 27.        ,  21.71380347],\n",
       "       [ 97.        ,  97.41206981],\n",
       "       [ 58.        ,  57.01631363],\n",
       "       [ 79.        ,  78.31056542],\n",
       "       [ 21.        ,  19.1315097 ],\n",
       "       [ 93.        ,  93.03483388],\n",
       "       [ 27.        ,  26.59112396],\n",
       "       [ 99.        ,  97.55155344],\n",
       "       [ 31.        ,  31.43524822],\n",
       "       [ 33.        ,  35.12724777],\n",
       "       [ 80.        ,  78.61042432],\n",
       "       [ 28.        ,  33.07112825],\n",
       "       [ 47.        ,  51.69967172],\n",
       "       [ 53.        ,  53.62235225],\n",
       "       [ 69.        ,  69.46306072],\n",
       "       [ 28.        ,  27.42497237],\n",
       "       [ 33.        ,  36.34644189],\n",
       "       [ 91.        ,  95.06140858],\n",
       "       [ 71.        ,  68.16724757],\n",
       "       [ 50.        ,  50.96155532],\n",
       "       [ 76.        ,  78.04237454],\n",
       "       [  4.        ,   5.60766487],\n",
       "       [ 37.        ,  36.11334779],\n",
       "       [ 70.        ,  67.2352155 ],\n",
       "       [ 68.        ,  65.01324035],\n",
       "       [ 40.        ,  38.14753871],\n",
       "       [ 35.        ,  34.31141446],\n",
       "       [ 94.        ,  95.28503937],\n",
       "       [ 88.        ,  87.84749912],\n",
       "       [ 52.        ,  54.08170635],\n",
       "       [ 31.        ,  31.93063515],\n",
       "       [ 59.        ,  59.61247085],\n",
       "       [  0.        ,  -1.04011421],\n",
       "       [ 39.        ,  47.49374765],\n",
       "       [ 64.        ,  62.60089773],\n",
       "       [ 69.        ,  70.9146434 ],\n",
       "       [ 57.        ,  56.14834113],\n",
       "       [ 13.        ,  14.05572877],\n",
       "       [ 72.        ,  68.11367147],\n",
       "       [ 76.        ,  75.59701346],\n",
       "       [ 61.        ,  59.225745  ],\n",
       "       [ 82.        ,  85.45504157],\n",
       "       [ 18.        ,  17.76197116],\n",
       "       [ 41.        ,  38.68888682],\n",
       "       [ 50.        ,  50.96343637],\n",
       "       [ 55.        ,  51.83503872],\n",
       "       [ 13.        ,  17.0761107 ],\n",
       "       [ 46.        ,  46.56141773],\n",
       "       [ 13.        ,  10.34754461],\n",
       "       [ 79.        ,  77.91032969],\n",
       "       [ 53.        ,  50.17008622],\n",
       "       [ 15.        ,  13.25690647],\n",
       "       [ 28.        ,  31.32274932],\n",
       "       [ 81.        ,  73.9308764 ],\n",
       "       [ 69.        ,  74.45114379],\n",
       "       [ 52.        ,  52.01932286],\n",
       "       [ 84.        ,  83.68820499],\n",
       "       [ 68.        ,  70.3698748 ],\n",
       "       [ 27.        ,  23.44479161],\n",
       "       [ 56.        ,  49.83051801],\n",
       "       [ 48.        ,  49.88226593],\n",
       "       [ 40.        ,  41.04525583],\n",
       "       [ 39.        ,  33.37834391],\n",
       "       [ 82.        ,  81.29750133],\n",
       "       [100.        , 105.5918375 ],\n",
       "       [ 59.        ,  56.82457013],\n",
       "       [ 43.        ,  48.67252645],\n",
       "       [ 67.        ,  67.02150613],\n",
       "       [ 38.        ,  38.43076389],\n",
       "       [ 63.        ,  58.61466887],\n",
       "       [ 91.        ,  89.12377509],\n",
       "       [ 60.        ,  60.9105427 ],\n",
       "       [ 14.        ,  13.83959878],\n",
       "       [ 21.        ,  16.89085185],\n",
       "       [ 87.        ,  84.06676818],\n",
       "       [ 73.        ,  70.34969772],\n",
       "       [ 32.        ,  33.38474138],\n",
       "       [  2.        ,  -1.63296825],\n",
       "       [ 82.        ,  88.54475895],\n",
       "       [ 19.        ,  17.44047622],\n",
       "       [ 74.        ,  75.69298554],\n",
       "       [ 42.        ,  41.97607107],\n",
       "       [ 12.        ,  12.59244741],\n",
       "       [  1.        ,   0.27530726],\n",
       "       [ 90.        ,  98.13258005],\n",
       "       [ 89.        ,  87.45721555],\n",
       "       [  0.        ,  -2.34473854],\n",
       "       [ 41.        ,  39.3294153 ],\n",
       "       [ 16.        ,  16.68715211],\n",
       "       [ 94.        ,  96.58888601],\n",
       "       [ 97.        ,  97.70342201],\n",
       "       [ 66.        ,  67.01715955],\n",
       "       [ 24.        ,  25.63476257],\n",
       "       [ 17.        ,  13.41310757],\n",
       "       [ 90.        ,  95.15647284],\n",
       "       [ 13.        ,   9.74416426],\n",
       "       [  0.        ,  -3.46788379],\n",
       "       [ 64.        ,  62.82816355],\n",
       "       [ 96.        ,  97.27405461],\n",
       "       [ 98.        ,  95.58017185],\n",
       "       [ 12.        ,   7.46850184],\n",
       "       [ 41.        ,  45.44599591],\n",
       "       [ 47.        ,  46.69013968],\n",
       "       [ 78.        ,  74.4993599 ],\n",
       "       [ 20.        ,  21.63500655],\n",
       "       [ 89.        ,  91.59548851],\n",
       "       [ 29.        ,  26.49487961],\n",
       "       [ 64.        ,  67.38654703],\n",
       "       [ 75.        ,  74.25362837],\n",
       "       [ 12.        ,  12.07991648],\n",
       "       [ 25.        ,  21.32273728],\n",
       "       [ 28.        ,  29.31770045],\n",
       "       [ 30.        ,  26.48713683],\n",
       "       [ 65.        ,  68.94699774],\n",
       "       [ 59.        ,  59.10598995],\n",
       "       [ 64.        ,  64.37521087],\n",
       "       [ 53.        ,  60.20758349],\n",
       "       [ 71.        ,  70.34329706],\n",
       "       [ 97.        ,  97.1082562 ],\n",
       "       [ 73.        ,  75.7584178 ],\n",
       "       [  9.        ,  10.80462727],\n",
       "       [ 12.        ,  12.11219941],\n",
       "       [ 63.        ,  63.28312382],\n",
       "       [ 99.        ,  98.03017721],\n",
       "       [ 60.        ,  63.19354354],\n",
       "       [ 35.        ,  34.8534823 ],\n",
       "       [  2.        ,  -2.81991397],\n",
       "       [ 60.        ,  59.8313966 ],\n",
       "       [ 32.        ,  29.38505024],\n",
       "       [ 94.        ,  97.00148372],\n",
       "       [ 84.        ,  85.18657275],\n",
       "       [ 63.        ,  61.74063192],\n",
       "       [ 22.        ,  18.84798163],\n",
       "       [ 81.        ,  78.79008525],\n",
       "       [ 93.        ,  95.12400481],\n",
       "       [ 33.        ,  30.48881287],\n",
       "       [  7.        ,  10.41468095],\n",
       "       [ 42.        ,  38.98317436],\n",
       "       [ 46.        ,  46.11021062],\n",
       "       [ 54.        ,  52.45103628],\n",
       "       [ 16.        ,  21.16523945],\n",
       "       [ 49.        ,  52.28620611],\n",
       "       [ 43.        ,  44.18863945],\n",
       "       [ 95.        ,  97.13832018],\n",
       "       [ 66.        ,  67.22008001],\n",
       "       [ 21.        ,  18.98322306],\n",
       "       [ 35.        ,  24.3884599 ],\n",
       "       [ 80.        ,  79.44769523],\n",
       "       [ 37.        ,  40.03504862],\n",
       "       [ 54.        ,  53.32005764],\n",
       "       [ 56.        ,  54.55446979],\n",
       "       [  1.        ,  -2.7611826 ],\n",
       "       [ 32.        ,  37.80182795],\n",
       "       [ 58.        ,  57.48741435],\n",
       "       [ 32.        ,  36.06292994],\n",
       "       [ 46.        ,  49.83538167],\n",
       "       [ 72.        ,  74.68953276],\n",
       "       [ 17.        ,  14.86159401],\n",
       "       [ 97.        , 101.0697879 ],\n",
       "       [ 93.        ,  99.43577876],\n",
       "       [ 91.        ,  91.69240746],\n",
       "       [ 37.        ,  34.12473248],\n",
       "       [  4.        ,   6.07939007],\n",
       "       [ 54.        ,  59.07247174],\n",
       "       [ 51.        ,  56.43046022],\n",
       "       [ 27.        ,  30.49412933],\n",
       "       [ 46.        ,  48.35172635],\n",
       "       [ 92.        ,  89.73153611],\n",
       "       [ 73.        ,  72.86282528],\n",
       "       [ 77.        ,  80.97144285],\n",
       "       [ 91.        ,  91.36566374],\n",
       "       [ 61.        ,  60.07137496],\n",
       "       [ 99.        ,  99.87382707],\n",
       "       [  4.        ,   8.65571417],\n",
       "       [ 72.        ,  69.39858505],\n",
       "       [ 19.        ,  19.38780134],\n",
       "       [ 57.        ,  53.11628433]])"
      ]
     },
     "execution_count": 3,
     "metadata": {},
     "output_type": "execute_result"
    }
   ],
   "source": [
    "#linear regression from scratch\n",
    "import numpy as np\n",
    "data=np.loadtxt(\"linear_regresssion.csv\",delimiter=\",\")\n",
    "data"
   ]
  },
  {
   "cell_type": "code",
   "execution_count": 4,
   "id": "5df1193b",
   "metadata": {},
   "outputs": [
    {
     "data": {
      "text/plain": [
       "(200, 2)"
      ]
     },
     "execution_count": 4,
     "metadata": {},
     "output_type": "execute_result"
    }
   ],
   "source": [
    "data.shape"
   ]
  },
  {
   "cell_type": "code",
   "execution_count": 48,
   "id": "53dab36a",
   "metadata": {},
   "outputs": [],
   "source": [
    "x=data[:,0]\n",
    "y=data[:,1]"
   ]
  },
  {
   "cell_type": "code",
   "execution_count": 49,
   "id": "ecf4cc9f",
   "metadata": {},
   "outputs": [
    {
     "data": {
      "text/plain": [
       "(200,)"
      ]
     },
     "execution_count": 49,
     "metadata": {},
     "output_type": "execute_result"
    }
   ],
   "source": [
    "x.shape"
   ]
  },
  {
   "cell_type": "code",
   "execution_count": 50,
   "id": "f5bb4f08",
   "metadata": {},
   "outputs": [
    {
     "data": {
      "text/plain": [
       "(200,)"
      ]
     },
     "execution_count": 50,
     "metadata": {},
     "output_type": "execute_result"
    }
   ],
   "source": [
    "y.shape"
   ]
  },
  {
   "cell_type": "code",
   "execution_count": 51,
   "id": "d267c623",
   "metadata": {},
   "outputs": [],
   "source": [
    "from sklearn import model_selection#by default the test size is 25% but we want it as 20% so we have written it as test_size=0.2\n",
    "x_train,x_test,y_train,y_test=model_selection.train_test_split(x,y,test_size=0.2)"
   ]
  },
  {
   "cell_type": "code",
   "execution_count": 66,
   "id": "e64965b0",
   "metadata": {},
   "outputs": [
    {
     "data": {
      "text/plain": [
       "(160,)"
      ]
     },
     "execution_count": 66,
     "metadata": {},
     "output_type": "execute_result"
    }
   ],
   "source": [
    "x_train.shape#elements are randomly chosen"
   ]
  },
  {
   "cell_type": "code",
   "execution_count": 67,
   "id": "a2adda3c",
   "metadata": {},
   "outputs": [
    {
     "data": {
      "text/plain": [
       "(40,)"
      ]
     },
     "execution_count": 67,
     "metadata": {},
     "output_type": "execute_result"
    }
   ],
   "source": [
    "x_test.shape"
   ]
  },
  {
   "cell_type": "code",
   "execution_count": 68,
   "id": "3f9d5c46",
   "metadata": {},
   "outputs": [
    {
     "data": {
      "text/plain": [
       "(160,)"
      ]
     },
     "execution_count": 68,
     "metadata": {},
     "output_type": "execute_result"
    }
   ],
   "source": [
    "y_train.shape"
   ]
  },
  {
   "cell_type": "code",
   "execution_count": 69,
   "id": "4cbf2e5c",
   "metadata": {},
   "outputs": [
    {
     "data": {
      "text/plain": [
       "(40,)"
      ]
     },
     "execution_count": 69,
     "metadata": {},
     "output_type": "execute_result"
    }
   ],
   "source": [
    "y_test.shape"
   ]
  },
  {
   "cell_type": "code",
   "execution_count": null,
   "id": "18b38a45",
   "metadata": {},
   "outputs": [],
   "source": []
  },
  {
   "cell_type": "code",
   "execution_count": 70,
   "id": "faf296d9",
   "metadata": {},
   "outputs": [],
   "source": [
    "def training(x,y):\n",
    "    num=(x*y).mean()-x.mean()*y.mean()\n",
    "    den=(x**2).mean()-x.mean()**2\n",
    "    m=num/den\n",
    "    c=y.mean()-m*x.mean()\n",
    "    return(m,c)"
   ]
  },
  {
   "cell_type": "code",
   "execution_count": 71,
   "id": "64b3895d",
   "metadata": {},
   "outputs": [],
   "source": [
    "def predict(x,m,c):\n",
    "    return m*x+c"
   ]
  },
  {
   "cell_type": "code",
   "execution_count": 72,
   "id": "424f394e",
   "metadata": {},
   "outputs": [],
   "source": [
    "def cost(x,y,m,c):\n",
    "    return ((y-m*x+c)**2).mean()"
   ]
  },
  {
   "cell_type": "code",
   "execution_count": 73,
   "id": "cab53122",
   "metadata": {},
   "outputs": [],
   "source": [
    "def score(y_act,y_pred):\n",
    "    num=((y_act-y_pred)**2).sum()\n",
    "    den=((y_act-y_act.mean())**2).sum()\n",
    "    return 1-num/den"
   ]
  },
  {
   "cell_type": "code",
   "execution_count": 74,
   "id": "35b32b2b",
   "metadata": {},
   "outputs": [
    {
     "data": {
      "text/plain": [
       "1.0214081794107102"
      ]
     },
     "execution_count": 74,
     "metadata": {},
     "output_type": "execute_result"
    }
   ],
   "source": [
    "m,c=training(x_train,y_train)\n",
    "m"
   ]
  },
  {
   "cell_type": "code",
   "execution_count": 75,
   "id": "9659a068",
   "metadata": {},
   "outputs": [
    {
     "data": {
      "text/plain": [
       "-0.5412729727474357"
      ]
     },
     "execution_count": 75,
     "metadata": {},
     "output_type": "execute_result"
    }
   ],
   "source": [
    "c"
   ]
  },
  {
   "cell_type": "code",
   "execution_count": null,
   "id": "d5463762",
   "metadata": {},
   "outputs": [],
   "source": []
  },
  {
   "cell_type": "code",
   "execution_count": 76,
   "id": "525481e7",
   "metadata": {},
   "outputs": [],
   "source": [
    "y_test_pred=predict(x_test,m,c)"
   ]
  },
  {
   "cell_type": "code",
   "execution_count": 77,
   "id": "d0ff60df",
   "metadata": {},
   "outputs": [
    {
     "data": {
      "text/plain": [
       "0.9888597322116672"
      ]
     },
     "execution_count": 77,
     "metadata": {},
     "output_type": "execute_result"
    }
   ],
   "source": [
    "score(y_test,y_test_pred)"
   ]
  },
  {
   "cell_type": "code",
   "execution_count": 78,
   "id": "585b68e6",
   "metadata": {},
   "outputs": [
    {
     "data": {
      "text/plain": [
       "0.9893086208282575"
      ]
     },
     "execution_count": 78,
     "metadata": {},
     "output_type": "execute_result"
    }
   ],
   "source": [
    "y_train_pred=predict(x_train,m,c)\n",
    "score(y_train,y_train_pred)"
   ]
  },
  {
   "cell_type": "code",
   "execution_count": 79,
   "id": "12e5e08d",
   "metadata": {},
   "outputs": [
    {
     "data": {
      "text/plain": [
       "10.432022196981753"
      ]
     },
     "execution_count": 79,
     "metadata": {},
     "output_type": "execute_result"
    }
   ],
   "source": [
    "cost(x_train,y_train,m,c)"
   ]
  },
  {
   "cell_type": "code",
   "execution_count": 80,
   "id": "0a42f7a9",
   "metadata": {},
   "outputs": [],
   "source": [
    "from sklearn.linear_model import LinearRegression"
   ]
  },
  {
   "cell_type": "code",
   "execution_count": 83,
   "id": "b574dc31",
   "metadata": {},
   "outputs": [],
   "source": [
    "x_train=x_train.reshape(160,1)\n",
    "x_test=x_test.reshape(40,1)"
   ]
  },
  {
   "cell_type": "code",
   "execution_count": 84,
   "id": "3a44a800",
   "metadata": {},
   "outputs": [
    {
     "data": {
      "text/plain": [
       "(160, 1)"
      ]
     },
     "execution_count": 84,
     "metadata": {},
     "output_type": "execute_result"
    }
   ],
   "source": [
    "x_train.shape"
   ]
  },
  {
   "cell_type": "code",
   "execution_count": 85,
   "id": "ba9cd82c",
   "metadata": {},
   "outputs": [
    {
     "data": {
      "text/plain": [
       "(40, 1)"
      ]
     },
     "execution_count": 85,
     "metadata": {},
     "output_type": "execute_result"
    }
   ],
   "source": [
    "x_test.shape"
   ]
  },
  {
   "cell_type": "code",
   "execution_count": 86,
   "id": "84c22915",
   "metadata": {},
   "outputs": [],
   "source": [
    "alg=LinearRegression()"
   ]
  },
  {
   "cell_type": "code",
   "execution_count": 87,
   "id": "1daea173",
   "metadata": {},
   "outputs": [
    {
     "data": {
      "text/html": [
       "<style>#sk-container-id-1 {color: black;background-color: white;}#sk-container-id-1 pre{padding: 0;}#sk-container-id-1 div.sk-toggleable {background-color: white;}#sk-container-id-1 label.sk-toggleable__label {cursor: pointer;display: block;width: 100%;margin-bottom: 0;padding: 0.3em;box-sizing: border-box;text-align: center;}#sk-container-id-1 label.sk-toggleable__label-arrow:before {content: \"▸\";float: left;margin-right: 0.25em;color: #696969;}#sk-container-id-1 label.sk-toggleable__label-arrow:hover:before {color: black;}#sk-container-id-1 div.sk-estimator:hover label.sk-toggleable__label-arrow:before {color: black;}#sk-container-id-1 div.sk-toggleable__content {max-height: 0;max-width: 0;overflow: hidden;text-align: left;background-color: #f0f8ff;}#sk-container-id-1 div.sk-toggleable__content pre {margin: 0.2em;color: black;border-radius: 0.25em;background-color: #f0f8ff;}#sk-container-id-1 input.sk-toggleable__control:checked~div.sk-toggleable__content {max-height: 200px;max-width: 100%;overflow: auto;}#sk-container-id-1 input.sk-toggleable__control:checked~label.sk-toggleable__label-arrow:before {content: \"▾\";}#sk-container-id-1 div.sk-estimator input.sk-toggleable__control:checked~label.sk-toggleable__label {background-color: #d4ebff;}#sk-container-id-1 div.sk-label input.sk-toggleable__control:checked~label.sk-toggleable__label {background-color: #d4ebff;}#sk-container-id-1 input.sk-hidden--visually {border: 0;clip: rect(1px 1px 1px 1px);clip: rect(1px, 1px, 1px, 1px);height: 1px;margin: -1px;overflow: hidden;padding: 0;position: absolute;width: 1px;}#sk-container-id-1 div.sk-estimator {font-family: monospace;background-color: #f0f8ff;border: 1px dotted black;border-radius: 0.25em;box-sizing: border-box;margin-bottom: 0.5em;}#sk-container-id-1 div.sk-estimator:hover {background-color: #d4ebff;}#sk-container-id-1 div.sk-parallel-item::after {content: \"\";width: 100%;border-bottom: 1px solid gray;flex-grow: 1;}#sk-container-id-1 div.sk-label:hover label.sk-toggleable__label {background-color: #d4ebff;}#sk-container-id-1 div.sk-serial::before {content: \"\";position: absolute;border-left: 1px solid gray;box-sizing: border-box;top: 0;bottom: 0;left: 50%;z-index: 0;}#sk-container-id-1 div.sk-serial {display: flex;flex-direction: column;align-items: center;background-color: white;padding-right: 0.2em;padding-left: 0.2em;position: relative;}#sk-container-id-1 div.sk-item {position: relative;z-index: 1;}#sk-container-id-1 div.sk-parallel {display: flex;align-items: stretch;justify-content: center;background-color: white;position: relative;}#sk-container-id-1 div.sk-item::before, #sk-container-id-1 div.sk-parallel-item::before {content: \"\";position: absolute;border-left: 1px solid gray;box-sizing: border-box;top: 0;bottom: 0;left: 50%;z-index: -1;}#sk-container-id-1 div.sk-parallel-item {display: flex;flex-direction: column;z-index: 1;position: relative;background-color: white;}#sk-container-id-1 div.sk-parallel-item:first-child::after {align-self: flex-end;width: 50%;}#sk-container-id-1 div.sk-parallel-item:last-child::after {align-self: flex-start;width: 50%;}#sk-container-id-1 div.sk-parallel-item:only-child::after {width: 0;}#sk-container-id-1 div.sk-dashed-wrapped {border: 1px dashed gray;margin: 0 0.4em 0.5em 0.4em;box-sizing: border-box;padding-bottom: 0.4em;background-color: white;}#sk-container-id-1 div.sk-label label {font-family: monospace;font-weight: bold;display: inline-block;line-height: 1.2em;}#sk-container-id-1 div.sk-label-container {text-align: center;}#sk-container-id-1 div.sk-container {/* jupyter's `normalize.less` sets `[hidden] { display: none; }` but bootstrap.min.css set `[hidden] { display: none !important; }` so we also need the `!important` here to be able to override the default hidden behavior on the sphinx rendered scikit-learn.org. See: https://github.com/scikit-learn/scikit-learn/issues/21755 */display: inline-block !important;position: relative;}#sk-container-id-1 div.sk-text-repr-fallback {display: none;}</style><div id=\"sk-container-id-1\" class=\"sk-top-container\"><div class=\"sk-text-repr-fallback\"><pre>LinearRegression()</pre><b>In a Jupyter environment, please rerun this cell to show the HTML representation or trust the notebook. <br />On GitHub, the HTML representation is unable to render, please try loading this page with nbviewer.org.</b></div><div class=\"sk-container\" hidden><div class=\"sk-item\"><div class=\"sk-estimator sk-toggleable\"><input class=\"sk-toggleable__control sk-hidden--visually\" id=\"sk-estimator-id-1\" type=\"checkbox\" checked><label for=\"sk-estimator-id-1\" class=\"sk-toggleable__label sk-toggleable__label-arrow\">LinearRegression</label><div class=\"sk-toggleable__content\"><pre>LinearRegression()</pre></div></div></div></div></div>"
      ],
      "text/plain": [
       "LinearRegression()"
      ]
     },
     "execution_count": 87,
     "metadata": {},
     "output_type": "execute_result"
    }
   ],
   "source": [
    "alg.fit(x_train,y_train)"
   ]
  },
  {
   "cell_type": "code",
   "execution_count": 88,
   "id": "3997c75d",
   "metadata": {},
   "outputs": [
    {
     "data": {
      "text/plain": [
       "array([1.02140818])"
      ]
     },
     "execution_count": 88,
     "metadata": {},
     "output_type": "execute_result"
    }
   ],
   "source": [
    "alg.coef_"
   ]
  },
  {
   "cell_type": "code",
   "execution_count": 89,
   "id": "156c0a8a",
   "metadata": {},
   "outputs": [
    {
     "data": {
      "text/plain": [
       "-0.541272972747457"
      ]
     },
     "execution_count": 89,
     "metadata": {},
     "output_type": "execute_result"
    }
   ],
   "source": [
    "alg.intercept_"
   ]
  },
  {
   "cell_type": "code",
   "execution_count": 90,
   "id": "c5c1e035",
   "metadata": {},
   "outputs": [
    {
     "data": {
      "text/plain": [
       "0.9888597322116672"
      ]
     },
     "execution_count": 90,
     "metadata": {},
     "output_type": "execute_result"
    }
   ],
   "source": [
    "alg.score(x_test,y_test)"
   ]
  },
  {
   "cell_type": "code",
   "execution_count": 91,
   "id": "cf927892",
   "metadata": {},
   "outputs": [
    {
     "data": {
      "text/plain": [
       "0.9893086208282575"
      ]
     },
     "execution_count": 91,
     "metadata": {},
     "output_type": "execute_result"
    }
   ],
   "source": [
    "alg.score(x_train,y_train)"
   ]
  },
  {
   "cell_type": "code",
   "execution_count": 92,
   "id": "3b8ac064",
   "metadata": {},
   "outputs": [],
   "source": [
    "import matplotlib.pyplot as plt"
   ]
  },
  {
   "cell_type": "code",
   "execution_count": 94,
   "id": "0595915d",
   "metadata": {},
   "outputs": [
    {
     "data": {
      "image/png": "[encoded data removed]",
      "text/plain": [
       "<Figure size 640x480 with 1 Axes>"
      ]
     },
     "metadata": {},
     "output_type": "display_data"
    }
   ],
   "source": [
    "m=alg.coef_[0]\n",
    "c=alg.intercept_\n",
    "X=np.array([0,100])\n",
    "Y=m*X+c\n",
    "plt.plot(X,Y)\n",
    "plt.scatter(x_train,y_train,c='r')\n",
    "plt.show()"
   ]
  },
  {
   "cell_type": "code",
   "execution_count": 1,
   "id": "42d060e9",
   "metadata": {},
   "outputs": [],
   "source": [
    "from sklearn import datasets"
   ]
  },
  {
   "cell_type": "code",
   "execution_count": 2,
   "id": "cd62afd3",
   "metadata": {},
   "outputs": [
    {
     "ename": "ImportError",
     "evalue": "\n`load_boston` has been removed from scikit-learn since version 1.2.\n\nThe Boston housing prices dataset has an ethical problem: as\ninvestigated in [1], the authors of this dataset engineered a\nnon-invertible variable \"B\" assuming that racial self-segregation had a\npositive impact on house prices [2]. Furthermore the goal of the\nresearch that led to the creation of this dataset was to study the\nimpact of air quality but it did not give adequate demonstration of the\nvalidity of this assumption.\n\nThe scikit-learn maintainers therefore strongly discourage the use of\nthis dataset unless the purpose of the code is to study and educate\nabout ethical issues in data science and machine learning.\n\nIn this special case, you can fetch the dataset from the original\nsource::\n\n    import pandas as pd\n    import numpy as np\n\n    data_url = \"http://lib.stat.cmu.edu/datasets/boston\"\n    raw_df = pd.read_csv(data_url, sep=\"\\s+\", skiprows=22, header=None)\n    data = np.hstack([raw_df.values[::2, :], raw_df.values[1::2, :2]])\n    target = raw_df.values[1::2, 2]\n\nAlternative datasets include the California housing dataset and the\nAmes housing dataset. You can load the datasets as follows::\n\n    from sklearn.datasets import fetch_california_housing\n    housing = fetch_california_housing()\n\nfor the California housing dataset and::\n\n    from sklearn.datasets import fetch_openml\n    housing = fetch_openml(name=\"house_prices\", as_frame=True)\n\nfor the Ames housing dataset.\n\n[1] M Carlisle.\n\"Racist data destruction?\"\n<https://medium.com/@docintangible/racist-data-destruction-113e3eff54a8>\n\n[2] Harrison Jr, David, and Daniel L. Rubinfeld.\n\"Hedonic housing prices and the demand for clean air.\"\nJournal of environmental economics and management 5.1 (1978): 81-102.\n<https://www.researchgate.net/publication/4974606_Hedonic_housing_prices_and_the_demand_for_clean_air>\n",
     "output_type": "error",
     "traceback": [
      "\u001b[1;31m---------------------------------------------------------------------------\u001b[0m",
      "\u001b[1;31mImportError\u001b[0m                               Traceback (most recent call last)",
      "Cell \u001b[1;32mIn[2], line 1\u001b[0m\n\u001b[1;32m----> 1\u001b[0m dataset\u001b[38;5;241m=\u001b[39m\u001b[43mdatasets\u001b[49m\u001b[38;5;241;43m.\u001b[39;49m\u001b[43mload_boston\u001b[49m()\n",
      "File \u001b[1;32mD:\\Users\\nikhi\\anaconda3\\lib\\site-packages\\sklearn\\datasets\\__init__.py:156\u001b[0m, in \u001b[0;36m__getattr__\u001b[1;34m(name)\u001b[0m\n\u001b[0;32m    105\u001b[0m \u001b[38;5;28;01mif\u001b[39;00m name \u001b[38;5;241m==\u001b[39m \u001b[38;5;124m\"\u001b[39m\u001b[38;5;124mload_boston\u001b[39m\u001b[38;5;124m\"\u001b[39m:\n\u001b[0;32m    106\u001b[0m     msg \u001b[38;5;241m=\u001b[39m textwrap\u001b[38;5;241m.\u001b[39mdedent(\n\u001b[0;32m    107\u001b[0m         \u001b[38;5;124;03m\"\"\"\u001b[39;00m\n\u001b[0;32m    108\u001b[0m \u001b[38;5;124;03m        `load_boston` has been removed from scikit-learn since version 1.2.\u001b[39;00m\n\u001b[1;32m   (...)\u001b[0m\n\u001b[0;32m    154\u001b[0m \u001b[38;5;124;03m        \"\"\"\u001b[39;00m\n\u001b[0;32m    155\u001b[0m     )\n\u001b[1;32m--> 156\u001b[0m     \u001b[38;5;28;01mraise\u001b[39;00m \u001b[38;5;167;01mImportError\u001b[39;00m(msg)\n\u001b[0;32m    157\u001b[0m \u001b[38;5;28;01mtry\u001b[39;00m:\n\u001b[0;32m    158\u001b[0m     \u001b[38;5;28;01mreturn\u001b[39;00m \u001b[38;5;28mglobals\u001b[39m()[name]\n",
      "\u001b[1;31mImportError\u001b[0m: \n`load_boston` has been removed from scikit-learn since version 1.2.\n\nThe Boston housing prices dataset has an ethical problem: as\ninvestigated in [1], the authors of this dataset engineered a\nnon-invertible variable \"B\" assuming that racial self-segregation had a\npositive impact on house prices [2]. Furthermore the goal of the\nresearch that led to the creation of this dataset was to study the\nimpact of air quality but it did not give adequate demonstration of the\nvalidity of this assumption.\n\nThe scikit-learn maintainers therefore strongly discourage the use of\nthis dataset unless the purpose of the code is to study and educate\nabout ethical issues in data science and machine learning.\n\nIn this special case, you can fetch the dataset from the original\nsource::\n\n    import pandas as pd\n    import numpy as np\n\n    data_url = \"http://lib.stat.cmu.edu/datasets/boston\"\n    raw_df = pd.read_csv(data_url, sep=\"\\s+\", skiprows=22, header=None)\n    data = np.hstack([raw_df.values[::2, :], raw_df.values[1::2, :2]])\n    target = raw_df.values[1::2, 2]\n\nAlternative datasets include the California housing dataset and the\nAmes housing dataset. You can load the datasets as follows::\n\n    from sklearn.datasets import fetch_california_housing\n    housing = fetch_california_housing()\n\nfor the California housing dataset and::\n\n    from sklearn.datasets import fetch_openml\n    housing = fetch_openml(name=\"house_prices\", as_frame=True)\n\nfor the Ames housing dataset.\n\n[1] M Carlisle.\n\"Racist data destruction?\"\n<https://medium.com/@docintangible/racist-data-destruction-113e3eff54a8>\n\n[2] Harrison Jr, David, and Daniel L. Rubinfeld.\n\"Hedonic housing prices and the demand for clean air.\"\nJournal of environmental economics and management 5.1 (1978): 81-102.\n<https://www.researchgate.net/publication/4974606_Hedonic_housing_prices_and_the_demand_for_clean_air>\n"
     ]
    }
   ],
   "source": [
    "dataset=datasets.load_boston()"
   ]
  },
  {
   "cell_type": "code",
   "execution_count": 74,
   "id": "bda9f499",
   "metadata": {},
   "outputs": [],
   "source": [
    "from sklearn.datasets import fetch_california_housing\n",
    "dataset= fetch_california_housing()"
   ]
  },
  {
   "cell_type": "code",
   "execution_count": 75,
   "id": "a88b186c",
   "metadata": {},
   "outputs": [
    {
     "data": {
      "text/plain": [
       "(20640, 8)"
      ]
     },
     "execution_count": 75,
     "metadata": {},
     "output_type": "execute_result"
    }
   ],
   "source": [
    "dataset.data.shape"
   ]
  },
  {
   "cell_type": "code",
   "execution_count": 76,
   "id": "1107df46",
   "metadata": {},
   "outputs": [
    {
     "data": {
      "text/plain": [
       "dict_keys(['data', 'target', 'frame', 'target_names', 'feature_names', 'DESCR'])"
      ]
     },
     "execution_count": 76,
     "metadata": {},
     "output_type": "execute_result"
    }
   ],
   "source": [
    "dataset.keys()"
   ]
  },
  {
   "cell_type": "code",
   "execution_count": 77,
   "id": "7ee02c7c",
   "metadata": {},
   "outputs": [
    {
     "data": {
      "text/plain": [
       "array([[   8.3252    ,   41.        ,    6.98412698, ...,    2.55555556,\n",
       "          37.88      , -122.23      ],\n",
       "       [   8.3014    ,   21.        ,    6.23813708, ...,    2.10984183,\n",
       "          37.86      , -122.22      ],\n",
       "       [   7.2574    ,   52.        ,    8.28813559, ...,    2.80225989,\n",
       "          37.85      , -122.24      ],\n",
       "       ...,\n",
       "       [   1.7       ,   17.        ,    5.20554273, ...,    2.3256351 ,\n",
       "          39.43      , -121.22      ],\n",
       "       [   1.8672    ,   18.        ,    5.32951289, ...,    2.12320917,\n",
       "          39.43      , -121.32      ],\n",
       "       [   2.3886    ,   16.        ,    5.25471698, ...,    2.61698113,\n",
       "          39.37      , -121.24      ]])"
      ]
     },
     "execution_count": 77,
     "metadata": {},
     "output_type": "execute_result"
    }
   ],
   "source": [
    "dataset.data"
   ]
  },
  {
   "cell_type": "code",
   "execution_count": 78,
   "id": "d80f5ab5",
   "metadata": {},
   "outputs": [
    {
     "data": {
      "text/plain": [
       "(20640,)"
      ]
     },
     "execution_count": 78,
     "metadata": {},
     "output_type": "execute_result"
    }
   ],
   "source": [
    "dataset.target.shape"
   ]
  },
  {
   "cell_type": "code",
   "execution_count": 79,
   "id": "90fac1cf",
   "metadata": {},
   "outputs": [
    {
     "data": {
      "text/plain": [
       "['MedInc',\n",
       " 'HouseAge',\n",
       " 'AveRooms',\n",
       " 'AveBedrms',\n",
       " 'Population',\n",
       " 'AveOccup',\n",
       " 'Latitude',\n",
       " 'Longitude']"
      ]
     },
     "execution_count": 79,
     "metadata": {},
     "output_type": "execute_result"
    }
   ],
   "source": [
    "dataset.feature_names"
   ]
  },
  {
   "cell_type": "code",
   "execution_count": 80,
   "id": "394c4fd0",
   "metadata": {},
   "outputs": [
    {
     "data": {
      "text/plain": [
       "'.. _california_housing_dataset:\\n\\nCalifornia Housing dataset\\n--------------------------\\n\\n**Data Set Characteristics:**\\n\\n    :Number of Instances: 20640\\n\\n    :Number of Attributes: 8 numeric, predictive attributes and the target\\n\\n    :Attribute Information:\\n        - MedInc        median income in block group\\n        - HouseAge      median house age in block group\\n        - AveRooms      average number of rooms per household\\n        - AveBedrms     average number of bedrooms per household\\n        - Population    block group population\\n        - AveOccup      average number of household members\\n        - Latitude      block group latitude\\n        - Longitude     block group longitude\\n\\n    :Missing Attribute Values: None\\n\\nThis dataset was obtained from the StatLib repository.\\nhttps://www.dcc.fc.up.pt/~ltorgo/Regression/cal_housing.html\\n\\nThe target variable is the median house value for California districts,\\nexpressed in hundreds of thousands of dollars ($100,000).\\n\\nThis dataset was derived from the 1990 U.S. census, using one row per census\\nblock group. A block group is the smallest geographical unit for which the U.S.\\nCensus Bureau publishes sample data (a block group typically has a population\\nof 600 to 3,000 people).\\n\\nAn household is a group of people residing within a home. Since the average\\nnumber of rooms and bedrooms in this dataset are provided per household, these\\ncolumns may take surpinsingly large values for block groups with few households\\nand many empty houses, such as vacation resorts.\\n\\nIt can be downloaded/loaded using the\\n:func:`sklearn.datasets.fetch_california_housing` function.\\n\\n.. topic:: References\\n\\n    - Pace, R. Kelley and Ronald Barry, Sparse Spatial Autoregressions,\\n      Statistics and Probability Letters, 33 (1997) 291-297\\n'"
      ]
     },
     "execution_count": 80,
     "metadata": {},
     "output_type": "execute_result"
    }
   ],
   "source": [
    "dataset.DESCR"
   ]
  },
  {
   "cell_type": "code",
   "execution_count": 81,
   "id": "5b3a8273",
   "metadata": {},
   "outputs": [],
   "source": [
    "x=dataset.data\n",
    "y=dataset.target"
   ]
  },
  {
   "cell_type": "code",
   "execution_count": 82,
   "id": "f9f10b45",
   "metadata": {},
   "outputs": [
    {
     "data": {
      "text/plain": [
       "(15480, 8)"
      ]
     },
     "execution_count": 82,
     "metadata": {},
     "output_type": "execute_result"
    }
   ],
   "source": [
    "from sklearn import model_selection\n",
    "x_train,x_test,y_train,y_test=model_selection.train_test_split(x,y)\n",
    "x_train.shape"
   ]
  },
  {
   "cell_type": "code",
   "execution_count": 83,
   "id": "a2cbc5a1",
   "metadata": {},
   "outputs": [],
   "source": [
    "from sklearn.linear_model import LinearRegression"
   ]
  },
  {
   "cell_type": "code",
   "execution_count": 84,
   "id": "6a68688b",
   "metadata": {},
   "outputs": [],
   "source": [
    "alg=LinearRegression()"
   ]
  },
  {
   "cell_type": "code",
   "execution_count": 85,
   "id": "44dc4773",
   "metadata": {},
   "outputs": [
    {
     "data": {
      "text/html": [
       "<style>#sk-container-id-4 {color: black;background-color: white;}#sk-container-id-4 pre{padding: 0;}#sk-container-id-4 div.sk-toggleable {background-color: white;}#sk-container-id-4 label.sk-toggleable__label {cursor: pointer;display: block;width: 100%;margin-bottom: 0;padding: 0.3em;box-sizing: border-box;text-align: center;}#sk-container-id-4 label.sk-toggleable__label-arrow:before {content: \"▸\";float: left;margin-right: 0.25em;color: #696969;}#sk-container-id-4 label.sk-toggleable__label-arrow:hover:before {color: black;}#sk-container-id-4 div.sk-estimator:hover label.sk-toggleable__label-arrow:before {color: black;}#sk-container-id-4 div.sk-toggleable__content {max-height: 0;max-width: 0;overflow: hidden;text-align: left;background-color: #f0f8ff;}#sk-container-id-4 div.sk-toggleable__content pre {margin: 0.2em;color: black;border-radius: 0.25em;background-color: #f0f8ff;}#sk-container-id-4 input.sk-toggleable__control:checked~div.sk-toggleable__content {max-height: 200px;max-width: 100%;overflow: auto;}#sk-container-id-4 input.sk-toggleable__control:checked~label.sk-toggleable__label-arrow:before {content: \"▾\";}#sk-container-id-4 div.sk-estimator input.sk-toggleable__control:checked~label.sk-toggleable__label {background-color: #d4ebff;}#sk-container-id-4 div.sk-label input.sk-toggleable__control:checked~label.sk-toggleable__label {background-color: #d4ebff;}#sk-container-id-4 input.sk-hidden--visually {border: 0;clip: rect(1px 1px 1px 1px);clip: rect(1px, 1px, 1px, 1px);height: 1px;margin: -1px;overflow: hidden;padding: 0;position: absolute;width: 1px;}#sk-container-id-4 div.sk-estimator {font-family: monospace;background-color: #f0f8ff;border: 1px dotted black;border-radius: 0.25em;box-sizing: border-box;margin-bottom: 0.5em;}#sk-container-id-4 div.sk-estimator:hover {background-color: #d4ebff;}#sk-container-id-4 div.sk-parallel-item::after {content: \"\";width: 100%;border-bottom: 1px solid gray;flex-grow: 1;}#sk-container-id-4 div.sk-label:hover label.sk-toggleable__label {background-color: #d4ebff;}#sk-container-id-4 div.sk-serial::before {content: \"\";position: absolute;border-left: 1px solid gray;box-sizing: border-box;top: 0;bottom: 0;left: 50%;z-index: 0;}#sk-container-id-4 div.sk-serial {display: flex;flex-direction: column;align-items: center;background-color: white;padding-right: 0.2em;padding-left: 0.2em;position: relative;}#sk-container-id-4 div.sk-item {position: relative;z-index: 1;}#sk-container-id-4 div.sk-parallel {display: flex;align-items: stretch;justify-content: center;background-color: white;position: relative;}#sk-container-id-4 div.sk-item::before, #sk-container-id-4 div.sk-parallel-item::before {content: \"\";position: absolute;border-left: 1px solid gray;box-sizing: border-box;top: 0;bottom: 0;left: 50%;z-index: -1;}#sk-container-id-4 div.sk-parallel-item {display: flex;flex-direction: column;z-index: 1;position: relative;background-color: white;}#sk-container-id-4 div.sk-parallel-item:first-child::after {align-self: flex-end;width: 50%;}#sk-container-id-4 div.sk-parallel-item:last-child::after {align-self: flex-start;width: 50%;}#sk-container-id-4 div.sk-parallel-item:only-child::after {width: 0;}#sk-container-id-4 div.sk-dashed-wrapped {border: 1px dashed gray;margin: 0 0.4em 0.5em 0.4em;box-sizing: border-box;padding-bottom: 0.4em;background-color: white;}#sk-container-id-4 div.sk-label label {font-family: monospace;font-weight: bold;display: inline-block;line-height: 1.2em;}#sk-container-id-4 div.sk-label-container {text-align: center;}#sk-container-id-4 div.sk-container {/* jupyter's `normalize.less` sets `[hidden] { display: none; }` but bootstrap.min.css set `[hidden] { display: none !important; }` so we also need the `!important` here to be able to override the default hidden behavior on the sphinx rendered scikit-learn.org. See: https://github.com/scikit-learn/scikit-learn/issues/21755 */display: inline-block !important;position: relative;}#sk-container-id-4 div.sk-text-repr-fallback {display: none;}</style><div id=\"sk-container-id-4\" class=\"sk-top-container\"><div class=\"sk-text-repr-fallback\"><pre>LinearRegression()</pre><b>In a Jupyter environment, please rerun this cell to show the HTML representation or trust the notebook. <br />On GitHub, the HTML representation is unable to render, please try loading this page with nbviewer.org.</b></div><div class=\"sk-container\" hidden><div class=\"sk-item\"><div class=\"sk-estimator sk-toggleable\"><input class=\"sk-toggleable__control sk-hidden--visually\" id=\"sk-estimator-id-4\" type=\"checkbox\" checked><label for=\"sk-estimator-id-4\" class=\"sk-toggleable__label sk-toggleable__label-arrow\">LinearRegression</label><div class=\"sk-toggleable__content\"><pre>LinearRegression()</pre></div></div></div></div></div>"
      ],
      "text/plain": [
       "LinearRegression()"
      ]
     },
     "execution_count": 85,
     "metadata": {},
     "output_type": "execute_result"
    }
   ],
   "source": [
    "alg.fit(x_train,y_train)"
   ]
  },
  {
   "cell_type": "code",
   "execution_count": 86,
   "id": "2b103ef0",
   "metadata": {},
   "outputs": [],
   "source": [
    "y_pred=alg.predict(x_test)"
   ]
  },
  {
   "cell_type": "code",
   "execution_count": 87,
   "id": "bfc6e412",
   "metadata": {},
   "outputs": [
    {
     "data": {
      "text/plain": [
       "0.6010247405386184"
      ]
     },
     "execution_count": 87,
     "metadata": {},
     "output_type": "execute_result"
    }
   ],
   "source": [
    "alg.score(x_train,y_train)"
   ]
  },
  {
   "cell_type": "code",
   "execution_count": 88,
   "id": "31885210",
   "metadata": {},
   "outputs": [
    {
     "data": {
      "text/plain": [
       "0.6211236910825566"
      ]
     },
     "execution_count": 88,
     "metadata": {},
     "output_type": "execute_result"
    }
   ],
   "source": [
    "alg.score(x_test,y_test)"
   ]
  },
  {
   "cell_type": "code",
   "execution_count": 89,
   "id": "3ee21837",
   "metadata": {},
   "outputs": [],
   "source": [
    "import matplotlib.pyplot as plt\n",
    "import numpy as np"
   ]
  },
  {
   "cell_type": "code",
   "execution_count": 91,
   "id": "1f4334d0",
   "metadata": {},
   "outputs": [
    {
     "data": {
      "image/png": "[encoded data removed]",
      "text/plain": [
       "<Figure size 640x480 with 1 Axes>"
      ]
     },
     "metadata": {},
     "output_type": "display_data"
    }
   ],
   "source": [
    "plt.scatter(y_test,y_pred)\n",
    "X=[0,50]\n",
    "Y=[0,50]\n",
    "plt.plot(X,Y)\n",
    "plt.show()"
   ]
  },
  {
   "cell_type": "code",
   "execution_count": 92,
   "id": "85d5a05d",
   "metadata": {},
   "outputs": [],
   "source": [
    "from sklearn import datasets"
   ]
  },
  {
   "cell_type": "code",
   "execution_count": 93,
   "id": "c8264dd9",
   "metadata": {},
   "outputs": [],
   "source": [
    "dataset=datasets.load_diabetes()"
   ]
  },
  {
   "cell_type": "code",
   "execution_count": 94,
   "id": "a550c8c2",
   "metadata": {},
   "outputs": [
    {
     "data": {
      "text/plain": [
       "'.. _diabetes_dataset:\\n\\nDiabetes dataset\\n----------------\\n\\nTen baseline variables, age, sex, body mass index, average blood\\npressure, and six blood serum measurements were obtained for each of n =\\n442 diabetes patients, as well as the response of interest, a\\nquantitative measure of disease progression one year after baseline.\\n\\n**Data Set Characteristics:**\\n\\n  :Number of Instances: 442\\n\\n  :Number of Attributes: First 10 columns are numeric predictive values\\n\\n  :Target: Column 11 is a quantitative measure of disease progression one year after baseline\\n\\n  :Attribute Information:\\n      - age     age in years\\n      - sex\\n      - bmi     body mass index\\n      - bp      average blood pressure\\n      - s1      tc, total serum cholesterol\\n      - s2      ldl, low-density lipoproteins\\n      - s3      hdl, high-density lipoproteins\\n      - s4      tch, total cholesterol / HDL\\n      - s5      ltg, possibly log of serum triglycerides level\\n      - s6      glu, blood sugar level\\n\\nNote: Each of these 10 feature variables have been mean centered and scaled by the standard deviation times the square root of `n_samples` (i.e. the sum of squares of each column totals 1).\\n\\nSource URL:\\nhttps://www4.stat.ncsu.edu/~boos/var.select/diabetes.html\\n\\nFor more information see:\\nBradley Efron, Trevor Hastie, Iain Johnstone and Robert Tibshirani (2004) \"Least Angle Regression,\" Annals of Statistics (with discussion), 407-499.\\n(https://web.stanford.edu/~hastie/Papers/LARS/LeastAngle_2002.pdf)\\n'"
      ]
     },
     "execution_count": 94,
     "metadata": {},
     "output_type": "execute_result"
    }
   ],
   "source": [
    "dataset.DESCR"
   ]
  },
  {
   "cell_type": "code",
   "execution_count": 95,
   "id": "0eda3608",
   "metadata": {},
   "outputs": [
    {
     "data": {
      "text/plain": [
       "dict_keys(['data', 'target', 'frame', 'DESCR', 'feature_names', 'data_filename', 'target_filename', 'data_module'])"
      ]
     },
     "execution_count": 95,
     "metadata": {},
     "output_type": "execute_result"
    }
   ],
   "source": [
    "dataset.keys()"
   ]
  },
  {
   "cell_type": "code",
   "execution_count": 96,
   "id": "744d8fd8",
   "metadata": {},
   "outputs": [
    {
     "data": {
      "text/plain": [
       "['age', 'sex', 'bmi', 'bp', 's1', 's2', 's3', 's4', 's5', 's6']"
      ]
     },
     "execution_count": 96,
     "metadata": {},
     "output_type": "execute_result"
    }
   ],
   "source": [
    "dataset.feature_names"
   ]
  },
  {
   "cell_type": "code",
   "execution_count": 97,
   "id": "81de7e97",
   "metadata": {},
   "outputs": [
    {
     "data": {
      "text/plain": [
       "(442,)"
      ]
     },
     "execution_count": 97,
     "metadata": {},
     "output_type": "execute_result"
    }
   ],
   "source": [
    "dataset.target.shape"
   ]
  },
  {
   "cell_type": "code",
   "execution_count": 98,
   "id": "772555c3",
   "metadata": {},
   "outputs": [],
   "source": [
    "x=dataset.data\n",
    "y=dataset.target"
   ]
  },
  {
   "cell_type": "code",
   "execution_count": 99,
   "id": "9893903d",
   "metadata": {},
   "outputs": [],
   "source": [
    "from sklearn.linear_model import LinearRegression "
   ]
  },
  {
   "cell_type": "code",
   "execution_count": 100,
   "id": "401ddcbe",
   "metadata": {},
   "outputs": [],
   "source": [
    "from sklearn import model_selection"
   ]
  },
  {
   "cell_type": "code",
   "execution_count": 101,
   "id": "8382d564",
   "metadata": {},
   "outputs": [
    {
     "data": {
      "text/plain": [
       "(331, 10)"
      ]
     },
     "execution_count": 101,
     "metadata": {},
     "output_type": "execute_result"
    }
   ],
   "source": [
    "x_train,x_test,y_train,y_test=model_selection.train_test_split(x,y)\n",
    "x_train.shape"
   ]
  },
  {
   "cell_type": "code",
   "execution_count": 102,
   "id": "c312d32b",
   "metadata": {},
   "outputs": [],
   "source": [
    "alg=LinearRegression()"
   ]
  },
  {
   "cell_type": "code",
   "execution_count": 103,
   "id": "57ee999c",
   "metadata": {},
   "outputs": [
    {
     "data": {
      "text/html": [
       "<style>#sk-container-id-5 {color: black;background-color: white;}#sk-container-id-5 pre{padding: 0;}#sk-container-id-5 div.sk-toggleable {background-color: white;}#sk-container-id-5 label.sk-toggleable__label {cursor: pointer;display: block;width: 100%;margin-bottom: 0;padding: 0.3em;box-sizing: border-box;text-align: center;}#sk-container-id-5 label.sk-toggleable__label-arrow:before {content: \"▸\";float: left;margin-right: 0.25em;color: #696969;}#sk-container-id-5 label.sk-toggleable__label-arrow:hover:before {color: black;}#sk-container-id-5 div.sk-estimator:hover label.sk-toggleable__label-arrow:before {color: black;}#sk-container-id-5 div.sk-toggleable__content {max-height: 0;max-width: 0;overflow: hidden;text-align: left;background-color: #f0f8ff;}#sk-container-id-5 div.sk-toggleable__content pre {margin: 0.2em;color: black;border-radius: 0.25em;background-color: #f0f8ff;}#sk-container-id-5 input.sk-toggleable__control:checked~div.sk-toggleable__content {max-height: 200px;max-width: 100%;overflow: auto;}#sk-container-id-5 input.sk-toggleable__control:checked~label.sk-toggleable__label-arrow:before {content: \"▾\";}#sk-container-id-5 div.sk-estimator input.sk-toggleable__control:checked~label.sk-toggleable__label {background-color: #d4ebff;}#sk-container-id-5 div.sk-label input.sk-toggleable__control:checked~label.sk-toggleable__label {background-color: #d4ebff;}#sk-container-id-5 input.sk-hidden--visually {border: 0;clip: rect(1px 1px 1px 1px);clip: rect(1px, 1px, 1px, 1px);height: 1px;margin: -1px;overflow: hidden;padding: 0;position: absolute;width: 1px;}#sk-container-id-5 div.sk-estimator {font-family: monospace;background-color: #f0f8ff;border: 1px dotted black;border-radius: 0.25em;box-sizing: border-box;margin-bottom: 0.5em;}#sk-container-id-5 div.sk-estimator:hover {background-color: #d4ebff;}#sk-container-id-5 div.sk-parallel-item::after {content: \"\";width: 100%;border-bottom: 1px solid gray;flex-grow: 1;}#sk-container-id-5 div.sk-label:hover label.sk-toggleable__label {background-color: #d4ebff;}#sk-container-id-5 div.sk-serial::before {content: \"\";position: absolute;border-left: 1px solid gray;box-sizing: border-box;top: 0;bottom: 0;left: 50%;z-index: 0;}#sk-container-id-5 div.sk-serial {display: flex;flex-direction: column;align-items: center;background-color: white;padding-right: 0.2em;padding-left: 0.2em;position: relative;}#sk-container-id-5 div.sk-item {position: relative;z-index: 1;}#sk-container-id-5 div.sk-parallel {display: flex;align-items: stretch;justify-content: center;background-color: white;position: relative;}#sk-container-id-5 div.sk-item::before, #sk-container-id-5 div.sk-parallel-item::before {content: \"\";position: absolute;border-left: 1px solid gray;box-sizing: border-box;top: 0;bottom: 0;left: 50%;z-index: -1;}#sk-container-id-5 div.sk-parallel-item {display: flex;flex-direction: column;z-index: 1;position: relative;background-color: white;}#sk-container-id-5 div.sk-parallel-item:first-child::after {align-self: flex-end;width: 50%;}#sk-container-id-5 div.sk-parallel-item:last-child::after {align-self: flex-start;width: 50%;}#sk-container-id-5 div.sk-parallel-item:only-child::after {width: 0;}#sk-container-id-5 div.sk-dashed-wrapped {border: 1px dashed gray;margin: 0 0.4em 0.5em 0.4em;box-sizing: border-box;padding-bottom: 0.4em;background-color: white;}#sk-container-id-5 div.sk-label label {font-family: monospace;font-weight: bold;display: inline-block;line-height: 1.2em;}#sk-container-id-5 div.sk-label-container {text-align: center;}#sk-container-id-5 div.sk-container {/* jupyter's `normalize.less` sets `[hidden] { display: none; }` but bootstrap.min.css set `[hidden] { display: none !important; }` so we also need the `!important` here to be able to override the default hidden behavior on the sphinx rendered scikit-learn.org. See: https://github.com/scikit-learn/scikit-learn/issues/21755 */display: inline-block !important;position: relative;}#sk-container-id-5 div.sk-text-repr-fallback {display: none;}</style><div id=\"sk-container-id-5\" class=\"sk-top-container\"><div class=\"sk-text-repr-fallback\"><pre>LinearRegression()</pre><b>In a Jupyter environment, please rerun this cell to show the HTML representation or trust the notebook. <br />On GitHub, the HTML representation is unable to render, please try loading this page with nbviewer.org.</b></div><div class=\"sk-container\" hidden><div class=\"sk-item\"><div class=\"sk-estimator sk-toggleable\"><input class=\"sk-toggleable__control sk-hidden--visually\" id=\"sk-estimator-id-5\" type=\"checkbox\" checked><label for=\"sk-estimator-id-5\" class=\"sk-toggleable__label sk-toggleable__label-arrow\">LinearRegression</label><div class=\"sk-toggleable__content\"><pre>LinearRegression()</pre></div></div></div></div></div>"
      ],
      "text/plain": [
       "LinearRegression()"
      ]
     },
     "execution_count": 103,
     "metadata": {},
     "output_type": "execute_result"
    }
   ],
   "source": [
    "alg.fit(x_train,y_train)"
   ]
  },
  {
   "cell_type": "code",
   "execution_count": 104,
   "id": "319b988a",
   "metadata": {},
   "outputs": [],
   "source": [
    "y_pred=alg.predict(x_test)"
   ]
  },
  {
   "cell_type": "code",
   "execution_count": 105,
   "id": "41ce9197",
   "metadata": {},
   "outputs": [
    {
     "data": {
      "text/plain": [
       "0.5185023622510576"
      ]
     },
     "execution_count": 105,
     "metadata": {},
     "output_type": "execute_result"
    }
   ],
   "source": [
    "alg.score(x_train,y_train)"
   ]
  },
  {
   "cell_type": "code",
   "execution_count": 106,
   "id": "f0c742f8",
   "metadata": {},
   "outputs": [
    {
     "data": {
      "text/plain": [
       "0.5029701680673122"
      ]
     },
     "execution_count": 106,
     "metadata": {},
     "output_type": "execute_result"
    }
   ],
   "source": [
    "alg.score(x_test,y_test)"
   ]
  },
  {
   "cell_type": "code",
   "execution_count": 107,
   "id": "af6f86a6",
   "metadata": {},
   "outputs": [
    {
     "data": {
      "image/png": "[encoded data removed]",
      "text/plain": [
       "<Figure size 640x480 with 1 Axes>"
      ]
     },
     "metadata": {},
     "output_type": "display_data"
    }
   ],
   "source": [
    "plt.scatter(y_test,y_pred)\n",
    "X=[0,450]\n",
    "Y=[0,450]\n",
    "plt.plot(X,Y)\n",
    "plt.show()"
   ]
  },
  {
   "cell_type": "code",
   "execution_count": 1,
   "id": "826503a8",
   "metadata": {},
   "outputs": [],
   "source": [
    "#polynomial regression\n",
    "import pandas as pd\n",
    "import numpy as np\n",
    "import matplotlib.pyplot as plt"
   ]
  },
  {
   "cell_type": "code",
   "execution_count": 16,
   "id": "30ef0dbf",
   "metadata": {},
   "outputs": [],
   "source": [
    "dataset=pd.read_csv('poly_data.csv')"
   ]
  },
  {
   "cell_type": "code",
   "execution_count": 17,
   "id": "685d07cc",
   "metadata": {},
   "outputs": [],
   "source": [
    "dataset=dataset.values"
   ]
  },
  {
   "cell_type": "code",
   "execution_count": 18,
   "id": "a5d9a711",
   "metadata": {},
   "outputs": [],
   "source": [
    "x=dataset[:,0:1]\n",
    "y=dataset[:,1]"
   ]
  },
  {
   "cell_type": "code",
   "execution_count": 19,
   "id": "10d1902b",
   "metadata": {},
   "outputs": [
    {
     "data": {
      "text/plain": [
       "(9, 1)"
      ]
     },
     "execution_count": 19,
     "metadata": {},
     "output_type": "execute_result"
    }
   ],
   "source": [
    "x.shape"
   ]
  },
  {
   "cell_type": "code",
   "execution_count": 20,
   "id": "08a09d85",
   "metadata": {},
   "outputs": [
    {
     "data": {
      "text/plain": [
       "(9, 2)"
      ]
     },
     "execution_count": 20,
     "metadata": {},
     "output_type": "execute_result"
    }
   ],
   "source": [
    "dataset.shape"
   ]
  },
  {
   "cell_type": "code",
   "execution_count": 21,
   "id": "78735f9c",
   "metadata": {},
   "outputs": [
    {
     "data": {
      "text/plain": [
       "array([[   2,   50],\n",
       "       [   3,   60],\n",
       "       [   4,   80],\n",
       "       [   5,  110],\n",
       "       [   6,  150],\n",
       "       [   7,  200],\n",
       "       [   8,  300],\n",
       "       [   9,  500],\n",
       "       [  10, 1000]], dtype=int64)"
      ]
     },
     "execution_count": 21,
     "metadata": {},
     "output_type": "execute_result"
    }
   ],
   "source": [
    "dataset"
   ]
  },
  {
   "cell_type": "code",
   "execution_count": 22,
   "id": "6a2d6b29",
   "metadata": {},
   "outputs": [
    {
     "data": {
      "text/plain": [
       "array([[ 2],\n",
       "       [ 3],\n",
       "       [ 4],\n",
       "       [ 5],\n",
       "       [ 6],\n",
       "       [ 7],\n",
       "       [ 8],\n",
       "       [ 9],\n",
       "       [10]], dtype=int64)"
      ]
     },
     "execution_count": 22,
     "metadata": {},
     "output_type": "execute_result"
    }
   ],
   "source": [
    "x"
   ]
  },
  {
   "cell_type": "code",
   "execution_count": 23,
   "id": "f1daf967",
   "metadata": {},
   "outputs": [
    {
     "data": {
      "text/plain": [
       "array([  50,   60,   80,  110,  150,  200,  300,  500, 1000], dtype=int64)"
      ]
     },
     "execution_count": 23,
     "metadata": {},
     "output_type": "execute_result"
    }
   ],
   "source": [
    "y"
   ]
  },
  {
   "cell_type": "code",
   "execution_count": 24,
   "id": "48cd6ab5",
   "metadata": {},
   "outputs": [
    {
     "data": {
      "text/plain": [
       "<matplotlib.collections.PathCollection at 0x18d0026a470>"
      ]
     },
     "execution_count": 24,
     "metadata": {},
     "output_type": "execute_result"
    },
    {
     "data": {
      "image/png": "[encoded data removed]",
      "text/plain": [
       "<Figure size 640x480 with 1 Axes>"
      ]
     },
     "metadata": {},
     "output_type": "display_data"
    }
   ],
   "source": [
    "plt.scatter(x,y)"
   ]
  },
  {
   "cell_type": "code",
   "execution_count": 25,
   "id": "dd99659b",
   "metadata": {},
   "outputs": [],
   "source": [
    "from sklearn.preprocessing import PolynomialFeatures"
   ]
  },
  {
   "cell_type": "code",
   "execution_count": 27,
   "id": "4a13b32a",
   "metadata": {},
   "outputs": [],
   "source": [
    "from sklearn.linear_model import LinearRegression"
   ]
  },
  {
   "cell_type": "code",
   "execution_count": 38,
   "id": "22344a27",
   "metadata": {},
   "outputs": [
    {
     "data": {
      "text/plain": [
       "array([[1.000e+00, 2.000e+00, 4.000e+00, 8.000e+00, 1.600e+01],\n",
       "       [1.000e+00, 3.000e+00, 9.000e+00, 2.700e+01, 8.100e+01],\n",
       "       [1.000e+00, 4.000e+00, 1.600e+01, 6.400e+01, 2.560e+02],\n",
       "       [1.000e+00, 5.000e+00, 2.500e+01, 1.250e+02, 6.250e+02],\n",
       "       [1.000e+00, 6.000e+00, 3.600e+01, 2.160e+02, 1.296e+03],\n",
       "       [1.000e+00, 7.000e+00, 4.900e+01, 3.430e+02, 2.401e+03],\n",
       "       [1.000e+00, 8.000e+00, 6.400e+01, 5.120e+02, 4.096e+03],\n",
       "       [1.000e+00, 9.000e+00, 8.100e+01, 7.290e+02, 6.561e+03],\n",
       "       [1.000e+00, 1.000e+01, 1.000e+02, 1.000e+03, 1.000e+04]])"
      ]
     },
     "execution_count": 38,
     "metadata": {},
     "output_type": "execute_result"
    }
   ],
   "source": [
    "poly=PolynomialFeatures(degree=4)\n",
    "x_transformed=poly.fit_transform(x)\n",
    "x_transformed"
   ]
  },
  {
   "cell_type": "code",
   "execution_count": 39,
   "id": "2d53f7c6",
   "metadata": {},
   "outputs": [
    {
     "data": {
      "text/html": [
       "<style>#sk-container-id-3 {color: black;background-color: white;}#sk-container-id-3 pre{padding: 0;}#sk-container-id-3 div.sk-toggleable {background-color: white;}#sk-container-id-3 label.sk-toggleable__label {cursor: pointer;display: block;width: 100%;margin-bottom: 0;padding: 0.3em;box-sizing: border-box;text-align: center;}#sk-container-id-3 label.sk-toggleable__label-arrow:before {content: \"▸\";float: left;margin-right: 0.25em;color: #696969;}#sk-container-id-3 label.sk-toggleable__label-arrow:hover:before {color: black;}#sk-container-id-3 div.sk-estimator:hover label.sk-toggleable__label-arrow:before {color: black;}#sk-container-id-3 div.sk-toggleable__content {max-height: 0;max-width: 0;overflow: hidden;text-align: left;background-color: #f0f8ff;}#sk-container-id-3 div.sk-toggleable__content pre {margin: 0.2em;color: black;border-radius: 0.25em;background-color: #f0f8ff;}#sk-container-id-3 input.sk-toggleable__control:checked~div.sk-toggleable__content {max-height: 200px;max-width: 100%;overflow: auto;}#sk-container-id-3 input.sk-toggleable__control:checked~label.sk-toggleable__label-arrow:before {content: \"▾\";}#sk-container-id-3 div.sk-estimator input.sk-toggleable__control:checked~label.sk-toggleable__label {background-color: #d4ebff;}#sk-container-id-3 div.sk-label input.sk-toggleable__control:checked~label.sk-toggleable__label {background-color: #d4ebff;}#sk-container-id-3 input.sk-hidden--visually {border: 0;clip: rect(1px 1px 1px 1px);clip: rect(1px, 1px, 1px, 1px);height: 1px;margin: -1px;overflow: hidden;padding: 0;position: absolute;width: 1px;}#sk-container-id-3 div.sk-estimator {font-family: monospace;background-color: #f0f8ff;border: 1px dotted black;border-radius: 0.25em;box-sizing: border-box;margin-bottom: 0.5em;}#sk-container-id-3 div.sk-estimator:hover {background-color: #d4ebff;}#sk-container-id-3 div.sk-parallel-item::after {content: \"\";width: 100%;border-bottom: 1px solid gray;flex-grow: 1;}#sk-container-id-3 div.sk-label:hover label.sk-toggleable__label {background-color: #d4ebff;}#sk-container-id-3 div.sk-serial::before {content: \"\";position: absolute;border-left: 1px solid gray;box-sizing: border-box;top: 0;bottom: 0;left: 50%;z-index: 0;}#sk-container-id-3 div.sk-serial {display: flex;flex-direction: column;align-items: center;background-color: white;padding-right: 0.2em;padding-left: 0.2em;position: relative;}#sk-container-id-3 div.sk-item {position: relative;z-index: 1;}#sk-container-id-3 div.sk-parallel {display: flex;align-items: stretch;justify-content: center;background-color: white;position: relative;}#sk-container-id-3 div.sk-item::before, #sk-container-id-3 div.sk-parallel-item::before {content: \"\";position: absolute;border-left: 1px solid gray;box-sizing: border-box;top: 0;bottom: 0;left: 50%;z-index: -1;}#sk-container-id-3 div.sk-parallel-item {display: flex;flex-direction: column;z-index: 1;position: relative;background-color: white;}#sk-container-id-3 div.sk-parallel-item:first-child::after {align-self: flex-end;width: 50%;}#sk-container-id-3 div.sk-parallel-item:last-child::after {align-self: flex-start;width: 50%;}#sk-container-id-3 div.sk-parallel-item:only-child::after {width: 0;}#sk-container-id-3 div.sk-dashed-wrapped {border: 1px dashed gray;margin: 0 0.4em 0.5em 0.4em;box-sizing: border-box;padding-bottom: 0.4em;background-color: white;}#sk-container-id-3 div.sk-label label {font-family: monospace;font-weight: bold;display: inline-block;line-height: 1.2em;}#sk-container-id-3 div.sk-label-container {text-align: center;}#sk-container-id-3 div.sk-container {/* jupyter's `normalize.less` sets `[hidden] { display: none; }` but bootstrap.min.css set `[hidden] { display: none !important; }` so we also need the `!important` here to be able to override the default hidden behavior on the sphinx rendered scikit-learn.org. See: https://github.com/scikit-learn/scikit-learn/issues/21755 */display: inline-block !important;position: relative;}#sk-container-id-3 div.sk-text-repr-fallback {display: none;}</style><div id=\"sk-container-id-3\" class=\"sk-top-container\"><div class=\"sk-text-repr-fallback\"><pre>LinearRegression()</pre><b>In a Jupyter environment, please rerun this cell to show the HTML representation or trust the notebook. <br />On GitHub, the HTML representation is unable to render, please try loading this page with nbviewer.org.</b></div><div class=\"sk-container\" hidden><div class=\"sk-item\"><div class=\"sk-estimator sk-toggleable\"><input class=\"sk-toggleable__control sk-hidden--visually\" id=\"sk-estimator-id-3\" type=\"checkbox\" checked><label for=\"sk-estimator-id-3\" class=\"sk-toggleable__label sk-toggleable__label-arrow\">LinearRegression</label><div class=\"sk-toggleable__content\"><pre>LinearRegression()</pre></div></div></div></div></div>"
      ],
      "text/plain": [
       "LinearRegression()"
      ]
     },
     "execution_count": 39,
     "metadata": {},
     "output_type": "execute_result"
    }
   ],
   "source": [
    "alg=LinearRegression()\n",
    "alg.fit(x_transformed,y)"
   ]
  },
  {
   "cell_type": "code",
   "execution_count": 40,
   "id": "1b96c941",
   "metadata": {},
   "outputs": [],
   "source": [
    "y_pred=alg.predict(x_transformed)"
   ]
  },
  {
   "cell_type": "code",
   "execution_count": 41,
   "id": "57ba1f19",
   "metadata": {},
   "outputs": [
    {
     "data": {
      "image/png": "[encoded data removed]",
      "text/plain": [
       "<Figure size 640x480 with 1 Axes>"
      ]
     },
     "metadata": {},
     "output_type": "display_data"
    }
   ],
   "source": [
    "plt.scatter(x,y)\n",
    "plt.plot(x,y_pred,c='red')\n",
    "plt.show()"
   ]
  },
  {
   "cell_type": "code",
   "execution_count": 12,
   "id": "3e1c6e4f",
   "metadata": {},
   "outputs": [
    {
     "name": "stdout",
     "output_type": "stream",
     "text": [
      "(200,)\n",
      "(200,)\n"
     ]
    }
   ],
   "source": [
    "import numpy as np\n",
    "data=np.loadtxt(\"linear_regresssion.csv\",delimiter=\",\")\n",
    "x=data[:,0]\n",
    "y=data[:,1]\n",
    "print(x.shape)\n",
    "print(y.shape)"
   ]
  },
  {
   "cell_type": "code",
   "execution_count": 13,
   "id": "9da58df6",
   "metadata": {},
   "outputs": [],
   "source": [
    "def update(y,x,m,c,learning_rate):\n",
    "    grad_m=(2*((m*x+c)-y)*x).mean()\n",
    "    grad_c=(2*((m*x+c)-y)).mean()\n",
    "    m=m-learning_rate*grad_m\n",
    "    c=c-learning_rate*grad_c\n",
    "    return m,c"
   ]
  },
  {
   "cell_type": "code",
   "execution_count": 18,
   "id": "9adaacd1",
   "metadata": {},
   "outputs": [],
   "source": [
    "def gradient_descent(data,learning_rate,iterations):\n",
    "    m=0\n",
    "    c=0\n",
    "    x=data[:,0]\n",
    "    y=data[:,1]\n",
    "    for i in range(iterations):\n",
    "        m,c=update(y,x,m,c,learning_rate)\n",
    "        print(i,\"cost: \",cost(data,m,c))\n",
    "    return(m,c)\n"
   ]
  },
  {
   "cell_type": "code",
   "execution_count": 19,
   "id": "12ca99c5",
   "metadata": {},
   "outputs": [],
   "source": [
    "def cost(data,m,c):\n",
    "    total_cost=0\n",
    "    N=len(data)\n",
    "    for i in range(N):\n",
    "        x=data[i,0]\n",
    "        y=data[i,1]\n",
    "        total_cost+=(1/N)*((y-m*x-c)**2)\n",
    "    return total_cost"
   ]
  },
  {
   "cell_type": "code",
   "execution_count": 29,
   "id": "b50deffe",
   "metadata": {},
   "outputs": [
    {
     "name": "stdout",
     "output_type": "stream",
     "text": [
      "0 cost:  341.17847253648665\n",
      "1 cost:  40.50756084264561\n",
      "2 cost:  12.165480569226604\n",
      "3 cost:  9.493870528722606\n",
      "4 cost:  9.242030142082198\n",
      "5 cost:  9.218283948501647\n",
      "6 cost:  9.21603854623985\n",
      "7 cost:  9.21581986880914\n",
      "8 cost:  9.215792236742576\n",
      "9 cost:  9.215782613807157\n",
      "10 cost:  9.215774689128043\n",
      "11 cost:  9.2157669251969\n",
      "12 cost:  9.215759177083893\n",
      "13 cost:  9.215751431127444\n",
      "14 cost:  9.215743686039728\n",
      "15 cost:  9.215735941699277\n",
      "16 cost:  9.21572819809459\n",
      "17 cost:  9.215720455224517\n",
      "18 cost:  9.215712713088875\n",
      "19 cost:  9.215704971687607\n",
      "20 cost:  9.215697231020618\n",
      "21 cost:  9.215689491087852\n",
      "22 cost:  9.215681751889234\n",
      "23 cost:  9.215674013424701\n",
      "24 cost:  9.215666275694185\n",
      "25 cost:  9.215658538697605\n",
      "26 cost:  9.215650802434892\n",
      "27 cost:  9.215643066905978\n",
      "28 cost:  9.215635332110807\n",
      "29 cost:  9.215627598049293\n",
      "30 cost:  9.21561986472138\n",
      "31 cost:  9.215612132126981\n",
      "32 cost:  9.215604400266045\n",
      "33 cost:  9.215596669138494\n",
      "34 cost:  9.215588938744247\n",
      "35 cost:  9.215581209083256\n",
      "36 cost:  9.215573480155438\n",
      "37 cost:  9.215565751960723\n",
      "38 cost:  9.215558024499051\n",
      "39 cost:  9.215550297770351\n",
      "40 cost:  9.215542571774545\n",
      "41 cost:  9.215534846511556\n",
      "42 cost:  9.21552712198134\n",
      "43 cost:  9.215519398183808\n",
      "44 cost:  9.215511675118902\n",
      "45 cost:  9.215503952786529\n",
      "46 cost:  9.215496231186657\n",
      "47 cost:  9.215488510319188\n",
      "48 cost:  9.21548079018407\n",
      "49 cost:  9.215473070781204\n",
      "50 cost:  9.215465352110561\n",
      "51 cost:  9.215457634172038\n",
      "52 cost:  9.215449916965586\n",
      "53 cost:  9.215442200491127\n",
      "54 cost:  9.215434484748597\n",
      "55 cost:  9.215426769737917\n",
      "56 cost:  9.215419055459034\n",
      "57 cost:  9.215411341911857\n",
      "58 cost:  9.215403629096333\n",
      "59 cost:  9.21539591701239\n",
      "60 cost:  9.215388205659949\n",
      "61 cost:  9.215380495038948\n",
      "62 cost:  9.215372785149318\n",
      "63 cost:  9.215365075991002\n",
      "64 cost:  9.215357367563897\n",
      "65 cost:  9.215349659867966\n",
      "66 cost:  9.215341952903124\n",
      "67 cost:  9.21533424666931\n",
      "68 cost:  9.215326541166437\n",
      "69 cost:  9.215318836394463\n",
      "70 cost:  9.215311132353298\n",
      "71 cost:  9.215303429042883\n",
      "72 cost:  9.215295726463145\n",
      "73 cost:  9.215288024614011\n",
      "74 cost:  9.21528032349541\n",
      "75 cost:  9.21527262310729\n",
      "76 cost:  9.215264923449562\n",
      "77 cost:  9.21525722452216\n",
      "78 cost:  9.215249526325026\n",
      "79 cost:  9.215241828858085\n",
      "80 cost:  9.215234132121267\n",
      "81 cost:  9.215226436114493\n",
      "82 cost:  9.215218740837708\n",
      "83 cost:  9.215211046290845\n",
      "84 cost:  9.215203352473813\n",
      "85 cost:  9.21519565938657\n",
      "86 cost:  9.215187967029031\n",
      "87 cost:  9.215180275401126\n",
      "88 cost:  9.215172584502794\n",
      "89 cost:  9.215164894333956\n",
      "90 cost:  9.215157204894554\n",
      "91 cost:  9.215149516184523\n",
      "92 cost:  9.215141828203754\n",
      "93 cost:  9.215134140952223\n",
      "94 cost:  9.215126454429848\n",
      "95 cost:  9.215118768636557\n",
      "96 cost:  9.215111083572285\n",
      "97 cost:  9.215103399236959\n",
      "98 cost:  9.2150957156305\n",
      "99 cost:  9.215088032752858\n",
      "1.0080912443407437 0.012181680263359671\n"
     ]
    }
   ],
   "source": [
    "learning_rate=0.0001\n",
    "iterations=100#coming down steps margin\n",
    "m,c=gradient_descent(data,learning_rate,iterations)\n",
    "print(m,c)"
   ]
  },
  {
   "cell_type": "code",
   "execution_count": 17,
   "id": "c36afb76",
   "metadata": {},
   "outputs": [
    {
     "data": {
      "image/png": "[encoded data removed]",
      "text/plain": [
       "<Figure size 640x480 with 1 Axes>"
      ]
     },
     "metadata": {},
     "output_type": "display_data"
    }
   ],
   "source": [
    "import matplotlib.pyplot as plt\n",
    "X=np.array([0,100])\n",
    "Y=m*X+c\n",
    "plt.plot(X,Y)\n",
    "plt.scatter(x,y,c='r')\n",
    "plt.show()"
   ]
  },
  {
   "cell_type": "code",
   "execution_count": 37,
   "id": "31413fc8",
   "metadata": {},
   "outputs": [
    {
     "data": {
      "text/plain": [
       "(150, 4)"
      ]
     },
     "execution_count": 37,
     "metadata": {},
     "output_type": "execute_result"
    }
   ],
   "source": [
    "#MULTICLASS CLASSIFICATION,ON IRIS DATA-on flowers\n",
    "from sklearn import datasets\n",
    "from sklearn.linear_model import LogisticRegression\n",
    "dataset=datasets.load_iris()\n",
    "x=dataset.data\n",
    "y=dataset.target\n",
    "x.shape"
   ]
  },
  {
   "cell_type": "code",
   "execution_count": 45,
   "id": "c9824fb2",
   "metadata": {},
   "outputs": [],
   "source": [
    "from sklearn.model_selection import train_test_split\n",
    "x_train,x_test,y_train,y_test=train_test_split(x,y,random_state=10)"
   ]
  },
  {
   "cell_type": "code",
   "execution_count": 39,
   "id": "95fe7dd5",
   "metadata": {},
   "outputs": [
    {
     "data": {
      "text/plain": [
       "'.. _iris_dataset:\\n\\nIris plants dataset\\n--------------------\\n\\n**Data Set Characteristics:**\\n\\n    :Number of Instances: 150 (50 in each of three classes)\\n    :Number of Attributes: 4 numeric, predictive attributes and the class\\n    :Attribute Information:\\n        - sepal length in cm\\n        - sepal width in cm\\n        - petal length in cm\\n        - petal width in cm\\n        - class:\\n                - Iris-Setosa\\n                - Iris-Versicolour\\n                - Iris-Virginica\\n                \\n    :Summary Statistics:\\n\\n    ============== ==== ==== ======= ===== ====================\\n                    Min  Max   Mean    SD   Class Correlation\\n    ============== ==== ==== ======= ===== ====================\\n    sepal length:   4.3  7.9   5.84   0.83    0.7826\\n    sepal width:    2.0  4.4   3.05   0.43   -0.4194\\n    petal length:   1.0  6.9   3.76   1.76    0.9490  (high!)\\n    petal width:    0.1  2.5   1.20   0.76    0.9565  (high!)\\n    ============== ==== ==== ======= ===== ====================\\n\\n    :Missing Attribute Values: None\\n    :Class Distribution: 33.3% for each of 3 classes.\\n    :Creator: R.A. Fisher\\n    :Donor: Michael Marshall (MARSHALL%PLU@io.arc.nasa.gov)\\n    :Date: July, 1988\\n\\nThe famous Iris database, first used by Sir R.A. Fisher. The dataset is taken\\nfrom Fisher\\'s paper. Note that it\\'s the same as in R, but not as in the UCI\\nMachine Learning Repository, which has two wrong data points.\\n\\nThis is perhaps the best known database to be found in the\\npattern recognition literature.  Fisher\\'s paper is a classic in the field and\\nis referenced frequently to this day.  (See Duda & Hart, for example.)  The\\ndata set contains 3 classes of 50 instances each, where each class refers to a\\ntype of iris plant.  One class is linearly separable from the other 2; the\\nlatter are NOT linearly separable from each other.\\n\\n.. topic:: References\\n\\n   - Fisher, R.A. \"The use of multiple measurements in taxonomic problems\"\\n     Annual Eugenics, 7, Part II, 179-188 (1936); also in \"Contributions to\\n     Mathematical Statistics\" (John Wiley, NY, 1950).\\n   - Duda, R.O., & Hart, P.E. (1973) Pattern Classification and Scene Analysis.\\n     (Q327.D83) John Wiley & Sons.  ISBN 0-471-22361-1.  See page 218.\\n   - Dasarathy, B.V. (1980) \"Nosing Around the Neighborhood: A New System\\n     Structure and Classification Rule for Recognition in Partially Exposed\\n     Environments\".  IEEE Transactions on Pattern Analysis and Machine\\n     Intelligence, Vol. PAMI-2, No. 1, 67-71.\\n   - Gates, G.W. (1972) \"The Reduced Nearest Neighbor Rule\".  IEEE Transactions\\n     on Information Theory, May 1972, 431-433.\\n   - See also: 1988 MLC Proceedings, 54-64.  Cheeseman et al\"s AUTOCLASS II\\n     conceptual clustering system finds 3 classes in the data.\\n   - Many, many more ...'"
      ]
     },
     "execution_count": 39,
     "metadata": {},
     "output_type": "execute_result"
    }
   ],
   "source": [
    "dataset.DESCR"
   ]
  },
  {
   "cell_type": "code",
   "execution_count": 46,
   "id": "731158da",
   "metadata": {},
   "outputs": [
    {
     "data": {
      "text/plain": [
       "0.9736842105263158"
      ]
     },
     "execution_count": 46,
     "metadata": {},
     "output_type": "execute_result"
    }
   ],
   "source": [
    "clf=LogisticRegression(multi_class='ovr',solver='lbfgs')\n",
    "clf.fit(x_train,y_train)\n",
    "clf.score(x_test,y_test)"
   ]
  },
  {
   "cell_type": "code",
   "execution_count": 1,
   "id": "e1f66efe",
   "metadata": {},
   "outputs": [],
   "source": [
    "from sklearn import datasets\n",
    "from sklearn.linear_model import LogisticRegression"
   ]
  },
  {
   "cell_type": "code",
   "execution_count": 2,
   "id": "cf682293",
   "metadata": {},
   "outputs": [
    {
     "name": "stdout",
     "output_type": "stream",
     "text": [
      "(569, 30)\n"
     ]
    }
   ],
   "source": [
    "dataset=datasets.load_breast_cancer()\n",
    "x=dataset.data\n",
    "y=dataset.target\n",
    "print(x.shape)"
   ]
  },
  {
   "cell_type": "code",
   "execution_count": 3,
   "id": "b5759c28",
   "metadata": {},
   "outputs": [],
   "source": [
    "from sklearn.model_selection import train_test_split\n",
    "x_train,x_test,y_train,y_test=train_test_split(x,y,random_state=0)"
   ]
  },
  {
   "cell_type": "code",
   "execution_count": 4,
   "id": "e6783a20",
   "metadata": {},
   "outputs": [
    {
     "data": {
      "text/plain": [
       "'.. _breast_cancer_dataset:\\n\\nBreast cancer wisconsin (diagnostic) dataset\\n--------------------------------------------\\n\\n**Data Set Characteristics:**\\n\\n    :Number of Instances: 569\\n\\n    :Number of Attributes: 30 numeric, predictive attributes and the class\\n\\n    :Attribute Information:\\n        - radius (mean of distances from center to points on the perimeter)\\n        - texture (standard deviation of gray-scale values)\\n        - perimeter\\n        - area\\n        - smoothness (local variation in radius lengths)\\n        - compactness (perimeter^2 / area - 1.0)\\n        - concavity (severity of concave portions of the contour)\\n        - concave points (number of concave portions of the contour)\\n        - symmetry\\n        - fractal dimension (\"coastline approximation\" - 1)\\n\\n        The mean, standard error, and \"worst\" or largest (mean of the three\\n        worst/largest values) of these features were computed for each image,\\n        resulting in 30 features.  For instance, field 0 is Mean Radius, field\\n        10 is Radius SE, field 20 is Worst Radius.\\n\\n        - class:\\n                - WDBC-Malignant\\n                - WDBC-Benign\\n\\n    :Summary Statistics:\\n\\n    ===================================== ====== ======\\n                                           Min    Max\\n    ===================================== ====== ======\\n    radius (mean):                        6.981  28.11\\n    texture (mean):                       9.71   39.28\\n    perimeter (mean):                     43.79  188.5\\n    area (mean):                          143.5  2501.0\\n    smoothness (mean):                    0.053  0.163\\n    compactness (mean):                   0.019  0.345\\n    concavity (mean):                     0.0    0.427\\n    concave points (mean):                0.0    0.201\\n    symmetry (mean):                      0.106  0.304\\n    fractal dimension (mean):             0.05   0.097\\n    radius (standard error):              0.112  2.873\\n    texture (standard error):             0.36   4.885\\n    perimeter (standard error):           0.757  21.98\\n    area (standard error):                6.802  542.2\\n    smoothness (standard error):          0.002  0.031\\n    compactness (standard error):         0.002  0.135\\n    concavity (standard error):           0.0    0.396\\n    concave points (standard error):      0.0    0.053\\n    symmetry (standard error):            0.008  0.079\\n    fractal dimension (standard error):   0.001  0.03\\n    radius (worst):                       7.93   36.04\\n    texture (worst):                      12.02  49.54\\n    perimeter (worst):                    50.41  251.2\\n    area (worst):                         185.2  4254.0\\n    smoothness (worst):                   0.071  0.223\\n    compactness (worst):                  0.027  1.058\\n    concavity (worst):                    0.0    1.252\\n    concave points (worst):               0.0    0.291\\n    symmetry (worst):                     0.156  0.664\\n    fractal dimension (worst):            0.055  0.208\\n    ===================================== ====== ======\\n\\n    :Missing Attribute Values: None\\n\\n    :Class Distribution: 212 - Malignant, 357 - Benign\\n\\n    :Creator:  Dr. William H. Wolberg, W. Nick Street, Olvi L. Mangasarian\\n\\n    :Donor: Nick Street\\n\\n    :Date: November, 1995\\n\\nThis is a copy of UCI ML Breast Cancer Wisconsin (Diagnostic) datasets.\\nhttps://goo.gl/U2Uwz2\\n\\nFeatures are computed from a digitized image of a fine needle\\naspirate (FNA) of a breast mass.  They describe\\ncharacteristics of the cell nuclei present in the image.\\n\\nSeparating plane described above was obtained using\\nMultisurface Method-Tree (MSM-T) [K. P. Bennett, \"Decision Tree\\nConstruction Via Linear Programming.\" Proceedings of the 4th\\nMidwest Artificial Intelligence and Cognitive Science Society,\\npp. 97-101, 1992], a classification method which uses linear\\nprogramming to construct a decision tree.  Relevant features\\nwere selected using an exhaustive search in the space of 1-4\\nfeatures and 1-3 separating planes.\\n\\nThe actual linear program used to obtain the separating plane\\nin the 3-dimensional space is that described in:\\n[K. P. Bennett and O. L. Mangasarian: \"Robust Linear\\nProgramming Discrimination of Two Linearly Inseparable Sets\",\\nOptimization Methods and Software 1, 1992, 23-34].\\n\\nThis database is also available through the UW CS ftp server:\\n\\nftp ftp.cs.wisc.edu\\ncd math-prog/cpo-dataset/machine-learn/WDBC/\\n\\n.. topic:: References\\n\\n   - W.N. Street, W.H. Wolberg and O.L. Mangasarian. Nuclear feature extraction \\n     for breast tumor diagnosis. IS&T/SPIE 1993 International Symposium on \\n     Electronic Imaging: Science and Technology, volume 1905, pages 861-870,\\n     San Jose, CA, 1993.\\n   - O.L. Mangasarian, W.N. Street and W.H. Wolberg. Breast cancer diagnosis and \\n     prognosis via linear programming. Operations Research, 43(4), pages 570-577, \\n     July-August 1995.\\n   - W.H. Wolberg, W.N. Street, and O.L. Mangasarian. Machine learning techniques\\n     to diagnose breast cancer from fine-needle aspirates. Cancer Letters 77 (1994) \\n     163-171.'"
      ]
     },
     "execution_count": 4,
     "metadata": {},
     "output_type": "execute_result"
    }
   ],
   "source": [
    "dataset.DESCR"
   ]
  },
  {
   "cell_type": "code",
   "execution_count": 5,
   "id": "07ac8eea",
   "metadata": {},
   "outputs": [
    {
     "data": {
      "text/plain": [
       "array([0, 0, 0, 0, 0, 0, 0, 0, 0, 0, 0, 0, 0, 0, 0, 0, 0, 0, 0, 1, 1, 1,\n",
       "       0, 0, 0, 0, 0, 0, 0, 0, 0, 0, 0, 0, 0, 0, 0, 1, 0, 0, 0, 0, 0, 0,\n",
       "       0, 0, 1, 0, 1, 1, 1, 1, 1, 0, 0, 1, 0, 0, 1, 1, 1, 1, 0, 1, 0, 0,\n",
       "       1, 1, 1, 1, 0, 1, 0, 0, 1, 0, 1, 0, 0, 1, 1, 1, 0, 0, 1, 0, 0, 0,\n",
       "       1, 1, 1, 0, 1, 1, 0, 0, 1, 1, 1, 0, 0, 1, 1, 1, 1, 0, 1, 1, 0, 1,\n",
       "       1, 1, 1, 1, 1, 1, 1, 0, 0, 0, 1, 0, 0, 1, 1, 1, 0, 0, 1, 0, 1, 0,\n",
       "       0, 1, 0, 0, 1, 1, 0, 1, 1, 0, 1, 1, 1, 1, 0, 1, 1, 1, 1, 1, 1, 1,\n",
       "       1, 1, 0, 1, 1, 1, 1, 0, 0, 1, 0, 1, 1, 0, 0, 1, 1, 0, 0, 1, 1, 1,\n",
       "       1, 0, 1, 1, 0, 0, 0, 1, 0, 1, 0, 1, 1, 1, 0, 1, 1, 0, 0, 1, 0, 0,\n",
       "       0, 0, 1, 0, 0, 0, 1, 0, 1, 0, 1, 1, 0, 1, 0, 0, 0, 0, 1, 1, 0, 0,\n",
       "       1, 1, 1, 0, 1, 1, 1, 1, 1, 0, 0, 1, 1, 0, 1, 1, 0, 0, 1, 0, 1, 1,\n",
       "       1, 1, 0, 1, 1, 1, 1, 1, 0, 1, 0, 0, 0, 0, 0, 0, 0, 0, 0, 0, 0, 0,\n",
       "       0, 0, 1, 1, 1, 1, 1, 1, 0, 1, 0, 1, 1, 0, 1, 1, 0, 1, 0, 0, 1, 1,\n",
       "       1, 1, 1, 1, 1, 1, 1, 1, 1, 1, 1, 0, 1, 1, 0, 1, 0, 1, 1, 1, 1, 1,\n",
       "       1, 1, 1, 1, 1, 1, 1, 1, 1, 0, 1, 1, 1, 0, 1, 0, 1, 1, 1, 1, 0, 0,\n",
       "       0, 1, 1, 1, 1, 0, 1, 0, 1, 0, 1, 1, 1, 0, 1, 1, 1, 1, 1, 1, 1, 0,\n",
       "       0, 0, 1, 1, 1, 1, 1, 1, 1, 1, 1, 1, 1, 0, 0, 1, 0, 0, 0, 1, 0, 0,\n",
       "       1, 1, 1, 1, 1, 0, 1, 1, 1, 1, 1, 0, 1, 1, 1, 0, 1, 1, 0, 0, 1, 1,\n",
       "       1, 1, 1, 1, 0, 1, 1, 1, 1, 1, 1, 1, 0, 1, 1, 1, 1, 1, 0, 1, 1, 0,\n",
       "       1, 1, 1, 1, 1, 1, 1, 1, 1, 1, 1, 1, 0, 1, 0, 0, 1, 0, 1, 1, 1, 1,\n",
       "       1, 0, 1, 1, 0, 1, 0, 1, 1, 0, 1, 0, 1, 1, 1, 1, 1, 1, 1, 1, 0, 0,\n",
       "       1, 1, 1, 1, 1, 1, 0, 1, 1, 1, 1, 1, 1, 1, 1, 1, 1, 0, 1, 1, 1, 1,\n",
       "       1, 1, 1, 0, 1, 0, 1, 1, 0, 1, 1, 1, 1, 1, 0, 0, 1, 0, 1, 0, 1, 1,\n",
       "       1, 1, 1, 0, 1, 1, 0, 1, 0, 1, 0, 0, 1, 1, 1, 0, 1, 1, 1, 1, 1, 1,\n",
       "       1, 1, 1, 1, 1, 0, 1, 0, 0, 1, 1, 1, 1, 1, 1, 1, 1, 1, 1, 1, 1, 1,\n",
       "       1, 1, 1, 1, 1, 1, 1, 1, 1, 1, 1, 1, 0, 0, 0, 0, 0, 0, 1])"
      ]
     },
     "execution_count": 5,
     "metadata": {},
     "output_type": "execute_result"
    }
   ],
   "source": [
    "y"
   ]
  },
  {
   "cell_type": "code",
   "execution_count": 6,
   "id": "75005700",
   "metadata": {},
   "outputs": [
    {
     "data": {
      "text/html": [
       "<style>#sk-container-id-1 {color: black;background-color: white;}#sk-container-id-1 pre{padding: 0;}#sk-container-id-1 div.sk-toggleable {background-color: white;}#sk-container-id-1 label.sk-toggleable__label {cursor: pointer;display: block;width: 100%;margin-bottom: 0;padding: 0.3em;box-sizing: border-box;text-align: center;}#sk-container-id-1 label.sk-toggleable__label-arrow:before {content: \"▸\";float: left;margin-right: 0.25em;color: #696969;}#sk-container-id-1 label.sk-toggleable__label-arrow:hover:before {color: black;}#sk-container-id-1 div.sk-estimator:hover label.sk-toggleable__label-arrow:before {color: black;}#sk-container-id-1 div.sk-toggleable__content {max-height: 0;max-width: 0;overflow: hidden;text-align: left;background-color: #f0f8ff;}#sk-container-id-1 div.sk-toggleable__content pre {margin: 0.2em;color: black;border-radius: 0.25em;background-color: #f0f8ff;}#sk-container-id-1 input.sk-toggleable__control:checked~div.sk-toggleable__content {max-height: 200px;max-width: 100%;overflow: auto;}#sk-container-id-1 input.sk-toggleable__control:checked~label.sk-toggleable__label-arrow:before {content: \"▾\";}#sk-container-id-1 div.sk-estimator input.sk-toggleable__control:checked~label.sk-toggleable__label {background-color: #d4ebff;}#sk-container-id-1 div.sk-label input.sk-toggleable__control:checked~label.sk-toggleable__label {background-color: #d4ebff;}#sk-container-id-1 input.sk-hidden--visually {border: 0;clip: rect(1px 1px 1px 1px);clip: rect(1px, 1px, 1px, 1px);height: 1px;margin: -1px;overflow: hidden;padding: 0;position: absolute;width: 1px;}#sk-container-id-1 div.sk-estimator {font-family: monospace;background-color: #f0f8ff;border: 1px dotted black;border-radius: 0.25em;box-sizing: border-box;margin-bottom: 0.5em;}#sk-container-id-1 div.sk-estimator:hover {background-color: #d4ebff;}#sk-container-id-1 div.sk-parallel-item::after {content: \"\";width: 100%;border-bottom: 1px solid gray;flex-grow: 1;}#sk-container-id-1 div.sk-label:hover label.sk-toggleable__label {background-color: #d4ebff;}#sk-container-id-1 div.sk-serial::before {content: \"\";position: absolute;border-left: 1px solid gray;box-sizing: border-box;top: 0;bottom: 0;left: 50%;z-index: 0;}#sk-container-id-1 div.sk-serial {display: flex;flex-direction: column;align-items: center;background-color: white;padding-right: 0.2em;padding-left: 0.2em;position: relative;}#sk-container-id-1 div.sk-item {position: relative;z-index: 1;}#sk-container-id-1 div.sk-parallel {display: flex;align-items: stretch;justify-content: center;background-color: white;position: relative;}#sk-container-id-1 div.sk-item::before, #sk-container-id-1 div.sk-parallel-item::before {content: \"\";position: absolute;border-left: 1px solid gray;box-sizing: border-box;top: 0;bottom: 0;left: 50%;z-index: -1;}#sk-container-id-1 div.sk-parallel-item {display: flex;flex-direction: column;z-index: 1;position: relative;background-color: white;}#sk-container-id-1 div.sk-parallel-item:first-child::after {align-self: flex-end;width: 50%;}#sk-container-id-1 div.sk-parallel-item:last-child::after {align-self: flex-start;width: 50%;}#sk-container-id-1 div.sk-parallel-item:only-child::after {width: 0;}#sk-container-id-1 div.sk-dashed-wrapped {border: 1px dashed gray;margin: 0 0.4em 0.5em 0.4em;box-sizing: border-box;padding-bottom: 0.4em;background-color: white;}#sk-container-id-1 div.sk-label label {font-family: monospace;font-weight: bold;display: inline-block;line-height: 1.2em;}#sk-container-id-1 div.sk-label-container {text-align: center;}#sk-container-id-1 div.sk-container {/* jupyter's `normalize.less` sets `[hidden] { display: none; }` but bootstrap.min.css set `[hidden] { display: none !important; }` so we also need the `!important` here to be able to override the default hidden behavior on the sphinx rendered scikit-learn.org. See: https://github.com/scikit-learn/scikit-learn/issues/21755 */display: inline-block !important;position: relative;}#sk-container-id-1 div.sk-text-repr-fallback {display: none;}</style><div id=\"sk-container-id-1\" class=\"sk-top-container\"><div class=\"sk-text-repr-fallback\"><pre>LogisticRegression(solver=&#x27;liblinear&#x27;)</pre><b>In a Jupyter environment, please rerun this cell to show the HTML representation or trust the notebook. <br />On GitHub, the HTML representation is unable to render, please try loading this page with nbviewer.org.</b></div><div class=\"sk-container\" hidden><div class=\"sk-item\"><div class=\"sk-estimator sk-toggleable\"><input class=\"sk-toggleable__control sk-hidden--visually\" id=\"sk-estimator-id-1\" type=\"checkbox\" checked><label for=\"sk-estimator-id-1\" class=\"sk-toggleable__label sk-toggleable__label-arrow\">LogisticRegression</label><div class=\"sk-toggleable__content\"><pre>LogisticRegression(solver=&#x27;liblinear&#x27;)</pre></div></div></div></div></div>"
      ],
      "text/plain": [
       "LogisticRegression(solver='liblinear')"
      ]
     },
     "execution_count": 6,
     "metadata": {},
     "output_type": "execute_result"
    }
   ],
   "source": [
    "clf=LogisticRegression(solver='liblinear')\n",
    "clf.fit(x_train,y_train)"
   ]
  },
  {
   "cell_type": "code",
   "execution_count": 7,
   "id": "ec8033c8",
   "metadata": {},
   "outputs": [
    {
     "data": {
      "text/plain": [
       "0.958041958041958"
      ]
     },
     "execution_count": 7,
     "metadata": {},
     "output_type": "execute_result"
    }
   ],
   "source": [
    "clf.score(x_test,y_test)"
   ]
  },
  {
   "cell_type": "code",
   "execution_count": 8,
   "id": "4083f4d9",
   "metadata": {},
   "outputs": [],
   "source": [
    "y_pred=clf.predict(x_test)"
   ]
  },
  {
   "cell_type": "code",
   "execution_count": 9,
   "id": "b87e0090",
   "metadata": {},
   "outputs": [
    {
     "data": {
      "text/plain": [
       "array([0, 1, 1, 1, 1, 1, 1, 1, 1, 1, 1, 1, 1, 0, 1, 0, 1, 0, 0, 0, 0, 0,\n",
       "       1, 1, 0, 1, 1, 0, 1, 0, 1, 0, 1, 0, 1, 0, 1, 0, 1, 0, 0, 1, 0, 1,\n",
       "       0, 0, 1, 1, 1, 0, 0, 0, 0, 1, 1, 1, 1, 1, 1, 0, 0, 0, 1, 1, 0, 1,\n",
       "       0, 0, 0, 1, 0, 0, 1, 1, 0, 1, 1, 1, 1, 1, 0, 0, 0, 1, 0, 1, 1, 1,\n",
       "       0, 0, 1, 0, 0, 0, 1, 1, 0, 1, 1, 1, 1, 1, 1, 1, 0, 1, 0, 1, 0, 0,\n",
       "       1, 0, 0, 1, 1, 1, 1, 1, 1, 1, 1, 1, 0, 1, 0, 1, 0, 1, 1, 1, 0, 1,\n",
       "       1, 1, 1, 1, 1, 0, 0, 1, 1, 1, 0])"
      ]
     },
     "execution_count": 9,
     "metadata": {},
     "output_type": "execute_result"
    }
   ],
   "source": [
    "y_pred"
   ]
  },
  {
   "cell_type": "code",
   "execution_count": 10,
   "id": "1a587e84",
   "metadata": {},
   "outputs": [
    {
     "data": {
      "text/plain": [
       "array([ 0,  0,  0,  0,  0,  0,  0,  0,  0,  0,  0,  0,  0, -1,  0,  0,  0,\n",
       "        0,  0,  0,  0,  0,  0,  0,  0,  0,  0,  0,  0,  0,  0,  0,  0,  0,\n",
       "        0,  0,  0,  0,  0,  0,  0,  0,  0,  0, -1,  0,  0,  0,  0,  0,  0,\n",
       "        0,  0,  0,  0,  0,  0,  0,  0,  0,  0,  0,  0,  0,  0,  0,  0,  0,\n",
       "        0,  0, -1,  0,  0,  1,  0,  0,  0,  0,  0,  0,  0,  0,  0,  0,  0,\n",
       "        0,  0,  0,  0,  0,  0,  0, -1,  0,  0,  0,  0,  0,  0,  0,  0,  0,\n",
       "        0,  0,  0,  0,  0,  0,  0,  0,  0,  0,  0,  0,  0,  0,  0,  0,  0,\n",
       "        0,  0,  0,  0,  0,  0,  0, -1,  0,  0,  0,  0,  0,  0,  0,  0,  0,\n",
       "        0,  0,  0,  0,  0,  0,  0])"
      ]
     },
     "execution_count": 10,
     "metadata": {},
     "output_type": "execute_result"
    }
   ],
   "source": [
    "y_pred-y_test"
   ]
  },
  {
   "cell_type": "code",
   "execution_count": 11,
   "id": "89d42fce",
   "metadata": {},
   "outputs": [
    {
     "data": {
      "text/plain": [
       "array([0.78357969, 0.21642031])"
      ]
     },
     "execution_count": 11,
     "metadata": {},
     "output_type": "execute_result"
    }
   ],
   "source": [
    "clf.predict_proba(x_test)[13]"
   ]
  },
  {
   "cell_type": "code",
   "execution_count": 12,
   "id": "29470550",
   "metadata": {},
   "outputs": [
    {
     "data": {
      "text/plain": [
       "array([0.64111509, 0.35888491])"
      ]
     },
     "execution_count": 12,
     "metadata": {},
     "output_type": "execute_result"
    }
   ],
   "source": [
    "clf.predict_proba(x_test)[126]"
   ]
  },
  {
   "cell_type": "code",
   "execution_count": 16,
   "id": "59576c51",
   "metadata": {},
   "outputs": [],
   "source": [
    "y_test_pred=clf.predict(x_test)"
   ]
  },
  {
   "cell_type": "code",
   "execution_count": 14,
   "id": "0ad28a4a",
   "metadata": {},
   "outputs": [],
   "source": [
    "from sklearn.metrics import confusion_matrix"
   ]
  },
  {
   "cell_type": "code",
   "execution_count": 17,
   "id": "080be533",
   "metadata": {},
   "outputs": [
    {
     "data": {
      "text/plain": [
       "array([[52,  1],\n",
       "       [ 5, 85]], dtype=int64)"
      ]
     },
     "execution_count": 17,
     "metadata": {},
     "output_type": "execute_result"
    }
   ],
   "source": [
    "confusion_matrix(y_test,y_test_pred)"
   ]
  },
  {
   "cell_type": "code",
   "execution_count": 18,
   "id": "a0f763bc",
   "metadata": {},
   "outputs": [],
   "source": [
    "from sklearn.metrics import classification_report"
   ]
  },
  {
   "cell_type": "code",
   "execution_count": 19,
   "id": "d0c18791",
   "metadata": {},
   "outputs": [
    {
     "name": "stdout",
     "output_type": "stream",
     "text": [
      "              precision    recall  f1-score   support\n",
      "\n",
      "           0       0.91      0.98      0.95        53\n",
      "           1       0.99      0.94      0.97        90\n",
      "\n",
      "    accuracy                           0.96       143\n",
      "   macro avg       0.95      0.96      0.96       143\n",
      "weighted avg       0.96      0.96      0.96       143\n",
      "\n"
     ]
    }
   ],
   "source": [
    "print(classification_report(y_test,y_test_pred))#f1-score=harmonic mean of precision and recall"
   ]
  },
  {
   "cell_type": "code",
   "execution_count": 20,
   "id": "31a780cc",
   "metadata": {},
   "outputs": [
    {
     "data": {
      "text/plain": [
       "0.9122807017543859"
      ]
     },
     "execution_count": 20,
     "metadata": {},
     "output_type": "execute_result"
    }
   ],
   "source": [
    "52/57#precision of malignant"
   ]
  },
  {
   "cell_type": "code",
   "execution_count": 21,
   "id": "81aa98a6",
   "metadata": {},
   "outputs": [],
   "source": [
    "from sklearn import datasets"
   ]
  },
  {
   "cell_type": "code",
   "execution_count": 22,
   "id": "ded0ff64",
   "metadata": {},
   "outputs": [
    {
     "data": {
      "text/plain": [
       "(150, 4)"
      ]
     },
     "execution_count": 22,
     "metadata": {},
     "output_type": "execute_result"
    }
   ],
   "source": [
    "dataset=datasets.load_iris()\n",
    "x=dataset.data\n",
    "y=dataset.target\n",
    "x.shape"
   ]
  },
  {
   "cell_type": "code",
   "execution_count": 23,
   "id": "28d5cf0a",
   "metadata": {},
   "outputs": [],
   "source": [
    "from sklearn.model_selection import train_test_split\n",
    "x_train,x_test,y_train,y_test=train_test_split(x,y,random_state=1)"
   ]
  },
  {
   "cell_type": "code",
   "execution_count": 24,
   "id": "b05c5176",
   "metadata": {},
   "outputs": [],
   "source": [
    "from sklearn.linear_model import LogisticRegression"
   ]
  },
  {
   "cell_type": "code",
   "execution_count": 25,
   "id": "93e73372",
   "metadata": {},
   "outputs": [
    {
     "data": {
      "text/plain": [
       "0.8947368421052632"
      ]
     },
     "execution_count": 25,
     "metadata": {},
     "output_type": "execute_result"
    }
   ],
   "source": [
    "clf=LogisticRegression(multi_class='ovr',solver='lbfgs')\n",
    "clf.fit(x_train,y_train)\n",
    "clf.score(x_test,y_test)"
   ]
  },
  {
   "cell_type": "code",
   "execution_count": 26,
   "id": "63a7b4ce",
   "metadata": {},
   "outputs": [],
   "source": [
    "y_test_pred=clf.predict(x_test)\n",
    "y_train_pred=clf.predict(x_train)"
   ]
  },
  {
   "cell_type": "code",
   "execution_count": 30,
   "id": "f5024c04",
   "metadata": {},
   "outputs": [
    {
     "data": {
      "text/plain": [
       "array([[37,  0,  0],\n",
       "       [ 0, 30,  4],\n",
       "       [ 0,  1, 40]], dtype=int64)"
      ]
     },
     "execution_count": 30,
     "metadata": {},
     "output_type": "execute_result"
    }
   ],
   "source": [
    "confusion_matrix(y_train,y_train_pred)"
   ]
  },
  {
   "cell_type": "code",
   "execution_count": 31,
   "id": "729d667b",
   "metadata": {},
   "outputs": [
    {
     "name": "stdout",
     "output_type": "stream",
     "text": [
      "              precision    recall  f1-score   support\n",
      "\n",
      "           0       1.00      1.00      1.00        37\n",
      "           1       0.97      0.88      0.92        34\n",
      "           2       0.91      0.98      0.94        41\n",
      "\n",
      "    accuracy                           0.96       112\n",
      "   macro avg       0.96      0.95      0.95       112\n",
      "weighted avg       0.96      0.96      0.96       112\n",
      "\n"
     ]
    }
   ],
   "source": [
    "print(classification_report(y_train,y_train_pred))"
   ]
  },
  {
   "cell_type": "code",
   "execution_count": 1,
   "id": "c2797156",
   "metadata": {},
   "outputs": [],
   "source": [
    "from sklearn import datasets\n",
    "dataset=datasets.load_wine()\n",
    "x=dataset.data\n",
    "y=dataset.target"
   ]
  },
  {
   "cell_type": "code",
   "execution_count": 2,
   "id": "1e1effb0",
   "metadata": {},
   "outputs": [
    {
     "data": {
      "text/plain": [
       "array(['class_0', 'class_1', 'class_2'], dtype='<U7')"
      ]
     },
     "execution_count": 2,
     "metadata": {},
     "output_type": "execute_result"
    }
   ],
   "source": [
    "dataset.target_names"
   ]
  },
  {
   "cell_type": "code",
   "execution_count": 3,
   "id": "29db0cef",
   "metadata": {},
   "outputs": [],
   "source": [
    "from sklearn.model_selection import train_test_split\n",
    "x_train,x_test,y_train,y_test=train_test_split(x,y,random_state=0)"
   ]
  },
  {
   "cell_type": "code",
   "execution_count": 4,
   "id": "e177581a",
   "metadata": {},
   "outputs": [
    {
     "data": {
      "text/plain": [
       "'.. _wine_dataset:\\n\\nWine recognition dataset\\n------------------------\\n\\n**Data Set Characteristics:**\\n\\n    :Number of Instances: 178\\n    :Number of Attributes: 13 numeric, predictive attributes and the class\\n    :Attribute Information:\\n \\t\\t- Alcohol\\n \\t\\t- Malic acid\\n \\t\\t- Ash\\n\\t\\t- Alcalinity of ash  \\n \\t\\t- Magnesium\\n\\t\\t- Total phenols\\n \\t\\t- Flavanoids\\n \\t\\t- Nonflavanoid phenols\\n \\t\\t- Proanthocyanins\\n\\t\\t- Color intensity\\n \\t\\t- Hue\\n \\t\\t- OD280/OD315 of diluted wines\\n \\t\\t- Proline\\n\\n    - class:\\n            - class_0\\n            - class_1\\n            - class_2\\n\\t\\t\\n    :Summary Statistics:\\n    \\n    ============================= ==== ===== ======= =====\\n                                   Min   Max   Mean     SD\\n    ============================= ==== ===== ======= =====\\n    Alcohol:                      11.0  14.8    13.0   0.8\\n    Malic Acid:                   0.74  5.80    2.34  1.12\\n    Ash:                          1.36  3.23    2.36  0.27\\n    Alcalinity of Ash:            10.6  30.0    19.5   3.3\\n    Magnesium:                    70.0 162.0    99.7  14.3\\n    Total Phenols:                0.98  3.88    2.29  0.63\\n    Flavanoids:                   0.34  5.08    2.03  1.00\\n    Nonflavanoid Phenols:         0.13  0.66    0.36  0.12\\n    Proanthocyanins:              0.41  3.58    1.59  0.57\\n    Colour Intensity:              1.3  13.0     5.1   2.3\\n    Hue:                          0.48  1.71    0.96  0.23\\n    OD280/OD315 of diluted wines: 1.27  4.00    2.61  0.71\\n    Proline:                       278  1680     746   315\\n    ============================= ==== ===== ======= =====\\n\\n    :Missing Attribute Values: None\\n    :Class Distribution: class_0 (59), class_1 (71), class_2 (48)\\n    :Creator: R.A. Fisher\\n    :Donor: Michael Marshall (MARSHALL%PLU@io.arc.nasa.gov)\\n    :Date: July, 1988\\n\\nThis is a copy of UCI ML Wine recognition datasets.\\nhttps://archive.ics.uci.edu/ml/machine-learning-databases/wine/wine.data\\n\\nThe data is the results of a chemical analysis of wines grown in the same\\nregion in Italy by three different cultivators. There are thirteen different\\nmeasurements taken for different constituents found in the three types of\\nwine.\\n\\nOriginal Owners: \\n\\nForina, M. et al, PARVUS - \\nAn Extendible Package for Data Exploration, Classification and Correlation. \\nInstitute of Pharmaceutical and Food Analysis and Technologies,\\nVia Brigata Salerno, 16147 Genoa, Italy.\\n\\nCitation:\\n\\nLichman, M. (2013). UCI Machine Learning Repository\\n[https://archive.ics.uci.edu/ml]. Irvine, CA: University of California,\\nSchool of Information and Computer Science. \\n\\n.. topic:: References\\n\\n  (1) S. Aeberhard, D. Coomans and O. de Vel, \\n  Comparison of Classifiers in High Dimensional Settings, \\n  Tech. Rep. no. 92-02, (1992), Dept. of Computer Science and Dept. of  \\n  Mathematics and Statistics, James Cook University of North Queensland. \\n  (Also submitted to Technometrics). \\n\\n  The data was used with many others for comparing various \\n  classifiers. The classes are separable, though only RDA \\n  has achieved 100% correct classification. \\n  (RDA : 100%, QDA 99.4%, LDA 98.9%, 1NN 96.1% (z-transformed data)) \\n  (All results using the leave-one-out technique) \\n\\n  (2) S. Aeberhard, D. Coomans and O. de Vel, \\n  \"THE CLASSIFICATION PERFORMANCE OF RDA\" \\n  Tech. Rep. no. 92-01, (1992), Dept. of Computer Science and Dept. of \\n  Mathematics and Statistics, James Cook University of North Queensland. \\n  (Also submitted to Journal of Chemometrics).\\n'"
      ]
     },
     "execution_count": 4,
     "metadata": {},
     "output_type": "execute_result"
    }
   ],
   "source": [
    "dataset.DESCR"
   ]
  },
  {
   "cell_type": "code",
   "execution_count": 5,
   "id": "7dd3d12f",
   "metadata": {},
   "outputs": [],
   "source": [
    " from sklearn import preprocessing"
   ]
  },
  {
   "cell_type": "code",
   "execution_count": 6,
   "id": "9170c02e",
   "metadata": {},
   "outputs": [],
   "source": [
    "min_max_scaler_object=preprocessing.MinMaxScaler(feature_range=(10,20))"
   ]
  },
  {
   "cell_type": "code",
   "execution_count": 7,
   "id": "595bb916",
   "metadata": {},
   "outputs": [
    {
     "data": {
      "text/html": [
       "<style>#sk-container-id-1 {color: black;background-color: white;}#sk-container-id-1 pre{padding: 0;}#sk-container-id-1 div.sk-toggleable {background-color: white;}#sk-container-id-1 label.sk-toggleable__label {cursor: pointer;display: block;width: 100%;margin-bottom: 0;padding: 0.3em;box-sizing: border-box;text-align: center;}#sk-container-id-1 label.sk-toggleable__label-arrow:before {content: \"▸\";float: left;margin-right: 0.25em;color: #696969;}#sk-container-id-1 label.sk-toggleable__label-arrow:hover:before {color: black;}#sk-container-id-1 div.sk-estimator:hover label.sk-toggleable__label-arrow:before {color: black;}#sk-container-id-1 div.sk-toggleable__content {max-height: 0;max-width: 0;overflow: hidden;text-align: left;background-color: #f0f8ff;}#sk-container-id-1 div.sk-toggleable__content pre {margin: 0.2em;color: black;border-radius: 0.25em;background-color: #f0f8ff;}#sk-container-id-1 input.sk-toggleable__control:checked~div.sk-toggleable__content {max-height: 200px;max-width: 100%;overflow: auto;}#sk-container-id-1 input.sk-toggleable__control:checked~label.sk-toggleable__label-arrow:before {content: \"▾\";}#sk-container-id-1 div.sk-estimator input.sk-toggleable__control:checked~label.sk-toggleable__label {background-color: #d4ebff;}#sk-container-id-1 div.sk-label input.sk-toggleable__control:checked~label.sk-toggleable__label {background-color: #d4ebff;}#sk-container-id-1 input.sk-hidden--visually {border: 0;clip: rect(1px 1px 1px 1px);clip: rect(1px, 1px, 1px, 1px);height: 1px;margin: -1px;overflow: hidden;padding: 0;position: absolute;width: 1px;}#sk-container-id-1 div.sk-estimator {font-family: monospace;background-color: #f0f8ff;border: 1px dotted black;border-radius: 0.25em;box-sizing: border-box;margin-bottom: 0.5em;}#sk-container-id-1 div.sk-estimator:hover {background-color: #d4ebff;}#sk-container-id-1 div.sk-parallel-item::after {content: \"\";width: 100%;border-bottom: 1px solid gray;flex-grow: 1;}#sk-container-id-1 div.sk-label:hover label.sk-toggleable__label {background-color: #d4ebff;}#sk-container-id-1 div.sk-serial::before {content: \"\";position: absolute;border-left: 1px solid gray;box-sizing: border-box;top: 0;bottom: 0;left: 50%;z-index: 0;}#sk-container-id-1 div.sk-serial {display: flex;flex-direction: column;align-items: center;background-color: white;padding-right: 0.2em;padding-left: 0.2em;position: relative;}#sk-container-id-1 div.sk-item {position: relative;z-index: 1;}#sk-container-id-1 div.sk-parallel {display: flex;align-items: stretch;justify-content: center;background-color: white;position: relative;}#sk-container-id-1 div.sk-item::before, #sk-container-id-1 div.sk-parallel-item::before {content: \"\";position: absolute;border-left: 1px solid gray;box-sizing: border-box;top: 0;bottom: 0;left: 50%;z-index: -1;}#sk-container-id-1 div.sk-parallel-item {display: flex;flex-direction: column;z-index: 1;position: relative;background-color: white;}#sk-container-id-1 div.sk-parallel-item:first-child::after {align-self: flex-end;width: 50%;}#sk-container-id-1 div.sk-parallel-item:last-child::after {align-self: flex-start;width: 50%;}#sk-container-id-1 div.sk-parallel-item:only-child::after {width: 0;}#sk-container-id-1 div.sk-dashed-wrapped {border: 1px dashed gray;margin: 0 0.4em 0.5em 0.4em;box-sizing: border-box;padding-bottom: 0.4em;background-color: white;}#sk-container-id-1 div.sk-label label {font-family: monospace;font-weight: bold;display: inline-block;line-height: 1.2em;}#sk-container-id-1 div.sk-label-container {text-align: center;}#sk-container-id-1 div.sk-container {/* jupyter's `normalize.less` sets `[hidden] { display: none; }` but bootstrap.min.css set `[hidden] { display: none !important; }` so we also need the `!important` here to be able to override the default hidden behavior on the sphinx rendered scikit-learn.org. See: https://github.com/scikit-learn/scikit-learn/issues/21755 */display: inline-block !important;position: relative;}#sk-container-id-1 div.sk-text-repr-fallback {display: none;}</style><div id=\"sk-container-id-1\" class=\"sk-top-container\"><div class=\"sk-text-repr-fallback\"><pre>MinMaxScaler(feature_range=(10, 20))</pre><b>In a Jupyter environment, please rerun this cell to show the HTML representation or trust the notebook. <br />On GitHub, the HTML representation is unable to render, please try loading this page with nbviewer.org.</b></div><div class=\"sk-container\" hidden><div class=\"sk-item\"><div class=\"sk-estimator sk-toggleable\"><input class=\"sk-toggleable__control sk-hidden--visually\" id=\"sk-estimator-id-1\" type=\"checkbox\" checked><label for=\"sk-estimator-id-1\" class=\"sk-toggleable__label sk-toggleable__label-arrow\">MinMaxScaler</label><div class=\"sk-toggleable__content\"><pre>MinMaxScaler(feature_range=(10, 20))</pre></div></div></div></div></div>"
      ],
      "text/plain": [
       "MinMaxScaler(feature_range=(10, 20))"
      ]
     },
     "execution_count": 7,
     "metadata": {},
     "output_type": "execute_result"
    }
   ],
   "source": [
    "min_max_scaler_object.fit(x_train)"
   ]
  },
  {
   "cell_type": "code",
   "execution_count": 8,
   "id": "aba97f06",
   "metadata": {},
   "outputs": [],
   "source": [
    "x_train_scaled=min_max_scaler_object.transform(x_train)#use min_max_scaler_object.fit_transform(x_train)\n",
    "#to fit as well as transform"
   ]
  },
  {
   "cell_type": "code",
   "execution_count": 10,
   "id": "cdbfc039",
   "metadata": {},
   "outputs": [
    {
     "data": {
      "text/plain": [
       "array([[17.01612903, 14.64285714, 16.4516129 , ..., 13.58974359,\n",
       "        17.65567766, 14.31578947],\n",
       "       [14.22043011, 13.29831933, 14.51612903, ..., 11.62393162,\n",
       "        11.13553114, 13.10121457],\n",
       "       [12.5       , 10.42016807, 15.05376344, ..., 13.84615385,\n",
       "        16.81318681, 14.64777328],\n",
       "       ...,\n",
       "       [13.73655914, 11.51260504, 14.46236559, ..., 14.44444444,\n",
       "        16.19047619, 10.26720648],\n",
       "       [17.71505376, 11.65966387, 14.08602151, ..., 13.16239316,\n",
       "        17.54578755, 15.44939271],\n",
       "       [18.41397849, 13.40336134, 16.02150538, ..., 10.68376068,\n",
       "        11.61172161, 12.81781377]])"
      ]
     },
     "execution_count": 10,
     "metadata": {},
     "output_type": "execute_result"
    }
   ],
   "source": [
    "x_train_scaled"
   ]
  },
  {
   "cell_type": "code",
   "execution_count": 11,
   "id": "b981e3fb",
   "metadata": {},
   "outputs": [
    {
     "data": {
      "text/html": [
       "<div>\n",
       "<style scoped>\n",
       "    .dataframe tbody tr th:only-of-type {\n",
       "        vertical-align: middle;\n",
       "    }\n",
       "\n",
       "    .dataframe tbody tr th {\n",
       "        vertical-align: top;\n",
       "    }\n",
       "\n",
       "    .dataframe thead th {\n",
       "        text-align: right;\n",
       "    }\n",
       "</style>\n",
       "<table border=\"1\" class=\"dataframe\">\n",
       "  <thead>\n",
       "    <tr style=\"text-align: right;\">\n",
       "      <th></th>\n",
       "      <th>0</th>\n",
       "      <th>1</th>\n",
       "      <th>2</th>\n",
       "      <th>3</th>\n",
       "      <th>4</th>\n",
       "      <th>5</th>\n",
       "      <th>6</th>\n",
       "      <th>7</th>\n",
       "      <th>8</th>\n",
       "      <th>9</th>\n",
       "      <th>10</th>\n",
       "      <th>11</th>\n",
       "      <th>12</th>\n",
       "    </tr>\n",
       "  </thead>\n",
       "  <tbody>\n",
       "    <tr>\n",
       "      <th>0</th>\n",
       "      <td>17.016129</td>\n",
       "      <td>14.642857</td>\n",
       "      <td>16.451613</td>\n",
       "      <td>12.371134</td>\n",
       "      <td>15.000000</td>\n",
       "      <td>15.755396</td>\n",
       "      <td>17.828746</td>\n",
       "      <td>10.754717</td>\n",
       "      <td>13.924051</td>\n",
       "      <td>13.259386</td>\n",
       "      <td>13.589744</td>\n",
       "      <td>17.655678</td>\n",
       "      <td>14.315789</td>\n",
       "    </tr>\n",
       "    <tr>\n",
       "      <th>1</th>\n",
       "      <td>14.220430</td>\n",
       "      <td>13.298319</td>\n",
       "      <td>14.516129</td>\n",
       "      <td>14.072165</td>\n",
       "      <td>12.608696</td>\n",
       "      <td>11.870504</td>\n",
       "      <td>10.581040</td>\n",
       "      <td>19.433962</td>\n",
       "      <td>11.645570</td>\n",
       "      <td>14.965870</td>\n",
       "      <td>11.623932</td>\n",
       "      <td>11.135531</td>\n",
       "      <td>13.101215</td>\n",
       "    </tr>\n",
       "    <tr>\n",
       "      <th>2</th>\n",
       "      <td>12.500000</td>\n",
       "      <td>10.420168</td>\n",
       "      <td>15.053763</td>\n",
       "      <td>15.360825</td>\n",
       "      <td>13.369565</td>\n",
       "      <td>18.201439</td>\n",
       "      <td>15.107034</td>\n",
       "      <td>10.000000</td>\n",
       "      <td>13.892405</td>\n",
       "      <td>11.646758</td>\n",
       "      <td>13.846154</td>\n",
       "      <td>16.813187</td>\n",
       "      <td>14.647773</td>\n",
       "    </tr>\n",
       "    <tr>\n",
       "      <th>3</th>\n",
       "      <td>13.279570</td>\n",
       "      <td>16.281513</td>\n",
       "      <td>14.516129</td>\n",
       "      <td>14.072165</td>\n",
       "      <td>14.565217</td>\n",
       "      <td>11.007194</td>\n",
       "      <td>10.948012</td>\n",
       "      <td>13.018868</td>\n",
       "      <td>12.278481</td>\n",
       "      <td>15.912969</td>\n",
       "      <td>10.940171</td>\n",
       "      <td>12.673993</td>\n",
       "      <td>14.396761</td>\n",
       "    </tr>\n",
       "    <tr>\n",
       "      <th>4</th>\n",
       "      <td>18.790323</td>\n",
       "      <td>12.163866</td>\n",
       "      <td>17.311828</td>\n",
       "      <td>14.845361</td>\n",
       "      <td>15.434783</td>\n",
       "      <td>16.115108</td>\n",
       "      <td>18.165138</td>\n",
       "      <td>13.773585</td>\n",
       "      <td>14.905063</td>\n",
       "      <td>14.197952</td>\n",
       "      <td>14.529915</td>\n",
       "      <td>15.054945</td>\n",
       "      <td>17.838057</td>\n",
       "    </tr>\n",
       "    <tr>\n",
       "      <th>...</th>\n",
       "      <td>...</td>\n",
       "      <td>...</td>\n",
       "      <td>...</td>\n",
       "      <td>...</td>\n",
       "      <td>...</td>\n",
       "      <td>...</td>\n",
       "      <td>...</td>\n",
       "      <td>...</td>\n",
       "      <td>...</td>\n",
       "      <td>...</td>\n",
       "      <td>...</td>\n",
       "      <td>...</td>\n",
       "      <td>...</td>\n",
       "    </tr>\n",
       "    <tr>\n",
       "      <th>128</th>\n",
       "      <td>12.123656</td>\n",
       "      <td>11.743697</td>\n",
       "      <td>12.795699</td>\n",
       "      <td>14.587629</td>\n",
       "      <td>11.739130</td>\n",
       "      <td>15.035971</td>\n",
       "      <td>13.577982</td>\n",
       "      <td>14.528302</td>\n",
       "      <td>13.164557</td>\n",
       "      <td>10.665529</td>\n",
       "      <td>13.418803</td>\n",
       "      <td>14.285714</td>\n",
       "      <td>10.834008</td>\n",
       "    </tr>\n",
       "    <tr>\n",
       "      <th>129</th>\n",
       "      <td>13.602151</td>\n",
       "      <td>10.588235</td>\n",
       "      <td>13.010753</td>\n",
       "      <td>14.639175</td>\n",
       "      <td>10.869565</td>\n",
       "      <td>13.633094</td>\n",
       "      <td>14.678899</td>\n",
       "      <td>12.641509</td>\n",
       "      <td>11.962025</td>\n",
       "      <td>12.901024</td>\n",
       "      <td>14.957265</td>\n",
       "      <td>18.095238</td>\n",
       "      <td>11.603239</td>\n",
       "    </tr>\n",
       "    <tr>\n",
       "      <th>130</th>\n",
       "      <td>13.736559</td>\n",
       "      <td>11.512605</td>\n",
       "      <td>14.462366</td>\n",
       "      <td>16.134021</td>\n",
       "      <td>14.130435</td>\n",
       "      <td>13.237410</td>\n",
       "      <td>14.954128</td>\n",
       "      <td>13.962264</td>\n",
       "      <td>13.765823</td>\n",
       "      <td>10.665529</td>\n",
       "      <td>14.444444</td>\n",
       "      <td>16.190476</td>\n",
       "      <td>10.267206</td>\n",
       "    </tr>\n",
       "    <tr>\n",
       "      <th>131</th>\n",
       "      <td>17.715054</td>\n",
       "      <td>11.659664</td>\n",
       "      <td>14.086022</td>\n",
       "      <td>12.783505</td>\n",
       "      <td>13.369565</td>\n",
       "      <td>17.194245</td>\n",
       "      <td>18.929664</td>\n",
       "      <td>11.509434</td>\n",
       "      <td>15.443038</td>\n",
       "      <td>14.112628</td>\n",
       "      <td>13.162393</td>\n",
       "      <td>17.545788</td>\n",
       "      <td>15.449393</td>\n",
       "    </tr>\n",
       "    <tr>\n",
       "      <th>132</th>\n",
       "      <td>18.413978</td>\n",
       "      <td>13.403361</td>\n",
       "      <td>16.021505</td>\n",
       "      <td>14.845361</td>\n",
       "      <td>12.282609</td>\n",
       "      <td>12.086331</td>\n",
       "      <td>10.703364</td>\n",
       "      <td>15.849057</td>\n",
       "      <td>12.594937</td>\n",
       "      <td>17.184300</td>\n",
       "      <td>10.683761</td>\n",
       "      <td>11.611722</td>\n",
       "      <td>12.817814</td>\n",
       "    </tr>\n",
       "  </tbody>\n",
       "</table>\n",
       "<p>133 rows × 13 columns</p>\n",
       "</div>"
      ],
      "text/plain": [
       "            0          1          2          3          4          5   \\\n",
       "0    17.016129  14.642857  16.451613  12.371134  15.000000  15.755396   \n",
       "1    14.220430  13.298319  14.516129  14.072165  12.608696  11.870504   \n",
       "2    12.500000  10.420168  15.053763  15.360825  13.369565  18.201439   \n",
       "3    13.279570  16.281513  14.516129  14.072165  14.565217  11.007194   \n",
       "4    18.790323  12.163866  17.311828  14.845361  15.434783  16.115108   \n",
       "..         ...        ...        ...        ...        ...        ...   \n",
       "128  12.123656  11.743697  12.795699  14.587629  11.739130  15.035971   \n",
       "129  13.602151  10.588235  13.010753  14.639175  10.869565  13.633094   \n",
       "130  13.736559  11.512605  14.462366  16.134021  14.130435  13.237410   \n",
       "131  17.715054  11.659664  14.086022  12.783505  13.369565  17.194245   \n",
       "132  18.413978  13.403361  16.021505  14.845361  12.282609  12.086331   \n",
       "\n",
       "            6          7          8          9          10         11  \\\n",
       "0    17.828746  10.754717  13.924051  13.259386  13.589744  17.655678   \n",
       "1    10.581040  19.433962  11.645570  14.965870  11.623932  11.135531   \n",
       "2    15.107034  10.000000  13.892405  11.646758  13.846154  16.813187   \n",
       "3    10.948012  13.018868  12.278481  15.912969  10.940171  12.673993   \n",
       "4    18.165138  13.773585  14.905063  14.197952  14.529915  15.054945   \n",
       "..         ...        ...        ...        ...        ...        ...   \n",
       "128  13.577982  14.528302  13.164557  10.665529  13.418803  14.285714   \n",
       "129  14.678899  12.641509  11.962025  12.901024  14.957265  18.095238   \n",
       "130  14.954128  13.962264  13.765823  10.665529  14.444444  16.190476   \n",
       "131  18.929664  11.509434  15.443038  14.112628  13.162393  17.545788   \n",
       "132  10.703364  15.849057  12.594937  17.184300  10.683761  11.611722   \n",
       "\n",
       "            12  \n",
       "0    14.315789  \n",
       "1    13.101215  \n",
       "2    14.647773  \n",
       "3    14.396761  \n",
       "4    17.838057  \n",
       "..         ...  \n",
       "128  10.834008  \n",
       "129  11.603239  \n",
       "130  10.267206  \n",
       "131  15.449393  \n",
       "132  12.817814  \n",
       "\n",
       "[133 rows x 13 columns]"
      ]
     },
     "execution_count": 11,
     "metadata": {},
     "output_type": "execute_result"
    }
   ],
   "source": [
    "import pandas as pd\n",
    "pd.DataFrame(x_train_scaled)"
   ]
  },
  {
   "cell_type": "code",
   "execution_count": 12,
   "id": "832be74b",
   "metadata": {},
   "outputs": [],
   "source": [
    "x_test_scaled=min_max_scaler_object.transform(x_test)"
   ]
  },
  {
   "cell_type": "code",
   "execution_count": 13,
   "id": "fef5a742",
   "metadata": {},
   "outputs": [
    {
     "data": {
      "text/html": [
       "<div>\n",
       "<style scoped>\n",
       "    .dataframe tbody tr th:only-of-type {\n",
       "        vertical-align: middle;\n",
       "    }\n",
       "\n",
       "    .dataframe tbody tr th {\n",
       "        vertical-align: top;\n",
       "    }\n",
       "\n",
       "    .dataframe thead th {\n",
       "        text-align: right;\n",
       "    }\n",
       "</style>\n",
       "<table border=\"1\" class=\"dataframe\">\n",
       "  <thead>\n",
       "    <tr style=\"text-align: right;\">\n",
       "      <th></th>\n",
       "      <th>0</th>\n",
       "      <th>1</th>\n",
       "      <th>2</th>\n",
       "      <th>3</th>\n",
       "      <th>4</th>\n",
       "      <th>5</th>\n",
       "      <th>6</th>\n",
       "      <th>7</th>\n",
       "      <th>8</th>\n",
       "      <th>9</th>\n",
       "      <th>10</th>\n",
       "      <th>11</th>\n",
       "      <th>12</th>\n",
       "    </tr>\n",
       "  </thead>\n",
       "  <tbody>\n",
       "    <tr>\n",
       "      <th>0</th>\n",
       "      <td>17.284946</td>\n",
       "      <td>11.638655</td>\n",
       "      <td>14.784946</td>\n",
       "      <td>12.989691</td>\n",
       "      <td>15.217391</td>\n",
       "      <td>15.395683</td>\n",
       "      <td>17.431193</td>\n",
       "      <td>11.509434</td>\n",
       "      <td>13.797468</td>\n",
       "      <td>13.899317</td>\n",
       "      <td>13.247863</td>\n",
       "      <td>17.069597</td>\n",
       "      <td>16.056680</td>\n",
       "    </tr>\n",
       "    <tr>\n",
       "      <th>1</th>\n",
       "      <td>14.731183</td>\n",
       "      <td>13.739496</td>\n",
       "      <td>16.021505</td>\n",
       "      <td>15.876289</td>\n",
       "      <td>14.565217</td>\n",
       "      <td>11.366906</td>\n",
       "      <td>12.721713</td>\n",
       "      <td>12.075472</td>\n",
       "      <td>12.658228</td>\n",
       "      <td>18.122867</td>\n",
       "      <td>9.487179</td>\n",
       "      <td>10.732601</td>\n",
       "      <td>11.360324</td>\n",
       "    </tr>\n",
       "    <tr>\n",
       "      <th>2</th>\n",
       "      <td>13.602151</td>\n",
       "      <td>10.504202</td>\n",
       "      <td>14.301075</td>\n",
       "      <td>14.329897</td>\n",
       "      <td>11.847826</td>\n",
       "      <td>18.633094</td>\n",
       "      <td>18.042813</td>\n",
       "      <td>11.132075</td>\n",
       "      <td>14.588608</td>\n",
       "      <td>12.704778</td>\n",
       "      <td>15.811966</td>\n",
       "      <td>15.860806</td>\n",
       "      <td>10.874494</td>\n",
       "    </tr>\n",
       "    <tr>\n",
       "      <th>3</th>\n",
       "      <td>16.801075</td>\n",
       "      <td>11.764706</td>\n",
       "      <td>15.913978</td>\n",
       "      <td>15.103093</td>\n",
       "      <td>15.000000</td>\n",
       "      <td>16.690647</td>\n",
       "      <td>17.064220</td>\n",
       "      <td>11.320755</td>\n",
       "      <td>16.424051</td>\n",
       "      <td>14.240614</td>\n",
       "      <td>13.760684</td>\n",
       "      <td>16.446886</td>\n",
       "      <td>16.542510</td>\n",
       "    </tr>\n",
       "    <tr>\n",
       "      <th>4</th>\n",
       "      <td>15.430108</td>\n",
       "      <td>20.315126</td>\n",
       "      <td>14.139785</td>\n",
       "      <td>15.618557</td>\n",
       "      <td>11.739130</td>\n",
       "      <td>15.467626</td>\n",
       "      <td>16.666667</td>\n",
       "      <td>13.207547</td>\n",
       "      <td>15.031646</td>\n",
       "      <td>11.126280</td>\n",
       "      <td>11.623932</td>\n",
       "      <td>16.703297</td>\n",
       "      <td>10.550607</td>\n",
       "    </tr>\n",
       "    <tr>\n",
       "      <th>5</th>\n",
       "      <td>11.424731</td>\n",
       "      <td>12.436975</td>\n",
       "      <td>20.053763</td>\n",
       "      <td>19.226804</td>\n",
       "      <td>15.326087</td>\n",
       "      <td>17.482014</td>\n",
       "      <td>24.097859</td>\n",
       "      <td>16.415094</td>\n",
       "      <td>14.588608</td>\n",
       "      <td>14.027304</td>\n",
       "      <td>13.333333</td>\n",
       "      <td>18.864469</td>\n",
       "      <td>11.238866</td>\n",
       "    </tr>\n",
       "    <tr>\n",
       "      <th>6</th>\n",
       "      <td>18.145161</td>\n",
       "      <td>12.647059</td>\n",
       "      <td>16.720430</td>\n",
       "      <td>13.608247</td>\n",
       "      <td>15.543478</td>\n",
       "      <td>15.395683</td>\n",
       "      <td>16.238532</td>\n",
       "      <td>13.396226</td>\n",
       "      <td>12.626582</td>\n",
       "      <td>13.216724</td>\n",
       "      <td>14.444444</td>\n",
       "      <td>18.461538</td>\n",
       "      <td>17.959514</td>\n",
       "    </tr>\n",
       "    <tr>\n",
       "      <th>7</th>\n",
       "      <td>13.575269</td>\n",
       "      <td>16.176471</td>\n",
       "      <td>15.483871</td>\n",
       "      <td>15.360825</td>\n",
       "      <td>11.956522</td>\n",
       "      <td>14.316547</td>\n",
       "      <td>11.376147</td>\n",
       "      <td>16.981132</td>\n",
       "      <td>11.962025</td>\n",
       "      <td>15.435154</td>\n",
       "      <td>10.170940</td>\n",
       "      <td>11.135531</td>\n",
       "      <td>11.684211</td>\n",
       "    </tr>\n",
       "    <tr>\n",
       "      <th>8</th>\n",
       "      <td>13.279570</td>\n",
       "      <td>11.764706</td>\n",
       "      <td>14.086022</td>\n",
       "      <td>14.329897</td>\n",
       "      <td>11.086957</td>\n",
       "      <td>11.978417</td>\n",
       "      <td>14.770642</td>\n",
       "      <td>14.528302</td>\n",
       "      <td>13.829114</td>\n",
       "      <td>11.808874</td>\n",
       "      <td>13.931624</td>\n",
       "      <td>16.959707</td>\n",
       "      <td>11.603239</td>\n",
       "    </tr>\n",
       "    <tr>\n",
       "      <th>9</th>\n",
       "      <td>12.822581</td>\n",
       "      <td>11.974790</td>\n",
       "      <td>15.161290</td>\n",
       "      <td>14.072165</td>\n",
       "      <td>11.195652</td>\n",
       "      <td>11.798561</td>\n",
       "      <td>13.149847</td>\n",
       "      <td>17.358491</td>\n",
       "      <td>13.860759</td>\n",
       "      <td>10.955631</td>\n",
       "      <td>14.615385</td>\n",
       "      <td>13.663004</td>\n",
       "      <td>11.360324</td>\n",
       "    </tr>\n",
       "    <tr>\n",
       "      <th>10</th>\n",
       "      <td>16.263441</td>\n",
       "      <td>13.508403</td>\n",
       "      <td>15.322581</td>\n",
       "      <td>14.845361</td>\n",
       "      <td>12.065217</td>\n",
       "      <td>11.079137</td>\n",
       "      <td>10.091743</td>\n",
       "      <td>14.528302</td>\n",
       "      <td>10.696203</td>\n",
       "      <td>13.686007</td>\n",
       "      <td>11.367521</td>\n",
       "      <td>14.395604</td>\n",
       "      <td>13.789474</td>\n",
       "    </tr>\n",
       "    <tr>\n",
       "      <th>11</th>\n",
       "      <td>17.661290</td>\n",
       "      <td>18.718487</td>\n",
       "      <td>14.677419</td>\n",
       "      <td>14.845361</td>\n",
       "      <td>11.086957</td>\n",
       "      <td>9.568345</td>\n",
       "      <td>9.602446</td>\n",
       "      <td>15.094340</td>\n",
       "      <td>10.822785</td>\n",
       "      <td>13.088737</td>\n",
       "      <td>10.341880</td>\n",
       "      <td>10.219780</td>\n",
       "      <td>10.834008</td>\n",
       "    </tr>\n",
       "    <tr>\n",
       "      <th>12</th>\n",
       "      <td>18.521505</td>\n",
       "      <td>11.827731</td>\n",
       "      <td>15.860215</td>\n",
       "      <td>12.371134</td>\n",
       "      <td>14.565217</td>\n",
       "      <td>17.805755</td>\n",
       "      <td>18.929664</td>\n",
       "      <td>13.962264</td>\n",
       "      <td>14.905063</td>\n",
       "      <td>14.667235</td>\n",
       "      <td>14.358974</td>\n",
       "      <td>15.787546</td>\n",
       "      <td>19.214575</td>\n",
       "    </tr>\n",
       "    <tr>\n",
       "      <th>13</th>\n",
       "      <td>13.602151</td>\n",
       "      <td>10.378151</td>\n",
       "      <td>13.978495</td>\n",
       "      <td>14.072165</td>\n",
       "      <td>11.956522</td>\n",
       "      <td>18.705036</td>\n",
       "      <td>20.030581</td>\n",
       "      <td>12.075472</td>\n",
       "      <td>14.841772</td>\n",
       "      <td>12.747440</td>\n",
       "      <td>14.273504</td>\n",
       "      <td>15.494505</td>\n",
       "      <td>12.817814</td>\n",
       "    </tr>\n",
       "    <tr>\n",
       "      <th>14</th>\n",
       "      <td>16.854839</td>\n",
       "      <td>13.550420</td>\n",
       "      <td>17.150538</td>\n",
       "      <td>17.164948</td>\n",
       "      <td>13.804348</td>\n",
       "      <td>11.618705</td>\n",
       "      <td>11.131498</td>\n",
       "      <td>14.905660</td>\n",
       "      <td>13.544304</td>\n",
       "      <td>16.296928</td>\n",
       "      <td>11.709402</td>\n",
       "      <td>11.941392</td>\n",
       "      <td>13.546559</td>\n",
       "    </tr>\n",
       "    <tr>\n",
       "      <th>15</th>\n",
       "      <td>12.607527</td>\n",
       "      <td>10.063025</td>\n",
       "      <td>13.440860</td>\n",
       "      <td>14.329897</td>\n",
       "      <td>11.739130</td>\n",
       "      <td>14.748201</td>\n",
       "      <td>15.474006</td>\n",
       "      <td>13.207547</td>\n",
       "      <td>13.196203</td>\n",
       "      <td>11.040956</td>\n",
       "      <td>17.179487</td>\n",
       "      <td>16.776557</td>\n",
       "      <td>9.724696</td>\n",
       "    </tr>\n",
       "    <tr>\n",
       "      <th>16</th>\n",
       "      <td>17.338710</td>\n",
       "      <td>11.344538</td>\n",
       "      <td>17.204301</td>\n",
       "      <td>14.587629</td>\n",
       "      <td>16.739130</td>\n",
       "      <td>16.654676</td>\n",
       "      <td>16.941896</td>\n",
       "      <td>16.981132</td>\n",
       "      <td>12.943038</td>\n",
       "      <td>13.515358</td>\n",
       "      <td>16.068376</td>\n",
       "      <td>16.336996</td>\n",
       "      <td>17.473684</td>\n",
       "    </tr>\n",
       "    <tr>\n",
       "      <th>17</th>\n",
       "      <td>18.494624</td>\n",
       "      <td>11.470588</td>\n",
       "      <td>16.021505</td>\n",
       "      <td>13.041237</td>\n",
       "      <td>14.130435</td>\n",
       "      <td>17.913669</td>\n",
       "      <td>20.581040</td>\n",
       "      <td>13.584906</td>\n",
       "      <td>14.556962</td>\n",
       "      <td>16.331058</td>\n",
       "      <td>15.897436</td>\n",
       "      <td>15.677656</td>\n",
       "      <td>21.076923</td>\n",
       "    </tr>\n",
       "    <tr>\n",
       "      <th>18</th>\n",
       "      <td>14.327957</td>\n",
       "      <td>10.987395</td>\n",
       "      <td>13.548387</td>\n",
       "      <td>13.195876</td>\n",
       "      <td>13.260870</td>\n",
       "      <td>13.309353</td>\n",
       "      <td>12.874618</td>\n",
       "      <td>17.547170</td>\n",
       "      <td>10.632911</td>\n",
       "      <td>13.813993</td>\n",
       "      <td>13.760684</td>\n",
       "      <td>11.172161</td>\n",
       "      <td>11.117409</td>\n",
       "    </tr>\n",
       "    <tr>\n",
       "      <th>19</th>\n",
       "      <td>17.526882</td>\n",
       "      <td>11.596639</td>\n",
       "      <td>16.666667</td>\n",
       "      <td>13.402062</td>\n",
       "      <td>12.608696</td>\n",
       "      <td>14.856115</td>\n",
       "      <td>17.706422</td>\n",
       "      <td>11.698113</td>\n",
       "      <td>15.917722</td>\n",
       "      <td>13.686007</td>\n",
       "      <td>15.982906</td>\n",
       "      <td>17.692308</td>\n",
       "      <td>17.716599</td>\n",
       "    </tr>\n",
       "    <tr>\n",
       "      <th>20</th>\n",
       "      <td>15.591398</td>\n",
       "      <td>10.252101</td>\n",
       "      <td>11.827957</td>\n",
       "      <td>12.268041</td>\n",
       "      <td>10.869565</td>\n",
       "      <td>16.762590</td>\n",
       "      <td>18.287462</td>\n",
       "      <td>12.452830</td>\n",
       "      <td>15.886076</td>\n",
       "      <td>13.430034</td>\n",
       "      <td>14.957265</td>\n",
       "      <td>16.996337</td>\n",
       "      <td>11.538462</td>\n",
       "    </tr>\n",
       "    <tr>\n",
       "      <th>21</th>\n",
       "      <td>15.430108</td>\n",
       "      <td>11.596639</td>\n",
       "      <td>16.397849</td>\n",
       "      <td>13.814433</td>\n",
       "      <td>13.043478</td>\n",
       "      <td>14.856115</td>\n",
       "      <td>15.993884</td>\n",
       "      <td>13.018868</td>\n",
       "      <td>13.227848</td>\n",
       "      <td>12.534130</td>\n",
       "      <td>14.957265</td>\n",
       "      <td>14.542125</td>\n",
       "      <td>16.421053</td>\n",
       "    </tr>\n",
       "    <tr>\n",
       "      <th>22</th>\n",
       "      <td>15.940860</td>\n",
       "      <td>13.571429</td>\n",
       "      <td>18.118280</td>\n",
       "      <td>15.360825</td>\n",
       "      <td>15.217391</td>\n",
       "      <td>16.115108</td>\n",
       "      <td>16.788991</td>\n",
       "      <td>14.905660</td>\n",
       "      <td>14.430380</td>\n",
       "      <td>12.593857</td>\n",
       "      <td>14.273504</td>\n",
       "      <td>16.080586</td>\n",
       "      <td>13.425101</td>\n",
       "    </tr>\n",
       "    <tr>\n",
       "      <th>23</th>\n",
       "      <td>13.978495</td>\n",
       "      <td>11.764706</td>\n",
       "      <td>13.333333</td>\n",
       "      <td>15.103093</td>\n",
       "      <td>11.630435</td>\n",
       "      <td>13.956835</td>\n",
       "      <td>14.434251</td>\n",
       "      <td>13.584906</td>\n",
       "      <td>13.354430</td>\n",
       "      <td>11.416382</td>\n",
       "      <td>14.273504</td>\n",
       "      <td>18.424908</td>\n",
       "      <td>12.914980</td>\n",
       "    </tr>\n",
       "    <tr>\n",
       "      <th>24</th>\n",
       "      <td>13.494624</td>\n",
       "      <td>10.441176</td>\n",
       "      <td>14.946237</td>\n",
       "      <td>12.783505</td>\n",
       "      <td>13.369565</td>\n",
       "      <td>13.417266</td>\n",
       "      <td>11.896024</td>\n",
       "      <td>19.433962</td>\n",
       "      <td>9.968354</td>\n",
       "      <td>11.697952</td>\n",
       "      <td>16.068376</td>\n",
       "      <td>11.465201</td>\n",
       "      <td>12.979757</td>\n",
       "    </tr>\n",
       "    <tr>\n",
       "      <th>25</th>\n",
       "      <td>14.005376</td>\n",
       "      <td>13.235294</td>\n",
       "      <td>14.354839</td>\n",
       "      <td>15.360825</td>\n",
       "      <td>11.956522</td>\n",
       "      <td>15.215827</td>\n",
       "      <td>15.504587</td>\n",
       "      <td>12.452830</td>\n",
       "      <td>12.531646</td>\n",
       "      <td>10.614334</td>\n",
       "      <td>13.076923</td>\n",
       "      <td>15.531136</td>\n",
       "      <td>10.105263</td>\n",
       "    </tr>\n",
       "    <tr>\n",
       "      <th>26</th>\n",
       "      <td>13.763441</td>\n",
       "      <td>11.344538</td>\n",
       "      <td>15.000000</td>\n",
       "      <td>15.618557</td>\n",
       "      <td>11.739130</td>\n",
       "      <td>15.899281</td>\n",
       "      <td>18.195719</td>\n",
       "      <td>14.905660</td>\n",
       "      <td>14.272152</td>\n",
       "      <td>12.269625</td>\n",
       "      <td>11.282051</td>\n",
       "      <td>15.750916</td>\n",
       "      <td>10.323887</td>\n",
       "    </tr>\n",
       "    <tr>\n",
       "      <th>27</th>\n",
       "      <td>13.037634</td>\n",
       "      <td>11.512605</td>\n",
       "      <td>15.107527</td>\n",
       "      <td>16.288660</td>\n",
       "      <td>12.173913</td>\n",
       "      <td>12.446043</td>\n",
       "      <td>13.730887</td>\n",
       "      <td>15.660377</td>\n",
       "      <td>13.607595</td>\n",
       "      <td>10.998294</td>\n",
       "      <td>16.752137</td>\n",
       "      <td>13.626374</td>\n",
       "      <td>11.481781</td>\n",
       "    </tr>\n",
       "    <tr>\n",
       "      <th>28</th>\n",
       "      <td>11.962366</td>\n",
       "      <td>13.760504</td>\n",
       "      <td>18.387097</td>\n",
       "      <td>14.845361</td>\n",
       "      <td>13.586957</td>\n",
       "      <td>12.338129</td>\n",
       "      <td>14.770642</td>\n",
       "      <td>18.867925</td>\n",
       "      <td>11.993671</td>\n",
       "      <td>12.150171</td>\n",
       "      <td>15.897436</td>\n",
       "      <td>14.505495</td>\n",
       "      <td>12.388664</td>\n",
       "    </tr>\n",
       "    <tr>\n",
       "      <th>29</th>\n",
       "      <td>17.392473</td>\n",
       "      <td>13.928571</td>\n",
       "      <td>15.053763</td>\n",
       "      <td>15.876289</td>\n",
       "      <td>12.173913</td>\n",
       "      <td>10.899281</td>\n",
       "      <td>10.642202</td>\n",
       "      <td>15.283019</td>\n",
       "      <td>11.930380</td>\n",
       "      <td>17.081911</td>\n",
       "      <td>11.367521</td>\n",
       "      <td>11.501832</td>\n",
       "      <td>12.453441</td>\n",
       "    </tr>\n",
       "    <tr>\n",
       "      <th>30</th>\n",
       "      <td>16.344086</td>\n",
       "      <td>11.848739</td>\n",
       "      <td>16.774194</td>\n",
       "      <td>12.835052</td>\n",
       "      <td>12.500000</td>\n",
       "      <td>16.294964</td>\n",
       "      <td>17.553517</td>\n",
       "      <td>13.962264</td>\n",
       "      <td>13.259494</td>\n",
       "      <td>13.003413</td>\n",
       "      <td>13.247863</td>\n",
       "      <td>17.142857</td>\n",
       "      <td>17.149798</td>\n",
       "    </tr>\n",
       "    <tr>\n",
       "      <th>31</th>\n",
       "      <td>18.575269</td>\n",
       "      <td>11.701681</td>\n",
       "      <td>15.053763</td>\n",
       "      <td>12.938144</td>\n",
       "      <td>15.217391</td>\n",
       "      <td>17.553957</td>\n",
       "      <td>17.737003</td>\n",
       "      <td>12.452830</td>\n",
       "      <td>15.094937</td>\n",
       "      <td>14.351536</td>\n",
       "      <td>13.418803</td>\n",
       "      <td>17.472527</td>\n",
       "      <td>15.327935</td>\n",
       "    </tr>\n",
       "    <tr>\n",
       "      <th>32</th>\n",
       "      <td>12.715054</td>\n",
       "      <td>17.163866</td>\n",
       "      <td>15.483871</td>\n",
       "      <td>15.876289</td>\n",
       "      <td>11.086957</td>\n",
       "      <td>13.597122</td>\n",
       "      <td>13.914373</td>\n",
       "      <td>15.471698</td>\n",
       "      <td>12.943038</td>\n",
       "      <td>11.126280</td>\n",
       "      <td>12.136752</td>\n",
       "      <td>14.761905</td>\n",
       "      <td>12.170040</td>\n",
       "    </tr>\n",
       "    <tr>\n",
       "      <th>33</th>\n",
       "      <td>18.548387</td>\n",
       "      <td>16.617647</td>\n",
       "      <td>15.806452</td>\n",
       "      <td>14.278351</td>\n",
       "      <td>14.456522</td>\n",
       "      <td>16.294964</td>\n",
       "      <td>16.666667</td>\n",
       "      <td>13.207547</td>\n",
       "      <td>12.626582</td>\n",
       "      <td>13.378840</td>\n",
       "      <td>12.820513</td>\n",
       "      <td>17.545788</td>\n",
       "      <td>16.218623</td>\n",
       "    </tr>\n",
       "    <tr>\n",
       "      <th>34</th>\n",
       "      <td>20.215054</td>\n",
       "      <td>11.575630</td>\n",
       "      <td>14.354839</td>\n",
       "      <td>11.752577</td>\n",
       "      <td>12.934783</td>\n",
       "      <td>16.115108</td>\n",
       "      <td>17.675841</td>\n",
       "      <td>13.018868</td>\n",
       "      <td>14.936709</td>\n",
       "      <td>13.344710</td>\n",
       "      <td>14.615385</td>\n",
       "      <td>15.787546</td>\n",
       "      <td>15.935223</td>\n",
       "    </tr>\n",
       "    <tr>\n",
       "      <th>35</th>\n",
       "      <td>15.430108</td>\n",
       "      <td>11.848739</td>\n",
       "      <td>13.978495</td>\n",
       "      <td>13.298969</td>\n",
       "      <td>14.021739</td>\n",
       "      <td>16.834532</td>\n",
       "      <td>17.737003</td>\n",
       "      <td>12.830189</td>\n",
       "      <td>15.094937</td>\n",
       "      <td>13.208191</td>\n",
       "      <td>12.905983</td>\n",
       "      <td>17.619048</td>\n",
       "      <td>14.639676</td>\n",
       "    </tr>\n",
       "    <tr>\n",
       "      <th>36</th>\n",
       "      <td>17.150538</td>\n",
       "      <td>14.978992</td>\n",
       "      <td>16.344086</td>\n",
       "      <td>14.845361</td>\n",
       "      <td>14.021739</td>\n",
       "      <td>12.625899</td>\n",
       "      <td>10.275229</td>\n",
       "      <td>16.981132</td>\n",
       "      <td>11.202532</td>\n",
       "      <td>13.924915</td>\n",
       "      <td>13.589744</td>\n",
       "      <td>12.014652</td>\n",
       "      <td>12.979757</td>\n",
       "    </tr>\n",
       "    <tr>\n",
       "      <th>37</th>\n",
       "      <td>14.462366</td>\n",
       "      <td>11.344538</td>\n",
       "      <td>14.838710</td>\n",
       "      <td>15.206186</td>\n",
       "      <td>11.086957</td>\n",
       "      <td>11.007194</td>\n",
       "      <td>13.027523</td>\n",
       "      <td>18.490566</td>\n",
       "      <td>13.797468</td>\n",
       "      <td>11.510239</td>\n",
       "      <td>13.589744</td>\n",
       "      <td>12.893773</td>\n",
       "      <td>11.481781</td>\n",
       "    </tr>\n",
       "    <tr>\n",
       "      <th>38</th>\n",
       "      <td>11.586022</td>\n",
       "      <td>12.310924</td>\n",
       "      <td>14.946237</td>\n",
       "      <td>13.814433</td>\n",
       "      <td>13.043478</td>\n",
       "      <td>16.906475</td>\n",
       "      <td>15.474006</td>\n",
       "      <td>10.754717</td>\n",
       "      <td>12.943038</td>\n",
       "      <td>11.680887</td>\n",
       "      <td>15.299145</td>\n",
       "      <td>16.190476</td>\n",
       "      <td>10.267206</td>\n",
       "    </tr>\n",
       "    <tr>\n",
       "      <th>39</th>\n",
       "      <td>16.370968</td>\n",
       "      <td>16.344538</td>\n",
       "      <td>16.021505</td>\n",
       "      <td>16.391753</td>\n",
       "      <td>13.478261</td>\n",
       "      <td>12.517986</td>\n",
       "      <td>10.856269</td>\n",
       "      <td>15.660377</td>\n",
       "      <td>13.132911</td>\n",
       "      <td>15.136519</td>\n",
       "      <td>11.367521</td>\n",
       "      <td>11.062271</td>\n",
       "      <td>13.546559</td>\n",
       "    </tr>\n",
       "    <tr>\n",
       "      <th>40</th>\n",
       "      <td>16.639785</td>\n",
       "      <td>11.932773</td>\n",
       "      <td>16.720430</td>\n",
       "      <td>14.845361</td>\n",
       "      <td>12.826087</td>\n",
       "      <td>15.143885</td>\n",
       "      <td>16.544343</td>\n",
       "      <td>12.830189</td>\n",
       "      <td>13.924051</td>\n",
       "      <td>11.911263</td>\n",
       "      <td>14.957265</td>\n",
       "      <td>19.340659</td>\n",
       "      <td>14.315789</td>\n",
       "    </tr>\n",
       "    <tr>\n",
       "      <th>41</th>\n",
       "      <td>17.258065</td>\n",
       "      <td>11.281513</td>\n",
       "      <td>17.204301</td>\n",
       "      <td>16.134021</td>\n",
       "      <td>13.369565</td>\n",
       "      <td>16.834532</td>\n",
       "      <td>18.501529</td>\n",
       "      <td>13.018868</td>\n",
       "      <td>16.202532</td>\n",
       "      <td>13.771331</td>\n",
       "      <td>15.555556</td>\n",
       "      <td>15.274725</td>\n",
       "      <td>17.878543</td>\n",
       "    </tr>\n",
       "    <tr>\n",
       "      <th>42</th>\n",
       "      <td>13.387097</td>\n",
       "      <td>14.075630</td>\n",
       "      <td>14.623656</td>\n",
       "      <td>13.814433</td>\n",
       "      <td>11.956522</td>\n",
       "      <td>14.856115</td>\n",
       "      <td>15.443425</td>\n",
       "      <td>12.264151</td>\n",
       "      <td>14.968354</td>\n",
       "      <td>10.742321</td>\n",
       "      <td>15.213675</td>\n",
       "      <td>17.435897</td>\n",
       "      <td>9.821862</td>\n",
       "    </tr>\n",
       "    <tr>\n",
       "      <th>43</th>\n",
       "      <td>14.220430</td>\n",
       "      <td>10.945378</td>\n",
       "      <td>12.903226</td>\n",
       "      <td>14.072165</td>\n",
       "      <td>11.956522</td>\n",
       "      <td>11.258993</td>\n",
       "      <td>12.721713</td>\n",
       "      <td>13.018868</td>\n",
       "      <td>12.943038</td>\n",
       "      <td>10.998294</td>\n",
       "      <td>14.273504</td>\n",
       "      <td>15.494505</td>\n",
       "      <td>12.024291</td>\n",
       "    </tr>\n",
       "    <tr>\n",
       "      <th>44</th>\n",
       "      <td>11.021505</td>\n",
       "      <td>9.684874</td>\n",
       "      <td>16.129032</td>\n",
       "      <td>15.360825</td>\n",
       "      <td>11.956522</td>\n",
       "      <td>14.964029</td>\n",
       "      <td>14.709480</td>\n",
       "      <td>15.471698</td>\n",
       "      <td>13.227848</td>\n",
       "      <td>11.535836</td>\n",
       "      <td>14.786325</td>\n",
       "      <td>13.809524</td>\n",
       "      <td>10.987854</td>\n",
       "    </tr>\n",
       "  </tbody>\n",
       "</table>\n",
       "</div>"
      ],
      "text/plain": [
       "           0          1          2          3          4          5   \\\n",
       "0   17.284946  11.638655  14.784946  12.989691  15.217391  15.395683   \n",
       "1   14.731183  13.739496  16.021505  15.876289  14.565217  11.366906   \n",
       "2   13.602151  10.504202  14.301075  14.329897  11.847826  18.633094   \n",
       "3   16.801075  11.764706  15.913978  15.103093  15.000000  16.690647   \n",
       "4   15.430108  20.315126  14.139785  15.618557  11.739130  15.467626   \n",
       "5   11.424731  12.436975  20.053763  19.226804  15.326087  17.482014   \n",
       "6   18.145161  12.647059  16.720430  13.608247  15.543478  15.395683   \n",
       "7   13.575269  16.176471  15.483871  15.360825  11.956522  14.316547   \n",
       "8   13.279570  11.764706  14.086022  14.329897  11.086957  11.978417   \n",
       "9   12.822581  11.974790  15.161290  14.072165  11.195652  11.798561   \n",
       "10  16.263441  13.508403  15.322581  14.845361  12.065217  11.079137   \n",
       "11  17.661290  18.718487  14.677419  14.845361  11.086957   9.568345   \n",
       "12  18.521505  11.827731  15.860215  12.371134  14.565217  17.805755   \n",
       "13  13.602151  10.378151  13.978495  14.072165  11.956522  18.705036   \n",
       "14  16.854839  13.550420  17.150538  17.164948  13.804348  11.618705   \n",
       "15  12.607527  10.063025  13.440860  14.329897  11.739130  14.748201   \n",
       "16  17.338710  11.344538  17.204301  14.587629  16.739130  16.654676   \n",
       "17  18.494624  11.470588  16.021505  13.041237  14.130435  17.913669   \n",
       "18  14.327957  10.987395  13.548387  13.195876  13.260870  13.309353   \n",
       "19  17.526882  11.596639  16.666667  13.402062  12.608696  14.856115   \n",
       "20  15.591398  10.252101  11.827957  12.268041  10.869565  16.762590   \n",
       "21  15.430108  11.596639  16.397849  13.814433  13.043478  14.856115   \n",
       "22  15.940860  13.571429  18.118280  15.360825  15.217391  16.115108   \n",
       "23  13.978495  11.764706  13.333333  15.103093  11.630435  13.956835   \n",
       "24  13.494624  10.441176  14.946237  12.783505  13.369565  13.417266   \n",
       "25  14.005376  13.235294  14.354839  15.360825  11.956522  15.215827   \n",
       "26  13.763441  11.344538  15.000000  15.618557  11.739130  15.899281   \n",
       "27  13.037634  11.512605  15.107527  16.288660  12.173913  12.446043   \n",
       "28  11.962366  13.760504  18.387097  14.845361  13.586957  12.338129   \n",
       "29  17.392473  13.928571  15.053763  15.876289  12.173913  10.899281   \n",
       "30  16.344086  11.848739  16.774194  12.835052  12.500000  16.294964   \n",
       "31  18.575269  11.701681  15.053763  12.938144  15.217391  17.553957   \n",
       "32  12.715054  17.163866  15.483871  15.876289  11.086957  13.597122   \n",
       "33  18.548387  16.617647  15.806452  14.278351  14.456522  16.294964   \n",
       "34  20.215054  11.575630  14.354839  11.752577  12.934783  16.115108   \n",
       "35  15.430108  11.848739  13.978495  13.298969  14.021739  16.834532   \n",
       "36  17.150538  14.978992  16.344086  14.845361  14.021739  12.625899   \n",
       "37  14.462366  11.344538  14.838710  15.206186  11.086957  11.007194   \n",
       "38  11.586022  12.310924  14.946237  13.814433  13.043478  16.906475   \n",
       "39  16.370968  16.344538  16.021505  16.391753  13.478261  12.517986   \n",
       "40  16.639785  11.932773  16.720430  14.845361  12.826087  15.143885   \n",
       "41  17.258065  11.281513  17.204301  16.134021  13.369565  16.834532   \n",
       "42  13.387097  14.075630  14.623656  13.814433  11.956522  14.856115   \n",
       "43  14.220430  10.945378  12.903226  14.072165  11.956522  11.258993   \n",
       "44  11.021505   9.684874  16.129032  15.360825  11.956522  14.964029   \n",
       "\n",
       "           6          7          8          9          10         11  \\\n",
       "0   17.431193  11.509434  13.797468  13.899317  13.247863  17.069597   \n",
       "1   12.721713  12.075472  12.658228  18.122867   9.487179  10.732601   \n",
       "2   18.042813  11.132075  14.588608  12.704778  15.811966  15.860806   \n",
       "3   17.064220  11.320755  16.424051  14.240614  13.760684  16.446886   \n",
       "4   16.666667  13.207547  15.031646  11.126280  11.623932  16.703297   \n",
       "5   24.097859  16.415094  14.588608  14.027304  13.333333  18.864469   \n",
       "6   16.238532  13.396226  12.626582  13.216724  14.444444  18.461538   \n",
       "7   11.376147  16.981132  11.962025  15.435154  10.170940  11.135531   \n",
       "8   14.770642  14.528302  13.829114  11.808874  13.931624  16.959707   \n",
       "9   13.149847  17.358491  13.860759  10.955631  14.615385  13.663004   \n",
       "10  10.091743  14.528302  10.696203  13.686007  11.367521  14.395604   \n",
       "11   9.602446  15.094340  10.822785  13.088737  10.341880  10.219780   \n",
       "12  18.929664  13.962264  14.905063  14.667235  14.358974  15.787546   \n",
       "13  20.030581  12.075472  14.841772  12.747440  14.273504  15.494505   \n",
       "14  11.131498  14.905660  13.544304  16.296928  11.709402  11.941392   \n",
       "15  15.474006  13.207547  13.196203  11.040956  17.179487  16.776557   \n",
       "16  16.941896  16.981132  12.943038  13.515358  16.068376  16.336996   \n",
       "17  20.581040  13.584906  14.556962  16.331058  15.897436  15.677656   \n",
       "18  12.874618  17.547170  10.632911  13.813993  13.760684  11.172161   \n",
       "19  17.706422  11.698113  15.917722  13.686007  15.982906  17.692308   \n",
       "20  18.287462  12.452830  15.886076  13.430034  14.957265  16.996337   \n",
       "21  15.993884  13.018868  13.227848  12.534130  14.957265  14.542125   \n",
       "22  16.788991  14.905660  14.430380  12.593857  14.273504  16.080586   \n",
       "23  14.434251  13.584906  13.354430  11.416382  14.273504  18.424908   \n",
       "24  11.896024  19.433962   9.968354  11.697952  16.068376  11.465201   \n",
       "25  15.504587  12.452830  12.531646  10.614334  13.076923  15.531136   \n",
       "26  18.195719  14.905660  14.272152  12.269625  11.282051  15.750916   \n",
       "27  13.730887  15.660377  13.607595  10.998294  16.752137  13.626374   \n",
       "28  14.770642  18.867925  11.993671  12.150171  15.897436  14.505495   \n",
       "29  10.642202  15.283019  11.930380  17.081911  11.367521  11.501832   \n",
       "30  17.553517  13.962264  13.259494  13.003413  13.247863  17.142857   \n",
       "31  17.737003  12.452830  15.094937  14.351536  13.418803  17.472527   \n",
       "32  13.914373  15.471698  12.943038  11.126280  12.136752  14.761905   \n",
       "33  16.666667  13.207547  12.626582  13.378840  12.820513  17.545788   \n",
       "34  17.675841  13.018868  14.936709  13.344710  14.615385  15.787546   \n",
       "35  17.737003  12.830189  15.094937  13.208191  12.905983  17.619048   \n",
       "36  10.275229  16.981132  11.202532  13.924915  13.589744  12.014652   \n",
       "37  13.027523  18.490566  13.797468  11.510239  13.589744  12.893773   \n",
       "38  15.474006  10.754717  12.943038  11.680887  15.299145  16.190476   \n",
       "39  10.856269  15.660377  13.132911  15.136519  11.367521  11.062271   \n",
       "40  16.544343  12.830189  13.924051  11.911263  14.957265  19.340659   \n",
       "41  18.501529  13.018868  16.202532  13.771331  15.555556  15.274725   \n",
       "42  15.443425  12.264151  14.968354  10.742321  15.213675  17.435897   \n",
       "43  12.721713  13.018868  12.943038  10.998294  14.273504  15.494505   \n",
       "44  14.709480  15.471698  13.227848  11.535836  14.786325  13.809524   \n",
       "\n",
       "           12  \n",
       "0   16.056680  \n",
       "1   11.360324  \n",
       "2   10.874494  \n",
       "3   16.542510  \n",
       "4   10.550607  \n",
       "5   11.238866  \n",
       "6   17.959514  \n",
       "7   11.684211  \n",
       "8   11.603239  \n",
       "9   11.360324  \n",
       "10  13.789474  \n",
       "11  10.834008  \n",
       "12  19.214575  \n",
       "13  12.817814  \n",
       "14  13.546559  \n",
       "15   9.724696  \n",
       "16  17.473684  \n",
       "17  21.076923  \n",
       "18  11.117409  \n",
       "19  17.716599  \n",
       "20  11.538462  \n",
       "21  16.421053  \n",
       "22  13.425101  \n",
       "23  12.914980  \n",
       "24  12.979757  \n",
       "25  10.105263  \n",
       "26  10.323887  \n",
       "27  11.481781  \n",
       "28  12.388664  \n",
       "29  12.453441  \n",
       "30  17.149798  \n",
       "31  15.327935  \n",
       "32  12.170040  \n",
       "33  16.218623  \n",
       "34  15.935223  \n",
       "35  14.639676  \n",
       "36  12.979757  \n",
       "37  11.481781  \n",
       "38  10.267206  \n",
       "39  13.546559  \n",
       "40  14.315789  \n",
       "41  17.878543  \n",
       "42   9.821862  \n",
       "43  12.024291  \n",
       "44  10.987854  "
      ]
     },
     "execution_count": 13,
     "metadata": {},
     "output_type": "execute_result"
    }
   ],
   "source": [
    "pd.DataFrame(x_test_scaled)"
   ]
  },
  {
   "cell_type": "code",
   "execution_count": 14,
   "id": "1d792d45",
   "metadata": {},
   "outputs": [],
   "source": [
    "standard_scaler_object=preprocessing.StandardScaler()"
   ]
  },
  {
   "cell_type": "code",
   "execution_count": 15,
   "id": "2963158b",
   "metadata": {},
   "outputs": [],
   "source": [
    "x_train_scaled=standard_scaler_object.fit_transform(x_train)"
   ]
  },
  {
   "cell_type": "code",
   "execution_count": 16,
   "id": "50347de3",
   "metadata": {
    "scrolled": true
   },
   "outputs": [
    {
     "data": {
      "text/html": [
       "<div>\n",
       "<style scoped>\n",
       "    .dataframe tbody tr th:only-of-type {\n",
       "        vertical-align: middle;\n",
       "    }\n",
       "\n",
       "    .dataframe tbody tr th {\n",
       "        vertical-align: top;\n",
       "    }\n",
       "\n",
       "    .dataframe thead th {\n",
       "        text-align: right;\n",
       "    }\n",
       "</style>\n",
       "<table border=\"1\" class=\"dataframe\">\n",
       "  <thead>\n",
       "    <tr style=\"text-align: right;\">\n",
       "      <th></th>\n",
       "      <th>0</th>\n",
       "      <th>1</th>\n",
       "      <th>2</th>\n",
       "      <th>3</th>\n",
       "      <th>4</th>\n",
       "      <th>5</th>\n",
       "      <th>6</th>\n",
       "      <th>7</th>\n",
       "      <th>8</th>\n",
       "      <th>9</th>\n",
       "      <th>10</th>\n",
       "      <th>11</th>\n",
       "      <th>12</th>\n",
       "    </tr>\n",
       "  </thead>\n",
       "  <tbody>\n",
       "    <tr>\n",
       "      <th>0</th>\n",
       "      <td>0.799969</td>\n",
       "      <td>0.634004</td>\n",
       "      <td>0.717833</td>\n",
       "      <td>-1.227784</td>\n",
       "      <td>1.076995</td>\n",
       "      <td>0.717575</td>\n",
       "      <td>1.093799</td>\n",
       "      <td>-1.522752</td>\n",
       "      <td>0.084380</td>\n",
       "      <td>-0.005460</td>\n",
       "      <td>0.054456</td>\n",
       "      <td>1.071328</td>\n",
       "      <td>0.315005</td>\n",
       "    </tr>\n",
       "    <tr>\n",
       "      <th>1</th>\n",
       "      <td>-0.498760</td>\n",
       "      <td>0.061720</td>\n",
       "      <td>-0.610727</td>\n",
       "      <td>-0.288160</td>\n",
       "      <td>-0.447576</td>\n",
       "      <td>-1.050089</td>\n",
       "      <td>-1.321955</td>\n",
       "      <td>2.088177</td>\n",
       "      <td>-1.118040</td>\n",
       "      <td>0.829212</td>\n",
       "      <td>-0.934736</td>\n",
       "      <td>-1.392497</td>\n",
       "      <td>-0.181389</td>\n",
       "    </tr>\n",
       "    <tr>\n",
       "      <th>2</th>\n",
       "      <td>-1.297977</td>\n",
       "      <td>-1.163326</td>\n",
       "      <td>-0.241683</td>\n",
       "      <td>0.423677</td>\n",
       "      <td>0.037515</td>\n",
       "      <td>1.830549</td>\n",
       "      <td>0.186617</td>\n",
       "      <td>-1.836746</td>\n",
       "      <td>0.067680</td>\n",
       "      <td>-0.794224</td>\n",
       "      <td>0.183481</td>\n",
       "      <td>0.752968</td>\n",
       "      <td>0.450685</td>\n",
       "    </tr>\n",
       "    <tr>\n",
       "      <th>3</th>\n",
       "      <td>-0.935832</td>\n",
       "      <td>1.331475</td>\n",
       "      <td>-0.610727</td>\n",
       "      <td>-0.288160</td>\n",
       "      <td>0.799801</td>\n",
       "      <td>-1.442903</td>\n",
       "      <td>-1.199639</td>\n",
       "      <td>-0.580770</td>\n",
       "      <td>-0.784034</td>\n",
       "      <td>1.292454</td>\n",
       "      <td>-1.278802</td>\n",
       "      <td>-0.811145</td>\n",
       "      <td>0.348097</td>\n",
       "    </tr>\n",
       "    <tr>\n",
       "      <th>4</th>\n",
       "      <td>1.624162</td>\n",
       "      <td>-0.421145</td>\n",
       "      <td>1.308304</td>\n",
       "      <td>0.138942</td>\n",
       "      <td>1.354190</td>\n",
       "      <td>0.881248</td>\n",
       "      <td>1.205923</td>\n",
       "      <td>-0.266777</td>\n",
       "      <td>0.602089</td>\n",
       "      <td>0.453609</td>\n",
       "      <td>0.527547</td>\n",
       "      <td>0.088566</td>\n",
       "      <td>1.754545</td>\n",
       "    </tr>\n",
       "    <tr>\n",
       "      <th>...</th>\n",
       "      <td>...</td>\n",
       "      <td>...</td>\n",
       "      <td>...</td>\n",
       "      <td>...</td>\n",
       "      <td>...</td>\n",
       "      <td>...</td>\n",
       "      <td>...</td>\n",
       "      <td>...</td>\n",
       "      <td>...</td>\n",
       "      <td>...</td>\n",
       "      <td>...</td>\n",
       "      <td>...</td>\n",
       "      <td>...</td>\n",
       "    </tr>\n",
       "    <tr>\n",
       "      <th>128</th>\n",
       "      <td>-1.472806</td>\n",
       "      <td>-0.599984</td>\n",
       "      <td>-1.791669</td>\n",
       "      <td>-0.003425</td>\n",
       "      <td>-1.001965</td>\n",
       "      <td>0.390230</td>\n",
       "      <td>-0.323036</td>\n",
       "      <td>0.047217</td>\n",
       "      <td>-0.316426</td>\n",
       "      <td>-1.274161</td>\n",
       "      <td>-0.031561</td>\n",
       "      <td>-0.202110</td>\n",
       "      <td>-1.107990</td>\n",
       "    </tr>\n",
       "    <tr>\n",
       "      <th>129</th>\n",
       "      <td>-0.785979</td>\n",
       "      <td>-1.091791</td>\n",
       "      <td>-1.644052</td>\n",
       "      <td>0.025048</td>\n",
       "      <td>-1.556355</td>\n",
       "      <td>-0.248093</td>\n",
       "      <td>0.043914</td>\n",
       "      <td>-0.737767</td>\n",
       "      <td>-0.951037</td>\n",
       "      <td>-0.180741</td>\n",
       "      <td>0.742589</td>\n",
       "      <td>1.237428</td>\n",
       "      <td>-0.793607</td>\n",
       "    </tr>\n",
       "    <tr>\n",
       "      <th>130</th>\n",
       "      <td>-0.723540</td>\n",
       "      <td>-0.698345</td>\n",
       "      <td>-0.647631</td>\n",
       "      <td>0.850778</td>\n",
       "      <td>0.522606</td>\n",
       "      <td>-0.428133</td>\n",
       "      <td>0.135652</td>\n",
       "      <td>-0.188278</td>\n",
       "      <td>0.000879</td>\n",
       "      <td>-1.274161</td>\n",
       "      <td>0.484539</td>\n",
       "      <td>0.517659</td>\n",
       "      <td>-1.339640</td>\n",
       "    </tr>\n",
       "    <tr>\n",
       "      <th>131</th>\n",
       "      <td>1.124651</td>\n",
       "      <td>-0.635752</td>\n",
       "      <td>-0.905963</td>\n",
       "      <td>-0.999996</td>\n",
       "      <td>0.037515</td>\n",
       "      <td>1.372265</td>\n",
       "      <td>1.460749</td>\n",
       "      <td>-1.208758</td>\n",
       "      <td>0.885994</td>\n",
       "      <td>0.411876</td>\n",
       "      <td>-0.160586</td>\n",
       "      <td>1.029803</td>\n",
       "      <td>0.778305</td>\n",
       "    </tr>\n",
       "    <tr>\n",
       "      <th>132</th>\n",
       "      <td>1.449333</td>\n",
       "      <td>0.106429</td>\n",
       "      <td>0.422598</td>\n",
       "      <td>0.138942</td>\n",
       "      <td>-0.655472</td>\n",
       "      <td>-0.951885</td>\n",
       "      <td>-1.281183</td>\n",
       "      <td>0.596706</td>\n",
       "      <td>-0.617031</td>\n",
       "      <td>1.914285</td>\n",
       "      <td>-1.407827</td>\n",
       "      <td>-1.212555</td>\n",
       "      <td>-0.297214</td>\n",
       "    </tr>\n",
       "  </tbody>\n",
       "</table>\n",
       "<p>133 rows × 13 columns</p>\n",
       "</div>"
      ],
      "text/plain": [
       "           0         1         2         3         4         5         6   \\\n",
       "0    0.799969  0.634004  0.717833 -1.227784  1.076995  0.717575  1.093799   \n",
       "1   -0.498760  0.061720 -0.610727 -0.288160 -0.447576 -1.050089 -1.321955   \n",
       "2   -1.297977 -1.163326 -0.241683  0.423677  0.037515  1.830549  0.186617   \n",
       "3   -0.935832  1.331475 -0.610727 -0.288160  0.799801 -1.442903 -1.199639   \n",
       "4    1.624162 -0.421145  1.308304  0.138942  1.354190  0.881248  1.205923   \n",
       "..        ...       ...       ...       ...       ...       ...       ...   \n",
       "128 -1.472806 -0.599984 -1.791669 -0.003425 -1.001965  0.390230 -0.323036   \n",
       "129 -0.785979 -1.091791 -1.644052  0.025048 -1.556355 -0.248093  0.043914   \n",
       "130 -0.723540 -0.698345 -0.647631  0.850778  0.522606 -0.428133  0.135652   \n",
       "131  1.124651 -0.635752 -0.905963 -0.999996  0.037515  1.372265  1.460749   \n",
       "132  1.449333  0.106429  0.422598  0.138942 -0.655472 -0.951885 -1.281183   \n",
       "\n",
       "           7         8         9         10        11        12  \n",
       "0   -1.522752  0.084380 -0.005460  0.054456  1.071328  0.315005  \n",
       "1    2.088177 -1.118040  0.829212 -0.934736 -1.392497 -0.181389  \n",
       "2   -1.836746  0.067680 -0.794224  0.183481  0.752968  0.450685  \n",
       "3   -0.580770 -0.784034  1.292454 -1.278802 -0.811145  0.348097  \n",
       "4   -0.266777  0.602089  0.453609  0.527547  0.088566  1.754545  \n",
       "..        ...       ...       ...       ...       ...       ...  \n",
       "128  0.047217 -0.316426 -1.274161 -0.031561 -0.202110 -1.107990  \n",
       "129 -0.737767 -0.951037 -0.180741  0.742589  1.237428 -0.793607  \n",
       "130 -0.188278  0.000879 -1.274161  0.484539  0.517659 -1.339640  \n",
       "131 -1.208758  0.885994  0.411876 -0.160586  1.029803  0.778305  \n",
       "132  0.596706 -0.617031  1.914285 -1.407827 -1.212555 -0.297214  \n",
       "\n",
       "[133 rows x 13 columns]"
      ]
     },
     "execution_count": 16,
     "metadata": {},
     "output_type": "execute_result"
    }
   ],
   "source": [
    "pd.DataFrame(x_train_scaled)"
   ]
  },
  {
   "cell_type": "code",
   "execution_count": 17,
   "id": "8e20c0ca",
   "metadata": {},
   "outputs": [
    {
     "data": {
      "text/plain": [
       "array([ 1.91158701e-15, -1.38694403e-15, -1.39821321e-16,  2.32583376e-15,\n",
       "       -3.33066907e-16, -8.56457762e-16,  6.62794798e-16, -1.16281254e-15,\n",
       "        6.71142340e-16, -7.07871522e-16, -7.07871522e-16,  5.55946266e-16,\n",
       "       -5.00852492e-18])"
      ]
     },
     "execution_count": 17,
     "metadata": {},
     "output_type": "execute_result"
    }
   ],
   "source": [
    "x_train_scaled.mean(axis=0)"
   ]
  },
  {
   "cell_type": "code",
   "execution_count": 18,
   "id": "f97e58f7",
   "metadata": {},
   "outputs": [
    {
     "data": {
      "text/plain": [
       "array([1., 1., 1., 1., 1., 1., 1., 1., 1., 1., 1., 1., 1.])"
      ]
     },
     "execution_count": 18,
     "metadata": {},
     "output_type": "execute_result"
    }
   ],
   "source": [
    "x_train_scaled.std(axis=0)#standard deviation"
   ]
  },
  {
   "cell_type": "code",
   "execution_count": 19,
   "id": "3df44fd4",
   "metadata": {},
   "outputs": [],
   "source": [
    "x_test_scaled=standard_scaler_object.transform(x_test)"
   ]
  },
  {
   "cell_type": "code",
   "execution_count": 10,
   "id": "2e79503f",
   "metadata": {},
   "outputs": [],
   "source": [
    "from sklearn import datasets\n",
    "from sklearn.model_selection import train_test_split"
   ]
  },
  {
   "cell_type": "code",
   "execution_count": 11,
   "id": "d5880314",
   "metadata": {},
   "outputs": [],
   "source": [
    "iris=datasets.load_iris()\n",
    "x_train,x_test,y_train,y_test=train_test_split(iris.data,iris.target,test_size=0.33,random_state=0)"
   ]
  },
  {
   "cell_type": "code",
   "execution_count": 3,
   "id": "5b7cb350",
   "metadata": {},
   "outputs": [],
   "source": [
    "from sklearn.tree import DecisionTreeClassifier"
   ]
  },
  {
   "cell_type": "code",
   "execution_count": 4,
   "id": "54347cf9",
   "metadata": {},
   "outputs": [],
   "source": [
    "clf=DecisionTreeClassifier(max_depth=3)"
   ]
  },
  {
   "cell_type": "code",
   "execution_count": 5,
   "id": "e9dbbf13",
   "metadata": {},
   "outputs": [
    {
     "data": {
      "text/html": [
       "<style>#sk-container-id-1 {color: black;background-color: white;}#sk-container-id-1 pre{padding: 0;}#sk-container-id-1 div.sk-toggleable {background-color: white;}#sk-container-id-1 label.sk-toggleable__label {cursor: pointer;display: block;width: 100%;margin-bottom: 0;padding: 0.3em;box-sizing: border-box;text-align: center;}#sk-container-id-1 label.sk-toggleable__label-arrow:before {content: \"▸\";float: left;margin-right: 0.25em;color: #696969;}#sk-container-id-1 label.sk-toggleable__label-arrow:hover:before {color: black;}#sk-container-id-1 div.sk-estimator:hover label.sk-toggleable__label-arrow:before {color: black;}#sk-container-id-1 div.sk-toggleable__content {max-height: 0;max-width: 0;overflow: hidden;text-align: left;background-color: #f0f8ff;}#sk-container-id-1 div.sk-toggleable__content pre {margin: 0.2em;color: black;border-radius: 0.25em;background-color: #f0f8ff;}#sk-container-id-1 input.sk-toggleable__control:checked~div.sk-toggleable__content {max-height: 200px;max-width: 100%;overflow: auto;}#sk-container-id-1 input.sk-toggleable__control:checked~label.sk-toggleable__label-arrow:before {content: \"▾\";}#sk-container-id-1 div.sk-estimator input.sk-toggleable__control:checked~label.sk-toggleable__label {background-color: #d4ebff;}#sk-container-id-1 div.sk-label input.sk-toggleable__control:checked~label.sk-toggleable__label {background-color: #d4ebff;}#sk-container-id-1 input.sk-hidden--visually {border: 0;clip: rect(1px 1px 1px 1px);clip: rect(1px, 1px, 1px, 1px);height: 1px;margin: -1px;overflow: hidden;padding: 0;position: absolute;width: 1px;}#sk-container-id-1 div.sk-estimator {font-family: monospace;background-color: #f0f8ff;border: 1px dotted black;border-radius: 0.25em;box-sizing: border-box;margin-bottom: 0.5em;}#sk-container-id-1 div.sk-estimator:hover {background-color: #d4ebff;}#sk-container-id-1 div.sk-parallel-item::after {content: \"\";width: 100%;border-bottom: 1px solid gray;flex-grow: 1;}#sk-container-id-1 div.sk-label:hover label.sk-toggleable__label {background-color: #d4ebff;}#sk-container-id-1 div.sk-serial::before {content: \"\";position: absolute;border-left: 1px solid gray;box-sizing: border-box;top: 0;bottom: 0;left: 50%;z-index: 0;}#sk-container-id-1 div.sk-serial {display: flex;flex-direction: column;align-items: center;background-color: white;padding-right: 0.2em;padding-left: 0.2em;position: relative;}#sk-container-id-1 div.sk-item {position: relative;z-index: 1;}#sk-container-id-1 div.sk-parallel {display: flex;align-items: stretch;justify-content: center;background-color: white;position: relative;}#sk-container-id-1 div.sk-item::before, #sk-container-id-1 div.sk-parallel-item::before {content: \"\";position: absolute;border-left: 1px solid gray;box-sizing: border-box;top: 0;bottom: 0;left: 50%;z-index: -1;}#sk-container-id-1 div.sk-parallel-item {display: flex;flex-direction: column;z-index: 1;position: relative;background-color: white;}#sk-container-id-1 div.sk-parallel-item:first-child::after {align-self: flex-end;width: 50%;}#sk-container-id-1 div.sk-parallel-item:last-child::after {align-self: flex-start;width: 50%;}#sk-container-id-1 div.sk-parallel-item:only-child::after {width: 0;}#sk-container-id-1 div.sk-dashed-wrapped {border: 1px dashed gray;margin: 0 0.4em 0.5em 0.4em;box-sizing: border-box;padding-bottom: 0.4em;background-color: white;}#sk-container-id-1 div.sk-label label {font-family: monospace;font-weight: bold;display: inline-block;line-height: 1.2em;}#sk-container-id-1 div.sk-label-container {text-align: center;}#sk-container-id-1 div.sk-container {/* jupyter's `normalize.less` sets `[hidden] { display: none; }` but bootstrap.min.css set `[hidden] { display: none !important; }` so we also need the `!important` here to be able to override the default hidden behavior on the sphinx rendered scikit-learn.org. See: https://github.com/scikit-learn/scikit-learn/issues/21755 */display: inline-block !important;position: relative;}#sk-container-id-1 div.sk-text-repr-fallback {display: none;}</style><div id=\"sk-container-id-1\" class=\"sk-top-container\"><div class=\"sk-text-repr-fallback\"><pre>DecisionTreeClassifier(max_depth=3)</pre><b>In a Jupyter environment, please rerun this cell to show the HTML representation or trust the notebook. <br />On GitHub, the HTML representation is unable to render, please try loading this page with nbviewer.org.</b></div><div class=\"sk-container\" hidden><div class=\"sk-item\"><div class=\"sk-estimator sk-toggleable\"><input class=\"sk-toggleable__control sk-hidden--visually\" id=\"sk-estimator-id-1\" type=\"checkbox\" checked><label for=\"sk-estimator-id-1\" class=\"sk-toggleable__label sk-toggleable__label-arrow\">DecisionTreeClassifier</label><div class=\"sk-toggleable__content\"><pre>DecisionTreeClassifier(max_depth=3)</pre></div></div></div></div></div>"
      ],
      "text/plain": [
       "DecisionTreeClassifier(max_depth=3)"
      ]
     },
     "execution_count": 5,
     "metadata": {},
     "output_type": "execute_result"
    }
   ],
   "source": [
    "clf.fit(x_train,y_train)"
   ]
  },
  {
   "cell_type": "code",
   "execution_count": 8,
   "id": "25265ba8",
   "metadata": {},
   "outputs": [
    {
     "data": {
      "text/plain": [
       "1.0"
      ]
     },
     "execution_count": 8,
     "metadata": {},
     "output_type": "execute_result"
    }
   ],
   "source": [
    "clf.score(x_train,y_train)#no error then the leaf is pure node"
   ]
  },
  {
   "cell_type": "code",
   "execution_count": 9,
   "id": "1f6c5fc4",
   "metadata": {},
   "outputs": [
    {
     "data": {
      "text/plain": [
       "0.9736842105263158"
      ]
     },
     "execution_count": 9,
     "metadata": {},
     "output_type": "execute_result"
    }
   ],
   "source": [
    "clf.score(x_test,y_test)"
   ]
  },
  {
   "cell_type": "code",
   "execution_count": 10,
   "id": "058525d3",
   "metadata": {},
   "outputs": [],
   "source": [
    "from sklearn.metrics import confusion_matrix"
   ]
  },
  {
   "cell_type": "code",
   "execution_count": 11,
   "id": "31cb9647",
   "metadata": {},
   "outputs": [
    {
     "data": {
      "text/plain": [
       "array([[37,  0,  0],\n",
       "       [ 0, 34,  0],\n",
       "       [ 0,  0, 41]], dtype=int64)"
      ]
     },
     "execution_count": 11,
     "metadata": {},
     "output_type": "execute_result"
    }
   ],
   "source": [
    "confusion_matrix(y_train,clf.predict(x_train))"
   ]
  },
  {
   "cell_type": "code",
   "execution_count": 12,
   "id": "1f911bcd",
   "metadata": {},
   "outputs": [
    {
     "data": {
      "text/plain": [
       "array([[13,  0,  0],\n",
       "       [ 0, 15,  1],\n",
       "       [ 0,  0,  9]], dtype=int64)"
      ]
     },
     "execution_count": 12,
     "metadata": {},
     "output_type": "execute_result"
    }
   ],
   "source": [
    "confusion_matrix(y_test,clf.predict(x_test))"
   ]
  },
  {
   "cell_type": "code",
   "execution_count": null,
   "id": "91a57dfd",
   "metadata": {},
   "outputs": [],
   "source": [
    "#conda install -c anaconda graphviz\n",
    "#conda install -c conda-forge pydotplus"
   ]
  },
  {
   "cell_type": "code",
   "execution_count": 6,
   "id": "610cdf29",
   "metadata": {},
   "outputs": [],
   "source": [
    "from sklearn.tree import export_graphviz\n",
    "import pydotplus"
   ]
  },
  {
   "cell_type": "code",
   "execution_count": 7,
   "id": "eb73b313",
   "metadata": {},
   "outputs": [
    {
     "data": {
      "image/png": "[encoded data removed]",
      "text/plain": [
       "<IPython.core.display.Image object>"
      ]
     },
     "execution_count": 7,
     "metadata": {},
     "output_type": "execute_result"
    }
   ],
   "source": [
    "#printing the decision tree formed using pydotplus\n",
    "from six import StringIO\n",
    "from IPython.display import Image\n",
    "\n",
    "dot_data=StringIO()\n",
    "export_graphviz(clf,out_file=dot_data,filled=True,rounded=True,\n",
    "               special_characters=True,feature_names=iris.feature_names,\n",
    "               class_names=iris.target_names)\n",
    "graph=pydotplus.graph_from_dot_data(dot_data.getvalue())\n",
    "Image(graph.create_png())"
   ]
  },
  {
   "cell_type": "code",
   "execution_count": 8,
   "id": "f9513e15",
   "metadata": {},
   "outputs": [
    {
     "data": {
      "text/plain": [
       "0.9821428571428571"
      ]
     },
     "execution_count": 8,
     "metadata": {},
     "output_type": "execute_result"
    }
   ],
   "source": [
    "clf.score(x_train,y_train)"
   ]
  },
  {
   "cell_type": "code",
   "execution_count": 9,
   "id": "b950b321",
   "metadata": {},
   "outputs": [
    {
     "data": {
      "text/plain": [
       "0.9736842105263158"
      ]
     },
     "execution_count": 9,
     "metadata": {},
     "output_type": "execute_result"
    }
   ],
   "source": [
    "clf.score(x_test,y_test)"
   ]
  },
  {
   "cell_type": "code",
   "execution_count": 12,
   "id": "009415ac",
   "metadata": {},
   "outputs": [],
   "source": [
    "from sklearn.ensemble import RandomForestClassifier"
   ]
  },
  {
   "cell_type": "code",
   "execution_count": 15,
   "id": "1e886cb8",
   "metadata": {},
   "outputs": [
    {
     "data": {
      "text/html": [
       "<style>#sk-container-id-3 {color: black;background-color: white;}#sk-container-id-3 pre{padding: 0;}#sk-container-id-3 div.sk-toggleable {background-color: white;}#sk-container-id-3 label.sk-toggleable__label {cursor: pointer;display: block;width: 100%;margin-bottom: 0;padding: 0.3em;box-sizing: border-box;text-align: center;}#sk-container-id-3 label.sk-toggleable__label-arrow:before {content: \"▸\";float: left;margin-right: 0.25em;color: #696969;}#sk-container-id-3 label.sk-toggleable__label-arrow:hover:before {color: black;}#sk-container-id-3 div.sk-estimator:hover label.sk-toggleable__label-arrow:before {color: black;}#sk-container-id-3 div.sk-toggleable__content {max-height: 0;max-width: 0;overflow: hidden;text-align: left;background-color: #f0f8ff;}#sk-container-id-3 div.sk-toggleable__content pre {margin: 0.2em;color: black;border-radius: 0.25em;background-color: #f0f8ff;}#sk-container-id-3 input.sk-toggleable__control:checked~div.sk-toggleable__content {max-height: 200px;max-width: 100%;overflow: auto;}#sk-container-id-3 input.sk-toggleable__control:checked~label.sk-toggleable__label-arrow:before {content: \"▾\";}#sk-container-id-3 div.sk-estimator input.sk-toggleable__control:checked~label.sk-toggleable__label {background-color: #d4ebff;}#sk-container-id-3 div.sk-label input.sk-toggleable__control:checked~label.sk-toggleable__label {background-color: #d4ebff;}#sk-container-id-3 input.sk-hidden--visually {border: 0;clip: rect(1px 1px 1px 1px);clip: rect(1px, 1px, 1px, 1px);height: 1px;margin: -1px;overflow: hidden;padding: 0;position: absolute;width: 1px;}#sk-container-id-3 div.sk-estimator {font-family: monospace;background-color: #f0f8ff;border: 1px dotted black;border-radius: 0.25em;box-sizing: border-box;margin-bottom: 0.5em;}#sk-container-id-3 div.sk-estimator:hover {background-color: #d4ebff;}#sk-container-id-3 div.sk-parallel-item::after {content: \"\";width: 100%;border-bottom: 1px solid gray;flex-grow: 1;}#sk-container-id-3 div.sk-label:hover label.sk-toggleable__label {background-color: #d4ebff;}#sk-container-id-3 div.sk-serial::before {content: \"\";position: absolute;border-left: 1px solid gray;box-sizing: border-box;top: 0;bottom: 0;left: 50%;z-index: 0;}#sk-container-id-3 div.sk-serial {display: flex;flex-direction: column;align-items: center;background-color: white;padding-right: 0.2em;padding-left: 0.2em;position: relative;}#sk-container-id-3 div.sk-item {position: relative;z-index: 1;}#sk-container-id-3 div.sk-parallel {display: flex;align-items: stretch;justify-content: center;background-color: white;position: relative;}#sk-container-id-3 div.sk-item::before, #sk-container-id-3 div.sk-parallel-item::before {content: \"\";position: absolute;border-left: 1px solid gray;box-sizing: border-box;top: 0;bottom: 0;left: 50%;z-index: -1;}#sk-container-id-3 div.sk-parallel-item {display: flex;flex-direction: column;z-index: 1;position: relative;background-color: white;}#sk-container-id-3 div.sk-parallel-item:first-child::after {align-self: flex-end;width: 50%;}#sk-container-id-3 div.sk-parallel-item:last-child::after {align-self: flex-start;width: 50%;}#sk-container-id-3 div.sk-parallel-item:only-child::after {width: 0;}#sk-container-id-3 div.sk-dashed-wrapped {border: 1px dashed gray;margin: 0 0.4em 0.5em 0.4em;box-sizing: border-box;padding-bottom: 0.4em;background-color: white;}#sk-container-id-3 div.sk-label label {font-family: monospace;font-weight: bold;display: inline-block;line-height: 1.2em;}#sk-container-id-3 div.sk-label-container {text-align: center;}#sk-container-id-3 div.sk-container {/* jupyter's `normalize.less` sets `[hidden] { display: none; }` but bootstrap.min.css set `[hidden] { display: none !important; }` so we also need the `!important` here to be able to override the default hidden behavior on the sphinx rendered scikit-learn.org. See: https://github.com/scikit-learn/scikit-learn/issues/21755 */display: inline-block !important;position: relative;}#sk-container-id-3 div.sk-text-repr-fallback {display: none;}</style><div id=\"sk-container-id-3\" class=\"sk-top-container\"><div class=\"sk-text-repr-fallback\"><pre>RandomForestClassifier(n_estimators=10)</pre><b>In a Jupyter environment, please rerun this cell to show the HTML representation or trust the notebook. <br />On GitHub, the HTML representation is unable to render, please try loading this page with nbviewer.org.</b></div><div class=\"sk-container\" hidden><div class=\"sk-item\"><div class=\"sk-estimator sk-toggleable\"><input class=\"sk-toggleable__control sk-hidden--visually\" id=\"sk-estimator-id-3\" type=\"checkbox\" checked><label for=\"sk-estimator-id-3\" class=\"sk-toggleable__label sk-toggleable__label-arrow\">RandomForestClassifier</label><div class=\"sk-toggleable__content\"><pre>RandomForestClassifier(n_estimators=10)</pre></div></div></div></div></div>"
      ],
      "text/plain": [
       "RandomForestClassifier(n_estimators=10)"
      ]
     },
     "execution_count": 15,
     "metadata": {},
     "output_type": "execute_result"
    }
   ],
   "source": [
    "clf=RandomForestClassifier(n_estimators=10)#n_estimators means how many decision trees they should build\n",
    "clf"
   ]
  },
  {
   "cell_type": "code",
   "execution_count": 17,
   "id": "ab4396f5",
   "metadata": {},
   "outputs": [
    {
     "data": {
      "text/plain": [
       "0.98"
      ]
     },
     "execution_count": 17,
     "metadata": {},
     "output_type": "execute_result"
    }
   ],
   "source": [
    "clf.fit(x_train,y_train)\n",
    "clf.score(x_test,y_test)"
   ]
  },
  {
   "cell_type": "code",
   "execution_count": 21,
   "id": "772e7e98",
   "metadata": {},
   "outputs": [
    {
     "name": "stdout",
     "output_type": "stream",
     "text": [
      "0.94\n",
      "0.94\n",
      "0.94\n",
      "0.94\n",
      "0.94\n",
      "0.94\n",
      "0.94\n",
      "0.94\n",
      "0.94\n",
      "0.94\n"
     ]
    }
   ],
   "source": [
    "for i in range(10):\n",
    "    clf=RandomForestClassifier(n_estimators=10,random_state=0)#here also random state \n",
    "    clf.fit(x_train,y_train)\n",
    "    print(clf.score(x_test,y_test))"
   ]
  },
  {
   "cell_type": "code",
   "execution_count": null,
   "id": "00e935c0",
   "metadata": {},
   "outputs": [],
   "source": []
  }
 ],
 "metadata": {
  "kernelspec": {
   "display_name": "Python 3 (ipykernel)",
   "language": "python",
   "name": "python3"
  },
  "language_info": {
   "codemirror_mode": {
    "name": "ipython",
    "version": 3
   },
   "file_extension": ".py",
   "mimetype": "text/x-python",
   "name": "python",
   "nbconvert_exporter": "python",
   "pygments_lexer": "ipython3",
   "version": "3.10.9"
  }
 },
 "nbformat": 4,
 "nbformat_minor": 5
}
